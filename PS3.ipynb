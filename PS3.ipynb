{
 "cells": [
  {
   "cell_type": "markdown",
   "metadata": {},
   "source": [
    "# Problem Set 3: Logistic Regression"
   ]
  },
  {
   "cell_type": "markdown",
   "metadata": {},
   "source": [
    "# Exercise 1\n",
    "\n",
    "Consider the following binary model\n",
    "$P(Y_{i} = y_{i}) = \\pi_{i}^{y_{i}}*(1-\\pi_{i})^{1-y_{i}}, y_{i} \\in \\{0, 1\\}$   \n",
    "where  \n",
    "$\\pi_{i}(x_{i}, \\beta) = \\frac{e^{x'_{i}\\beta}}{(1 + e^{x'_{i}\\beta})} = \\frac{1}{1+e^{-x'_{i}\\beta}}$\n",
    "\n",
    "1. Simulate this model with the probabilities as described above with the following values:\n",
    "\n",
    "- $n =1000$\n",
    "- $\\beta_0=-2, \\, \\beta_1=0.1,\\, \\, \\, \\beta_2=1$.\n",
    "- $x_{0i}=1 \\, \\forall \\,i$ , $x_{1i}\\sim \\mathcal{U}(18,60), \\, x_{2i}\\sim \\mathcal{B}(0.5)$. \n",
    "\n",
    "2. Estimate $\\beta_0, \\, \\beta_1,\\, \\beta_2$ via maximum likelihood and calculate the standard errors."
   ]
  },
  {
   "cell_type": "markdown",
   "metadata": {},
   "source": [
    "$P(Y_{i} = 1) = \\pi_{i}^{1}*(1-\\pi_{i})^{1-1} = \\pi_{i}$  \n",
    "$\\log(\\frac{\\pi_{i}}{1 - \\pi_{i}}) = x'_{i}\\beta$"
   ]
  },
  {
   "cell_type": "code",
   "execution_count": 1,
   "metadata": {},
   "outputs": [],
   "source": [
    "# Load necessary libraries\n",
    "pacman::p_load(ggplot2, tidyverse, MASS, caret, ggpubr, maxLik)"
   ]
  },
  {
   "cell_type": "code",
   "execution_count": 2,
   "metadata": {},
   "outputs": [],
   "source": [
    "# Set.seed()\n",
    "seed <- 40\n",
    "set.seed(seed)"
   ]
  },
  {
   "cell_type": "code",
   "execution_count": 3,
   "metadata": {},
   "outputs": [],
   "source": [
    "# Parameters\n",
    "n <- 1000\n",
    "beta <- c(-2, 0.1, 1)\n",
    "X1.min <- 18\n",
    "X1.max <- 60\n",
    "X2.P1 <- 0.5\n"
   ]
  },
  {
   "cell_type": "code",
   "execution_count": 4,
   "metadata": {},
   "outputs": [],
   "source": [
    "# Define Data Gnerating function\n",
    "data.gen <- function(n, beta, X1.min, X1.max, X2.P1) {\n",
    "  X0 <- rep(1, n)\n",
    "  X1 <- sort(runif(n, X1.min, X1.max))\n",
    "  X2 <- rbinom(n, 1, X2.P1)\n",
    "  X <- cbind(X0, X1, X2)\n",
    "  y <- rep(0, n)\n",
    "  logodds <- X %*% beta\n",
    "  pi_x <- 1 / (1 + exp(-(X %*% beta)))\n",
    "  y <- rbinom(n, 1, prob = pi_x)\n",
    "  data <- cbind.data.frame(X, logodds, pi_x, y)\n",
    "  return(data)\n",
    "}\n"
   ]
  },
  {
   "cell_type": "markdown",
   "metadata": {},
   "source": [
    "## a) Generate the data"
   ]
  },
  {
   "cell_type": "code",
   "execution_count": 5,
   "metadata": {},
   "outputs": [
    {
     "data": {
      "text/html": [
       "<table>\n",
       "<caption>A data.frame: 6 × 6</caption>\n",
       "<thead>\n",
       "\t<tr><th></th><th scope=col>X0</th><th scope=col>X1</th><th scope=col>X2</th><th scope=col>logodds</th><th scope=col>pi_x</th><th scope=col>y</th></tr>\n",
       "\t<tr><th></th><th scope=col>&lt;dbl&gt;</th><th scope=col>&lt;dbl&gt;</th><th scope=col>&lt;dbl&gt;</th><th scope=col>&lt;dbl&gt;</th><th scope=col>&lt;dbl&gt;</th><th scope=col>&lt;int&gt;</th></tr>\n",
       "</thead>\n",
       "<tbody>\n",
       "\t<tr><th scope=row>1</th><td>1</td><td>18.12847</td><td>1</td><td> 0.8128471</td><td>0.6927159</td><td>1</td></tr>\n",
       "\t<tr><th scope=row>2</th><td>1</td><td>18.13016</td><td>1</td><td> 0.8130156</td><td>0.6927517</td><td>1</td></tr>\n",
       "\t<tr><th scope=row>3</th><td>1</td><td>18.14943</td><td>1</td><td> 0.8149429</td><td>0.6931618</td><td>0</td></tr>\n",
       "\t<tr><th scope=row>4</th><td>1</td><td>18.16703</td><td>0</td><td>-0.1832970</td><td>0.4543036</td><td>0</td></tr>\n",
       "\t<tr><th scope=row>5</th><td>1</td><td>18.17133</td><td>0</td><td>-0.1828666</td><td>0.4544103</td><td>1</td></tr>\n",
       "\t<tr><th scope=row>6</th><td>1</td><td>18.21251</td><td>1</td><td> 0.8212509</td><td>0.6945018</td><td>1</td></tr>\n",
       "</tbody>\n",
       "</table>\n"
      ],
      "text/latex": [
       "A data.frame: 6 × 6\n",
       "\\begin{tabular}{r|llllll}\n",
       "  & X0 & X1 & X2 & logodds & pi\\_x & y\\\\\n",
       "  & <dbl> & <dbl> & <dbl> & <dbl> & <dbl> & <int>\\\\\n",
       "\\hline\n",
       "\t1 & 1 & 18.12847 & 1 &  0.8128471 & 0.6927159 & 1\\\\\n",
       "\t2 & 1 & 18.13016 & 1 &  0.8130156 & 0.6927517 & 1\\\\\n",
       "\t3 & 1 & 18.14943 & 1 &  0.8149429 & 0.6931618 & 0\\\\\n",
       "\t4 & 1 & 18.16703 & 0 & -0.1832970 & 0.4543036 & 0\\\\\n",
       "\t5 & 1 & 18.17133 & 0 & -0.1828666 & 0.4544103 & 1\\\\\n",
       "\t6 & 1 & 18.21251 & 1 &  0.8212509 & 0.6945018 & 1\\\\\n",
       "\\end{tabular}\n"
      ],
      "text/markdown": [
       "\n",
       "A data.frame: 6 × 6\n",
       "\n",
       "| <!--/--> | X0 &lt;dbl&gt; | X1 &lt;dbl&gt; | X2 &lt;dbl&gt; | logodds &lt;dbl&gt; | pi_x &lt;dbl&gt; | y &lt;int&gt; |\n",
       "|---|---|---|---|---|---|---|\n",
       "| 1 | 1 | 18.12847 | 1 |  0.8128471 | 0.6927159 | 1 |\n",
       "| 2 | 1 | 18.13016 | 1 |  0.8130156 | 0.6927517 | 1 |\n",
       "| 3 | 1 | 18.14943 | 1 |  0.8149429 | 0.6931618 | 0 |\n",
       "| 4 | 1 | 18.16703 | 0 | -0.1832970 | 0.4543036 | 0 |\n",
       "| 5 | 1 | 18.17133 | 0 | -0.1828666 | 0.4544103 | 1 |\n",
       "| 6 | 1 | 18.21251 | 1 |  0.8212509 | 0.6945018 | 1 |\n",
       "\n"
      ],
      "text/plain": [
       "  X0 X1       X2 logodds    pi_x      y\n",
       "1 1  18.12847 1   0.8128471 0.6927159 1\n",
       "2 1  18.13016 1   0.8130156 0.6927517 1\n",
       "3 1  18.14943 1   0.8149429 0.6931618 0\n",
       "4 1  18.16703 0  -0.1832970 0.4543036 0\n",
       "5 1  18.17133 0  -0.1828666 0.4544103 1\n",
       "6 1  18.21251 1   0.8212509 0.6945018 1"
      ]
     },
     "metadata": {},
     "output_type": "display_data"
    },
    {
     "data": {
      "text/html": [
       "<table>\n",
       "<caption>A matrix: 6 × 3 of type dbl</caption>\n",
       "<tbody>\n",
       "\t<tr><td>1</td><td>18.12847</td><td>1</td></tr>\n",
       "\t<tr><td>1</td><td>18.13016</td><td>1</td></tr>\n",
       "\t<tr><td>1</td><td>18.14943</td><td>1</td></tr>\n",
       "\t<tr><td>1</td><td>18.16703</td><td>0</td></tr>\n",
       "\t<tr><td>1</td><td>18.17133</td><td>0</td></tr>\n",
       "\t<tr><td>1</td><td>18.21251</td><td>1</td></tr>\n",
       "</tbody>\n",
       "</table>\n"
      ],
      "text/latex": [
       "A matrix: 6 × 3 of type dbl\n",
       "\\begin{tabular}{lll}\n",
       "\t 1 & 18.12847 & 1\\\\\n",
       "\t 1 & 18.13016 & 1\\\\\n",
       "\t 1 & 18.14943 & 1\\\\\n",
       "\t 1 & 18.16703 & 0\\\\\n",
       "\t 1 & 18.17133 & 0\\\\\n",
       "\t 1 & 18.21251 & 1\\\\\n",
       "\\end{tabular}\n"
      ],
      "text/markdown": [
       "\n",
       "A matrix: 6 × 3 of type dbl\n",
       "\n",
       "| 1 | 18.12847 | 1 |\n",
       "| 1 | 18.13016 | 1 |\n",
       "| 1 | 18.14943 | 1 |\n",
       "| 1 | 18.16703 | 0 |\n",
       "| 1 | 18.17133 | 0 |\n",
       "| 1 | 18.21251 | 1 |\n",
       "\n"
      ],
      "text/plain": [
       "     [,1] [,2]     [,3]\n",
       "[1,] 1    18.12847 1   \n",
       "[2,] 1    18.13016 1   \n",
       "[3,] 1    18.14943 1   \n",
       "[4,] 1    18.16703 0   \n",
       "[5,] 1    18.17133 0   \n",
       "[6,] 1    18.21251 1   "
      ]
     },
     "metadata": {},
     "output_type": "display_data"
    },
    {
     "data": {
      "text/html": [
       "<table>\n",
       "<caption>A data.frame: 6 × 6</caption>\n",
       "<thead>\n",
       "\t<tr><th></th><th scope=col>X0</th><th scope=col>X1</th><th scope=col>X2</th><th scope=col>logodds</th><th scope=col>pi_x</th><th scope=col>y</th></tr>\n",
       "\t<tr><th></th><th scope=col>&lt;dbl&gt;</th><th scope=col>&lt;dbl&gt;</th><th scope=col>&lt;dbl&gt;</th><th scope=col>&lt;dbl&gt;</th><th scope=col>&lt;dbl&gt;</th><th scope=col>&lt;int&gt;</th></tr>\n",
       "</thead>\n",
       "<tbody>\n",
       "\t<tr><th scope=row>1</th><td>1</td><td>18.08957</td><td>1</td><td> 0.8089571</td><td>0.6918872</td><td>1</td></tr>\n",
       "\t<tr><th scope=row>2</th><td>1</td><td>18.09186</td><td>0</td><td>-0.1908141</td><td>0.4524407</td><td>1</td></tr>\n",
       "\t<tr><th scope=row>3</th><td>1</td><td>18.13831</td><td>1</td><td> 0.8138309</td><td>0.6929252</td><td>1</td></tr>\n",
       "\t<tr><th scope=row>4</th><td>1</td><td>18.17453</td><td>1</td><td> 0.8174526</td><td>0.6936953</td><td>1</td></tr>\n",
       "\t<tr><th scope=row>5</th><td>1</td><td>18.18424</td><td>1</td><td> 0.8184236</td><td>0.6939016</td><td>1</td></tr>\n",
       "\t<tr><th scope=row>6</th><td>1</td><td>18.18654</td><td>1</td><td> 0.8186542</td><td>0.6939506</td><td>1</td></tr>\n",
       "</tbody>\n",
       "</table>\n"
      ],
      "text/latex": [
       "A data.frame: 6 × 6\n",
       "\\begin{tabular}{r|llllll}\n",
       "  & X0 & X1 & X2 & logodds & pi\\_x & y\\\\\n",
       "  & <dbl> & <dbl> & <dbl> & <dbl> & <dbl> & <int>\\\\\n",
       "\\hline\n",
       "\t1 & 1 & 18.08957 & 1 &  0.8089571 & 0.6918872 & 1\\\\\n",
       "\t2 & 1 & 18.09186 & 0 & -0.1908141 & 0.4524407 & 1\\\\\n",
       "\t3 & 1 & 18.13831 & 1 &  0.8138309 & 0.6929252 & 1\\\\\n",
       "\t4 & 1 & 18.17453 & 1 &  0.8174526 & 0.6936953 & 1\\\\\n",
       "\t5 & 1 & 18.18424 & 1 &  0.8184236 & 0.6939016 & 1\\\\\n",
       "\t6 & 1 & 18.18654 & 1 &  0.8186542 & 0.6939506 & 1\\\\\n",
       "\\end{tabular}\n"
      ],
      "text/markdown": [
       "\n",
       "A data.frame: 6 × 6\n",
       "\n",
       "| <!--/--> | X0 &lt;dbl&gt; | X1 &lt;dbl&gt; | X2 &lt;dbl&gt; | logodds &lt;dbl&gt; | pi_x &lt;dbl&gt; | y &lt;int&gt; |\n",
       "|---|---|---|---|---|---|---|\n",
       "| 1 | 1 | 18.08957 | 1 |  0.8089571 | 0.6918872 | 1 |\n",
       "| 2 | 1 | 18.09186 | 0 | -0.1908141 | 0.4524407 | 1 |\n",
       "| 3 | 1 | 18.13831 | 1 |  0.8138309 | 0.6929252 | 1 |\n",
       "| 4 | 1 | 18.17453 | 1 |  0.8174526 | 0.6936953 | 1 |\n",
       "| 5 | 1 | 18.18424 | 1 |  0.8184236 | 0.6939016 | 1 |\n",
       "| 6 | 1 | 18.18654 | 1 |  0.8186542 | 0.6939506 | 1 |\n",
       "\n"
      ],
      "text/plain": [
       "  X0 X1       X2 logodds    pi_x      y\n",
       "1 1  18.08957 1   0.8089571 0.6918872 1\n",
       "2 1  18.09186 0  -0.1908141 0.4524407 1\n",
       "3 1  18.13831 1   0.8138309 0.6929252 1\n",
       "4 1  18.17453 1   0.8174526 0.6936953 1\n",
       "5 1  18.18424 1   0.8184236 0.6939016 1\n",
       "6 1  18.18654 1   0.8186542 0.6939506 1"
      ]
     },
     "metadata": {},
     "output_type": "display_data"
    },
    {
     "data": {
      "text/html": [
       "<table>\n",
       "<caption>A matrix: 6 × 3 of type dbl</caption>\n",
       "<tbody>\n",
       "\t<tr><td>1</td><td>18.08957</td><td>1</td></tr>\n",
       "\t<tr><td>1</td><td>18.09186</td><td>0</td></tr>\n",
       "\t<tr><td>1</td><td>18.13831</td><td>1</td></tr>\n",
       "\t<tr><td>1</td><td>18.17453</td><td>1</td></tr>\n",
       "\t<tr><td>1</td><td>18.18424</td><td>1</td></tr>\n",
       "\t<tr><td>1</td><td>18.18654</td><td>1</td></tr>\n",
       "</tbody>\n",
       "</table>\n"
      ],
      "text/latex": [
       "A matrix: 6 × 3 of type dbl\n",
       "\\begin{tabular}{lll}\n",
       "\t 1 & 18.08957 & 1\\\\\n",
       "\t 1 & 18.09186 & 0\\\\\n",
       "\t 1 & 18.13831 & 1\\\\\n",
       "\t 1 & 18.17453 & 1\\\\\n",
       "\t 1 & 18.18424 & 1\\\\\n",
       "\t 1 & 18.18654 & 1\\\\\n",
       "\\end{tabular}\n"
      ],
      "text/markdown": [
       "\n",
       "A matrix: 6 × 3 of type dbl\n",
       "\n",
       "| 1 | 18.08957 | 1 |\n",
       "| 1 | 18.09186 | 0 |\n",
       "| 1 | 18.13831 | 1 |\n",
       "| 1 | 18.17453 | 1 |\n",
       "| 1 | 18.18424 | 1 |\n",
       "| 1 | 18.18654 | 1 |\n",
       "\n"
      ],
      "text/plain": [
       "     [,1] [,2]     [,3]\n",
       "[1,] 1    18.08957 1   \n",
       "[2,] 1    18.09186 0   \n",
       "[3,] 1    18.13831 1   \n",
       "[4,] 1    18.17453 1   \n",
       "[5,] 1    18.18424 1   \n",
       "[6,] 1    18.18654 1   "
      ]
     },
     "metadata": {},
     "output_type": "display_data"
    }
   ],
   "source": [
    "# a)\n",
    "# Generate the training data\n",
    "data.train <- data.gen(n, beta, X1.min, X1.max, X2.P1)\n",
    "head(data.train)\n",
    "\n",
    "X.train <- cbind(data.train$X0, data.train$X1, data.train$X2)\n",
    "head(X.train)\n",
    "\n",
    "# Generate the test data\n",
    "data.test <- data.gen(n, beta, X1.min, X1.max, X2.P1) \n",
    "head(data.test)\n",
    "\n",
    "X.test <- cbind(data.test$X0, data.test$X1, data.test$X2)\n",
    "head(X.test)"
   ]
  },
  {
   "cell_type": "code",
   "execution_count": 6,
   "metadata": {},
   "outputs": [
    {
     "data": {
      "text/plain": [
       "\n",
       "  0   1 \n",
       "136 864 "
      ]
     },
     "metadata": {},
     "output_type": "display_data"
    }
   ],
   "source": [
    "table(data.train$y)"
   ]
  },
  {
   "cell_type": "code",
   "execution_count": 7,
   "metadata": {},
   "outputs": [
    {
     "data": {
      "image/png": "[encoded data removed]",
      "text/plain": [
       "plot without title"
      ]
     },
     "metadata": {
      "image/png": {
       "height": 420,
       "width": 420
      },
      "text/plain": {
       "height": 420,
       "width": 420
      }
     },
     "output_type": "display_data"
    }
   ],
   "source": [
    "# Explore the data\n",
    "# Scatterplot of ys on X1\n",
    "ggplot(data.train, aes(x = X1, y = y, colour = y)) + \n",
    "  geom_point()"
   ]
  },
  {
   "cell_type": "code",
   "execution_count": 8,
   "metadata": {},
   "outputs": [
    {
     "data": {
      "image/png": "[encoded data removed]",
      "text/plain": [
       "plot without title"
      ]
     },
     "metadata": {
      "image/png": {
       "height": 420,
       "width": 420
      },
      "text/plain": {
       "height": 420,
       "width": 420
      }
     },
     "output_type": "display_data"
    }
   ],
   "source": [
    "# ... ys on X2\n",
    "ggplot(data.train, aes(x = X2, y = y, colour = y)) + \n",
    "  geom_point()"
   ]
  },
  {
   "cell_type": "code",
   "execution_count": 9,
   "metadata": {},
   "outputs": [
    {
     "name": "stderr",
     "output_type": "stream",
     "text": [
      "`stat_bin()` using `bins = 30`. Pick better value with `binwidth`.\n",
      "\n"
     ]
    },
    {
     "data": {
      "image/png": "[encoded data removed]",
      "text/plain": [
       "plot without title"
      ]
     },
     "metadata": {
      "image/png": {
       "height": 420,
       "width": 420
      },
      "text/plain": {
       "height": 420,
       "width": 420
      }
     },
     "output_type": "display_data"
    }
   ],
   "source": [
    "# Distribution of X1\n",
    "ggplot(data.train, aes(X1)) + \n",
    "  geom_histogram()"
   ]
  },
  {
   "cell_type": "code",
   "execution_count": 10,
   "metadata": {},
   "outputs": [
    {
     "name": "stderr",
     "output_type": "stream",
     "text": [
      "`stat_bin()` using `bins = 30`. Pick better value with `binwidth`.\n",
      "\n"
     ]
    },
    {
     "data": {
      "image/png": "[encoded data removed]",
      "text/plain": [
       "plot without title"
      ]
     },
     "metadata": {
      "image/png": {
       "height": 420,
       "width": 420
      },
      "text/plain": {
       "height": 420,
       "width": 420
      }
     },
     "output_type": "display_data"
    }
   ],
   "source": [
    "# Distribution of X2\n",
    "ggplot(data.train, aes(X2)) + \n",
    "  geom_histogram() \n"
   ]
  },
  {
   "cell_type": "markdown",
   "metadata": {},
   "source": [
    "## b) Obtain the estimates\n"
   ]
  },
  {
   "cell_type": "code",
   "execution_count": 11,
   "metadata": {},
   "outputs": [
    {
     "data": {
      "text/plain": [
       "\n",
       "Call:\n",
       "glm(formula = y ~ X1 + X2, family = binomial, data = data.train)\n",
       "\n",
       "Deviance Residuals: \n",
       "    Min       1Q   Median       3Q      Max  \n",
       "-2.8639   0.1836   0.3147   0.5549   1.2486  \n",
       "\n",
       "Coefficients:\n",
       "            Estimate Std. Error z value Pr(>|z|)    \n",
       "(Intercept)  -2.0574     0.3570  -5.762 8.29e-09 ***\n",
       "X1            0.1041     0.0106   9.820  < 2e-16 ***\n",
       "X2            0.7350     0.2041   3.601 0.000317 ***\n",
       "---\n",
       "Signif. codes:  0 '***' 0.001 '**' 0.01 '*' 0.05 '.' 0.1 ' ' 1\n",
       "\n",
       "(Dispersion parameter for binomial family taken to be 1)\n",
       "\n",
       "    Null deviance: 795.27  on 999  degrees of freedom\n",
       "Residual deviance: 652.97  on 997  degrees of freedom\n",
       "AIC: 658.97\n",
       "\n",
       "Number of Fisher Scoring iterations: 6\n"
      ]
     },
     "metadata": {},
     "output_type": "display_data"
    },
    {
     "data": {
      "text/html": [
       "<style>\n",
       ".dl-inline {width: auto; margin:0; padding: 0}\n",
       ".dl-inline>dt, .dl-inline>dd {float: none; width: auto; display: inline-block}\n",
       ".dl-inline>dt::after {content: \":\\0020\"; padding-right: .5ex}\n",
       ".dl-inline>dt:not(:first-of-type) {padding-left: .5ex}\n",
       "</style><dl class=dl-inline><dt>(Intercept)</dt><dd>-2.05736717300641</dd><dt>X1</dt><dd>0.104099861212873</dd><dt>X2</dt><dd>0.734999939814888</dd></dl>\n"
      ],
      "text/latex": [
       "\\begin{description*}\n",
       "\\item[(Intercept)] -2.05736717300641\n",
       "\\item[X1] 0.104099861212873\n",
       "\\item[X2] 0.734999939814888\n",
       "\\end{description*}\n"
      ],
      "text/markdown": [
       "(Intercept)\n",
       ":   -2.05736717300641X1\n",
       ":   0.104099861212873X2\n",
       ":   0.734999939814888\n",
       "\n"
      ],
      "text/plain": [
       "(Intercept)          X1          X2 \n",
       " -2.0573672   0.1040999   0.7349999 "
      ]
     },
     "metadata": {},
     "output_type": "display_data"
    }
   ],
   "source": [
    "# b)\n",
    "# Estimate betas via ML (Logistic Regression)\n",
    "Logit <- glm(y ~ X1 + X2, data = data.train, family = binomial)\n",
    "summary(Logit)\n",
    "(beta.logit <- Logit$coefficients)"
   ]
  },
  {
   "cell_type": "markdown",
   "metadata": {},
   "source": [
    "### Compared with estimates obtained from manually doing ML"
   ]
  },
  {
   "cell_type": "markdown",
   "metadata": {},
   "source": [
    "$P(Y_{i} = y_{i}) = \\pi_{i}^{y_{i}}*(1-\\pi_{i})^{1-y_{i}}$  \n",
    "$$\n",
    "\\begin{aligned}\n",
    "L &= P(Y_{1} = y_{1},...Y_{n} = y_{n}) = \\prod_{i = 1}^{n} \\pi_{i}^{y_{i}}*(1-\\pi_{i})^{1-y_{i}} \\\\\n",
    "logL &= \\sum_{i = 1}^{n} y_{i} * \\log(\\pi_{i}) + (1 - y_{i}) * \\log(1 - \\pi_{i})\\\\\n",
    "\\pi_{i} &= \\frac{1}{1 + e^{-X\\beta}}\\\\\n",
    "1 - \\pi_{i} &= \\frac{1}{1 + e^{X\\beta}}\\\\\n",
    "logL &= \\sum_{i = 1}^{n} y_{i}(-log(1 + e^{-X\\beta}) + (1 - y_{i})(-log(1 + e ^ {X\\beta}))\\\\\n",
    "&= \\sum_{i = 1}^{n} -y_{i}(log(1 + e^{-X\\beta}) - (1 - y_{i})(log(1 + e ^ {X\\beta}))\n",
    "\\end{aligned}\n",
    "$$"
   ]
  },
  {
   "cell_type": "code",
   "execution_count": 12,
   "metadata": {},
   "outputs": [
    {
     "data": {
      "text/html": [
       "<style>\n",
       ".list-inline {list-style: none; margin:0; padding: 0}\n",
       ".list-inline>li {display: inline-block}\n",
       ".list-inline>li:not(:last-child)::after {content: \"\\00b7\"; padding: 0 .5ex}\n",
       "</style>\n",
       "<ol class=list-inline><li>-2.05736732709527</li><li>0.104099869586112</li><li>0.73499982824321</li></ol>\n"
      ],
      "text/latex": [
       "\\begin{enumerate*}\n",
       "\\item -2.05736732709527\n",
       "\\item 0.104099869586112\n",
       "\\item 0.73499982824321\n",
       "\\end{enumerate*}\n"
      ],
      "text/markdown": [
       "1. -2.05736732709527\n",
       "2. 0.104099869586112\n",
       "3. 0.73499982824321\n",
       "\n",
       "\n"
      ],
      "text/plain": [
       "[1] -2.0573673  0.1040999  0.7349998"
      ]
     },
     "metadata": {},
     "output_type": "display_data"
    },
    {
     "data": {
      "text/html": [
       "<style>\n",
       ".dl-inline {width: auto; margin:0; padding: 0}\n",
       ".dl-inline>dt, .dl-inline>dd {float: none; width: auto; display: inline-block}\n",
       ".dl-inline>dt::after {content: \":\\0020\"; padding-right: .5ex}\n",
       ".dl-inline>dt:not(:first-of-type) {padding-left: .5ex}\n",
       "</style><dl class=dl-inline><dt>(Intercept)</dt><dd>-2.05736717300641</dd><dt>X1</dt><dd>0.104099861212873</dd><dt>X2</dt><dd>0.734999939814888</dd></dl>\n"
      ],
      "text/latex": [
       "\\begin{description*}\n",
       "\\item[(Intercept)] -2.05736717300641\n",
       "\\item[X1] 0.104099861212873\n",
       "\\item[X2] 0.734999939814888\n",
       "\\end{description*}\n"
      ],
      "text/markdown": [
       "(Intercept)\n",
       ":   -2.05736717300641X1\n",
       ":   0.104099861212873X2\n",
       ":   0.734999939814888\n",
       "\n"
      ],
      "text/plain": [
       "(Intercept)          X1          X2 \n",
       " -2.0573672   0.1040999   0.7349999 "
      ]
     },
     "metadata": {},
     "output_type": "display_data"
    }
   ],
   "source": [
    "# Compared with manually doing ML\n",
    "\n",
    "loglike<-function(b) # the likelihood function for the logit model\n",
    "{\n",
    "  ll <- sum(-data.train$y * log(1 + exp(-(X.train %*% b))) - \n",
    "              (1 - data.train$y) * log(1 + exp(X.train %*% b)))\n",
    "  return(ll)\n",
    "}\n",
    "\n",
    "# Initialize estimation procedure\n",
    "estim <- maxBFGS(loglike, finalHessian = TRUE, start = c(0, 0, 1)) \n",
    "beta.ML <- estim$estimate # give out parameter estimates\n",
    "beta.ML\n",
    "(beta.logit <- Logit$coefficients)"
   ]
  },
  {
   "cell_type": "code",
   "execution_count": 13,
   "metadata": {},
   "outputs": [
    {
     "data": {
      "text/html": [
       "<style>\n",
       ".list-inline {list-style: none; margin:0; padding: 0}\n",
       ".list-inline>li {display: inline-block}\n",
       ".list-inline>li:not(:last-child)::after {content: \"\\00b7\"; padding: 0 .5ex}\n",
       "</style>\n",
       "<ol class=list-inline><li>0.357562428438689</li><li>0.0106160807925471</li><li>0.203897174015051</li></ol>\n"
      ],
      "text/latex": [
       "\\begin{enumerate*}\n",
       "\\item 0.357562428438689\n",
       "\\item 0.0106160807925471\n",
       "\\item 0.203897174015051\n",
       "\\end{enumerate*}\n"
      ],
      "text/markdown": [
       "1. 0.357562428438689\n",
       "2. 0.0106160807925471\n",
       "3. 0.203897174015051\n",
       "\n",
       "\n"
      ],
      "text/plain": [
       "[1] 0.35756243 0.01061608 0.20389717"
      ]
     },
     "metadata": {},
     "output_type": "display_data"
    },
    {
     "data": {
      "text/html": [
       "<style>\n",
       ".dl-inline {width: auto; margin:0; padding: 0}\n",
       ".dl-inline>dt, .dl-inline>dd {float: none; width: auto; display: inline-block}\n",
       ".dl-inline>dt::after {content: \":\\0020\"; padding-right: .5ex}\n",
       ".dl-inline>dt:not(:first-of-type) {padding-left: .5ex}\n",
       "</style><dl class=dl-inline><dt>(Intercept)</dt><dd>0.357035386649075</dd><dt>X1</dt><dd>0.0106011008150705</dd><dt>X2</dt><dd>0.204098995996308</dd></dl>\n"
      ],
      "text/latex": [
       "\\begin{description*}\n",
       "\\item[(Intercept)] 0.357035386649075\n",
       "\\item[X1] 0.0106011008150705\n",
       "\\item[X2] 0.204098995996308\n",
       "\\end{description*}\n"
      ],
      "text/markdown": [
       "(Intercept)\n",
       ":   0.357035386649075X1\n",
       ":   0.0106011008150705X2\n",
       ":   0.204098995996308\n",
       "\n"
      ],
      "text/plain": [
       "(Intercept)          X1          X2 \n",
       "  0.3570354   0.0106011   0.2040990 "
      ]
     },
     "metadata": {},
     "output_type": "display_data"
    }
   ],
   "source": [
    "# Standard Error of the Coefficients\n",
    "estim.hess <- estim$hessian \n",
    "# the optimization routine returns the hessian matrix at the last iteration.\n",
    "Cov <- -(solve(estim.hess))\n",
    "# the covariance matrix is the (negative) inverse of the hessian matrix.\n",
    "sde <- sqrt(diag(Cov))#the standard errors are the square root of the diagonal of the inverse Hessian. \n",
    "sde\n",
    "stdEr(Logit)"
   ]
  },
  {
   "cell_type": "markdown",
   "metadata": {},
   "source": [
    "### Prepare some data for plotting later\n",
    "#### True probabilities and logodds"
   ]
  },
  {
   "cell_type": "markdown",
   "metadata": {},
   "source": [
    "$P(Y_{i} = 1) = \\pi_{i}^{1}*(1-\\pi_{i})^{1-1} = \\pi_{i} = \\frac{1}{1+e^{-x'_{i}\\beta}}$  \n",
    "$\\log(\\frac{\\pi_{i}}{1 - \\pi_{i}}) = x'_{i}\\beta$"
   ]
  },
  {
   "cell_type": "code",
   "execution_count": 14,
   "metadata": {},
   "outputs": [],
   "source": [
    "# Prepare some Data for plotting later\n",
    "# \"True\" log odds and probs (never observe in real life)\n",
    "logodds.true.train <- data.train$logodds\n",
    "probs.true.train <- data.train$pi_x\n",
    "\n",
    "# \"True\" log odds and probs for test data\n",
    "logodds.true.test <- data.test$logodds \n",
    "probs.true.test <- data.test$pi_x\n"
   ]
  },
  {
   "cell_type": "markdown",
   "metadata": {},
   "source": [
    "#### Fitted Probabilities and Logodds"
   ]
  },
  {
   "cell_type": "markdown",
   "metadata": {},
   "source": [
    "$\\hat{P}(Y_{i} = 1) = \\hat{\\pi_{i}} = \\frac{1}{1+e^{-x'_{i}\\hat{\\beta}}}$  \n",
    "${\\log}(\\frac{\\hat{\\pi_{i}}}{1 - \\hat{\\pi_{i}}}) = x'_{i}\\hat{\\beta}$"
   ]
  },
  {
   "cell_type": "code",
   "execution_count": 15,
   "metadata": {},
   "outputs": [],
   "source": [
    "# Construct 95% CI for the estimated probs\n",
    "# Fit the model again to the data.train\n",
    "logit.train <- predict(Logit, data.train, se = T)\n",
    "logodds.fit.train <- logit.train$fit\n",
    "probs.fit.train <- 1 / (1 + exp(-logodds.fit.train))\n",
    "lower.train <- logodds.fit.train - 1.96 * logit.train$se.fit # lower bound\n",
    "upper.train <- logodds.fit.train + 1.96 * logit.train$se.fit # upper bound\n",
    "lower.train <- 1 / (1 + exp(-lower.train)) \n",
    "upper.train <- 1 / (1 + exp(-upper.train))\n",
    "dx1.train <- beta.logit[2] * probs.fit.train * (1 - probs.fit.train)"
   ]
  },
  {
   "cell_type": "code",
   "execution_count": 16,
   "metadata": {},
   "outputs": [
    {
     "data": {
      "text/html": [
       "<style>\n",
       ".dl-inline {width: auto; margin:0; padding: 0}\n",
       ".dl-inline>dt, .dl-inline>dd {float: none; width: auto; display: inline-block}\n",
       ".dl-inline>dt::after {content: \":\\0020\"; padding-right: .5ex}\n",
       ".dl-inline>dt:not(:first-of-type) {padding-left: .5ex}\n",
       "</style><dl class=dl-inline><dt>1</dt><dd>0.560754607157363</dd><dt>2</dt><dd>-0.174007113956514</dd><dt>3</dt><dd>0.565828225415796</dd><dt>4</dt><dd>0.569598367126694</dd><dt>5</dt><dd>0.570609172163155</dd><dt>6</dt><dd>0.570849254786979</dd></dl>\n"
      ],
      "text/latex": [
       "\\begin{description*}\n",
       "\\item[1] 0.560754607157363\n",
       "\\item[2] -0.174007113956514\n",
       "\\item[3] 0.565828225415796\n",
       "\\item[4] 0.569598367126694\n",
       "\\item[5] 0.570609172163155\n",
       "\\item[6] 0.570849254786979\n",
       "\\end{description*}\n"
      ],
      "text/markdown": [
       "1\n",
       ":   0.5607546071573632\n",
       ":   -0.1740071139565143\n",
       ":   0.5658282254157964\n",
       ":   0.5695983671266945\n",
       ":   0.5706091721631556\n",
       ":   0.570849254786979\n",
       "\n"
      ],
      "text/plain": [
       "         1          2          3          4          5          6 \n",
       " 0.5607546 -0.1740071  0.5658282  0.5695984  0.5706092  0.5708493 "
      ]
     },
     "metadata": {},
     "output_type": "display_data"
    },
    {
     "data": {
      "text/html": [
       "<table>\n",
       "<caption>A matrix: 6 × 1 of type dbl</caption>\n",
       "<tbody>\n",
       "\t<tr><td> 0.5607546</td></tr>\n",
       "\t<tr><td>-0.1740071</td></tr>\n",
       "\t<tr><td> 0.5658282</td></tr>\n",
       "\t<tr><td> 0.5695984</td></tr>\n",
       "\t<tr><td> 0.5706092</td></tr>\n",
       "\t<tr><td> 0.5708493</td></tr>\n",
       "</tbody>\n",
       "</table>\n"
      ],
      "text/latex": [
       "A matrix: 6 × 1 of type dbl\n",
       "\\begin{tabular}{l}\n",
       "\t  0.5607546\\\\\n",
       "\t -0.1740071\\\\\n",
       "\t  0.5658282\\\\\n",
       "\t  0.5695984\\\\\n",
       "\t  0.5706092\\\\\n",
       "\t  0.5708493\\\\\n",
       "\\end{tabular}\n"
      ],
      "text/markdown": [
       "\n",
       "A matrix: 6 × 1 of type dbl\n",
       "\n",
       "|  0.5607546 |\n",
       "| -0.1740071 |\n",
       "|  0.5658282 |\n",
       "|  0.5695984 |\n",
       "|  0.5706092 |\n",
       "|  0.5708493 |\n",
       "\n"
      ],
      "text/plain": [
       "     [,1]      \n",
       "[1,]  0.5607546\n",
       "[2,] -0.1740071\n",
       "[3,]  0.5658282\n",
       "[4,]  0.5695984\n",
       "[5,]  0.5706092\n",
       "[6,]  0.5708493"
      ]
     },
     "metadata": {},
     "output_type": "display_data"
    }
   ],
   "source": [
    "# Use the estimated betas to fit the test data\n",
    "logit.test <- predict(Logit, newdata = data.test, se = T)\n",
    "logodds.fit.test <- logit.test$fit\n",
    "\n",
    "# Check if it's correct\n",
    "head(logodds.fit.test)\n",
    "head(X.test %*% beta.logit)"
   ]
  },
  {
   "cell_type": "code",
   "execution_count": 17,
   "metadata": {},
   "outputs": [],
   "source": [
    "# Construct 95% CI for the (test) estimated probs \n",
    "lower.test <- logodds.fit.test - 1.96 * logit.test$se.fit # lower bound of log odds\n",
    "upper.test <- logodds.fit.test + 1.96 * logit.test$se.fit # upper bound...\n",
    "probs.fit.test <- 1 / (1 + exp(-logodds.fit.test))\n",
    "lower.test <- 1 / (1 + exp(-lower.test)) \n",
    "upper.test <- 1 / (1 + exp(-upper.test))"
   ]
  },
  {
   "cell_type": "markdown",
   "metadata": {},
   "source": [
    "## MSE, AVE and the Confusion Matrix"
   ]
  },
  {
   "cell_type": "code",
   "execution_count": 18,
   "metadata": {},
   "outputs": [
    {
     "data": {
      "text/html": [
       "0.159"
      ],
      "text/latex": [
       "0.159"
      ],
      "text/markdown": [
       "0.159"
      ],
      "text/plain": [
       "[1] 0.159"
      ]
     },
     "metadata": {},
     "output_type": "display_data"
    },
    {
     "data": {
      "text/html": [
       "0.139"
      ],
      "text/latex": [
       "0.139"
      ],
      "text/markdown": [
       "0.139"
      ],
      "text/plain": [
       "[1] 0.139"
      ]
     },
     "metadata": {},
     "output_type": "display_data"
    }
   ],
   "source": [
    "# MSE and AVE\n",
    "y.pred.train <-  c()\n",
    "y.pred.test <- c()\n",
    "threshold <- 0.65\n",
    "\n",
    "for (i in 1:n) {\n",
    "  if (probs.fit.train[i] >= threshold) {\n",
    "    y.pred.train[i] <- 1\n",
    "  }\n",
    "  else {\n",
    "    y.pred.train[i] <- 0\n",
    "  }\n",
    "  if (probs.fit.test[i] >= threshold) {\n",
    "    y.pred.test[i] <- 1\n",
    "  }\n",
    "  else {\n",
    "    y.pred.test[i] <- 0\n",
    "  }\n",
    "}\n",
    "# Training error\n",
    "(MSE <- sum(y.pred.train != data.train$y) / length(data.train$y))\n",
    "\n",
    "# Testing error\n",
    "(AVE <- sum(y.pred.test != data.test$y) / length(data.test$y))"
   ]
  },
  {
   "cell_type": "code",
   "execution_count": 19,
   "metadata": {},
   "outputs": [
    {
     "data": {
      "text/plain": [
       "         True\n",
       "Predicted   0   1\n",
       "        0  34  57\n",
       "        1 102 807"
      ]
     },
     "metadata": {},
     "output_type": "display_data"
    },
    {
     "data": {
      "text/html": [
       "<table>\n",
       "<caption>A table: 3 × 3 of type dbl</caption>\n",
       "<thead>\n",
       "\t<tr><th></th><th scope=col>0</th><th scope=col>1</th><th scope=col>Sum</th></tr>\n",
       "</thead>\n",
       "<tbody>\n",
       "\t<tr><th scope=row>0</th><td> 34</td><td> 57</td><td>  91</td></tr>\n",
       "\t<tr><th scope=row>1</th><td>102</td><td>807</td><td> 909</td></tr>\n",
       "\t<tr><th scope=row>Sum</th><td>136</td><td>864</td><td>1000</td></tr>\n",
       "</tbody>\n",
       "</table>\n"
      ],
      "text/latex": [
       "A table: 3 × 3 of type dbl\n",
       "\\begin{tabular}{r|lll}\n",
       "  & 0 & 1 & Sum\\\\\n",
       "\\hline\n",
       "\t0 &  34 &  57 &   91\\\\\n",
       "\t1 & 102 & 807 &  909\\\\\n",
       "\tSum & 136 & 864 & 1000\\\\\n",
       "\\end{tabular}\n"
      ],
      "text/markdown": [
       "\n",
       "A table: 3 × 3 of type dbl\n",
       "\n",
       "| <!--/--> | 0 | 1 | Sum |\n",
       "|---|---|---|---|\n",
       "| 0 |  34 |  57 |   91 |\n",
       "| 1 | 102 | 807 |  909 |\n",
       "| Sum | 136 | 864 | 1000 |\n",
       "\n"
      ],
      "text/plain": [
       "         True\n",
       "Predicted 0   1   Sum \n",
       "      0    34  57   91\n",
       "      1   102 807  909\n",
       "      Sum 136 864 1000"
      ]
     },
     "metadata": {},
     "output_type": "display_data"
    },
    {
     "data": {
      "text/html": [
       "<table>\n",
       "<caption>A table: 3 × 3 of type dbl</caption>\n",
       "<thead>\n",
       "\t<tr><th></th><th scope=col>0</th><th scope=col>1</th><th scope=col>Sum</th></tr>\n",
       "</thead>\n",
       "<tbody>\n",
       "\t<tr><th scope=row>0</th><td>0.034</td><td>0.057</td><td>0.091</td></tr>\n",
       "\t<tr><th scope=row>1</th><td>0.102</td><td>0.807</td><td>0.909</td></tr>\n",
       "\t<tr><th scope=row>Sum</th><td>0.136</td><td>0.864</td><td>1.000</td></tr>\n",
       "</tbody>\n",
       "</table>\n"
      ],
      "text/latex": [
       "A table: 3 × 3 of type dbl\n",
       "\\begin{tabular}{r|lll}\n",
       "  & 0 & 1 & Sum\\\\\n",
       "\\hline\n",
       "\t0 & 0.034 & 0.057 & 0.091\\\\\n",
       "\t1 & 0.102 & 0.807 & 0.909\\\\\n",
       "\tSum & 0.136 & 0.864 & 1.000\\\\\n",
       "\\end{tabular}\n"
      ],
      "text/markdown": [
       "\n",
       "A table: 3 × 3 of type dbl\n",
       "\n",
       "| <!--/--> | 0 | 1 | Sum |\n",
       "|---|---|---|---|\n",
       "| 0 | 0.034 | 0.057 | 0.091 |\n",
       "| 1 | 0.102 | 0.807 | 0.909 |\n",
       "| Sum | 0.136 | 0.864 | 1.000 |\n",
       "\n"
      ],
      "text/plain": [
       "         True\n",
       "Predicted 0     1     Sum  \n",
       "      0   0.034 0.057 0.091\n",
       "      1   0.102 0.807 0.909\n",
       "      Sum 0.136 0.864 1.000"
      ]
     },
     "metadata": {},
     "output_type": "display_data"
    },
    {
     "data": {
      "text/html": [
       "<table>\n",
       "<caption>A table: 3 × 3 of type dbl</caption>\n",
       "<thead>\n",
       "\t<tr><th></th><th scope=col>0</th><th scope=col>1</th><th scope=col>Sum</th></tr>\n",
       "</thead>\n",
       "<tbody>\n",
       "\t<tr><th scope=row>0</th><td>0.25</td><td>0.06597222</td><td>0.3159722</td></tr>\n",
       "\t<tr><th scope=row>1</th><td>0.75</td><td>0.93402778</td><td>1.6840278</td></tr>\n",
       "\t<tr><th scope=row>Sum</th><td>1.00</td><td>1.00000000</td><td>2.0000000</td></tr>\n",
       "</tbody>\n",
       "</table>\n"
      ],
      "text/latex": [
       "A table: 3 × 3 of type dbl\n",
       "\\begin{tabular}{r|lll}\n",
       "  & 0 & 1 & Sum\\\\\n",
       "\\hline\n",
       "\t0 & 0.25 & 0.06597222 & 0.3159722\\\\\n",
       "\t1 & 0.75 & 0.93402778 & 1.6840278\\\\\n",
       "\tSum & 1.00 & 1.00000000 & 2.0000000\\\\\n",
       "\\end{tabular}\n"
      ],
      "text/markdown": [
       "\n",
       "A table: 3 × 3 of type dbl\n",
       "\n",
       "| <!--/--> | 0 | 1 | Sum |\n",
       "|---|---|---|---|\n",
       "| 0 | 0.25 | 0.06597222 | 0.3159722 |\n",
       "| 1 | 0.75 | 0.93402778 | 1.6840278 |\n",
       "| Sum | 1.00 | 1.00000000 | 2.0000000 |\n",
       "\n"
      ],
      "text/plain": [
       "         True\n",
       "Predicted 0    1          Sum      \n",
       "      0   0.25 0.06597222 0.3159722\n",
       "      1   0.75 0.93402778 1.6840278\n",
       "      Sum 1.00 1.00000000 2.0000000"
      ]
     },
     "metadata": {},
     "output_type": "display_data"
    }
   ],
   "source": [
    "(cfm <- (table(y.pred.train, data.train$y,\n",
    "                         dnn = c(\"Predicted\", \"True\"))))\n",
    "(addmargins(cfm))\n",
    "addmargins(prop.table(cfm))\n",
    "addmargins(prop.table(cfm, 2))"
   ]
  },
  {
   "cell_type": "code",
   "execution_count": 20,
   "metadata": {},
   "outputs": [
    {
     "data": {
      "text/plain": [
       "         True\n",
       "Predicted   0   1\n",
       "        0  36  62\n",
       "        1  77 825"
      ]
     },
     "metadata": {},
     "output_type": "display_data"
    },
    {
     "data": {
      "text/html": [
       "<table>\n",
       "<caption>A table: 3 × 3 of type dbl</caption>\n",
       "<thead>\n",
       "\t<tr><th></th><th scope=col>0</th><th scope=col>1</th><th scope=col>Sum</th></tr>\n",
       "</thead>\n",
       "<tbody>\n",
       "\t<tr><th scope=row>0</th><td> 36</td><td> 62</td><td>  98</td></tr>\n",
       "\t<tr><th scope=row>1</th><td> 77</td><td>825</td><td> 902</td></tr>\n",
       "\t<tr><th scope=row>Sum</th><td>113</td><td>887</td><td>1000</td></tr>\n",
       "</tbody>\n",
       "</table>\n"
      ],
      "text/latex": [
       "A table: 3 × 3 of type dbl\n",
       "\\begin{tabular}{r|lll}\n",
       "  & 0 & 1 & Sum\\\\\n",
       "\\hline\n",
       "\t0 &  36 &  62 &   98\\\\\n",
       "\t1 &  77 & 825 &  902\\\\\n",
       "\tSum & 113 & 887 & 1000\\\\\n",
       "\\end{tabular}\n"
      ],
      "text/markdown": [
       "\n",
       "A table: 3 × 3 of type dbl\n",
       "\n",
       "| <!--/--> | 0 | 1 | Sum |\n",
       "|---|---|---|---|\n",
       "| 0 |  36 |  62 |   98 |\n",
       "| 1 |  77 | 825 |  902 |\n",
       "| Sum | 113 | 887 | 1000 |\n",
       "\n"
      ],
      "text/plain": [
       "         True\n",
       "Predicted 0   1   Sum \n",
       "      0    36  62   98\n",
       "      1    77 825  902\n",
       "      Sum 113 887 1000"
      ]
     },
     "metadata": {},
     "output_type": "display_data"
    },
    {
     "data": {
      "text/html": [
       "<table>\n",
       "<caption>A table: 3 × 3 of type dbl</caption>\n",
       "<thead>\n",
       "\t<tr><th></th><th scope=col>0</th><th scope=col>1</th><th scope=col>Sum</th></tr>\n",
       "</thead>\n",
       "<tbody>\n",
       "\t<tr><th scope=row>0</th><td>0.036</td><td>0.062</td><td>0.098</td></tr>\n",
       "\t<tr><th scope=row>1</th><td>0.077</td><td>0.825</td><td>0.902</td></tr>\n",
       "\t<tr><th scope=row>Sum</th><td>0.113</td><td>0.887</td><td>1.000</td></tr>\n",
       "</tbody>\n",
       "</table>\n"
      ],
      "text/latex": [
       "A table: 3 × 3 of type dbl\n",
       "\\begin{tabular}{r|lll}\n",
       "  & 0 & 1 & Sum\\\\\n",
       "\\hline\n",
       "\t0 & 0.036 & 0.062 & 0.098\\\\\n",
       "\t1 & 0.077 & 0.825 & 0.902\\\\\n",
       "\tSum & 0.113 & 0.887 & 1.000\\\\\n",
       "\\end{tabular}\n"
      ],
      "text/markdown": [
       "\n",
       "A table: 3 × 3 of type dbl\n",
       "\n",
       "| <!--/--> | 0 | 1 | Sum |\n",
       "|---|---|---|---|\n",
       "| 0 | 0.036 | 0.062 | 0.098 |\n",
       "| 1 | 0.077 | 0.825 | 0.902 |\n",
       "| Sum | 0.113 | 0.887 | 1.000 |\n",
       "\n"
      ],
      "text/plain": [
       "         True\n",
       "Predicted 0     1     Sum  \n",
       "      0   0.036 0.062 0.098\n",
       "      1   0.077 0.825 0.902\n",
       "      Sum 0.113 0.887 1.000"
      ]
     },
     "metadata": {},
     "output_type": "display_data"
    },
    {
     "data": {
      "text/html": [
       "<table>\n",
       "<caption>A table: 3 × 3 of type dbl</caption>\n",
       "<thead>\n",
       "\t<tr><th></th><th scope=col>0</th><th scope=col>1</th><th scope=col>Sum</th></tr>\n",
       "</thead>\n",
       "<tbody>\n",
       "\t<tr><th scope=row>0</th><td>0.3185841</td><td>0.06989853</td><td>0.3884826</td></tr>\n",
       "\t<tr><th scope=row>1</th><td>0.6814159</td><td>0.93010147</td><td>1.6115174</td></tr>\n",
       "\t<tr><th scope=row>Sum</th><td>1.0000000</td><td>1.00000000</td><td>2.0000000</td></tr>\n",
       "</tbody>\n",
       "</table>\n"
      ],
      "text/latex": [
       "A table: 3 × 3 of type dbl\n",
       "\\begin{tabular}{r|lll}\n",
       "  & 0 & 1 & Sum\\\\\n",
       "\\hline\n",
       "\t0 & 0.3185841 & 0.06989853 & 0.3884826\\\\\n",
       "\t1 & 0.6814159 & 0.93010147 & 1.6115174\\\\\n",
       "\tSum & 1.0000000 & 1.00000000 & 2.0000000\\\\\n",
       "\\end{tabular}\n"
      ],
      "text/markdown": [
       "\n",
       "A table: 3 × 3 of type dbl\n",
       "\n",
       "| <!--/--> | 0 | 1 | Sum |\n",
       "|---|---|---|---|\n",
       "| 0 | 0.3185841 | 0.06989853 | 0.3884826 |\n",
       "| 1 | 0.6814159 | 0.93010147 | 1.6115174 |\n",
       "| Sum | 1.0000000 | 1.00000000 | 2.0000000 |\n",
       "\n"
      ],
      "text/plain": [
       "         True\n",
       "Predicted 0         1          Sum      \n",
       "      0   0.3185841 0.06989853 0.3884826\n",
       "      1   0.6814159 0.93010147 1.6115174\n",
       "      Sum 1.0000000 1.00000000 2.0000000"
      ]
     },
     "metadata": {},
     "output_type": "display_data"
    }
   ],
   "source": [
    "(cfm.test <- (table(y.pred.test, data.test$y,\n",
    "               dnn = c(\"Predicted\", \"True\"))))\n",
    "(addmargins(cfm.test))\n",
    "addmargins(prop.table(cfm.test))\n",
    "addmargins(prop.table(cfm.test, 2))\n"
   ]
  },
  {
   "cell_type": "code",
   "execution_count": 21,
   "metadata": {},
   "outputs": [
    {
     "data": {
      "text/html": [
       "0.132"
      ],
      "text/latex": [
       "0.132"
      ],
      "text/markdown": [
       "0.132"
      ],
      "text/plain": [
       "[1] 0.132"
      ]
     },
     "metadata": {},
     "output_type": "display_data"
    },
    {
     "data": {
      "text/html": [
       "0.136"
      ],
      "text/latex": [
       "0.136"
      ],
      "text/markdown": [
       "0.136"
      ],
      "text/plain": [
       "[1] 0.136"
      ]
     },
     "metadata": {},
     "output_type": "display_data"
    }
   ],
   "source": [
    "0.088 + 0.044\n",
    "0.095 + 0.041"
   ]
  },
  {
   "cell_type": "markdown",
   "metadata": {},
   "source": [
    "## c) Interpretation"
   ]
  },
  {
   "cell_type": "markdown",
   "metadata": {},
   "source": [
    "Consider the first observation. We'll calculate its log odds, odds and $P(Y_{1} = 1) = \\pi_{1}$"
   ]
  },
  {
   "cell_type": "markdown",
   "metadata": {},
   "source": [
    "$$\n",
    "\\begin{aligned}\n",
    "\\hat{log.odds_{1}} &= x'_{1}\\hat{\\beta} \\\\\n",
    "\\hat{odds_{1}} &= e^{\\hat{log.odds_{1}}} \\\\\n",
    "\\hat{P}(Y_{1} = 1) &= \\frac{1}{1 + e ^ {-\\hat{log.odds_{1}}}} = \\hat{\\pi_{1}}\n",
    "\\end{aligned}\n",
    "$$"
   ]
  },
  {
   "cell_type": "code",
   "execution_count": 22,
   "metadata": {},
   "outputs": [
    {
     "data": {
      "text/html": [
       "<strong>1:</strong> 0.564804040039924"
      ],
      "text/latex": [
       "\\textbf{1:} 0.564804040039924"
      ],
      "text/markdown": [
       "**1:** 0.564804040039924"
      ],
      "text/plain": [
       "       1 \n",
       "0.564804 "
      ]
     },
     "metadata": {},
     "output_type": "display_data"
    },
    {
     "data": {
      "text/html": [
       "<table>\n",
       "<caption>A matrix: 1 × 1 of type dbl</caption>\n",
       "<tbody>\n",
       "\t<tr><td>0.564804</td></tr>\n",
       "</tbody>\n",
       "</table>\n"
      ],
      "text/latex": [
       "A matrix: 1 × 1 of type dbl\n",
       "\\begin{tabular}{l}\n",
       "\t 0.564804\\\\\n",
       "\\end{tabular}\n"
      ],
      "text/markdown": [
       "\n",
       "A matrix: 1 × 1 of type dbl\n",
       "\n",
       "| 0.564804 |\n",
       "\n"
      ],
      "text/plain": [
       "     [,1]    \n",
       "[1,] 0.564804"
      ]
     },
     "metadata": {},
     "output_type": "display_data"
    },
    {
     "data": {
      "text/html": [
       "<strong>1:</strong> 1.75910303518402"
      ],
      "text/latex": [
       "\\textbf{1:} 1.75910303518402"
      ],
      "text/markdown": [
       "**1:** 1.75910303518402"
      ],
      "text/plain": [
       "       1 \n",
       "1.759103 "
      ]
     },
     "metadata": {},
     "output_type": "display_data"
    },
    {
     "data": {
      "text/html": [
       "<strong>1:</strong> 0.637563372136515"
      ],
      "text/latex": [
       "\\textbf{1:} 0.637563372136515"
      ],
      "text/markdown": [
       "**1:** 0.637563372136515"
      ],
      "text/plain": [
       "        1 \n",
       "0.6375634 "
      ]
     },
     "metadata": {},
     "output_type": "display_data"
    }
   ],
   "source": [
    "# c) Interpretation\n",
    "\n",
    "# Logodss of the first observation and P(Y_1 = 1)\n",
    "logit.train$fit[1] # \"automatic\"\n",
    "X.train[1, ] %*% beta.logit # \"manually\"\n",
    "# Odss of the first obs\n",
    "(odds_1 <- exp(logit.train$fit[1]))\n",
    "# With an odds of 1.76:1 the first observation is in group 1\n",
    "# Or in other words, the probability that Y_1 = 1 is:\n",
    "(pi_x_1 <- 1 / (1 + exp(-logit.train$fit[1]))) # P(Y_1 = 1) is around 64% \n",
    "                                              # gives an odds of ~ 64/36 ~ 1.7)"
   ]
  },
  {
   "cell_type": "markdown",
   "metadata": {},
   "source": [
    "### Marginal Effects\n",
    "$\\hat{log.odds_{1}} = x'_{1}\\hat{\\beta} = \\hat{\\beta_{0}} * x_{10} + \\hat{\\beta_{1}} * x_{11} + \\hat{\\beta_{2}} * x_{12}$  \n",
    "One unit increase in $x_{11}$ increases $\\hat{odds_{1}}$ by $e^{\\hat{\\beta_{1}}} - 1 \\%$"
   ]
  },
  {
   "cell_type": "code",
   "execution_count": 23,
   "metadata": {},
   "outputs": [
    {
     "data": {
      "text/html": [
       "<strong>X1:</strong> 10.9711266495612"
      ],
      "text/latex": [
       "\\textbf{X1:} 10.9711266495612"
      ],
      "text/markdown": [
       "**X1:** 10.9711266495612"
      ],
      "text/plain": [
       "      X1 \n",
       "10.97113 "
      ]
     },
     "metadata": {},
     "output_type": "display_data"
    },
    {
     "data": {
      "text/html": [
       "<strong>(Intercept):</strong> 10.9711266495612"
      ],
      "text/latex": [
       "\\textbf{(Intercept):} 10.9711266495612"
      ],
      "text/markdown": [
       "**(Intercept):** 10.9711266495612"
      ],
      "text/plain": [
       "(Intercept) \n",
       "   10.97113 "
      ]
     },
     "metadata": {},
     "output_type": "display_data"
    }
   ],
   "source": [
    "(exp(beta.logit[2]) - 1) * 100\n",
    "logodds_1_new <- beta.logit[1] * X.train[1, 1] +\n",
    "                    beta.logit[2] * (X.train[1, 2] + 1) +\n",
    "                    beta.logit[3] * X.train[1, 3]\n",
    "odds_1_new <- exp(logodds_1_new)\n",
    "(odds_1_new - odds_1) / odds_1 *100"
   ]
  },
  {
   "cell_type": "markdown",
   "metadata": {},
   "source": [
    "What about $\\frac{\\partial \\pi}{\\partial X_1}?$\n",
    "$$\n",
    "\\begin{aligned}\n",
    "\\pi_i&= \\frac{1}{1 + e^{-(\\beta_{0}x_{i0} + \\beta_1x_{i1} + \\beta_2x_{i2})}} \\\\\n",
    "\\frac{\\partial \\pi_{i}}{\\partial x_{i1}} &= \\frac{-1}{(1 + e^{-(\\beta_{0}x_{i0} + \\beta_1x_{i1} + \\beta_2x_{i2})})^2}(-\\beta_1)e^{\\beta_{0}x_{i0} + \\beta_1x_{i1} + \\beta_2x_{i2})}\\\\\n",
    "&= \\beta_1\\frac{1}{1 + e^{-(\\beta_{0}x_{i0} + \\beta_1x_{i1} + \\beta_2x_{i2})}}\\frac{e^{-(\\beta_{0}x_{i0} + \\beta_1x_{i1} + \\beta_2x_{i2})}}{1 + e^{-(\\beta_{0}x_{i0} + \\beta_1x_{i1} + \\beta_2x_{i2})}} \\\\\n",
    "&= \\beta_1\\pi_i(1 - \\pi_i)\n",
    "\\end{aligned}\n",
    "$$\n",
    "Consider again the first observation:  \n",
    "$\\frac{\\partial \\pi_{i}}{\\partial x_{11}} = \\beta_1\\pi_1(1 - \\pi_1)$"
   ]
  },
  {
   "cell_type": "code",
   "execution_count": 24,
   "metadata": {},
   "outputs": [
    {
     "data": {
      "text/html": [
       "<strong>X1:</strong> 2.4055012700675"
      ],
      "text/latex": [
       "\\textbf{X1:} 2.4055012700675"
      ],
      "text/markdown": [
       "**X1:** 2.4055012700675"
      ],
      "text/plain": [
       "      X1 \n",
       "2.405501 "
      ]
     },
     "metadata": {},
     "output_type": "display_data"
    },
    {
     "data": {
      "text/html": [
       "<strong>(Intercept):</strong> 2.36943087888555"
      ],
      "text/latex": [
       "\\textbf{(Intercept):} 2.36943087888555"
      ],
      "text/markdown": [
       "**(Intercept):** 2.36943087888555"
      ],
      "text/plain": [
       "(Intercept) \n",
       "   2.369431 "
      ]
     },
     "metadata": {},
     "output_type": "display_data"
    }
   ],
   "source": [
    "(dx1_1 <- beta.logit[2] * pi_x_1 * (1 - pi_x_1)) * 100 # dx1 of obs 1: from math\n",
    "pi_x_1_new <- 1 / (1 + exp(-logodds_1_new))\n",
    "(pi_x_1_new - pi_x_1) * 100 # dx1 of obs 1: computational"
   ]
  },
  {
   "cell_type": "markdown",
   "metadata": {},
   "source": [
    "## d) VIsualizing the results"
   ]
  },
  {
   "cell_type": "markdown",
   "metadata": {},
   "source": [
    "### Preparing data frame for plotting"
   ]
  },
  {
   "cell_type": "code",
   "execution_count": 25,
   "metadata": {},
   "outputs": [
    {
     "data": {
      "text/html": [
       "<table>\n",
       "<caption>A data.frame: 6 × 15</caption>\n",
       "<thead>\n",
       "\t<tr><th></th><th scope=col>X1.train</th><th scope=col>X1.test</th><th scope=col>X2.train</th><th scope=col>X2.test</th><th scope=col>y.train</th><th scope=col>y.test</th><th scope=col>probs.train</th><th scope=col>probs.test</th><th scope=col>probs.true.train</th><th scope=col>probs.true.test</th><th scope=col>upper.train</th><th scope=col>lower.train</th><th scope=col>upper.test</th><th scope=col>lower.test</th><th scope=col>dx1.train</th></tr>\n",
       "\t<tr><th></th><th scope=col>&lt;dbl&gt;</th><th scope=col>&lt;dbl&gt;</th><th scope=col>&lt;fct&gt;</th><th scope=col>&lt;fct&gt;</th><th scope=col>&lt;int&gt;</th><th scope=col>&lt;int&gt;</th><th scope=col>&lt;dbl&gt;</th><th scope=col>&lt;dbl&gt;</th><th scope=col>&lt;dbl&gt;</th><th scope=col>&lt;dbl&gt;</th><th scope=col>&lt;dbl&gt;</th><th scope=col>&lt;dbl&gt;</th><th scope=col>&lt;dbl&gt;</th><th scope=col>&lt;dbl&gt;</th><th scope=col>&lt;dbl&gt;</th></tr>\n",
       "</thead>\n",
       "<tbody>\n",
       "\t<tr><th scope=row>1</th><td>18.12847</td><td>18.08957</td><td>1</td><td>1</td><td>1</td><td>1</td><td>0.6375634</td><td>0.6366271</td><td>0.6927159</td><td>0.6918872</td><td>0.7192420</td><td>0.5470859</td><td>0.7185215</td><td>0.5459623</td><td>0.02405501</td></tr>\n",
       "\t<tr><th scope=row>2</th><td>18.13016</td><td>18.09186</td><td>1</td><td>0</td><td>1</td><td>1</td><td>0.6376039</td><td>0.4566077</td><td>0.6927517</td><td>0.4524407</td><td>0.7192732</td><td>0.5471346</td><td>0.5505916</td><td>0.3656149</td><td>0.02405385</td></tr>\n",
       "\t<tr><th scope=row>3</th><td>18.14943</td><td>18.13831</td><td>1</td><td>1</td><td>0</td><td>1</td><td>0.6380674</td><td>0.6378000</td><td>0.6931618</td><td>0.6929252</td><td>0.7196298</td><td>0.5476910</td><td>0.7194241</td><td>0.5473700</td><td>0.02404055</td></tr>\n",
       "\t<tr><th scope=row>4</th><td>18.16703</td><td>18.17453</td><td>0</td><td>1</td><td>0</td><td>1</td><td>0.4585499</td><td>0.6386705</td><td>0.4543036</td><td>0.6936953</td><td>0.5522466</td><td>0.3676955</td><td>0.7200939</td><td>0.5484152</td><td>0.02584611</td></tr>\n",
       "\t<tr><th scope=row>5</th><td>18.17133</td><td>18.18424</td><td>0</td><td>1</td><td>1</td><td>1</td><td>0.4586611</td><td>0.6389037</td><td>0.4544103</td><td>0.6939016</td><td>0.5523413</td><td>0.3678148</td><td>0.7202733</td><td>0.5486953</td><td>0.02584707</td></tr>\n",
       "\t<tr><th scope=row>6</th><td>18.21251</td><td>18.18654</td><td>1</td><td>1</td><td>1</td><td>1</td><td>0.6395825</td><td>0.6389591</td><td>0.6945018</td><td>0.6939506</td><td>0.7207955</td><td>0.5495107</td><td>0.7203159</td><td>0.5487619</td><td>0.02399676</td></tr>\n",
       "</tbody>\n",
       "</table>\n"
      ],
      "text/latex": [
       "A data.frame: 6 × 15\n",
       "\\begin{tabular}{r|lllllllllllllll}\n",
       "  & X1.train & X1.test & X2.train & X2.test & y.train & y.test & probs.train & probs.test & probs.true.train & probs.true.test & upper.train & lower.train & upper.test & lower.test & dx1.train\\\\\n",
       "  & <dbl> & <dbl> & <fct> & <fct> & <int> & <int> & <dbl> & <dbl> & <dbl> & <dbl> & <dbl> & <dbl> & <dbl> & <dbl> & <dbl>\\\\\n",
       "\\hline\n",
       "\t1 & 18.12847 & 18.08957 & 1 & 1 & 1 & 1 & 0.6375634 & 0.6366271 & 0.6927159 & 0.6918872 & 0.7192420 & 0.5470859 & 0.7185215 & 0.5459623 & 0.02405501\\\\\n",
       "\t2 & 18.13016 & 18.09186 & 1 & 0 & 1 & 1 & 0.6376039 & 0.4566077 & 0.6927517 & 0.4524407 & 0.7192732 & 0.5471346 & 0.5505916 & 0.3656149 & 0.02405385\\\\\n",
       "\t3 & 18.14943 & 18.13831 & 1 & 1 & 0 & 1 & 0.6380674 & 0.6378000 & 0.6931618 & 0.6929252 & 0.7196298 & 0.5476910 & 0.7194241 & 0.5473700 & 0.02404055\\\\\n",
       "\t4 & 18.16703 & 18.17453 & 0 & 1 & 0 & 1 & 0.4585499 & 0.6386705 & 0.4543036 & 0.6936953 & 0.5522466 & 0.3676955 & 0.7200939 & 0.5484152 & 0.02584611\\\\\n",
       "\t5 & 18.17133 & 18.18424 & 0 & 1 & 1 & 1 & 0.4586611 & 0.6389037 & 0.4544103 & 0.6939016 & 0.5523413 & 0.3678148 & 0.7202733 & 0.5486953 & 0.02584707\\\\\n",
       "\t6 & 18.21251 & 18.18654 & 1 & 1 & 1 & 1 & 0.6395825 & 0.6389591 & 0.6945018 & 0.6939506 & 0.7207955 & 0.5495107 & 0.7203159 & 0.5487619 & 0.02399676\\\\\n",
       "\\end{tabular}\n"
      ],
      "text/markdown": [
       "\n",
       "A data.frame: 6 × 15\n",
       "\n",
       "| <!--/--> | X1.train &lt;dbl&gt; | X1.test &lt;dbl&gt; | X2.train &lt;fct&gt; | X2.test &lt;fct&gt; | y.train &lt;int&gt; | y.test &lt;int&gt; | probs.train &lt;dbl&gt; | probs.test &lt;dbl&gt; | probs.true.train &lt;dbl&gt; | probs.true.test &lt;dbl&gt; | upper.train &lt;dbl&gt; | lower.train &lt;dbl&gt; | upper.test &lt;dbl&gt; | lower.test &lt;dbl&gt; | dx1.train &lt;dbl&gt; |\n",
       "|---|---|---|---|---|---|---|---|---|---|---|---|---|---|---|---|\n",
       "| 1 | 18.12847 | 18.08957 | 1 | 1 | 1 | 1 | 0.6375634 | 0.6366271 | 0.6927159 | 0.6918872 | 0.7192420 | 0.5470859 | 0.7185215 | 0.5459623 | 0.02405501 |\n",
       "| 2 | 18.13016 | 18.09186 | 1 | 0 | 1 | 1 | 0.6376039 | 0.4566077 | 0.6927517 | 0.4524407 | 0.7192732 | 0.5471346 | 0.5505916 | 0.3656149 | 0.02405385 |\n",
       "| 3 | 18.14943 | 18.13831 | 1 | 1 | 0 | 1 | 0.6380674 | 0.6378000 | 0.6931618 | 0.6929252 | 0.7196298 | 0.5476910 | 0.7194241 | 0.5473700 | 0.02404055 |\n",
       "| 4 | 18.16703 | 18.17453 | 0 | 1 | 0 | 1 | 0.4585499 | 0.6386705 | 0.4543036 | 0.6936953 | 0.5522466 | 0.3676955 | 0.7200939 | 0.5484152 | 0.02584611 |\n",
       "| 5 | 18.17133 | 18.18424 | 0 | 1 | 1 | 1 | 0.4586611 | 0.6389037 | 0.4544103 | 0.6939016 | 0.5523413 | 0.3678148 | 0.7202733 | 0.5486953 | 0.02584707 |\n",
       "| 6 | 18.21251 | 18.18654 | 1 | 1 | 1 | 1 | 0.6395825 | 0.6389591 | 0.6945018 | 0.6939506 | 0.7207955 | 0.5495107 | 0.7203159 | 0.5487619 | 0.02399676 |\n",
       "\n"
      ],
      "text/plain": [
       "  X1.train X1.test  X2.train X2.test y.train y.test probs.train probs.test\n",
       "1 18.12847 18.08957 1        1       1       1      0.6375634   0.6366271 \n",
       "2 18.13016 18.09186 1        0       1       1      0.6376039   0.4566077 \n",
       "3 18.14943 18.13831 1        1       0       1      0.6380674   0.6378000 \n",
       "4 18.16703 18.17453 0        1       0       1      0.4585499   0.6386705 \n",
       "5 18.17133 18.18424 0        1       1       1      0.4586611   0.6389037 \n",
       "6 18.21251 18.18654 1        1       1       1      0.6395825   0.6389591 \n",
       "  probs.true.train probs.true.test upper.train lower.train upper.test\n",
       "1 0.6927159        0.6918872       0.7192420   0.5470859   0.7185215 \n",
       "2 0.6927517        0.4524407       0.7192732   0.5471346   0.5505916 \n",
       "3 0.6931618        0.6929252       0.7196298   0.5476910   0.7194241 \n",
       "4 0.4543036        0.6936953       0.5522466   0.3676955   0.7200939 \n",
       "5 0.4544103        0.6939016       0.5523413   0.3678148   0.7202733 \n",
       "6 0.6945018        0.6939506       0.7207955   0.5495107   0.7203159 \n",
       "  lower.test dx1.train \n",
       "1 0.5459623  0.02405501\n",
       "2 0.3656149  0.02405385\n",
       "3 0.5473700  0.02404055\n",
       "4 0.5484152  0.02584611\n",
       "5 0.5486953  0.02584707\n",
       "6 0.5487619  0.02399676"
      ]
     },
     "metadata": {},
     "output_type": "display_data"
    },
    {
     "name": "stdout",
     "output_type": "stream",
     "text": [
      "'data.frame':\t1000 obs. of  15 variables:\n",
      " $ X1.train        : num  18.1 18.1 18.1 18.2 18.2 ...\n",
      " $ X1.test         : num  18.1 18.1 18.1 18.2 18.2 ...\n",
      " $ X2.train        : Factor w/ 2 levels \"0\",\"1\": 2 2 2 1 1 2 2 1 1 2 ...\n",
      " $ X2.test         : Factor w/ 2 levels \"0\",\"1\": 2 1 2 2 2 2 1 2 2 2 ...\n",
      " $ y.train         : int  1 1 0 0 1 1 1 1 1 1 ...\n",
      " $ y.test          : int  1 1 1 1 1 1 1 0 1 1 ...\n",
      " $ probs.train     : num  0.638 0.638 0.638 0.459 0.459 ...\n",
      " $ probs.test      : num  0.637 0.457 0.638 0.639 0.639 ...\n",
      " $ probs.true.train: num  0.693 0.693 0.693 0.454 0.454 ...\n",
      " $ probs.true.test : num  0.692 0.452 0.693 0.694 0.694 ...\n",
      " $ upper.train     : num  0.719 0.719 0.72 0.552 0.552 ...\n",
      " $ lower.train     : num  0.547 0.547 0.548 0.368 0.368 ...\n",
      " $ upper.test      : num  0.719 0.551 0.719 0.72 0.72 ...\n",
      " $ lower.test      : num  0.546 0.366 0.547 0.548 0.549 ...\n",
      " $ dx1.train       : num  0.0241 0.0241 0.024 0.0258 0.0258 ...\n"
     ]
    }
   ],
   "source": [
    "plt.data <- data.frame(X1.train = data.train$X1,\n",
    "                       X1.test = data.test$X1,\n",
    "                       X2.train = factor(data.train$X2),\n",
    "                       X2.test = factor(data.test$X2),\n",
    "                       y.train = data.train$y,\n",
    "                       y.test = data.test$y,\n",
    "                       probs.train = probs.fit.train,\n",
    "                       probs.test = probs.fit.test,\n",
    "                       probs.true.train,\n",
    "                       probs.true.test,\n",
    "                       upper.train,\n",
    "                       lower.train,\n",
    "                       upper.test,\n",
    "                       lower.test,\n",
    "                       dx1.train)\n",
    "\n",
    "head(plt.data)  \n",
    "str(plt.data)"
   ]
  },
  {
   "cell_type": "code",
   "execution_count": 26,
   "metadata": {},
   "outputs": [
    {
     "data": {
      "image/png": "[encoded data removed]",
      "text/plain": [
       "plot without title"
      ]
     },
     "metadata": {
      "image/png": {
       "height": 420,
       "width": 420
      },
      "text/plain": {
       "height": 420,
       "width": 420
      }
     },
     "output_type": "display_data"
    }
   ],
   "source": [
    "ggplot(plt.data, aes(X1.train)) +\n",
    "  geom_line(aes(y = probs.fit.train, colour = X2.train), cex = 1)"
   ]
  },
  {
   "cell_type": "code",
   "execution_count": 27,
   "metadata": {},
   "outputs": [
    {
     "data": {
      "image/png": "[encoded data removed]",
      "text/plain": [
       "plot without title"
      ]
     },
     "metadata": {
      "image/png": {
       "height": 420,
       "width": 420
      },
      "text/plain": {
       "height": 420,
       "width": 420
      }
     },
     "output_type": "display_data"
    }
   ],
   "source": [
    "ggplot(plt.data, aes(X1.train)) +\n",
    "  geom_line(aes(y = probs.fit.train, colour = X2.train), cex = 1) +\n",
    "  geom_ribbon(aes(ymin = lower.train,\n",
    "                  ymax = upper.train,\n",
    "                  colour = X2.train),\n",
    "                  alpha = 0.5)"
   ]
  },
  {
   "cell_type": "code",
   "execution_count": 28,
   "metadata": {},
   "outputs": [
    {
     "data": {
      "image/png": "[encoded data removed]",
      "text/plain": [
       "plot without title"
      ]
     },
     "metadata": {
      "image/png": {
       "height": 420,
       "width": 420
      },
      "text/plain": {
       "height": 420,
       "width": 420
      }
     },
     "output_type": "display_data"
    }
   ],
   "source": [
    "ggplot(plt.data, aes(X1.train)) +\n",
    "  geom_line(aes(y = probs.fit.train, colour = X2.train), cex = 1) +\n",
    "  geom_ribbon(aes(ymin = lower.train,\n",
    "                  ymax = upper.train,\n",
    "                  colour = X2.train),\n",
    "                  alpha = 0.5) +\n",
    "  geom_point(aes(y = y.train), size = 0.3) +\n",
    "  geom_point(aes(y = probs.true.train), shape = \"x\", size = 1.5)\n",
    "\n"
   ]
  },
  {
   "cell_type": "code",
   "execution_count": 29,
   "metadata": {},
   "outputs": [
    {
     "data": {
      "image/png": "[encoded data removed]",
      "text/plain": [
       "plot without title"
      ]
     },
     "metadata": {
      "image/png": {
       "height": 420,
       "width": 420
      },
      "text/plain": {
       "height": 420,
       "width": 420
      }
     },
     "output_type": "display_data"
    }
   ],
   "source": [
    "ggplot(plt.data, aes(X1.test)) +\n",
    "geom_line(aes(y = probs.fit.test, colour = X2.test), cex = 1) +\n",
    "geom_ribbon(aes(ymin = lower.test,\n",
    "                ymax = upper.test,\n",
    "                colour = X2.test),\n",
    "            alpha = 0.5) +\n",
    "geom_point(aes(y = y.test), size = 0.3) +\n",
    "geom_point(aes(y = probs.true.test), shape = \"x\", size = 1.5)"
   ]
  },
  {
   "cell_type": "code",
   "execution_count": 30,
   "metadata": {},
   "outputs": [
    {
     "data": {
      "image/png": "[encoded data removed]",
      "text/plain": [
       "plot without title"
      ]
     },
     "metadata": {
      "image/png": {
       "height": 420,
       "width": 420
      },
      "text/plain": {
       "height": 420,
       "width": 420
      }
     },
     "output_type": "display_data"
    }
   ],
   "source": [
    "# Plot the marginal effect of X1\n",
    "ggplot(plt.data, aes(X1.train)) +\n",
    "  geom_line(aes(y = dx1.train, colour = X2.train), cex = 1)"
   ]
  }
 ],
 "metadata": {
  "kernelspec": {
   "display_name": "R",
   "language": "R",
   "name": "ir"
  },
  "language_info": {
   "codemirror_mode": "r",
   "file_extension": ".r",
   "mimetype": "text/x-r-source",
   "name": "R",
   "pygments_lexer": "r",
   "version": "4.0.0"
  }
 },
 "nbformat": 4,
 "nbformat_minor": 2
}
