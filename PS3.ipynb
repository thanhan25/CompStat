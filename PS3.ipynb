{
 "cells": [
  {
   "cell_type": "markdown",
   "metadata": {},
   "source": [
    "# Problem Set 3: Logistic Regression"
   ]
  },
  {
   "cell_type": "markdown",
   "metadata": {},
   "source": [
    "## Exercise 1\n",
    "\n",
    "Consider the following binary model\n",
    "$P(Y_{i} = y_{i}) = \\pi_{i}^{y_{i}}*(1-\\pi_{i})^{1-y_{i}}, y_{i} \\in \\{0, 1\\}$   \n",
    "where  \n",
    "$\\pi_{i}(x_{i}, \\beta) = \\frac{e^{x'_{i}\\beta}}{(1 + e^{x'_{i}\\beta})} = \\frac{1}{1+e^{-x'_{i}\\beta}}$\n",
    "\n",
    "1. Simulate this model with the probabilities as described above with the following values:\n",
    "\n",
    "- $n =1000$\n",
    "- $\\beta_0=-2, \\, \\beta_1=0.1,\\, \\, \\, \\beta_2=1$.\n",
    "- $x_{0i}=1 \\, \\forall \\,i$ , $x_{1i}\\sim \\mathcal{U}(18,60), \\, x_{2i}\\sim \\mathcal{B}(0.5)$. \n",
    "\n",
    "2. Estimate $\\beta_0, \\, \\beta_1,\\, \\beta_2$ via maximum likelihood and calculate the standard errors."
   ]
  },
  {
   "cell_type": "markdown",
   "metadata": {},
   "source": [
    "$P(Y_{i} = 1) = \\pi_{i}^{1}*(1-\\pi_{i})^{1-1} = \\pi_{i}$  \n",
    "$\\log(\\frac{\\pi_{i}}{1 - \\pi_{i}}) = x'_{i}\\beta$"
   ]
  },
  {
   "cell_type": "code",
   "execution_count": 1,
   "metadata": {
    "scrolled": true
   },
   "outputs": [],
   "source": [
    "# Load necessary libraries\n",
    "pacman::p_load(ggplot2, tidyverse, MASS, caret, ggpubr, maxLik)"
   ]
  },
  {
   "cell_type": "code",
   "execution_count": 2,
   "metadata": {
    "scrolled": true
   },
   "outputs": [],
   "source": [
    "# Set.seed()\n",
    "seed <- 40\n",
    "set.seed(seed)"
   ]
  },
  {
   "cell_type": "code",
   "execution_count": 3,
   "metadata": {
    "scrolled": true
   },
   "outputs": [],
   "source": [
    "# Parameters\n",
    "n <- 1000\n",
    "beta <- c(-2, 0.1, 1)\n",
    "X1.min <- 18\n",
    "X1.max <- 60\n",
    "X2.P1 <- 0.5\n"
   ]
  },
  {
   "cell_type": "code",
   "execution_count": 4,
   "metadata": {
    "scrolled": true
   },
   "outputs": [],
   "source": [
    "# Define Data Gnerating function\n",
    "data.gen <- function(n, beta, X1.min, X1.max, X2.P1) {\n",
    "  X0 <- rep(1, n)\n",
    "  X1 <- sort(runif(n, X1.min, X1.max))\n",
    "  X2 <- rbinom(n, 1, X2.P1)\n",
    "  X <- cbind(X0, X1, X2)\n",
    "  logodds <- X %*% beta\n",
    "  pi_x <- 1 / (1 + exp(-logodds))\n",
    "  y <- rbinom(n, 1, prob = pi_x)\n",
    "  data <- cbind.data.frame(X, logodds, pi_x, y)\n",
    "  return(data)\n",
    "}"
   ]
  },
  {
   "cell_type": "markdown",
   "metadata": {},
   "source": [
    "### a) Generate the data"
   ]
  },
  {
   "cell_type": "code",
   "execution_count": 5,
   "metadata": {
    "scrolled": true
   },
   "outputs": [
    {
     "data": {
      "text/html": [
       "<table>\n",
       "<caption>A data.frame: 6 × 6</caption>\n",
       "<thead>\n",
       "\t<tr><th></th><th scope=col>X0</th><th scope=col>X1</th><th scope=col>X2</th><th scope=col>logodds</th><th scope=col>pi_x</th><th scope=col>y</th></tr>\n",
       "\t<tr><th></th><th scope=col>&lt;dbl&gt;</th><th scope=col>&lt;dbl&gt;</th><th scope=col>&lt;dbl&gt;</th><th scope=col>&lt;dbl&gt;</th><th scope=col>&lt;dbl&gt;</th><th scope=col>&lt;int&gt;</th></tr>\n",
       "</thead>\n",
       "<tbody>\n",
       "\t<tr><th scope=row>1</th><td>1</td><td>18.12847</td><td>1</td><td> 0.8128471</td><td>0.6927159</td><td>1</td></tr>\n",
       "\t<tr><th scope=row>2</th><td>1</td><td>18.13016</td><td>1</td><td> 0.8130156</td><td>0.6927517</td><td>1</td></tr>\n",
       "\t<tr><th scope=row>3</th><td>1</td><td>18.14943</td><td>1</td><td> 0.8149429</td><td>0.6931618</td><td>0</td></tr>\n",
       "\t<tr><th scope=row>4</th><td>1</td><td>18.16703</td><td>0</td><td>-0.1832970</td><td>0.4543036</td><td>0</td></tr>\n",
       "\t<tr><th scope=row>5</th><td>1</td><td>18.17133</td><td>0</td><td>-0.1828666</td><td>0.4544103</td><td>1</td></tr>\n",
       "\t<tr><th scope=row>6</th><td>1</td><td>18.21251</td><td>1</td><td> 0.8212509</td><td>0.6945018</td><td>1</td></tr>\n",
       "</tbody>\n",
       "</table>\n"
      ],
      "text/latex": [
       "A data.frame: 6 × 6\n",
       "\\begin{tabular}{r|llllll}\n",
       "  & X0 & X1 & X2 & logodds & pi\\_x & y\\\\\n",
       "  & <dbl> & <dbl> & <dbl> & <dbl> & <dbl> & <int>\\\\\n",
       "\\hline\n",
       "\t1 & 1 & 18.12847 & 1 &  0.8128471 & 0.6927159 & 1\\\\\n",
       "\t2 & 1 & 18.13016 & 1 &  0.8130156 & 0.6927517 & 1\\\\\n",
       "\t3 & 1 & 18.14943 & 1 &  0.8149429 & 0.6931618 & 0\\\\\n",
       "\t4 & 1 & 18.16703 & 0 & -0.1832970 & 0.4543036 & 0\\\\\n",
       "\t5 & 1 & 18.17133 & 0 & -0.1828666 & 0.4544103 & 1\\\\\n",
       "\t6 & 1 & 18.21251 & 1 &  0.8212509 & 0.6945018 & 1\\\\\n",
       "\\end{tabular}\n"
      ],
      "text/markdown": [
       "\n",
       "A data.frame: 6 × 6\n",
       "\n",
       "| <!--/--> | X0 &lt;dbl&gt; | X1 &lt;dbl&gt; | X2 &lt;dbl&gt; | logodds &lt;dbl&gt; | pi_x &lt;dbl&gt; | y &lt;int&gt; |\n",
       "|---|---|---|---|---|---|---|\n",
       "| 1 | 1 | 18.12847 | 1 |  0.8128471 | 0.6927159 | 1 |\n",
       "| 2 | 1 | 18.13016 | 1 |  0.8130156 | 0.6927517 | 1 |\n",
       "| 3 | 1 | 18.14943 | 1 |  0.8149429 | 0.6931618 | 0 |\n",
       "| 4 | 1 | 18.16703 | 0 | -0.1832970 | 0.4543036 | 0 |\n",
       "| 5 | 1 | 18.17133 | 0 | -0.1828666 | 0.4544103 | 1 |\n",
       "| 6 | 1 | 18.21251 | 1 |  0.8212509 | 0.6945018 | 1 |\n",
       "\n"
      ],
      "text/plain": [
       "  X0 X1       X2 logodds    pi_x      y\n",
       "1 1  18.12847 1   0.8128471 0.6927159 1\n",
       "2 1  18.13016 1   0.8130156 0.6927517 1\n",
       "3 1  18.14943 1   0.8149429 0.6931618 0\n",
       "4 1  18.16703 0  -0.1832970 0.4543036 0\n",
       "5 1  18.17133 0  -0.1828666 0.4544103 1\n",
       "6 1  18.21251 1   0.8212509 0.6945018 1"
      ]
     },
     "metadata": {},
     "output_type": "display_data"
    },
    {
     "data": {
      "text/html": [
       "<table>\n",
       "<caption>A matrix: 6 × 3 of type dbl</caption>\n",
       "<tbody>\n",
       "\t<tr><td>1</td><td>18.12847</td><td>1</td></tr>\n",
       "\t<tr><td>1</td><td>18.13016</td><td>1</td></tr>\n",
       "\t<tr><td>1</td><td>18.14943</td><td>1</td></tr>\n",
       "\t<tr><td>1</td><td>18.16703</td><td>0</td></tr>\n",
       "\t<tr><td>1</td><td>18.17133</td><td>0</td></tr>\n",
       "\t<tr><td>1</td><td>18.21251</td><td>1</td></tr>\n",
       "</tbody>\n",
       "</table>\n"
      ],
      "text/latex": [
       "A matrix: 6 × 3 of type dbl\n",
       "\\begin{tabular}{lll}\n",
       "\t 1 & 18.12847 & 1\\\\\n",
       "\t 1 & 18.13016 & 1\\\\\n",
       "\t 1 & 18.14943 & 1\\\\\n",
       "\t 1 & 18.16703 & 0\\\\\n",
       "\t 1 & 18.17133 & 0\\\\\n",
       "\t 1 & 18.21251 & 1\\\\\n",
       "\\end{tabular}\n"
      ],
      "text/markdown": [
       "\n",
       "A matrix: 6 × 3 of type dbl\n",
       "\n",
       "| 1 | 18.12847 | 1 |\n",
       "| 1 | 18.13016 | 1 |\n",
       "| 1 | 18.14943 | 1 |\n",
       "| 1 | 18.16703 | 0 |\n",
       "| 1 | 18.17133 | 0 |\n",
       "| 1 | 18.21251 | 1 |\n",
       "\n"
      ],
      "text/plain": [
       "     [,1] [,2]     [,3]\n",
       "[1,] 1    18.12847 1   \n",
       "[2,] 1    18.13016 1   \n",
       "[3,] 1    18.14943 1   \n",
       "[4,] 1    18.16703 0   \n",
       "[5,] 1    18.17133 0   \n",
       "[6,] 1    18.21251 1   "
      ]
     },
     "metadata": {},
     "output_type": "display_data"
    },
    {
     "data": {
      "text/html": [
       "<table>\n",
       "<caption>A data.frame: 6 × 6</caption>\n",
       "<thead>\n",
       "\t<tr><th></th><th scope=col>X0</th><th scope=col>X1</th><th scope=col>X2</th><th scope=col>logodds</th><th scope=col>pi_x</th><th scope=col>y</th></tr>\n",
       "\t<tr><th></th><th scope=col>&lt;dbl&gt;</th><th scope=col>&lt;dbl&gt;</th><th scope=col>&lt;dbl&gt;</th><th scope=col>&lt;dbl&gt;</th><th scope=col>&lt;dbl&gt;</th><th scope=col>&lt;int&gt;</th></tr>\n",
       "</thead>\n",
       "<tbody>\n",
       "\t<tr><th scope=row>1</th><td>1</td><td>18.08957</td><td>1</td><td> 0.8089571</td><td>0.6918872</td><td>1</td></tr>\n",
       "\t<tr><th scope=row>2</th><td>1</td><td>18.09186</td><td>0</td><td>-0.1908141</td><td>0.4524407</td><td>1</td></tr>\n",
       "\t<tr><th scope=row>3</th><td>1</td><td>18.13831</td><td>1</td><td> 0.8138309</td><td>0.6929252</td><td>1</td></tr>\n",
       "\t<tr><th scope=row>4</th><td>1</td><td>18.17453</td><td>1</td><td> 0.8174526</td><td>0.6936953</td><td>1</td></tr>\n",
       "\t<tr><th scope=row>5</th><td>1</td><td>18.18424</td><td>1</td><td> 0.8184236</td><td>0.6939016</td><td>1</td></tr>\n",
       "\t<tr><th scope=row>6</th><td>1</td><td>18.18654</td><td>1</td><td> 0.8186542</td><td>0.6939506</td><td>1</td></tr>\n",
       "</tbody>\n",
       "</table>\n"
      ],
      "text/latex": [
       "A data.frame: 6 × 6\n",
       "\\begin{tabular}{r|llllll}\n",
       "  & X0 & X1 & X2 & logodds & pi\\_x & y\\\\\n",
       "  & <dbl> & <dbl> & <dbl> & <dbl> & <dbl> & <int>\\\\\n",
       "\\hline\n",
       "\t1 & 1 & 18.08957 & 1 &  0.8089571 & 0.6918872 & 1\\\\\n",
       "\t2 & 1 & 18.09186 & 0 & -0.1908141 & 0.4524407 & 1\\\\\n",
       "\t3 & 1 & 18.13831 & 1 &  0.8138309 & 0.6929252 & 1\\\\\n",
       "\t4 & 1 & 18.17453 & 1 &  0.8174526 & 0.6936953 & 1\\\\\n",
       "\t5 & 1 & 18.18424 & 1 &  0.8184236 & 0.6939016 & 1\\\\\n",
       "\t6 & 1 & 18.18654 & 1 &  0.8186542 & 0.6939506 & 1\\\\\n",
       "\\end{tabular}\n"
      ],
      "text/markdown": [
       "\n",
       "A data.frame: 6 × 6\n",
       "\n",
       "| <!--/--> | X0 &lt;dbl&gt; | X1 &lt;dbl&gt; | X2 &lt;dbl&gt; | logodds &lt;dbl&gt; | pi_x &lt;dbl&gt; | y &lt;int&gt; |\n",
       "|---|---|---|---|---|---|---|\n",
       "| 1 | 1 | 18.08957 | 1 |  0.8089571 | 0.6918872 | 1 |\n",
       "| 2 | 1 | 18.09186 | 0 | -0.1908141 | 0.4524407 | 1 |\n",
       "| 3 | 1 | 18.13831 | 1 |  0.8138309 | 0.6929252 | 1 |\n",
       "| 4 | 1 | 18.17453 | 1 |  0.8174526 | 0.6936953 | 1 |\n",
       "| 5 | 1 | 18.18424 | 1 |  0.8184236 | 0.6939016 | 1 |\n",
       "| 6 | 1 | 18.18654 | 1 |  0.8186542 | 0.6939506 | 1 |\n",
       "\n"
      ],
      "text/plain": [
       "  X0 X1       X2 logodds    pi_x      y\n",
       "1 1  18.08957 1   0.8089571 0.6918872 1\n",
       "2 1  18.09186 0  -0.1908141 0.4524407 1\n",
       "3 1  18.13831 1   0.8138309 0.6929252 1\n",
       "4 1  18.17453 1   0.8174526 0.6936953 1\n",
       "5 1  18.18424 1   0.8184236 0.6939016 1\n",
       "6 1  18.18654 1   0.8186542 0.6939506 1"
      ]
     },
     "metadata": {},
     "output_type": "display_data"
    },
    {
     "data": {
      "text/html": [
       "<table>\n",
       "<caption>A matrix: 6 × 3 of type dbl</caption>\n",
       "<tbody>\n",
       "\t<tr><td>1</td><td>18.08957</td><td>1</td></tr>\n",
       "\t<tr><td>1</td><td>18.09186</td><td>0</td></tr>\n",
       "\t<tr><td>1</td><td>18.13831</td><td>1</td></tr>\n",
       "\t<tr><td>1</td><td>18.17453</td><td>1</td></tr>\n",
       "\t<tr><td>1</td><td>18.18424</td><td>1</td></tr>\n",
       "\t<tr><td>1</td><td>18.18654</td><td>1</td></tr>\n",
       "</tbody>\n",
       "</table>\n"
      ],
      "text/latex": [
       "A matrix: 6 × 3 of type dbl\n",
       "\\begin{tabular}{lll}\n",
       "\t 1 & 18.08957 & 1\\\\\n",
       "\t 1 & 18.09186 & 0\\\\\n",
       "\t 1 & 18.13831 & 1\\\\\n",
       "\t 1 & 18.17453 & 1\\\\\n",
       "\t 1 & 18.18424 & 1\\\\\n",
       "\t 1 & 18.18654 & 1\\\\\n",
       "\\end{tabular}\n"
      ],
      "text/markdown": [
       "\n",
       "A matrix: 6 × 3 of type dbl\n",
       "\n",
       "| 1 | 18.08957 | 1 |\n",
       "| 1 | 18.09186 | 0 |\n",
       "| 1 | 18.13831 | 1 |\n",
       "| 1 | 18.17453 | 1 |\n",
       "| 1 | 18.18424 | 1 |\n",
       "| 1 | 18.18654 | 1 |\n",
       "\n"
      ],
      "text/plain": [
       "     [,1] [,2]     [,3]\n",
       "[1,] 1    18.08957 1   \n",
       "[2,] 1    18.09186 0   \n",
       "[3,] 1    18.13831 1   \n",
       "[4,] 1    18.17453 1   \n",
       "[5,] 1    18.18424 1   \n",
       "[6,] 1    18.18654 1   "
      ]
     },
     "metadata": {},
     "output_type": "display_data"
    }
   ],
   "source": [
    "# a)\n",
    "# Generate the training data\n",
    "data.train <- data.gen(n, beta, X1.min, X1.max, X2.P1)\n",
    "head(data.train)\n",
    "\n",
    "X.train <- cbind(data.train$X0, data.train$X1, data.train$X2)\n",
    "head(X.train)\n",
    "\n",
    "# Generate the test data\n",
    "data.test <- data.gen(n, beta, X1.min, X1.max, X2.P1) \n",
    "head(data.test)\n",
    "\n",
    "X.test <- cbind(data.test$X0, data.test$X1, data.test$X2)\n",
    "head(X.test)"
   ]
  },
  {
   "cell_type": "code",
   "execution_count": 6,
   "metadata": {
    "scrolled": true
   },
   "outputs": [
    {
     "data": {
      "text/plain": [
       "\n",
       "  0   1 \n",
       "136 864 "
      ]
     },
     "metadata": {},
     "output_type": "display_data"
    }
   ],
   "source": [
    "table(data.train$y)"
   ]
  },
  {
   "cell_type": "code",
   "execution_count": 7,
   "metadata": {
    "scrolled": true
   },
   "outputs": [
    {
     "data": {
      "image/png": "[encoded data removed]",
      "text/plain": [
       "plot without title"
      ]
     },
     "metadata": {
      "image/png": {
       "height": 420,
       "width": 420
      },
      "text/plain": {
       "height": 420,
       "width": 420
      }
     },
     "output_type": "display_data"
    }
   ],
   "source": [
    "# Explore the data\n",
    "# Scatterplot of ys on X1\n",
    "ggplot(data.train, aes(x = X1, y = y, colour = factor(y))) + \n",
    "  geom_point()"
   ]
  },
  {
   "cell_type": "code",
   "execution_count": 8,
   "metadata": {
    "scrolled": true
   },
   "outputs": [
    {
     "data": {
      "image/png": "[encoded data removed]",
      "text/plain": [
       "plot without title"
      ]
     },
     "metadata": {
      "image/png": {
       "height": 420,
       "width": 420
      },
      "text/plain": {
       "height": 420,
       "width": 420
      }
     },
     "output_type": "display_data"
    }
   ],
   "source": [
    "# ... ys on X2\n",
    "ggplot(data.train, aes(x = X2, y = y, colour = factor(y))) + \n",
    "  geom_point()"
   ]
  },
  {
   "cell_type": "code",
   "execution_count": 9,
   "metadata": {
    "scrolled": true
   },
   "outputs": [
    {
     "name": "stderr",
     "output_type": "stream",
     "text": [
      "`stat_bin()` using `bins = 30`. Pick better value with `binwidth`.\n",
      "\n"
     ]
    },
    {
     "data": {
      "image/png": "[encoded data removed]",
      "text/plain": [
       "plot without title"
      ]
     },
     "metadata": {
      "image/png": {
       "height": 420,
       "width": 420
      },
      "text/plain": {
       "height": 420,
       "width": 420
      }
     },
     "output_type": "display_data"
    }
   ],
   "source": [
    "# Distribution of X1\n",
    "ggplot(data.train, aes(X1)) + \n",
    "  geom_histogram()"
   ]
  },
  {
   "cell_type": "code",
   "execution_count": 10,
   "metadata": {
    "scrolled": true
   },
   "outputs": [
    {
     "name": "stderr",
     "output_type": "stream",
     "text": [
      "`stat_bin()` using `bins = 30`. Pick better value with `binwidth`.\n",
      "\n"
     ]
    },
    {
     "data": {
      "image/png": "[encoded data removed]",
      "text/plain": [
       "plot without title"
      ]
     },
     "metadata": {
      "image/png": {
       "height": 420,
       "width": 420
      },
      "text/plain": {
       "height": 420,
       "width": 420
      }
     },
     "output_type": "display_data"
    }
   ],
   "source": [
    "# Distribution of X2\n",
    "ggplot(data.train, aes(X2)) + \n",
    "  geom_histogram() \n"
   ]
  },
  {
   "cell_type": "markdown",
   "metadata": {},
   "source": [
    "### b) Obtain the estimates\n"
   ]
  },
  {
   "cell_type": "code",
   "execution_count": 11,
   "metadata": {
    "scrolled": true
   },
   "outputs": [
    {
     "data": {
      "text/plain": [
       "\n",
       "Call:\n",
       "glm(formula = y ~ X1 + X2, family = binomial, data = data.train)\n",
       "\n",
       "Deviance Residuals: \n",
       "    Min       1Q   Median       3Q      Max  \n",
       "-2.8639   0.1836   0.3147   0.5549   1.2486  \n",
       "\n",
       "Coefficients:\n",
       "            Estimate Std. Error z value Pr(>|z|)    \n",
       "(Intercept)  -2.0574     0.3570  -5.762 8.29e-09 ***\n",
       "X1            0.1041     0.0106   9.820  < 2e-16 ***\n",
       "X2            0.7350     0.2041   3.601 0.000317 ***\n",
       "---\n",
       "Signif. codes:  0 '***' 0.001 '**' 0.01 '*' 0.05 '.' 0.1 ' ' 1\n",
       "\n",
       "(Dispersion parameter for binomial family taken to be 1)\n",
       "\n",
       "    Null deviance: 795.27  on 999  degrees of freedom\n",
       "Residual deviance: 652.97  on 997  degrees of freedom\n",
       "AIC: 658.97\n",
       "\n",
       "Number of Fisher Scoring iterations: 6\n"
      ]
     },
     "metadata": {},
     "output_type": "display_data"
    },
    {
     "data": {
      "text/html": [
       "<style>\n",
       ".dl-inline {width: auto; margin:0; padding: 0}\n",
       ".dl-inline>dt, .dl-inline>dd {float: none; width: auto; display: inline-block}\n",
       ".dl-inline>dt::after {content: \":\\0020\"; padding-right: .5ex}\n",
       ".dl-inline>dt:not(:first-of-type) {padding-left: .5ex}\n",
       "</style><dl class=dl-inline><dt>(Intercept)</dt><dd>-2.05736717300641</dd><dt>X1</dt><dd>0.104099861212873</dd><dt>X2</dt><dd>0.734999939814888</dd></dl>\n"
      ],
      "text/latex": [
       "\\begin{description*}\n",
       "\\item[(Intercept)] -2.05736717300641\n",
       "\\item[X1] 0.104099861212873\n",
       "\\item[X2] 0.734999939814888\n",
       "\\end{description*}\n"
      ],
      "text/markdown": [
       "(Intercept)\n",
       ":   -2.05736717300641X1\n",
       ":   0.104099861212873X2\n",
       ":   0.734999939814888\n",
       "\n"
      ],
      "text/plain": [
       "(Intercept)          X1          X2 \n",
       " -2.0573672   0.1040999   0.7349999 "
      ]
     },
     "metadata": {},
     "output_type": "display_data"
    }
   ],
   "source": [
    "# b)\n",
    "# Estimate betas via ML (Logistic Regression)\n",
    "Logit <- glm(y ~ X1 + X2, data = data.train, family = binomial)\n",
    "summary(Logit)\n",
    "(beta.logit <- Logit$coefficients)"
   ]
  },
  {
   "cell_type": "markdown",
   "metadata": {},
   "source": [
    "#### Compared with estimates obtained from manually doing ML"
   ]
  },
  {
   "cell_type": "markdown",
   "metadata": {},
   "source": [
    "$P(Y_{i} = y_{i}) = \\pi_{i}^{y_{i}}*(1-\\pi_{i})^{1-y_{i}}$  \n",
    "$$\n",
    "\\begin{aligned}\n",
    "L &= P(Y_{1} = y_{1},...Y_{n} = y_{n}) = \\prod_{i = 1}^{n} \\pi_{i}^{y_{i}}*(1-\\pi_{i})^{1-y_{i}} \\\\\n",
    "logL &= \\sum_{i = 1}^{n} y_{i} * \\log(\\pi_{i}) + (1 - y_{i}) * \\log(1 - \\pi_{i})\\\\\n",
    "\\pi_{i} &= \\frac{1}{1 + e^{-X\\beta}}\\\\\n",
    "1 - \\pi_{i} &= \\frac{1}{1 + e^{X\\beta}}\\\\\n",
    "logL &= \\sum_{i = 1}^{n} y_{i}(-log(1 + e^{-X\\beta}) + (1 - y_{i})(-log(1 + e ^ {X\\beta}))\\\\\n",
    "&= \\sum_{i = 1}^{n} -y_{i}(log(1 + e^{-X\\beta}) - (1 - y_{i})(log(1 + e ^ {X\\beta}))\n",
    "\\end{aligned}\n",
    "$$"
   ]
  },
  {
   "cell_type": "code",
   "execution_count": 12,
   "metadata": {
    "scrolled": true
   },
   "outputs": [
    {
     "data": {
      "text/html": [
       "<style>\n",
       ".list-inline {list-style: none; margin:0; padding: 0}\n",
       ".list-inline>li {display: inline-block}\n",
       ".list-inline>li:not(:last-child)::after {content: \"\\00b7\"; padding: 0 .5ex}\n",
       "</style>\n",
       "<ol class=list-inline><li>-2.05736732709527</li><li>0.104099869586112</li><li>0.73499982824321</li></ol>\n"
      ],
      "text/latex": [
       "\\begin{enumerate*}\n",
       "\\item -2.05736732709527\n",
       "\\item 0.104099869586112\n",
       "\\item 0.73499982824321\n",
       "\\end{enumerate*}\n"
      ],
      "text/markdown": [
       "1. -2.05736732709527\n",
       "2. 0.104099869586112\n",
       "3. 0.73499982824321\n",
       "\n",
       "\n"
      ],
      "text/plain": [
       "[1] -2.0573673  0.1040999  0.7349998"
      ]
     },
     "metadata": {},
     "output_type": "display_data"
    },
    {
     "data": {
      "text/html": [
       "<style>\n",
       ".dl-inline {width: auto; margin:0; padding: 0}\n",
       ".dl-inline>dt, .dl-inline>dd {float: none; width: auto; display: inline-block}\n",
       ".dl-inline>dt::after {content: \":\\0020\"; padding-right: .5ex}\n",
       ".dl-inline>dt:not(:first-of-type) {padding-left: .5ex}\n",
       "</style><dl class=dl-inline><dt>(Intercept)</dt><dd>-2.05736717300641</dd><dt>X1</dt><dd>0.104099861212873</dd><dt>X2</dt><dd>0.734999939814888</dd></dl>\n"
      ],
      "text/latex": [
       "\\begin{description*}\n",
       "\\item[(Intercept)] -2.05736717300641\n",
       "\\item[X1] 0.104099861212873\n",
       "\\item[X2] 0.734999939814888\n",
       "\\end{description*}\n"
      ],
      "text/markdown": [
       "(Intercept)\n",
       ":   -2.05736717300641X1\n",
       ":   0.104099861212873X2\n",
       ":   0.734999939814888\n",
       "\n"
      ],
      "text/plain": [
       "(Intercept)          X1          X2 \n",
       " -2.0573672   0.1040999   0.7349999 "
      ]
     },
     "metadata": {},
     "output_type": "display_data"
    }
   ],
   "source": [
    "# Compared with manually doing ML\n",
    "\n",
    "loglike<-function(b) # the likelihood function for the logit model\n",
    "{\n",
    "  ll <- sum(-data.train$y * log(1 + exp(-(X.train %*% b))) - \n",
    "              (1 - data.train$y) * log(1 + exp(X.train %*% b)))\n",
    "  return(ll)\n",
    "}\n",
    "\n",
    "# Initialize estimation procedure\n",
    "estim <- maxBFGS(loglike, finalHessian = TRUE, start = c(0, 0, 1)) \n",
    "beta.ML <- estim$estimate # give out parameter estimates\n",
    "beta.ML\n",
    "(beta.logit <- Logit$coefficients)"
   ]
  },
  {
   "cell_type": "code",
   "execution_count": 13,
   "metadata": {
    "scrolled": true
   },
   "outputs": [
    {
     "data": {
      "text/html": [
       "<style>\n",
       ".list-inline {list-style: none; margin:0; padding: 0}\n",
       ".list-inline>li {display: inline-block}\n",
       ".list-inline>li:not(:last-child)::after {content: \"\\00b7\"; padding: 0 .5ex}\n",
       "</style>\n",
       "<ol class=list-inline><li>0.357562428438689</li><li>0.0106160807925471</li><li>0.203897174015051</li></ol>\n"
      ],
      "text/latex": [
       "\\begin{enumerate*}\n",
       "\\item 0.357562428438689\n",
       "\\item 0.0106160807925471\n",
       "\\item 0.203897174015051\n",
       "\\end{enumerate*}\n"
      ],
      "text/markdown": [
       "1. 0.357562428438689\n",
       "2. 0.0106160807925471\n",
       "3. 0.203897174015051\n",
       "\n",
       "\n"
      ],
      "text/plain": [
       "[1] 0.35756243 0.01061608 0.20389717"
      ]
     },
     "metadata": {},
     "output_type": "display_data"
    },
    {
     "data": {
      "text/html": [
       "<style>\n",
       ".dl-inline {width: auto; margin:0; padding: 0}\n",
       ".dl-inline>dt, .dl-inline>dd {float: none; width: auto; display: inline-block}\n",
       ".dl-inline>dt::after {content: \":\\0020\"; padding-right: .5ex}\n",
       ".dl-inline>dt:not(:first-of-type) {padding-left: .5ex}\n",
       "</style><dl class=dl-inline><dt>(Intercept)</dt><dd>0.357035386649075</dd><dt>X1</dt><dd>0.0106011008150705</dd><dt>X2</dt><dd>0.204098995996308</dd></dl>\n"
      ],
      "text/latex": [
       "\\begin{description*}\n",
       "\\item[(Intercept)] 0.357035386649075\n",
       "\\item[X1] 0.0106011008150705\n",
       "\\item[X2] 0.204098995996308\n",
       "\\end{description*}\n"
      ],
      "text/markdown": [
       "(Intercept)\n",
       ":   0.357035386649075X1\n",
       ":   0.0106011008150705X2\n",
       ":   0.204098995996308\n",
       "\n"
      ],
      "text/plain": [
       "(Intercept)          X1          X2 \n",
       "  0.3570354   0.0106011   0.2040990 "
      ]
     },
     "metadata": {},
     "output_type": "display_data"
    }
   ],
   "source": [
    "# Standard Error of the Coefficients\n",
    "estim.hess <- estim$hessian \n",
    "# the optimization routine returns the hessian matrix at the last iteration.\n",
    "Cov <- -(solve(estim.hess))\n",
    "# the covariance matrix is the (negative) inverse of the hessian matrix.\n",
    "sde.ML <- sqrt(diag(Cov))#the standard errors are the square root of the diagonal of the inverse Hessian. \n",
    "sde.ML\n",
    "stdEr(Logit)"
   ]
  },
  {
   "cell_type": "markdown",
   "metadata": {},
   "source": [
    "### Prepare some data for plotting \n",
    "#### True probabilities and logodds"
   ]
  },
  {
   "cell_type": "markdown",
   "metadata": {},
   "source": [
    "$P(Y_{i} = 1) = \\pi_{i}^{1}*(1-\\pi_{i})^{1-1} = \\pi_{i} = \\frac{1}{1+e^{-x'_{i}\\beta}}$  \n",
    "$\\log(\\frac{\\pi_{i}}{1 - \\pi_{i}}) = x'_{i}\\beta$"
   ]
  },
  {
   "cell_type": "code",
   "execution_count": 14,
   "metadata": {
    "scrolled": true
   },
   "outputs": [
    {
     "data": {
      "text/html": [
       "<table>\n",
       "<caption>A data.frame: 6 × 6</caption>\n",
       "<thead>\n",
       "\t<tr><th></th><th scope=col>X0</th><th scope=col>X1</th><th scope=col>X2</th><th scope=col>logodds</th><th scope=col>pi_x</th><th scope=col>y</th></tr>\n",
       "\t<tr><th></th><th scope=col>&lt;dbl&gt;</th><th scope=col>&lt;dbl&gt;</th><th scope=col>&lt;dbl&gt;</th><th scope=col>&lt;dbl&gt;</th><th scope=col>&lt;dbl&gt;</th><th scope=col>&lt;int&gt;</th></tr>\n",
       "</thead>\n",
       "<tbody>\n",
       "\t<tr><th scope=row>1</th><td>1</td><td>18.12847</td><td>1</td><td> 0.8128471</td><td>0.6927159</td><td>1</td></tr>\n",
       "\t<tr><th scope=row>2</th><td>1</td><td>18.13016</td><td>1</td><td> 0.8130156</td><td>0.6927517</td><td>1</td></tr>\n",
       "\t<tr><th scope=row>3</th><td>1</td><td>18.14943</td><td>1</td><td> 0.8149429</td><td>0.6931618</td><td>0</td></tr>\n",
       "\t<tr><th scope=row>4</th><td>1</td><td>18.16703</td><td>0</td><td>-0.1832970</td><td>0.4543036</td><td>0</td></tr>\n",
       "\t<tr><th scope=row>5</th><td>1</td><td>18.17133</td><td>0</td><td>-0.1828666</td><td>0.4544103</td><td>1</td></tr>\n",
       "\t<tr><th scope=row>6</th><td>1</td><td>18.21251</td><td>1</td><td> 0.8212509</td><td>0.6945018</td><td>1</td></tr>\n",
       "</tbody>\n",
       "</table>\n"
      ],
      "text/latex": [
       "A data.frame: 6 × 6\n",
       "\\begin{tabular}{r|llllll}\n",
       "  & X0 & X1 & X2 & logodds & pi\\_x & y\\\\\n",
       "  & <dbl> & <dbl> & <dbl> & <dbl> & <dbl> & <int>\\\\\n",
       "\\hline\n",
       "\t1 & 1 & 18.12847 & 1 &  0.8128471 & 0.6927159 & 1\\\\\n",
       "\t2 & 1 & 18.13016 & 1 &  0.8130156 & 0.6927517 & 1\\\\\n",
       "\t3 & 1 & 18.14943 & 1 &  0.8149429 & 0.6931618 & 0\\\\\n",
       "\t4 & 1 & 18.16703 & 0 & -0.1832970 & 0.4543036 & 0\\\\\n",
       "\t5 & 1 & 18.17133 & 0 & -0.1828666 & 0.4544103 & 1\\\\\n",
       "\t6 & 1 & 18.21251 & 1 &  0.8212509 & 0.6945018 & 1\\\\\n",
       "\\end{tabular}\n"
      ],
      "text/markdown": [
       "\n",
       "A data.frame: 6 × 6\n",
       "\n",
       "| <!--/--> | X0 &lt;dbl&gt; | X1 &lt;dbl&gt; | X2 &lt;dbl&gt; | logodds &lt;dbl&gt; | pi_x &lt;dbl&gt; | y &lt;int&gt; |\n",
       "|---|---|---|---|---|---|---|\n",
       "| 1 | 1 | 18.12847 | 1 |  0.8128471 | 0.6927159 | 1 |\n",
       "| 2 | 1 | 18.13016 | 1 |  0.8130156 | 0.6927517 | 1 |\n",
       "| 3 | 1 | 18.14943 | 1 |  0.8149429 | 0.6931618 | 0 |\n",
       "| 4 | 1 | 18.16703 | 0 | -0.1832970 | 0.4543036 | 0 |\n",
       "| 5 | 1 | 18.17133 | 0 | -0.1828666 | 0.4544103 | 1 |\n",
       "| 6 | 1 | 18.21251 | 1 |  0.8212509 | 0.6945018 | 1 |\n",
       "\n"
      ],
      "text/plain": [
       "  X0 X1       X2 logodds    pi_x      y\n",
       "1 1  18.12847 1   0.8128471 0.6927159 1\n",
       "2 1  18.13016 1   0.8130156 0.6927517 1\n",
       "3 1  18.14943 1   0.8149429 0.6931618 0\n",
       "4 1  18.16703 0  -0.1832970 0.4543036 0\n",
       "5 1  18.17133 0  -0.1828666 0.4544103 1\n",
       "6 1  18.21251 1   0.8212509 0.6945018 1"
      ]
     },
     "metadata": {},
     "output_type": "display_data"
    },
    {
     "data": {
      "text/html": [
       "<table>\n",
       "<caption>A data.frame: 6 × 6</caption>\n",
       "<thead>\n",
       "\t<tr><th></th><th scope=col>X0</th><th scope=col>X1</th><th scope=col>X2</th><th scope=col>logodds</th><th scope=col>pi_x</th><th scope=col>y</th></tr>\n",
       "\t<tr><th></th><th scope=col>&lt;dbl&gt;</th><th scope=col>&lt;dbl&gt;</th><th scope=col>&lt;dbl&gt;</th><th scope=col>&lt;dbl&gt;</th><th scope=col>&lt;dbl&gt;</th><th scope=col>&lt;int&gt;</th></tr>\n",
       "</thead>\n",
       "<tbody>\n",
       "\t<tr><th scope=row>1</th><td>1</td><td>18.08957</td><td>1</td><td> 0.8089571</td><td>0.6918872</td><td>1</td></tr>\n",
       "\t<tr><th scope=row>2</th><td>1</td><td>18.09186</td><td>0</td><td>-0.1908141</td><td>0.4524407</td><td>1</td></tr>\n",
       "\t<tr><th scope=row>3</th><td>1</td><td>18.13831</td><td>1</td><td> 0.8138309</td><td>0.6929252</td><td>1</td></tr>\n",
       "\t<tr><th scope=row>4</th><td>1</td><td>18.17453</td><td>1</td><td> 0.8174526</td><td>0.6936953</td><td>1</td></tr>\n",
       "\t<tr><th scope=row>5</th><td>1</td><td>18.18424</td><td>1</td><td> 0.8184236</td><td>0.6939016</td><td>1</td></tr>\n",
       "\t<tr><th scope=row>6</th><td>1</td><td>18.18654</td><td>1</td><td> 0.8186542</td><td>0.6939506</td><td>1</td></tr>\n",
       "</tbody>\n",
       "</table>\n"
      ],
      "text/latex": [
       "A data.frame: 6 × 6\n",
       "\\begin{tabular}{r|llllll}\n",
       "  & X0 & X1 & X2 & logodds & pi\\_x & y\\\\\n",
       "  & <dbl> & <dbl> & <dbl> & <dbl> & <dbl> & <int>\\\\\n",
       "\\hline\n",
       "\t1 & 1 & 18.08957 & 1 &  0.8089571 & 0.6918872 & 1\\\\\n",
       "\t2 & 1 & 18.09186 & 0 & -0.1908141 & 0.4524407 & 1\\\\\n",
       "\t3 & 1 & 18.13831 & 1 &  0.8138309 & 0.6929252 & 1\\\\\n",
       "\t4 & 1 & 18.17453 & 1 &  0.8174526 & 0.6936953 & 1\\\\\n",
       "\t5 & 1 & 18.18424 & 1 &  0.8184236 & 0.6939016 & 1\\\\\n",
       "\t6 & 1 & 18.18654 & 1 &  0.8186542 & 0.6939506 & 1\\\\\n",
       "\\end{tabular}\n"
      ],
      "text/markdown": [
       "\n",
       "A data.frame: 6 × 6\n",
       "\n",
       "| <!--/--> | X0 &lt;dbl&gt; | X1 &lt;dbl&gt; | X2 &lt;dbl&gt; | logodds &lt;dbl&gt; | pi_x &lt;dbl&gt; | y &lt;int&gt; |\n",
       "|---|---|---|---|---|---|---|\n",
       "| 1 | 1 | 18.08957 | 1 |  0.8089571 | 0.6918872 | 1 |\n",
       "| 2 | 1 | 18.09186 | 0 | -0.1908141 | 0.4524407 | 1 |\n",
       "| 3 | 1 | 18.13831 | 1 |  0.8138309 | 0.6929252 | 1 |\n",
       "| 4 | 1 | 18.17453 | 1 |  0.8174526 | 0.6936953 | 1 |\n",
       "| 5 | 1 | 18.18424 | 1 |  0.8184236 | 0.6939016 | 1 |\n",
       "| 6 | 1 | 18.18654 | 1 |  0.8186542 | 0.6939506 | 1 |\n",
       "\n"
      ],
      "text/plain": [
       "  X0 X1       X2 logodds    pi_x      y\n",
       "1 1  18.08957 1   0.8089571 0.6918872 1\n",
       "2 1  18.09186 0  -0.1908141 0.4524407 1\n",
       "3 1  18.13831 1   0.8138309 0.6929252 1\n",
       "4 1  18.17453 1   0.8174526 0.6936953 1\n",
       "5 1  18.18424 1   0.8184236 0.6939016 1\n",
       "6 1  18.18654 1   0.8186542 0.6939506 1"
      ]
     },
     "metadata": {},
     "output_type": "display_data"
    }
   ],
   "source": [
    "# Prepare some Data for plotting later\n",
    "# \"True\" log odds and probs (never observe in real life)\n",
    "head(data.train)\n",
    "logodds.true.train <- data.train$logodds\n",
    "probs.true.train <- data.train$pi_x\n",
    "\n",
    "# \"True\" log odds and probs for test data\n",
    "head(data.test)\n",
    "logodds.true.test <- data.test$logodds \n",
    "probs.true.test <- data.test$pi_x\n"
   ]
  },
  {
   "cell_type": "markdown",
   "metadata": {},
   "source": [
    "#### Fitted Log odds and Probailities, and Confidence Intervals"
   ]
  },
  {
   "cell_type": "markdown",
   "metadata": {},
   "source": [
    "$\\hat{P}(Y_{i} = 1) = \\hat{\\pi_{i}} = \\frac{1}{1+e^{-x'_{i}\\hat{\\beta}}}$  \n",
    "${\\log}(\\frac{\\hat{\\pi_{i}}}{1 - \\hat{\\pi_{i}}}) = x'_{i}\\hat{\\beta}$"
   ]
  },
  {
   "cell_type": "code",
   "execution_count": 15,
   "metadata": {},
   "outputs": [],
   "source": [
    "# Construct 95% CI for the estimated probs\n",
    "# \"Manual\" way\n",
    "\n",
    "beta.ML.lower <- beta.ML - 1.96 * sde.ML\n",
    "beta.ML.upper <- beta.ML + 1.96 * sde.ML\n",
    "\n",
    "logodds.ML.train <- X.train %*% beta.ML\n",
    "logodds.ML.train.lower <- X.train %*% beta.ML.lower\n",
    "logodds.ML.train.upper <- X.train %*% beta.ML.upper\n",
    "\n",
    "probs.ML.train <- 1 / (1 + exp(-logodds.ML.train))\n",
    "probs.ML.train.lower <- 1 / (1 + exp(-logodds.ML.train.lower))\n",
    "probs.ML.train.upper <- 1 / (1 + exp(-logodds.ML.train.upper))\n",
    "\n",
    "logodds.ML.test <- X.test %*% beta.ML\n",
    "logodds.ML.test.lower <- X.test %*% beta.ML.lower\n",
    "logodds.ML.test.upper <- X.test %*% beta.ML.upper\n",
    "\n",
    "probs.ML.test <- 1 / (1 + exp(-logodds.ML.test))\n",
    "probs.ML.test.lower <- 1 / (1 + exp(-logodds.ML.test.lower))\n",
    "probs.ML.test.upper <- 1 / (1 + exp(-logodds.ML.test.upper))"
   ]
  },
  {
   "cell_type": "code",
   "execution_count": 16,
   "metadata": {
    "scrolled": true
   },
   "outputs": [],
   "source": [
    "# Construct 95% CI for the estimated probs: \"let-the-machine-do-it\" way\n",
    "# Fit the model again to the data.train\n",
    "logit.train <- predict(Logit, data.train, se = T)\n",
    "\n",
    "logodds.fit.train <- logit.train$fit\n",
    "probs.fit.train <- 1 / (1 + exp(-logodds.fit.train))\n",
    "\n",
    "logodds.lower.train <- logodds.fit.train - 1.96 * logit.train$se.fit # lower bound\n",
    "logodds.upper.train <- logodds.fit.train + 1.96 * logit.train$se.fit # upper bound\n",
    "lower.train <- 1 / (1 + exp(-logodds.lower.train)) \n",
    "upper.train <- 1 / (1 + exp(-logodds.upper.train))\n",
    "\n",
    "# Marginal Effect of Pr(y = 1|X) = p(X) on X1\n",
    "dx1.train <- beta.logit[2] * probs.fit.train * (1 - probs.fit.train)"
   ]
  },
  {
   "cell_type": "code",
   "execution_count": 17,
   "metadata": {
    "scrolled": true
   },
   "outputs": [
    {
     "data": {
      "text/html": [
       "<style>\n",
       ".dl-inline {width: auto; margin:0; padding: 0}\n",
       ".dl-inline>dt, .dl-inline>dd {float: none; width: auto; display: inline-block}\n",
       ".dl-inline>dt::after {content: \":\\0020\"; padding-right: .5ex}\n",
       ".dl-inline>dt:not(:first-of-type) {padding-left: .5ex}\n",
       "</style><dl class=dl-inline><dt>1</dt><dd>0.560754607157363</dd><dt>2</dt><dd>-0.174007113956514</dd><dt>3</dt><dd>0.565828225415796</dd><dt>4</dt><dd>0.569598367126694</dd><dt>5</dt><dd>0.570609172163155</dd><dt>6</dt><dd>0.570849254786979</dd></dl>\n"
      ],
      "text/latex": [
       "\\begin{description*}\n",
       "\\item[1] 0.560754607157363\n",
       "\\item[2] -0.174007113956514\n",
       "\\item[3] 0.565828225415796\n",
       "\\item[4] 0.569598367126694\n",
       "\\item[5] 0.570609172163155\n",
       "\\item[6] 0.570849254786979\n",
       "\\end{description*}\n"
      ],
      "text/markdown": [
       "1\n",
       ":   0.5607546071573632\n",
       ":   -0.1740071139565143\n",
       ":   0.5658282254157964\n",
       ":   0.5695983671266945\n",
       ":   0.5706091721631556\n",
       ":   0.570849254786979\n",
       "\n"
      ],
      "text/plain": [
       "         1          2          3          4          5          6 \n",
       " 0.5607546 -0.1740071  0.5658282  0.5695984  0.5706092  0.5708493 "
      ]
     },
     "metadata": {},
     "output_type": "display_data"
    },
    {
     "data": {
      "text/html": [
       "<table>\n",
       "<caption>A matrix: 6 × 1 of type dbl</caption>\n",
       "<tbody>\n",
       "\t<tr><td> 0.5607546</td></tr>\n",
       "\t<tr><td>-0.1740071</td></tr>\n",
       "\t<tr><td> 0.5658282</td></tr>\n",
       "\t<tr><td> 0.5695984</td></tr>\n",
       "\t<tr><td> 0.5706092</td></tr>\n",
       "\t<tr><td> 0.5708493</td></tr>\n",
       "</tbody>\n",
       "</table>\n"
      ],
      "text/latex": [
       "A matrix: 6 × 1 of type dbl\n",
       "\\begin{tabular}{l}\n",
       "\t  0.5607546\\\\\n",
       "\t -0.1740071\\\\\n",
       "\t  0.5658282\\\\\n",
       "\t  0.5695984\\\\\n",
       "\t  0.5706092\\\\\n",
       "\t  0.5708493\\\\\n",
       "\\end{tabular}\n"
      ],
      "text/markdown": [
       "\n",
       "A matrix: 6 × 1 of type dbl\n",
       "\n",
       "|  0.5607546 |\n",
       "| -0.1740071 |\n",
       "|  0.5658282 |\n",
       "|  0.5695984 |\n",
       "|  0.5706092 |\n",
       "|  0.5708493 |\n",
       "\n"
      ],
      "text/plain": [
       "     [,1]      \n",
       "[1,]  0.5607546\n",
       "[2,] -0.1740071\n",
       "[3,]  0.5658282\n",
       "[4,]  0.5695984\n",
       "[5,]  0.5706092\n",
       "[6,]  0.5708493"
      ]
     },
     "metadata": {},
     "output_type": "display_data"
    }
   ],
   "source": [
    "# Use the estimated betas to fit the test data\n",
    "logit.test <- predict(Logit, newdata = data.test, se = T)\n",
    "logodds.fit.test <- logit.test$fit\n",
    "\n",
    "# Check if it's correct\n",
    "head(logodds.fit.test)\n",
    "head(X.test %*% beta.logit)"
   ]
  },
  {
   "cell_type": "code",
   "execution_count": 18,
   "metadata": {
    "scrolled": true
   },
   "outputs": [],
   "source": [
    "# Construct 95% CI for the (test) estimated probs \n",
    "lower.test <- logodds.fit.test - 1.96 * logit.test$se.fit # lower bound of log odds\n",
    "upper.test <- logodds.fit.test + 1.96 * logit.test$se.fit # upper bound...\n",
    "probs.fit.test <- 1 / (1 + exp(-logodds.fit.test))\n",
    "lower.test <- 1 / (1 + exp(-lower.test)) \n",
    "upper.test <- 1 / (1 + exp(-upper.test))"
   ]
  },
  {
   "cell_type": "markdown",
   "metadata": {},
   "source": [
    "#### MSE, AVE and the Confusion Matrix"
   ]
  },
  {
   "cell_type": "code",
   "execution_count": 19,
   "metadata": {
    "scrolled": true
   },
   "outputs": [
    {
     "data": {
      "text/html": [
       "0.159"
      ],
      "text/latex": [
       "0.159"
      ],
      "text/markdown": [
       "0.159"
      ],
      "text/plain": [
       "[1] 0.159"
      ]
     },
     "metadata": {},
     "output_type": "display_data"
    },
    {
     "data": {
      "text/html": [
       "0.139"
      ],
      "text/latex": [
       "0.139"
      ],
      "text/markdown": [
       "0.139"
      ],
      "text/plain": [
       "[1] 0.139"
      ]
     },
     "metadata": {},
     "output_type": "display_data"
    }
   ],
   "source": [
    "# MSE and AVE\n",
    "y.pred.train <-  c()\n",
    "y.pred.test <- c()\n",
    "threshold <- 0.65\n",
    "for (i in 1:n) {\n",
    "  if (probs.fit.train[i] >= threshold) {\n",
    "    y.pred.train[i] <- 1\n",
    "  }\n",
    "  else {\n",
    "    y.pred.train[i] <- 0\n",
    "  }\n",
    "  if (probs.fit.test[i] >= threshold) {\n",
    "    y.pred.test[i] <- 1\n",
    "  }\n",
    "  else {\n",
    "    y.pred.test[i] <- 0\n",
    "  }\n",
    "}\n",
    "# Training error\n",
    "(MSE <- sum(y.pred.train != data.train$y) / length(data.train$y))\n",
    "\n",
    "# Testing error\n",
    "(AVE <- sum(y.pred.test != data.test$y) / length(data.test$y))"
   ]
  },
  {
   "cell_type": "markdown",
   "metadata": {},
   "source": [
    "#### For confusion matrices we factor() the ys for better interpretation"
   ]
  },
  {
   "cell_type": "code",
   "execution_count": 20,
   "metadata": {},
   "outputs": [],
   "source": [
    "# For Confusion Matrices we factor the ys\n",
    "y.train.cfm <- factor(data.train$y, levels = c(0, 1), labels = c(\"Pos\", \"Neg\"))\n",
    "y.test.cfm <- factor(data.test$y, levels = c(0, 1), labels = c(\"Pos\", \"Neg\"))\n",
    "y.pred.train.cfm <- factor(y.pred.train, levels = c(0, 1), labels = c(\"Pos\", \"Neg\"))\n",
    "y.pred.test.cfm <- factor(y.pred.test, levels = c(0, 1), labels = c(\"Pos\", \"Neg\"))"
   ]
  },
  {
   "cell_type": "code",
   "execution_count": 21,
   "metadata": {},
   "outputs": [
    {
     "data": {
      "text/plain": [
       "         True\n",
       "Predicted Pos Neg\n",
       "      Pos  34  57\n",
       "      Neg 102 807"
      ]
     },
     "metadata": {},
     "output_type": "display_data"
    },
    {
     "data": {
      "text/html": [
       "<table>\n",
       "<caption>A table: 3 × 3 of type dbl</caption>\n",
       "<thead>\n",
       "\t<tr><th></th><th scope=col>Pos</th><th scope=col>Neg</th><th scope=col>Sum</th></tr>\n",
       "</thead>\n",
       "<tbody>\n",
       "\t<tr><th scope=row>Pos</th><td> 34</td><td> 57</td><td>  91</td></tr>\n",
       "\t<tr><th scope=row>Neg</th><td>102</td><td>807</td><td> 909</td></tr>\n",
       "\t<tr><th scope=row>Sum</th><td>136</td><td>864</td><td>1000</td></tr>\n",
       "</tbody>\n",
       "</table>\n"
      ],
      "text/latex": [
       "A table: 3 × 3 of type dbl\n",
       "\\begin{tabular}{r|lll}\n",
       "  & Pos & Neg & Sum\\\\\n",
       "\\hline\n",
       "\tPos &  34 &  57 &   91\\\\\n",
       "\tNeg & 102 & 807 &  909\\\\\n",
       "\tSum & 136 & 864 & 1000\\\\\n",
       "\\end{tabular}\n"
      ],
      "text/markdown": [
       "\n",
       "A table: 3 × 3 of type dbl\n",
       "\n",
       "| <!--/--> | Pos | Neg | Sum |\n",
       "|---|---|---|---|\n",
       "| Pos |  34 |  57 |   91 |\n",
       "| Neg | 102 | 807 |  909 |\n",
       "| Sum | 136 | 864 | 1000 |\n",
       "\n"
      ],
      "text/plain": [
       "         True\n",
       "Predicted Pos Neg Sum \n",
       "      Pos  34  57   91\n",
       "      Neg 102 807  909\n",
       "      Sum 136 864 1000"
      ]
     },
     "metadata": {},
     "output_type": "display_data"
    },
    {
     "data": {
      "text/html": [
       "<table>\n",
       "<caption>A table: 3 × 3 of type dbl</caption>\n",
       "<thead>\n",
       "\t<tr><th></th><th scope=col>Pos</th><th scope=col>Neg</th><th scope=col>Sum</th></tr>\n",
       "</thead>\n",
       "<tbody>\n",
       "\t<tr><th scope=row>Pos</th><td>0.034</td><td>0.057</td><td>0.091</td></tr>\n",
       "\t<tr><th scope=row>Neg</th><td>0.102</td><td>0.807</td><td>0.909</td></tr>\n",
       "\t<tr><th scope=row>Sum</th><td>0.136</td><td>0.864</td><td>1.000</td></tr>\n",
       "</tbody>\n",
       "</table>\n"
      ],
      "text/latex": [
       "A table: 3 × 3 of type dbl\n",
       "\\begin{tabular}{r|lll}\n",
       "  & Pos & Neg & Sum\\\\\n",
       "\\hline\n",
       "\tPos & 0.034 & 0.057 & 0.091\\\\\n",
       "\tNeg & 0.102 & 0.807 & 0.909\\\\\n",
       "\tSum & 0.136 & 0.864 & 1.000\\\\\n",
       "\\end{tabular}\n"
      ],
      "text/markdown": [
       "\n",
       "A table: 3 × 3 of type dbl\n",
       "\n",
       "| <!--/--> | Pos | Neg | Sum |\n",
       "|---|---|---|---|\n",
       "| Pos | 0.034 | 0.057 | 0.091 |\n",
       "| Neg | 0.102 | 0.807 | 0.909 |\n",
       "| Sum | 0.136 | 0.864 | 1.000 |\n",
       "\n"
      ],
      "text/plain": [
       "         True\n",
       "Predicted Pos   Neg   Sum  \n",
       "      Pos 0.034 0.057 0.091\n",
       "      Neg 0.102 0.807 0.909\n",
       "      Sum 0.136 0.864 1.000"
      ]
     },
     "metadata": {},
     "output_type": "display_data"
    },
    {
     "data": {
      "text/html": [
       "<table>\n",
       "<caption>A table: 3 × 3 of type dbl</caption>\n",
       "<thead>\n",
       "\t<tr><th></th><th scope=col>Pos</th><th scope=col>Neg</th><th scope=col>Sum</th></tr>\n",
       "</thead>\n",
       "<tbody>\n",
       "\t<tr><th scope=row>Pos</th><td>0.25</td><td>0.06597222</td><td>0.3159722</td></tr>\n",
       "\t<tr><th scope=row>Neg</th><td>0.75</td><td>0.93402778</td><td>1.6840278</td></tr>\n",
       "\t<tr><th scope=row>Sum</th><td>1.00</td><td>1.00000000</td><td>2.0000000</td></tr>\n",
       "</tbody>\n",
       "</table>\n"
      ],
      "text/latex": [
       "A table: 3 × 3 of type dbl\n",
       "\\begin{tabular}{r|lll}\n",
       "  & Pos & Neg & Sum\\\\\n",
       "\\hline\n",
       "\tPos & 0.25 & 0.06597222 & 0.3159722\\\\\n",
       "\tNeg & 0.75 & 0.93402778 & 1.6840278\\\\\n",
       "\tSum & 1.00 & 1.00000000 & 2.0000000\\\\\n",
       "\\end{tabular}\n"
      ],
      "text/markdown": [
       "\n",
       "A table: 3 × 3 of type dbl\n",
       "\n",
       "| <!--/--> | Pos | Neg | Sum |\n",
       "|---|---|---|---|\n",
       "| Pos | 0.25 | 0.06597222 | 0.3159722 |\n",
       "| Neg | 0.75 | 0.93402778 | 1.6840278 |\n",
       "| Sum | 1.00 | 1.00000000 | 2.0000000 |\n",
       "\n"
      ],
      "text/plain": [
       "         True\n",
       "Predicted Pos  Neg        Sum      \n",
       "      Pos 0.25 0.06597222 0.3159722\n",
       "      Neg 0.75 0.93402778 1.6840278\n",
       "      Sum 1.00 1.00000000 2.0000000"
      ]
     },
     "metadata": {},
     "output_type": "display_data"
    }
   ],
   "source": [
    "(cfm.train <- table(y.pred.train.cfm, y.train.cfm, dnn = c(\"Predicted\", \"True\")))\n",
    "(addmargins(cfm.train))\n",
    "addmargins(prop.table(cfm.train))\n",
    "addmargins(prop.table(cfm.train, 2))"
   ]
  },
  {
   "cell_type": "code",
   "execution_count": 22,
   "metadata": {
    "scrolled": true
   },
   "outputs": [
    {
     "data": {
      "text/plain": [
       "NULL"
      ]
     },
     "metadata": {},
     "output_type": "display_data"
    },
    {
     "data": {
      "image/png": "[encoded data removed]",
      "text/plain": [
       "Plot with title \"table(y.train.cfm, y.pred.train.cfm, dnn = c(\"True\", \"Predicted\"))\""
      ]
     },
     "metadata": {
      "image/png": {
       "height": 420,
       "width": 420
      },
      "text/plain": {
       "height": 420,
       "width": 420
      }
     },
     "output_type": "display_data"
    }
   ],
   "source": [
    "(mosaic.train <- (mosaicplot(table(y.train.cfm, y.pred.train.cfm, dnn = c(\"True\", \"Predicted\")))))\n"
   ]
  },
  {
   "cell_type": "code",
   "execution_count": 23,
   "metadata": {
    "scrolled": true
   },
   "outputs": [
    {
     "data": {
      "text/plain": [
       "         True\n",
       "Predicted Pos Neg\n",
       "      Pos  36  62\n",
       "      Neg  77 825"
      ]
     },
     "metadata": {},
     "output_type": "display_data"
    },
    {
     "data": {
      "text/html": [
       "<table>\n",
       "<caption>A table: 3 × 3 of type dbl</caption>\n",
       "<thead>\n",
       "\t<tr><th></th><th scope=col>Pos</th><th scope=col>Neg</th><th scope=col>Sum</th></tr>\n",
       "</thead>\n",
       "<tbody>\n",
       "\t<tr><th scope=row>Pos</th><td> 36</td><td> 62</td><td>  98</td></tr>\n",
       "\t<tr><th scope=row>Neg</th><td> 77</td><td>825</td><td> 902</td></tr>\n",
       "\t<tr><th scope=row>Sum</th><td>113</td><td>887</td><td>1000</td></tr>\n",
       "</tbody>\n",
       "</table>\n"
      ],
      "text/latex": [
       "A table: 3 × 3 of type dbl\n",
       "\\begin{tabular}{r|lll}\n",
       "  & Pos & Neg & Sum\\\\\n",
       "\\hline\n",
       "\tPos &  36 &  62 &   98\\\\\n",
       "\tNeg &  77 & 825 &  902\\\\\n",
       "\tSum & 113 & 887 & 1000\\\\\n",
       "\\end{tabular}\n"
      ],
      "text/markdown": [
       "\n",
       "A table: 3 × 3 of type dbl\n",
       "\n",
       "| <!--/--> | Pos | Neg | Sum |\n",
       "|---|---|---|---|\n",
       "| Pos |  36 |  62 |   98 |\n",
       "| Neg |  77 | 825 |  902 |\n",
       "| Sum | 113 | 887 | 1000 |\n",
       "\n"
      ],
      "text/plain": [
       "         True\n",
       "Predicted Pos Neg Sum \n",
       "      Pos  36  62   98\n",
       "      Neg  77 825  902\n",
       "      Sum 113 887 1000"
      ]
     },
     "metadata": {},
     "output_type": "display_data"
    },
    {
     "data": {
      "text/html": [
       "<table>\n",
       "<caption>A table: 3 × 3 of type dbl</caption>\n",
       "<thead>\n",
       "\t<tr><th></th><th scope=col>Pos</th><th scope=col>Neg</th><th scope=col>Sum</th></tr>\n",
       "</thead>\n",
       "<tbody>\n",
       "\t<tr><th scope=row>Pos</th><td>0.036</td><td>0.062</td><td>0.098</td></tr>\n",
       "\t<tr><th scope=row>Neg</th><td>0.077</td><td>0.825</td><td>0.902</td></tr>\n",
       "\t<tr><th scope=row>Sum</th><td>0.113</td><td>0.887</td><td>1.000</td></tr>\n",
       "</tbody>\n",
       "</table>\n"
      ],
      "text/latex": [
       "A table: 3 × 3 of type dbl\n",
       "\\begin{tabular}{r|lll}\n",
       "  & Pos & Neg & Sum\\\\\n",
       "\\hline\n",
       "\tPos & 0.036 & 0.062 & 0.098\\\\\n",
       "\tNeg & 0.077 & 0.825 & 0.902\\\\\n",
       "\tSum & 0.113 & 0.887 & 1.000\\\\\n",
       "\\end{tabular}\n"
      ],
      "text/markdown": [
       "\n",
       "A table: 3 × 3 of type dbl\n",
       "\n",
       "| <!--/--> | Pos | Neg | Sum |\n",
       "|---|---|---|---|\n",
       "| Pos | 0.036 | 0.062 | 0.098 |\n",
       "| Neg | 0.077 | 0.825 | 0.902 |\n",
       "| Sum | 0.113 | 0.887 | 1.000 |\n",
       "\n"
      ],
      "text/plain": [
       "         True\n",
       "Predicted Pos   Neg   Sum  \n",
       "      Pos 0.036 0.062 0.098\n",
       "      Neg 0.077 0.825 0.902\n",
       "      Sum 0.113 0.887 1.000"
      ]
     },
     "metadata": {},
     "output_type": "display_data"
    },
    {
     "data": {
      "text/html": [
       "<table>\n",
       "<caption>A table: 3 × 3 of type dbl</caption>\n",
       "<thead>\n",
       "\t<tr><th></th><th scope=col>Pos</th><th scope=col>Neg</th><th scope=col>Sum</th></tr>\n",
       "</thead>\n",
       "<tbody>\n",
       "\t<tr><th scope=row>Pos</th><td>0.3185841</td><td>0.06989853</td><td>0.3884826</td></tr>\n",
       "\t<tr><th scope=row>Neg</th><td>0.6814159</td><td>0.93010147</td><td>1.6115174</td></tr>\n",
       "\t<tr><th scope=row>Sum</th><td>1.0000000</td><td>1.00000000</td><td>2.0000000</td></tr>\n",
       "</tbody>\n",
       "</table>\n"
      ],
      "text/latex": [
       "A table: 3 × 3 of type dbl\n",
       "\\begin{tabular}{r|lll}\n",
       "  & Pos & Neg & Sum\\\\\n",
       "\\hline\n",
       "\tPos & 0.3185841 & 0.06989853 & 0.3884826\\\\\n",
       "\tNeg & 0.6814159 & 0.93010147 & 1.6115174\\\\\n",
       "\tSum & 1.0000000 & 1.00000000 & 2.0000000\\\\\n",
       "\\end{tabular}\n"
      ],
      "text/markdown": [
       "\n",
       "A table: 3 × 3 of type dbl\n",
       "\n",
       "| <!--/--> | Pos | Neg | Sum |\n",
       "|---|---|---|---|\n",
       "| Pos | 0.3185841 | 0.06989853 | 0.3884826 |\n",
       "| Neg | 0.6814159 | 0.93010147 | 1.6115174 |\n",
       "| Sum | 1.0000000 | 1.00000000 | 2.0000000 |\n",
       "\n"
      ],
      "text/plain": [
       "         True\n",
       "Predicted Pos       Neg        Sum      \n",
       "      Pos 0.3185841 0.06989853 0.3884826\n",
       "      Neg 0.6814159 0.93010147 1.6115174\n",
       "      Sum 1.0000000 1.00000000 2.0000000"
      ]
     },
     "metadata": {},
     "output_type": "display_data"
    }
   ],
   "source": [
    "(cfm.test <- table(y.pred.test.cfm, y.test.cfm, dnn = c(\"Predicted\", \"True\")))\n",
    "(addmargins(cfm.test))\n",
    "addmargins(prop.table(cfm.test))\n",
    "addmargins(prop.table(cfm.test, 2))"
   ]
  },
  {
   "cell_type": "code",
   "execution_count": 24,
   "metadata": {},
   "outputs": [
    {
     "data": {
      "text/plain": [
       "NULL"
      ]
     },
     "metadata": {},
     "output_type": "display_data"
    },
    {
     "data": {
      "image/png": "[encoded data removed]",
      "text/plain": [
       "Plot with title \"table(y.test.cfm, y.pred.test, dnn = c(\"True\", \"Predicted\"))\""
      ]
     },
     "metadata": {
      "image/png": {
       "height": 420,
       "width": 420
      },
      "text/plain": {
       "height": 420,
       "width": 420
      }
     },
     "output_type": "display_data"
    }
   ],
   "source": [
    "(mosaic.test <- (mosaicplot(table(y.test.cfm, y.pred.test, dnn = c(\"True\", \"Predicted\")))))"
   ]
  },
  {
   "cell_type": "code",
   "execution_count": 25,
   "metadata": {
    "scrolled": true
   },
   "outputs": [
    {
     "data": {
      "text/html": [
       "0.159"
      ],
      "text/latex": [
       "0.159"
      ],
      "text/markdown": [
       "0.159"
      ],
      "text/plain": [
       "[1] 0.159"
      ]
     },
     "metadata": {},
     "output_type": "display_data"
    },
    {
     "data": {
      "text/html": [
       "0.159"
      ],
      "text/latex": [
       "0.159"
      ],
      "text/markdown": [
       "0.159"
      ],
      "text/plain": [
       "[1] 0.159"
      ]
     },
     "metadata": {},
     "output_type": "display_data"
    },
    {
     "data": {
      "text/html": [
       "0.139"
      ],
      "text/latex": [
       "0.139"
      ],
      "text/markdown": [
       "0.139"
      ],
      "text/plain": [
       "[1] 0.139"
      ]
     },
     "metadata": {},
     "output_type": "display_data"
    },
    {
     "data": {
      "text/html": [
       "0.139"
      ],
      "text/latex": [
       "0.139"
      ],
      "text/markdown": [
       "0.139"
      ],
      "text/plain": [
       "[1] 0.139"
      ]
     },
     "metadata": {},
     "output_type": "display_data"
    }
   ],
   "source": [
    "MSE\n",
    "0.102 + 0.057\n",
    "AVE\n",
    "0.077 + 0.062"
   ]
  },
  {
   "cell_type": "markdown",
   "metadata": {},
   "source": [
    "### c) Interpretation"
   ]
  },
  {
   "cell_type": "markdown",
   "metadata": {},
   "source": [
    "Consider the first observation. We'll calculate its log odds, odds and $P(Y_{1} = 1) = \\pi_{1}$"
   ]
  },
  {
   "cell_type": "markdown",
   "metadata": {},
   "source": [
    "$$\n",
    "\\begin{aligned}\n",
    "\\hat{log.odds_{1}} &= x'_{1}\\hat{\\beta} \\\\\n",
    "\\hat{odds_{1}} &= e^{\\hat{log.odds_{1}}} \\\\\n",
    "\\hat{P}(Y_{1} = 1) &= \\frac{1}{1 + e ^ {-\\hat{log.odds_{1}}}} = \\hat{\\pi_{1}}\n",
    "\\end{aligned}\n",
    "$$"
   ]
  },
  {
   "cell_type": "code",
   "execution_count": 26,
   "metadata": {
    "scrolled": true
   },
   "outputs": [
    {
     "data": {
      "text/html": [
       "<strong>1:</strong> 0.564804040039924"
      ],
      "text/latex": [
       "\\textbf{1:} 0.564804040039924"
      ],
      "text/markdown": [
       "**1:** 0.564804040039924"
      ],
      "text/plain": [
       "       1 \n",
       "0.564804 "
      ]
     },
     "metadata": {},
     "output_type": "display_data"
    },
    {
     "data": {
      "text/html": [
       "<table>\n",
       "<caption>A matrix: 1 × 1 of type dbl</caption>\n",
       "<tbody>\n",
       "\t<tr><td>0.564804</td></tr>\n",
       "</tbody>\n",
       "</table>\n"
      ],
      "text/latex": [
       "A matrix: 1 × 1 of type dbl\n",
       "\\begin{tabular}{l}\n",
       "\t 0.564804\\\\\n",
       "\\end{tabular}\n"
      ],
      "text/markdown": [
       "\n",
       "A matrix: 1 × 1 of type dbl\n",
       "\n",
       "| 0.564804 |\n",
       "\n"
      ],
      "text/plain": [
       "     [,1]    \n",
       "[1,] 0.564804"
      ]
     },
     "metadata": {},
     "output_type": "display_data"
    },
    {
     "data": {
      "text/html": [
       "<strong>1:</strong> 1.75910303518402"
      ],
      "text/latex": [
       "\\textbf{1:} 1.75910303518402"
      ],
      "text/markdown": [
       "**1:** 1.75910303518402"
      ],
      "text/plain": [
       "       1 \n",
       "1.759103 "
      ]
     },
     "metadata": {},
     "output_type": "display_data"
    },
    {
     "data": {
      "text/html": [
       "<strong>1:</strong> 0.637563372136515"
      ],
      "text/latex": [
       "\\textbf{1:} 0.637563372136515"
      ],
      "text/markdown": [
       "**1:** 0.637563372136515"
      ],
      "text/plain": [
       "        1 \n",
       "0.6375634 "
      ]
     },
     "metadata": {},
     "output_type": "display_data"
    }
   ],
   "source": [
    "# c) Interpretation\n",
    "\n",
    "# Logodss of the first observation and P(Y_1 = 1)\n",
    "logit.train$fit[1] # \"automatic\"\n",
    "X.train[1, ] %*% beta.logit # \"manually\"\n",
    "# Odss of the first obs\n",
    "(odds_1 <- exp(logit.train$fit[1]))\n",
    "# With an odds of 1.76:1 the first observation is in group 1\n",
    "# Or in other words, the probability that Y_1 = 1 is:\n",
    "(pi_x_1 <- 1 / (1 + exp(-logit.train$fit[1]))) # P(Y_1 = 1) is around 64% \n",
    "                                              # gives an odds of ~ 64/36 ~ 1.7)"
   ]
  },
  {
   "cell_type": "markdown",
   "metadata": {},
   "source": [
    "#### Marginal Effects\n",
    "$\\hat{log.odds_{1}} = x'_{1}\\hat{\\beta} = \\hat{\\beta_{0}} * x_{10} + \\hat{\\beta_{1}} * x_{11} + \\hat{\\beta_{2}} * x_{12}$  \n",
    "One unit increase in $x_{11}$ increases $\\hat{odds_{1}}$ by $e^{\\hat{\\beta_{1}}} - 1 \\%$"
   ]
  },
  {
   "cell_type": "code",
   "execution_count": 27,
   "metadata": {
    "scrolled": true
   },
   "outputs": [
    {
     "data": {
      "text/html": [
       "<strong>X1:</strong> 10.9711266495612"
      ],
      "text/latex": [
       "\\textbf{X1:} 10.9711266495612"
      ],
      "text/markdown": [
       "**X1:** 10.9711266495612"
      ],
      "text/plain": [
       "      X1 \n",
       "10.97113 "
      ]
     },
     "metadata": {},
     "output_type": "display_data"
    },
    {
     "data": {
      "text/html": [
       "<strong>(Intercept):</strong> 10.9711266495612"
      ],
      "text/latex": [
       "\\textbf{(Intercept):} 10.9711266495612"
      ],
      "text/markdown": [
       "**(Intercept):** 10.9711266495612"
      ],
      "text/plain": [
       "(Intercept) \n",
       "   10.97113 "
      ]
     },
     "metadata": {},
     "output_type": "display_data"
    }
   ],
   "source": [
    "(exp(beta.logit[2]) - 1) * 100\n",
    "logodds_1_new <- beta.logit[1] * X.train[1, 1] +\n",
    "                    beta.logit[2] * (X.train[1, 2] + 1) +\n",
    "                    beta.logit[3] * X.train[1, 3]\n",
    "odds_1_new <- exp(logodds_1_new)\n",
    "(odds_1_new - odds_1) / odds_1 * 100"
   ]
  },
  {
   "cell_type": "markdown",
   "metadata": {},
   "source": [
    "What about $\\frac{\\partial \\pi}{\\partial X_1}?$\n",
    "$$\n",
    "\\begin{aligned}\n",
    "\\pi_i&= \\frac{1}{1 + e^{-(\\beta_{0}x_{i0} + \\beta_1x_{i1} + \\beta_2x_{i2})}} \\\\\n",
    "\\frac{\\partial \\pi_{i}}{\\partial x_{i1}} &= \\frac{-1}{(1 + e^{-(\\beta_{0}x_{i0} + \\beta_1x_{i1} + \\beta_2x_{i2})})^2}(-\\beta_1)e^{\\beta_{0}x_{i0} + \\beta_1x_{i1} + \\beta_2x_{i2})}\\\\\n",
    "&= \\beta_1\\frac{1}{1 + e^{-(\\beta_{0}x_{i0} + \\beta_1x_{i1} + \\beta_2x_{i2})}}\\frac{e^{-(\\beta_{0}x_{i0} + \\beta_1x_{i1} + \\beta_2x_{i2})}}{1 + e^{-(\\beta_{0}x_{i0} + \\beta_1x_{i1} + \\beta_2x_{i2})}} \\\\\n",
    "&= \\beta_1\\pi_i(1 - \\pi_i)\n",
    "\\end{aligned}\n",
    "$$\n",
    "Consider again the first observation:  \n",
    "$\\frac{\\partial \\pi_{i}}{\\partial x_{i1}}|x_{11} = \\beta_1\\pi_1(1 - \\pi_1)$"
   ]
  },
  {
   "cell_type": "code",
   "execution_count": 28,
   "metadata": {
    "scrolled": true
   },
   "outputs": [
    {
     "data": {
      "text/html": [
       "<strong>X1:</strong> 2.4055012700675"
      ],
      "text/latex": [
       "\\textbf{X1:} 2.4055012700675"
      ],
      "text/markdown": [
       "**X1:** 2.4055012700675"
      ],
      "text/plain": [
       "      X1 \n",
       "2.405501 "
      ]
     },
     "metadata": {},
     "output_type": "display_data"
    },
    {
     "data": {
      "text/html": [
       "<strong>(Intercept):</strong> 2.36943087888555"
      ],
      "text/latex": [
       "\\textbf{(Intercept):} 2.36943087888555"
      ],
      "text/markdown": [
       "**(Intercept):** 2.36943087888555"
      ],
      "text/plain": [
       "(Intercept) \n",
       "   2.369431 "
      ]
     },
     "metadata": {},
     "output_type": "display_data"
    }
   ],
   "source": [
    "(dx1_1 <- beta.logit[2] * pi_x_1 * (1 - pi_x_1)) * 100 # dx1 of the 1st. obs: from math\n",
    "pi_x_1_new <- 1 / (1 + exp(-logodds_1_new))\n",
    "(pi_x_1_new - pi_x_1) * 100 # dx1 of obs 1: computational"
   ]
  },
  {
   "cell_type": "markdown",
   "metadata": {},
   "source": [
    "One unit increase in x1 increases the predicted probability by 2.4 percentage points (from math) or 2.37 percentage points practically."
   ]
  },
  {
   "cell_type": "markdown",
   "metadata": {},
   "source": [
    "## d) VIsualizing the results"
   ]
  },
  {
   "cell_type": "markdown",
   "metadata": {},
   "source": [
    "### Preparing data frame for plotting"
   ]
  },
  {
   "cell_type": "code",
   "execution_count": 29,
   "metadata": {
    "scrolled": true
   },
   "outputs": [
    {
     "data": {
      "text/html": [
       "<table>\n",
       "<caption>A data.frame: 6 × 21</caption>\n",
       "<thead>\n",
       "\t<tr><th></th><th scope=col>X1.train</th><th scope=col>X1.test</th><th scope=col>X2.train</th><th scope=col>X2.test</th><th scope=col>y.train</th><th scope=col>y.test</th><th scope=col>probs.train</th><th scope=col>probs.ML.train</th><th scope=col>probs.test</th><th scope=col>probs.ML.test</th><th scope=col>...</th><th scope=col>probs.true.test</th><th scope=col>upper.train</th><th scope=col>probs.ML.train.upper</th><th scope=col>lower.train</th><th scope=col>probs.ML.train.lower</th><th scope=col>upper.test</th><th scope=col>probs.ML.test.upper</th><th scope=col>lower.test</th><th scope=col>probs.ML.test.lower</th><th scope=col>dx1.train</th></tr>\n",
       "\t<tr><th></th><th scope=col>&lt;dbl&gt;</th><th scope=col>&lt;dbl&gt;</th><th scope=col>&lt;fct&gt;</th><th scope=col>&lt;fct&gt;</th><th scope=col>&lt;int&gt;</th><th scope=col>&lt;int&gt;</th><th scope=col>&lt;dbl&gt;</th><th scope=col>&lt;dbl&gt;</th><th scope=col>&lt;dbl&gt;</th><th scope=col>&lt;dbl&gt;</th><th scope=col>...</th><th scope=col>&lt;dbl&gt;</th><th scope=col>&lt;dbl&gt;</th><th scope=col>&lt;dbl&gt;</th><th scope=col>&lt;dbl&gt;</th><th scope=col>&lt;dbl&gt;</th><th scope=col>&lt;dbl&gt;</th><th scope=col>&lt;dbl&gt;</th><th scope=col>&lt;dbl&gt;</th><th scope=col>&lt;dbl&gt;</th><th scope=col>&lt;dbl&gt;</th></tr>\n",
       "</thead>\n",
       "<tbody>\n",
       "\t<tr><th scope=row>1</th><td>18.12847</td><td>18.08957</td><td>1</td><td>1</td><td>1</td><td>1</td><td>0.6375634</td><td>0.6375633</td><td>0.6366271</td><td>0.6366271</td><td>...</td><td>0.6918872</td><td>0.7192420</td><td>0.8851849</td><td>0.5470859</td><td>0.2864139</td><td>0.7185215</td><td>0.8846901</td><td>0.5459623</td><td>0.2857521</td><td>0.02405501</td></tr>\n",
       "\t<tr><th scope=row>2</th><td>18.13016</td><td>18.09186</td><td>1</td><td>0</td><td>1</td><td>1</td><td>0.6376039</td><td>0.6376039</td><td>0.4566077</td><td>0.4566077</td><td>...</td><td>0.4524407</td><td>0.7192732</td><td>0.8852063</td><td>0.5471346</td><td>0.2864425</td><td>0.5505916</td><td>0.7116194</td><td>0.3656149</td><td>0.2224793</td><td>0.02405385</td></tr>\n",
       "\t<tr><th scope=row>3</th><td>18.14943</td><td>18.13831</td><td>1</td><td>1</td><td>0</td><td>1</td><td>0.6380674</td><td>0.6380674</td><td>0.6378000</td><td>0.6378000</td><td>...</td><td>0.6929252</td><td>0.7196298</td><td>0.8854507</td><td>0.5476910</td><td>0.2867708</td><td>0.7194241</td><td>0.8853097</td><td>0.5473700</td><td>0.2865814</td><td>0.02404055</td></tr>\n",
       "\t<tr><th scope=row>4</th><td>18.16703</td><td>18.17453</td><td>0</td><td>1</td><td>0</td><td>1</td><td>0.4585499</td><td>0.4585499</td><td>0.6386705</td><td>0.6386705</td><td>...</td><td>0.6936953</td><td>0.5522466</td><td>0.7135424</td><td>0.3676955</td><td>0.2235642</td><td>0.7200939</td><td>0.8857682</td><td>0.5484152</td><td>0.2871985</td><td>0.02584611</td></tr>\n",
       "\t<tr><th scope=row>5</th><td>18.17133</td><td>18.18424</td><td>0</td><td>1</td><td>1</td><td>1</td><td>0.4586611</td><td>0.4586611</td><td>0.6389037</td><td>0.6389037</td><td>...</td><td>0.6939016</td><td>0.5523413</td><td>0.7136523</td><td>0.3678148</td><td>0.2236265</td><td>0.7202733</td><td>0.8858909</td><td>0.5486953</td><td>0.2873641</td><td>0.02584707</td></tr>\n",
       "\t<tr><th scope=row>6</th><td>18.21251</td><td>18.18654</td><td>1</td><td>1</td><td>1</td><td>1</td><td>0.6395825</td><td>0.6395824</td><td>0.6389591</td><td>0.6389591</td><td>...</td><td>0.6939506</td><td>0.7207955</td><td>0.8862474</td><td>0.5495107</td><td>0.2878466</td><td>0.7203159</td><td>0.8859200</td><td>0.5487619</td><td>0.2874034</td><td>0.02399676</td></tr>\n",
       "</tbody>\n",
       "</table>\n"
      ],
      "text/latex": [
       "A data.frame: 6 × 21\n",
       "\\begin{tabular}{r|lllllllllllllllllllll}\n",
       "  & X1.train & X1.test & X2.train & X2.test & y.train & y.test & probs.train & probs.ML.train & probs.test & probs.ML.test & ... & probs.true.test & upper.train & probs.ML.train.upper & lower.train & probs.ML.train.lower & upper.test & probs.ML.test.upper & lower.test & probs.ML.test.lower & dx1.train\\\\\n",
       "  & <dbl> & <dbl> & <fct> & <fct> & <int> & <int> & <dbl> & <dbl> & <dbl> & <dbl> & ... & <dbl> & <dbl> & <dbl> & <dbl> & <dbl> & <dbl> & <dbl> & <dbl> & <dbl> & <dbl>\\\\\n",
       "\\hline\n",
       "\t1 & 18.12847 & 18.08957 & 1 & 1 & 1 & 1 & 0.6375634 & 0.6375633 & 0.6366271 & 0.6366271 & ... & 0.6918872 & 0.7192420 & 0.8851849 & 0.5470859 & 0.2864139 & 0.7185215 & 0.8846901 & 0.5459623 & 0.2857521 & 0.02405501\\\\\n",
       "\t2 & 18.13016 & 18.09186 & 1 & 0 & 1 & 1 & 0.6376039 & 0.6376039 & 0.4566077 & 0.4566077 & ... & 0.4524407 & 0.7192732 & 0.8852063 & 0.5471346 & 0.2864425 & 0.5505916 & 0.7116194 & 0.3656149 & 0.2224793 & 0.02405385\\\\\n",
       "\t3 & 18.14943 & 18.13831 & 1 & 1 & 0 & 1 & 0.6380674 & 0.6380674 & 0.6378000 & 0.6378000 & ... & 0.6929252 & 0.7196298 & 0.8854507 & 0.5476910 & 0.2867708 & 0.7194241 & 0.8853097 & 0.5473700 & 0.2865814 & 0.02404055\\\\\n",
       "\t4 & 18.16703 & 18.17453 & 0 & 1 & 0 & 1 & 0.4585499 & 0.4585499 & 0.6386705 & 0.6386705 & ... & 0.6936953 & 0.5522466 & 0.7135424 & 0.3676955 & 0.2235642 & 0.7200939 & 0.8857682 & 0.5484152 & 0.2871985 & 0.02584611\\\\\n",
       "\t5 & 18.17133 & 18.18424 & 0 & 1 & 1 & 1 & 0.4586611 & 0.4586611 & 0.6389037 & 0.6389037 & ... & 0.6939016 & 0.5523413 & 0.7136523 & 0.3678148 & 0.2236265 & 0.7202733 & 0.8858909 & 0.5486953 & 0.2873641 & 0.02584707\\\\\n",
       "\t6 & 18.21251 & 18.18654 & 1 & 1 & 1 & 1 & 0.6395825 & 0.6395824 & 0.6389591 & 0.6389591 & ... & 0.6939506 & 0.7207955 & 0.8862474 & 0.5495107 & 0.2878466 & 0.7203159 & 0.8859200 & 0.5487619 & 0.2874034 & 0.02399676\\\\\n",
       "\\end{tabular}\n"
      ],
      "text/markdown": [
       "\n",
       "A data.frame: 6 × 21\n",
       "\n",
       "| <!--/--> | X1.train &lt;dbl&gt; | X1.test &lt;dbl&gt; | X2.train &lt;fct&gt; | X2.test &lt;fct&gt; | y.train &lt;int&gt; | y.test &lt;int&gt; | probs.train &lt;dbl&gt; | probs.ML.train &lt;dbl&gt; | probs.test &lt;dbl&gt; | probs.ML.test &lt;dbl&gt; | ... ... | probs.true.test &lt;dbl&gt; | upper.train &lt;dbl&gt; | probs.ML.train.upper &lt;dbl&gt; | lower.train &lt;dbl&gt; | probs.ML.train.lower &lt;dbl&gt; | upper.test &lt;dbl&gt; | probs.ML.test.upper &lt;dbl&gt; | lower.test &lt;dbl&gt; | probs.ML.test.lower &lt;dbl&gt; | dx1.train &lt;dbl&gt; |\n",
       "|---|---|---|---|---|---|---|---|---|---|---|---|---|---|---|---|---|---|---|---|---|---|\n",
       "| 1 | 18.12847 | 18.08957 | 1 | 1 | 1 | 1 | 0.6375634 | 0.6375633 | 0.6366271 | 0.6366271 | ... | 0.6918872 | 0.7192420 | 0.8851849 | 0.5470859 | 0.2864139 | 0.7185215 | 0.8846901 | 0.5459623 | 0.2857521 | 0.02405501 |\n",
       "| 2 | 18.13016 | 18.09186 | 1 | 0 | 1 | 1 | 0.6376039 | 0.6376039 | 0.4566077 | 0.4566077 | ... | 0.4524407 | 0.7192732 | 0.8852063 | 0.5471346 | 0.2864425 | 0.5505916 | 0.7116194 | 0.3656149 | 0.2224793 | 0.02405385 |\n",
       "| 3 | 18.14943 | 18.13831 | 1 | 1 | 0 | 1 | 0.6380674 | 0.6380674 | 0.6378000 | 0.6378000 | ... | 0.6929252 | 0.7196298 | 0.8854507 | 0.5476910 | 0.2867708 | 0.7194241 | 0.8853097 | 0.5473700 | 0.2865814 | 0.02404055 |\n",
       "| 4 | 18.16703 | 18.17453 | 0 | 1 | 0 | 1 | 0.4585499 | 0.4585499 | 0.6386705 | 0.6386705 | ... | 0.6936953 | 0.5522466 | 0.7135424 | 0.3676955 | 0.2235642 | 0.7200939 | 0.8857682 | 0.5484152 | 0.2871985 | 0.02584611 |\n",
       "| 5 | 18.17133 | 18.18424 | 0 | 1 | 1 | 1 | 0.4586611 | 0.4586611 | 0.6389037 | 0.6389037 | ... | 0.6939016 | 0.5523413 | 0.7136523 | 0.3678148 | 0.2236265 | 0.7202733 | 0.8858909 | 0.5486953 | 0.2873641 | 0.02584707 |\n",
       "| 6 | 18.21251 | 18.18654 | 1 | 1 | 1 | 1 | 0.6395825 | 0.6395824 | 0.6389591 | 0.6389591 | ... | 0.6939506 | 0.7207955 | 0.8862474 | 0.5495107 | 0.2878466 | 0.7203159 | 0.8859200 | 0.5487619 | 0.2874034 | 0.02399676 |\n",
       "\n"
      ],
      "text/plain": [
       "  X1.train X1.test  X2.train X2.test y.train y.test probs.train probs.ML.train\n",
       "1 18.12847 18.08957 1        1       1       1      0.6375634   0.6375633     \n",
       "2 18.13016 18.09186 1        0       1       1      0.6376039   0.6376039     \n",
       "3 18.14943 18.13831 1        1       0       1      0.6380674   0.6380674     \n",
       "4 18.16703 18.17453 0        1       0       1      0.4585499   0.4585499     \n",
       "5 18.17133 18.18424 0        1       1       1      0.4586611   0.4586611     \n",
       "6 18.21251 18.18654 1        1       1       1      0.6395825   0.6395824     \n",
       "  probs.test probs.ML.test ... probs.true.test upper.train probs.ML.train.upper\n",
       "1 0.6366271  0.6366271     ... 0.6918872       0.7192420   0.8851849           \n",
       "2 0.4566077  0.4566077     ... 0.4524407       0.7192732   0.8852063           \n",
       "3 0.6378000  0.6378000     ... 0.6929252       0.7196298   0.8854507           \n",
       "4 0.6386705  0.6386705     ... 0.6936953       0.5522466   0.7135424           \n",
       "5 0.6389037  0.6389037     ... 0.6939016       0.5523413   0.7136523           \n",
       "6 0.6389591  0.6389591     ... 0.6939506       0.7207955   0.8862474           \n",
       "  lower.train probs.ML.train.lower upper.test probs.ML.test.upper lower.test\n",
       "1 0.5470859   0.2864139            0.7185215  0.8846901           0.5459623 \n",
       "2 0.5471346   0.2864425            0.5505916  0.7116194           0.3656149 \n",
       "3 0.5476910   0.2867708            0.7194241  0.8853097           0.5473700 \n",
       "4 0.3676955   0.2235642            0.7200939  0.8857682           0.5484152 \n",
       "5 0.3678148   0.2236265            0.7202733  0.8858909           0.5486953 \n",
       "6 0.5495107   0.2878466            0.7203159  0.8859200           0.5487619 \n",
       "  probs.ML.test.lower dx1.train \n",
       "1 0.2857521           0.02405501\n",
       "2 0.2224793           0.02405385\n",
       "3 0.2865814           0.02404055\n",
       "4 0.2871985           0.02584611\n",
       "5 0.2873641           0.02584707\n",
       "6 0.2874034           0.02399676"
      ]
     },
     "metadata": {},
     "output_type": "display_data"
    },
    {
     "name": "stdout",
     "output_type": "stream",
     "text": [
      "'data.frame':\t1000 obs. of  21 variables:\n",
      " $ X1.train            : num  18.1 18.1 18.1 18.2 18.2 ...\n",
      " $ X1.test             : num  18.1 18.1 18.1 18.2 18.2 ...\n",
      " $ X2.train            : Factor w/ 2 levels \"0\",\"1\": 2 2 2 1 1 2 2 1 1 2 ...\n",
      " $ X2.test             : Factor w/ 2 levels \"0\",\"1\": 2 1 2 2 2 2 1 2 2 2 ...\n",
      " $ y.train             : int  1 1 0 0 1 1 1 1 1 1 ...\n",
      " $ y.test              : int  1 1 1 1 1 1 1 0 1 1 ...\n",
      " $ probs.train         : num  0.638 0.638 0.638 0.459 0.459 ...\n",
      " $ probs.ML.train      : num  0.638 0.638 0.638 0.459 0.459 ...\n",
      " $ probs.test          : num  0.637 0.457 0.638 0.639 0.639 ...\n",
      " $ probs.ML.test       : num  0.637 0.457 0.638 0.639 0.639 ...\n",
      " $ probs.true.train    : num  0.693 0.693 0.693 0.454 0.454 ...\n",
      " $ probs.true.test     : num  0.692 0.452 0.693 0.694 0.694 ...\n",
      " $ upper.train         : num  0.719 0.719 0.72 0.552 0.552 ...\n",
      " $ probs.ML.train.upper: num  0.885 0.885 0.885 0.714 0.714 ...\n",
      " $ lower.train         : num  0.547 0.547 0.548 0.368 0.368 ...\n",
      " $ probs.ML.train.lower: num  0.286 0.286 0.287 0.224 0.224 ...\n",
      " $ upper.test          : num  0.719 0.551 0.719 0.72 0.72 ...\n",
      " $ probs.ML.test.upper : num  0.885 0.712 0.885 0.886 0.886 ...\n",
      " $ lower.test          : num  0.546 0.366 0.547 0.548 0.549 ...\n",
      " $ probs.ML.test.lower : num  0.286 0.222 0.287 0.287 0.287 ...\n",
      " $ dx1.train           : num  0.0241 0.0241 0.024 0.0258 0.0258 ...\n"
     ]
    }
   ],
   "source": [
    "plt.data <- data.frame(X1.train = data.train$X1,\n",
    "                       X1.test = data.test$X1,\n",
    "                       X2.train = factor(data.train$X2),\n",
    "                       X2.test = factor(data.test$X2),\n",
    "                       y.train = data.train$y,\n",
    "                       y.test = data.test$y,\n",
    "                       probs.train = probs.fit.train,\n",
    "                       probs.ML.train,\n",
    "                       probs.test = probs.fit.test,\n",
    "                       probs.ML.test,\n",
    "                       probs.true.train,\n",
    "                       probs.true.test,\n",
    "                       upper.train,\n",
    "                       probs.ML.train.upper,\n",
    "                       lower.train,\n",
    "                       probs.ML.train.lower,\n",
    "                       upper.test,\n",
    "                       probs.ML.test.upper,\n",
    "                       lower.test,\n",
    "                       probs.ML.test.lower,\n",
    "                       dx1.train)\n",
    "\n",
    "head(plt.data)  \n",
    "str(plt.data)"
   ]
  },
  {
   "cell_type": "code",
   "execution_count": 30,
   "metadata": {
    "scrolled": true
   },
   "outputs": [
    {
     "data": {
      "image/png": "[encoded data removed]",
      "text/plain": [
       "plot without title"
      ]
     },
     "metadata": {
      "image/png": {
       "height": 420,
       "width": 420
      },
      "text/plain": {
       "height": 420,
       "width": 420
      }
     },
     "output_type": "display_data"
    }
   ],
   "source": [
    "ggplot(plt.data, aes(X1.train)) +\n",
    "  geom_line(aes(y = probs.fit.train, colour = X2.train), cex = 1.5)"
   ]
  },
  {
   "cell_type": "code",
   "execution_count": 31,
   "metadata": {},
   "outputs": [
    {
     "data": {
      "image/png": "[encoded data removed]",
      "text/plain": [
       "plot without title"
      ]
     },
     "metadata": {
      "image/png": {
       "height": 420,
       "width": 420
      },
      "text/plain": {
       "height": 420,
       "width": 420
      }
     },
     "output_type": "display_data"
    }
   ],
   "source": [
    "# Plot the marginal effect of X1\n",
    "ggplot(plt.data, aes(X1.train)) +\n",
    "  geom_line(aes(y = dx1.train, colour = X2.train), cex = 1.5)"
   ]
  },
  {
   "cell_type": "code",
   "execution_count": 32,
   "metadata": {
    "scrolled": true
   },
   "outputs": [
    {
     "data": {
      "image/png": "[encoded data removed]",
      "text/plain": [
       "plot without title"
      ]
     },
     "metadata": {
      "image/png": {
       "height": 420,
       "width": 420
      },
      "text/plain": {
       "height": 420,
       "width": 420
      }
     },
     "output_type": "display_data"
    }
   ],
   "source": [
    "ggplot(plt.data, aes(X1.train)) +\n",
    "  geom_line(aes(y = probs.fit.train, colour = X2.train), cex = 1.5) +\n",
    "  geom_ribbon(aes(ymin = lower.train,\n",
    "                  ymax = upper.train,\n",
    "                  colour = X2.train),\n",
    "                  alpha = 0.1)"
   ]
  },
  {
   "cell_type": "code",
   "execution_count": 33,
   "metadata": {
    "scrolled": true
   },
   "outputs": [
    {
     "data": {
      "image/png": "[encoded data removed]",
      "text/plain": [
       "plot without title"
      ]
     },
     "metadata": {
      "image/png": {
       "height": 420,
       "width": 420
      },
      "text/plain": {
       "height": 420,
       "width": 420
      }
     },
     "output_type": "display_data"
    }
   ],
   "source": [
    "ggplot(plt.data, aes(X1.train)) +\n",
    "  geom_line(aes(y = probs.fit.train, colour = X2.train), cex = 1) +\n",
    "  geom_ribbon(aes(ymin = lower.train,\n",
    "                  ymax = upper.train,\n",
    "                  colour = X2.train),\n",
    "                  alpha = 0.1) +\n",
    "  geom_point(aes(y = y.train), size = 0.3) +\n",
    "  geom_point(aes(y = probs.true.train), shape = \"x\", cex = 0.8)\n",
    "\n"
   ]
  },
  {
   "cell_type": "code",
   "execution_count": 34,
   "metadata": {},
   "outputs": [
    {
     "data": {
      "image/png": "[encoded data removed]",
      "text/plain": [
       "plot without title"
      ]
     },
     "metadata": {
      "image/png": {
       "height": 420,
       "width": 420
      },
      "text/plain": {
       "height": 420,
       "width": 420
      }
     },
     "output_type": "display_data"
    }
   ],
   "source": [
    "ggplot(plt.data, aes(X1.test)) +\n",
    "geom_line(aes(y = probs.fit.test, colour = X2.test), cex = 1) "
   ]
  },
  {
   "cell_type": "code",
   "execution_count": 35,
   "metadata": {},
   "outputs": [
    {
     "data": {
      "image/png": "[encoded data removed]",
      "text/plain": [
       "plot without title"
      ]
     },
     "metadata": {
      "image/png": {
       "height": 420,
       "width": 420
      },
      "text/plain": {
       "height": 420,
       "width": 420
      }
     },
     "output_type": "display_data"
    }
   ],
   "source": [
    "ggplot(plt.data, aes(X1.test)) +\n",
    "geom_line(aes(y = probs.fit.test, colour = X2.test), cex = 1) +\n",
    "geom_ribbon(aes(ymin = lower.test,\n",
    "                ymax = upper.test,\n",
    "                colour = X2.test),\n",
    "            alpha = 0.1)"
   ]
  },
  {
   "cell_type": "code",
   "execution_count": 36,
   "metadata": {},
   "outputs": [
    {
     "data": {
      "image/png": "[encoded data removed]",
      "text/plain": [
       "plot without title"
      ]
     },
     "metadata": {
      "image/png": {
       "height": 420,
       "width": 420
      },
      "text/plain": {
       "height": 420,
       "width": 420
      }
     },
     "output_type": "display_data"
    }
   ],
   "source": [
    "ggplot(plt.data, aes(X1.test)) +\n",
    "geom_line(aes(y = probs.fit.test, colour = X2.test), cex = 1) +\n",
    "geom_ribbon(aes(ymin = lower.test,\n",
    "                ymax = upper.test,\n",
    "                colour = X2.test),\n",
    "            alpha = 0.1) +\n",
    "geom_point(aes(y = y.test), size = 0.3) +\n",
    "geom_point(aes(y = probs.true.test), shape = \"x\", cex = 0.8)"
   ]
  },
  {
   "cell_type": "code",
   "execution_count": 37,
   "metadata": {},
   "outputs": [
    {
     "data": {
      "image/png": "[encoded data removed]",
      "text/plain": [
       "plot without title"
      ]
     },
     "metadata": {
      "image/png": {
       "height": 420,
       "width": 420
      },
      "text/plain": {
       "height": 420,
       "width": 420
      }
     },
     "output_type": "display_data"
    }
   ],
   "source": [
    "ggplot(plt.data, aes(X1.train)) +\n",
    "  geom_line(aes(y = probs.ML.train, colour = X2.train), cex = 1) +\n",
    "  geom_ribbon(aes(ymin = probs.ML.train.lower,\n",
    "                  ymax = probs.ML.train.upper,\n",
    "                  colour = X2.train),\n",
    "              alpha = 0.1) +\n",
    "  geom_point(aes(y = y.train), size = 0.3)"
   ]
  },
  {
   "cell_type": "code",
   "execution_count": 38,
   "metadata": {},
   "outputs": [],
   "source": [
    "logit.train.plt <- ggplot(plt.data, aes(X1.train)) +\n",
    "  geom_line(aes(y = probs.fit.train, colour = X2.train), cex = 1) +\n",
    "  geom_ribbon(aes(ymin = lower.train,\n",
    "                  ymax = upper.train,\n",
    "                  colour = X2.train),\n",
    "              alpha = 0.1) +\n",
    "  geom_point(aes(y = y.train), size = 0.3) \n",
    "\n",
    "ML.train.plt <- ggplot(plt.data, aes(X1.train)) +\n",
    "  geom_line(aes(y = probs.ML.train, colour = X2.train), cex = 1) +\n",
    "  geom_ribbon(aes(ymin = probs.ML.train.lower,\n",
    "                  ymax = probs.ML.train.upper,\n",
    "                  colour = X2.train),\n",
    "              alpha = 0.1) +\n",
    "  geom_point(aes(y = y.train), size = 0.3)\n",
    "\n",
    "logit.test.plt <- ggplot(plt.data, aes(X1.test)) +\n",
    "  geom_line(aes(y = probs.fit.test, colour = X2.test), cex = 1) +\n",
    "  geom_ribbon(aes(ymin = lower.test,\n",
    "                  ymax = upper.test,\n",
    "                  colour = X2.test),\n",
    "              alpha = 0.1) +\n",
    "  geom_point(aes(y = y.test), size = 0.3)\n",
    "\n",
    "ML.test.plt <- ggplot(plt.data, aes(X1.test)) +\n",
    "  \n",
    "  geom_line(aes(y = probs.ML.test, colour = X2.test), cex = 1) +\n",
    "  geom_ribbon(aes(ymin = probs.ML.test.lower,\n",
    "                  ymax = probs.ML.test.upper,\n",
    "                  colour = X2.test),\n",
    "              alpha = 0.1) +\n",
    "  geom_point(aes(y = y.test), size = 0.3)"
   ]
  },
  {
   "cell_type": "code",
   "execution_count": 39,
   "metadata": {},
   "outputs": [
    {
     "data": {
      "image/png": "[encoded data removed]",
      "text/plain": [
       "plot without title"
      ]
     },
     "metadata": {
      "image/png": {
       "height": 420,
       "width": 420
      },
      "text/plain": {
       "height": 420,
       "width": 420
      }
     },
     "output_type": "display_data"
    }
   ],
   "source": [
    "ggarrange(logit.train.plt, ML.train.plt)"
   ]
  },
  {
   "cell_type": "code",
   "execution_count": 40,
   "metadata": {},
   "outputs": [
    {
     "data": {
      "image/png": "[encoded data removed]",
      "text/plain": [
       "plot without title"
      ]
     },
     "metadata": {
      "image/png": {
       "height": 420,
       "width": 420
      },
      "text/plain": {
       "height": 420,
       "width": 420
      }
     },
     "output_type": "display_data"
    }
   ],
   "source": [
    "ggarrange(logit.test.plt, ML.test.plt)"
   ]
  },
  {
   "cell_type": "markdown",
   "metadata": {},
   "source": [
    "## Exercise 2: Simulations"
   ]
  },
  {
   "cell_type": "code",
   "execution_count": 41,
   "metadata": {},
   "outputs": [],
   "source": [
    "# Parameters\n",
    "set.seed(seed)\n",
    "nsim <- 100 # number of simulations\n",
    "n <- 1000\n",
    "beta <- beta\n",
    "X1.min <- 18\n",
    "X1.max <- 60\n",
    "X2.P1 <- 0.5"
   ]
  },
  {
   "cell_type": "code",
   "execution_count": 42,
   "metadata": {},
   "outputs": [],
   "source": [
    "# Original data generating function\n",
    "data.gen <- function(n, beta, X1.min, X1.max, X2.P1) {\n",
    "  X0 <- rep(1, n)\n",
    "  X1 <- sort(runif(n, X1.min, X1.max))\n",
    "  X2 <- rbinom(n, 1, X2.P1)\n",
    "  X <- cbind(X0, X1, X2)\n",
    "  logodds <- X %*% beta\n",
    "  pi_x <- 1 / (1 + exp(-logodds))\n",
    "  y <- rbinom(n, 1, prob = pi_x)\n",
    "  data <- cbind.data.frame(X, logodds, pi_x, y)\n",
    "  return(data)\n",
    "}"
   ]
  },
  {
   "cell_type": "code",
   "execution_count": 43,
   "metadata": {},
   "outputs": [],
   "source": [
    "# Define a function to get MSE and AVE from a model\n",
    "geterr <- function(threshold) {\n",
    "  # Generate data\n",
    "  data.train <- data.gen(n, beta, X1.min, X1.max, X2.P1)\n",
    "  data.test <- data.gen(n, beta, X1.min, X1.max, X2.P1) \n",
    "  X.train <- cbind(data.train$X0, data.train$X1, data.train$X2)\n",
    "  X.test <- cbind(data.test$X0, data.test$X1, data.test$X2)\n",
    "  \n",
    "  # Get logistic estimates and fitted values\n",
    "  Logit <- glm(y ~ X1 + X2, data = data.train, family = binomial)\n",
    "  logit.train <- predict(Logit, data.train, se = T)\n",
    "  logodds.fit.train <- logit.train$fit\n",
    "  probs.fit.train <- 1 / (1 + exp(-logodds.fit.train))\n",
    "  \n",
    "  logit.test <- predict(Logit, newdata = data.test, se = T)\n",
    "  logodds.fit.test <- logit.test$fit\n",
    "  probs.fit.test <- 1 / (1 + exp(-logodds.fit.test))\n",
    "  \n",
    "  # MSE and AVE\n",
    "  y.pred.train <-  c()\n",
    "  y.pred.test <- c()\n",
    "  \n",
    "  for (i in 1:n) {\n",
    "    if (probs.fit.train[i] >= threshold) {\n",
    "      y.pred.train[i] <- 1\n",
    "    }\n",
    "    else {\n",
    "      y.pred.train[i] <- 0\n",
    "    }\n",
    "    if (probs.fit.test[i] >= threshold) {\n",
    "      y.pred.test[i] <- 1\n",
    "    }\n",
    "    else {\n",
    "      y.pred.test[i] <- 0\n",
    "    }\n",
    "  }\n",
    "  # Training error\n",
    "  MSE <- sum(y.pred.train != data.train$y) / length(data.train$y)\n",
    "  \n",
    "  # Testing error\n",
    "  AVE <- sum(y.pred.test != data.test$y) / length(data.test$y)\n",
    "  errs <- cbind.data.frame(MSE, AVE)\n",
    "  \n",
    "  return(errs)\n",
    "}"
   ]
  },
  {
   "cell_type": "code",
   "execution_count": 44,
   "metadata": {
    "scrolled": true
   },
   "outputs": [
    {
     "data": {
      "text/html": [
       "<style>\n",
       ".list-inline {list-style: none; margin:0; padding: 0}\n",
       ".list-inline>li {display: inline-block}\n",
       ".list-inline>li:not(:last-child)::after {content: \"\\00b7\"; padding: 0 .5ex}\n",
       "</style>\n",
       "<ol class=list-inline><li>0.137</li><li>0.131</li><li>0.142</li><li>0.153</li><li>0.128</li><li>0.143</li><li>0.14</li><li>0.125</li><li>0.132</li><li>0.115</li><li>0.116</li><li>0.128</li><li>0.125</li><li>0.115</li><li>0.141</li><li>0.118</li><li>0.148</li><li>0.147</li><li>0.133</li><li>0.135</li><li>0.136</li><li>0.152</li><li>0.153</li><li>0.145</li><li>0.147</li><li>0.129</li><li>0.143</li><li>0.132</li><li>0.138</li><li>0.127</li><li>0.139</li><li>0.118</li><li>0.148</li><li>0.132</li><li>0.118</li><li>0.133</li><li>0.143</li><li>0.132</li><li>0.14</li><li>0.152</li><li>0.144</li><li>0.14</li><li>0.145</li><li>0.148</li><li>0.13</li><li>0.125</li><li>0.133</li><li>0.141</li><li>0.134</li><li>0.132</li><li>0.139</li><li>0.14</li><li>0.138</li><li>0.109</li><li>0.133</li><li>0.141</li><li>0.125</li><li>0.125</li><li>0.123</li><li>0.155</li><li>0.122</li><li>0.143</li><li>0.128</li><li>0.171</li><li>0.107</li><li>0.127</li><li>0.154</li><li>0.137</li><li>0.131</li><li>0.135</li><li>0.124</li><li>0.132</li><li>0.137</li><li>0.111</li><li>0.141</li><li>0.164</li><li>0.126</li><li>0.145</li><li>0.128</li><li>0.121</li><li>0.135</li><li>0.137</li><li>0.14</li><li>0.129</li><li>0.136</li><li>0.122</li><li>0.13</li><li>0.139</li><li>0.113</li><li>0.133</li><li>0.126</li><li>0.112</li><li>0.131</li><li>0.152</li><li>0.148</li><li>0.124</li><li>0.134</li><li>0.151</li><li>0.134</li><li>0.119</li></ol>\n"
      ],
      "text/latex": [
       "\\begin{enumerate*}\n",
       "\\item 0.137\n",
       "\\item 0.131\n",
       "\\item 0.142\n",
       "\\item 0.153\n",
       "\\item 0.128\n",
       "\\item 0.143\n",
       "\\item 0.14\n",
       "\\item 0.125\n",
       "\\item 0.132\n",
       "\\item 0.115\n",
       "\\item 0.116\n",
       "\\item 0.128\n",
       "\\item 0.125\n",
       "\\item 0.115\n",
       "\\item 0.141\n",
       "\\item 0.118\n",
       "\\item 0.148\n",
       "\\item 0.147\n",
       "\\item 0.133\n",
       "\\item 0.135\n",
       "\\item 0.136\n",
       "\\item 0.152\n",
       "\\item 0.153\n",
       "\\item 0.145\n",
       "\\item 0.147\n",
       "\\item 0.129\n",
       "\\item 0.143\n",
       "\\item 0.132\n",
       "\\item 0.138\n",
       "\\item 0.127\n",
       "\\item 0.139\n",
       "\\item 0.118\n",
       "\\item 0.148\n",
       "\\item 0.132\n",
       "\\item 0.118\n",
       "\\item 0.133\n",
       "\\item 0.143\n",
       "\\item 0.132\n",
       "\\item 0.14\n",
       "\\item 0.152\n",
       "\\item 0.144\n",
       "\\item 0.14\n",
       "\\item 0.145\n",
       "\\item 0.148\n",
       "\\item 0.13\n",
       "\\item 0.125\n",
       "\\item 0.133\n",
       "\\item 0.141\n",
       "\\item 0.134\n",
       "\\item 0.132\n",
       "\\item 0.139\n",
       "\\item 0.14\n",
       "\\item 0.138\n",
       "\\item 0.109\n",
       "\\item 0.133\n",
       "\\item 0.141\n",
       "\\item 0.125\n",
       "\\item 0.125\n",
       "\\item 0.123\n",
       "\\item 0.155\n",
       "\\item 0.122\n",
       "\\item 0.143\n",
       "\\item 0.128\n",
       "\\item 0.171\n",
       "\\item 0.107\n",
       "\\item 0.127\n",
       "\\item 0.154\n",
       "\\item 0.137\n",
       "\\item 0.131\n",
       "\\item 0.135\n",
       "\\item 0.124\n",
       "\\item 0.132\n",
       "\\item 0.137\n",
       "\\item 0.111\n",
       "\\item 0.141\n",
       "\\item 0.164\n",
       "\\item 0.126\n",
       "\\item 0.145\n",
       "\\item 0.128\n",
       "\\item 0.121\n",
       "\\item 0.135\n",
       "\\item 0.137\n",
       "\\item 0.14\n",
       "\\item 0.129\n",
       "\\item 0.136\n",
       "\\item 0.122\n",
       "\\item 0.13\n",
       "\\item 0.139\n",
       "\\item 0.113\n",
       "\\item 0.133\n",
       "\\item 0.126\n",
       "\\item 0.112\n",
       "\\item 0.131\n",
       "\\item 0.152\n",
       "\\item 0.148\n",
       "\\item 0.124\n",
       "\\item 0.134\n",
       "\\item 0.151\n",
       "\\item 0.134\n",
       "\\item 0.119\n",
       "\\end{enumerate*}\n"
      ],
      "text/markdown": [
       "1. 0.137\n",
       "2. 0.131\n",
       "3. 0.142\n",
       "4. 0.153\n",
       "5. 0.128\n",
       "6. 0.143\n",
       "7. 0.14\n",
       "8. 0.125\n",
       "9. 0.132\n",
       "10. 0.115\n",
       "11. 0.116\n",
       "12. 0.128\n",
       "13. 0.125\n",
       "14. 0.115\n",
       "15. 0.141\n",
       "16. 0.118\n",
       "17. 0.148\n",
       "18. 0.147\n",
       "19. 0.133\n",
       "20. 0.135\n",
       "21. 0.136\n",
       "22. 0.152\n",
       "23. 0.153\n",
       "24. 0.145\n",
       "25. 0.147\n",
       "26. 0.129\n",
       "27. 0.143\n",
       "28. 0.132\n",
       "29. 0.138\n",
       "30. 0.127\n",
       "31. 0.139\n",
       "32. 0.118\n",
       "33. 0.148\n",
       "34. 0.132\n",
       "35. 0.118\n",
       "36. 0.133\n",
       "37. 0.143\n",
       "38. 0.132\n",
       "39. 0.14\n",
       "40. 0.152\n",
       "41. 0.144\n",
       "42. 0.14\n",
       "43. 0.145\n",
       "44. 0.148\n",
       "45. 0.13\n",
       "46. 0.125\n",
       "47. 0.133\n",
       "48. 0.141\n",
       "49. 0.134\n",
       "50. 0.132\n",
       "51. 0.139\n",
       "52. 0.14\n",
       "53. 0.138\n",
       "54. 0.109\n",
       "55. 0.133\n",
       "56. 0.141\n",
       "57. 0.125\n",
       "58. 0.125\n",
       "59. 0.123\n",
       "60. 0.155\n",
       "61. 0.122\n",
       "62. 0.143\n",
       "63. 0.128\n",
       "64. 0.171\n",
       "65. 0.107\n",
       "66. 0.127\n",
       "67. 0.154\n",
       "68. 0.137\n",
       "69. 0.131\n",
       "70. 0.135\n",
       "71. 0.124\n",
       "72. 0.132\n",
       "73. 0.137\n",
       "74. 0.111\n",
       "75. 0.141\n",
       "76. 0.164\n",
       "77. 0.126\n",
       "78. 0.145\n",
       "79. 0.128\n",
       "80. 0.121\n",
       "81. 0.135\n",
       "82. 0.137\n",
       "83. 0.14\n",
       "84. 0.129\n",
       "85. 0.136\n",
       "86. 0.122\n",
       "87. 0.13\n",
       "88. 0.139\n",
       "89. 0.113\n",
       "90. 0.133\n",
       "91. 0.126\n",
       "92. 0.112\n",
       "93. 0.131\n",
       "94. 0.152\n",
       "95. 0.148\n",
       "96. 0.124\n",
       "97. 0.134\n",
       "98. 0.151\n",
       "99. 0.134\n",
       "100. 0.119\n",
       "\n",
       "\n"
      ],
      "text/plain": [
       "  [1] 0.137 0.131 0.142 0.153 0.128 0.143 0.140 0.125 0.132 0.115 0.116 0.128\n",
       " [13] 0.125 0.115 0.141 0.118 0.148 0.147 0.133 0.135 0.136 0.152 0.153 0.145\n",
       " [25] 0.147 0.129 0.143 0.132 0.138 0.127 0.139 0.118 0.148 0.132 0.118 0.133\n",
       " [37] 0.143 0.132 0.140 0.152 0.144 0.140 0.145 0.148 0.130 0.125 0.133 0.141\n",
       " [49] 0.134 0.132 0.139 0.140 0.138 0.109 0.133 0.141 0.125 0.125 0.123 0.155\n",
       " [61] 0.122 0.143 0.128 0.171 0.107 0.127 0.154 0.137 0.131 0.135 0.124 0.132\n",
       " [73] 0.137 0.111 0.141 0.164 0.126 0.145 0.128 0.121 0.135 0.137 0.140 0.129\n",
       " [85] 0.136 0.122 0.130 0.139 0.113 0.133 0.126 0.112 0.131 0.152 0.148 0.124\n",
       " [97] 0.134 0.151 0.134 0.119"
      ]
     },
     "metadata": {},
     "output_type": "display_data"
    },
    {
     "data": {
      "text/html": [
       "<style>\n",
       ".list-inline {list-style: none; margin:0; padding: 0}\n",
       ".list-inline>li {display: inline-block}\n",
       ".list-inline>li:not(:last-child)::after {content: \"\\00b7\"; padding: 0 .5ex}\n",
       "</style>\n",
       "<ol class=list-inline><li>0.122</li><li>0.146</li><li>0.126</li><li>0.139</li><li>0.134</li><li>0.14</li><li>0.126</li><li>0.136</li><li>0.145</li><li>0.156</li><li>0.136</li><li>0.136</li><li>0.141</li><li>0.138</li><li>0.112</li><li>0.135</li><li>0.135</li><li>0.124</li><li>0.12</li><li>0.138</li><li>0.142</li><li>0.137</li><li>0.142</li><li>0.135</li><li>0.133</li><li>0.146</li><li>0.154</li><li>0.136</li><li>0.134</li><li>0.14</li><li>0.147</li><li>0.149</li><li>0.122</li><li>0.128</li><li>0.138</li><li>0.15</li><li>0.141</li><li>0.11</li><li>0.126</li><li>0.131</li><li>0.145</li><li>0.135</li><li>0.131</li><li>0.119</li><li>0.133</li><li>0.125</li><li>0.142</li><li>0.135</li><li>0.132</li><li>0.122</li><li>0.127</li><li>0.136</li><li>0.129</li><li>0.141</li><li>0.136</li><li>0.133</li><li>0.163</li><li>0.138</li><li>0.151</li><li>0.142</li><li>0.16</li><li>0.136</li><li>0.151</li><li>0.147</li><li>0.141</li><li>0.133</li><li>0.142</li><li>0.139</li><li>0.145</li><li>0.125</li><li>0.14</li><li>0.126</li><li>0.149</li><li>0.138</li><li>0.151</li><li>0.126</li><li>0.141</li><li>0.142</li><li>0.146</li><li>0.156</li><li>0.128</li><li>0.134</li><li>0.128</li><li>0.127</li><li>0.146</li><li>0.13</li><li>0.161</li><li>0.136</li><li>0.138</li><li>0.125</li><li>0.133</li><li>0.15</li><li>0.139</li><li>0.121</li><li>0.144</li><li>0.144</li><li>0.129</li><li>0.124</li><li>0.121</li><li>0.141</li></ol>\n"
      ],
      "text/latex": [
       "\\begin{enumerate*}\n",
       "\\item 0.122\n",
       "\\item 0.146\n",
       "\\item 0.126\n",
       "\\item 0.139\n",
       "\\item 0.134\n",
       "\\item 0.14\n",
       "\\item 0.126\n",
       "\\item 0.136\n",
       "\\item 0.145\n",
       "\\item 0.156\n",
       "\\item 0.136\n",
       "\\item 0.136\n",
       "\\item 0.141\n",
       "\\item 0.138\n",
       "\\item 0.112\n",
       "\\item 0.135\n",
       "\\item 0.135\n",
       "\\item 0.124\n",
       "\\item 0.12\n",
       "\\item 0.138\n",
       "\\item 0.142\n",
       "\\item 0.137\n",
       "\\item 0.142\n",
       "\\item 0.135\n",
       "\\item 0.133\n",
       "\\item 0.146\n",
       "\\item 0.154\n",
       "\\item 0.136\n",
       "\\item 0.134\n",
       "\\item 0.14\n",
       "\\item 0.147\n",
       "\\item 0.149\n",
       "\\item 0.122\n",
       "\\item 0.128\n",
       "\\item 0.138\n",
       "\\item 0.15\n",
       "\\item 0.141\n",
       "\\item 0.11\n",
       "\\item 0.126\n",
       "\\item 0.131\n",
       "\\item 0.145\n",
       "\\item 0.135\n",
       "\\item 0.131\n",
       "\\item 0.119\n",
       "\\item 0.133\n",
       "\\item 0.125\n",
       "\\item 0.142\n",
       "\\item 0.135\n",
       "\\item 0.132\n",
       "\\item 0.122\n",
       "\\item 0.127\n",
       "\\item 0.136\n",
       "\\item 0.129\n",
       "\\item 0.141\n",
       "\\item 0.136\n",
       "\\item 0.133\n",
       "\\item 0.163\n",
       "\\item 0.138\n",
       "\\item 0.151\n",
       "\\item 0.142\n",
       "\\item 0.16\n",
       "\\item 0.136\n",
       "\\item 0.151\n",
       "\\item 0.147\n",
       "\\item 0.141\n",
       "\\item 0.133\n",
       "\\item 0.142\n",
       "\\item 0.139\n",
       "\\item 0.145\n",
       "\\item 0.125\n",
       "\\item 0.14\n",
       "\\item 0.126\n",
       "\\item 0.149\n",
       "\\item 0.138\n",
       "\\item 0.151\n",
       "\\item 0.126\n",
       "\\item 0.141\n",
       "\\item 0.142\n",
       "\\item 0.146\n",
       "\\item 0.156\n",
       "\\item 0.128\n",
       "\\item 0.134\n",
       "\\item 0.128\n",
       "\\item 0.127\n",
       "\\item 0.146\n",
       "\\item 0.13\n",
       "\\item 0.161\n",
       "\\item 0.136\n",
       "\\item 0.138\n",
       "\\item 0.125\n",
       "\\item 0.133\n",
       "\\item 0.15\n",
       "\\item 0.139\n",
       "\\item 0.121\n",
       "\\item 0.144\n",
       "\\item 0.144\n",
       "\\item 0.129\n",
       "\\item 0.124\n",
       "\\item 0.121\n",
       "\\item 0.141\n",
       "\\end{enumerate*}\n"
      ],
      "text/markdown": [
       "1. 0.122\n",
       "2. 0.146\n",
       "3. 0.126\n",
       "4. 0.139\n",
       "5. 0.134\n",
       "6. 0.14\n",
       "7. 0.126\n",
       "8. 0.136\n",
       "9. 0.145\n",
       "10. 0.156\n",
       "11. 0.136\n",
       "12. 0.136\n",
       "13. 0.141\n",
       "14. 0.138\n",
       "15. 0.112\n",
       "16. 0.135\n",
       "17. 0.135\n",
       "18. 0.124\n",
       "19. 0.12\n",
       "20. 0.138\n",
       "21. 0.142\n",
       "22. 0.137\n",
       "23. 0.142\n",
       "24. 0.135\n",
       "25. 0.133\n",
       "26. 0.146\n",
       "27. 0.154\n",
       "28. 0.136\n",
       "29. 0.134\n",
       "30. 0.14\n",
       "31. 0.147\n",
       "32. 0.149\n",
       "33. 0.122\n",
       "34. 0.128\n",
       "35. 0.138\n",
       "36. 0.15\n",
       "37. 0.141\n",
       "38. 0.11\n",
       "39. 0.126\n",
       "40. 0.131\n",
       "41. 0.145\n",
       "42. 0.135\n",
       "43. 0.131\n",
       "44. 0.119\n",
       "45. 0.133\n",
       "46. 0.125\n",
       "47. 0.142\n",
       "48. 0.135\n",
       "49. 0.132\n",
       "50. 0.122\n",
       "51. 0.127\n",
       "52. 0.136\n",
       "53. 0.129\n",
       "54. 0.141\n",
       "55. 0.136\n",
       "56. 0.133\n",
       "57. 0.163\n",
       "58. 0.138\n",
       "59. 0.151\n",
       "60. 0.142\n",
       "61. 0.16\n",
       "62. 0.136\n",
       "63. 0.151\n",
       "64. 0.147\n",
       "65. 0.141\n",
       "66. 0.133\n",
       "67. 0.142\n",
       "68. 0.139\n",
       "69. 0.145\n",
       "70. 0.125\n",
       "71. 0.14\n",
       "72. 0.126\n",
       "73. 0.149\n",
       "74. 0.138\n",
       "75. 0.151\n",
       "76. 0.126\n",
       "77. 0.141\n",
       "78. 0.142\n",
       "79. 0.146\n",
       "80. 0.156\n",
       "81. 0.128\n",
       "82. 0.134\n",
       "83. 0.128\n",
       "84. 0.127\n",
       "85. 0.146\n",
       "86. 0.13\n",
       "87. 0.161\n",
       "88. 0.136\n",
       "89. 0.138\n",
       "90. 0.125\n",
       "91. 0.133\n",
       "92. 0.15\n",
       "93. 0.139\n",
       "94. 0.121\n",
       "95. 0.144\n",
       "96. 0.144\n",
       "97. 0.129\n",
       "98. 0.124\n",
       "99. 0.121\n",
       "100. 0.141\n",
       "\n",
       "\n"
      ],
      "text/plain": [
       "  [1] 0.122 0.146 0.126 0.139 0.134 0.140 0.126 0.136 0.145 0.156 0.136 0.136\n",
       " [13] 0.141 0.138 0.112 0.135 0.135 0.124 0.120 0.138 0.142 0.137 0.142 0.135\n",
       " [25] 0.133 0.146 0.154 0.136 0.134 0.140 0.147 0.149 0.122 0.128 0.138 0.150\n",
       " [37] 0.141 0.110 0.126 0.131 0.145 0.135 0.131 0.119 0.133 0.125 0.142 0.135\n",
       " [49] 0.132 0.122 0.127 0.136 0.129 0.141 0.136 0.133 0.163 0.138 0.151 0.142\n",
       " [61] 0.160 0.136 0.151 0.147 0.141 0.133 0.142 0.139 0.145 0.125 0.140 0.126\n",
       " [73] 0.149 0.138 0.151 0.126 0.141 0.142 0.146 0.156 0.128 0.134 0.128 0.127\n",
       " [85] 0.146 0.130 0.161 0.136 0.138 0.125 0.133 0.150 0.139 0.121 0.144 0.144\n",
       " [97] 0.129 0.124 0.121 0.141"
      ]
     },
     "metadata": {},
     "output_type": "display_data"
    }
   ],
   "source": [
    "# Time for simulations\n",
    "# Simulate and store the interested values\n",
    "errlist <- replicate(nsim, geterr(0.5), simplify = F)\n",
    "MSEs <- c()\n",
    "AVEs <- c()\n",
    "for (i in 1:nsim) {\n",
    "  MSEs[i] <- errlist[[i]]$MSE\n",
    "  AVEs[i] <- errlist[[i]]$AVE\n",
    "}\n",
    "MSEs\n",
    "AVEs\n",
    "plt.data.2 <- cbind.data.frame(sim = 1:nsim, err = MSEs, type = \"MSEs\") %>%\n",
    "  rbind(data.frame(sim = 1:nsim, err = AVEs, type = \"AVEs\"))"
   ]
  },
  {
   "cell_type": "code",
   "execution_count": 45,
   "metadata": {},
   "outputs": [
    {
     "data": {
      "image/png": "[encoded data removed]",
      "text/plain": [
       "plot without title"
      ]
     },
     "metadata": {
      "image/png": {
       "height": 420,
       "width": 420
      },
      "text/plain": {
       "height": 420,
       "width": 420
      }
     },
     "output_type": "display_data"
    }
   ],
   "source": [
    "ggplot(plt.data.2, aes(sim, err, colour = type)) + \n",
    "  geom_point()"
   ]
  },
  {
   "cell_type": "code",
   "execution_count": 46,
   "metadata": {},
   "outputs": [
    {
     "data": {
      "image/png": "[encoded data removed]",
      "text/plain": [
       "plot without title"
      ]
     },
     "metadata": {
      "image/png": {
       "height": 420,
       "width": 420
      },
      "text/plain": {
       "height": 420,
       "width": 420
      }
     },
     "output_type": "display_data"
    }
   ],
   "source": [
    "ggplot(plt.data.2, aes(y = err, colour = type)) + \n",
    "  geom_boxplot()"
   ]
  },
  {
   "cell_type": "code",
   "execution_count": 47,
   "metadata": {},
   "outputs": [
    {
     "data": {
      "image/png": "[encoded data removed]",
      "text/plain": [
       "plot without title"
      ]
     },
     "metadata": {
      "image/png": {
       "height": 420,
       "width": 420
      },
      "text/plain": {
       "height": 420,
       "width": 420
      }
     },
     "output_type": "display_data"
    }
   ],
   "source": [
    "ggplot(plt.data.2, aes(x = err, colour = type)) + \n",
    "  geom_density()"
   ]
  },
  {
   "cell_type": "code",
   "execution_count": 48,
   "metadata": {},
   "outputs": [],
   "source": [
    "# Parameters\n",
    "n <- 1000\n",
    "beta <- beta\n",
    "X1.min <- 18\n",
    "X1.max <- 60\n",
    "X2.P1 <- 0.5"
   ]
  },
  {
   "cell_type": "code",
   "execution_count": 49,
   "metadata": {},
   "outputs": [],
   "source": [
    "# Copy the data.gen function here for modifications\n",
    "data.gen <- function(n, beta, X1.min, X1.max, X2.P1) {\n",
    "  X0 <- rep(1, n)\n",
    "  X1 <- sort(runif(n, X1.min, X1.max))\n",
    "  X2 <- rbinom(n, 1, X2.P1)\n",
    "  X <- cbind(X0, X1, X2)\n",
    "  logodds <- X %*% beta\n",
    "  pi_x <- 1 / (1 + exp(-logodds))\n",
    "  y <- rep(0, n)\n",
    "  for (i in 1:n) {\n",
    "    if (pi_x[i] >= 0.5) {\n",
    "      y[i] <- 1\n",
    "    }\n",
    "    else {\n",
    "      y[i] <- 0\n",
    "    }\n",
    "  }\n",
    "  data <- cbind.data.frame(X, logodds, pi_x, y)\n",
    "  return(data)\n",
    "}"
   ]
  },
  {
   "cell_type": "code",
   "execution_count": 50,
   "metadata": {},
   "outputs": [
    {
     "name": "stderr",
     "output_type": "stream",
     "text": [
      "Warning message:\n",
      "\"glm.fit: algorithm did not converge\"\n",
      "Warning message:\n",
      "\"glm.fit: fitted probabilities numerically 0 or 1 occurred\"\n",
      "Warning message:\n",
      "\"glm.fit: algorithm did not converge\"\n",
      "Warning message:\n",
      "\"glm.fit: fitted probabilities numerically 0 or 1 occurred\"\n",
      "Warning message:\n",
      "\"glm.fit: algorithm did not converge\"\n",
      "Warning message:\n",
      "\"glm.fit: fitted probabilities numerically 0 or 1 occurred\"\n",
      "Warning message:\n",
      "\"glm.fit: algorithm did not converge\"\n",
      "Warning message:\n",
      "\"glm.fit: fitted probabilities numerically 0 or 1 occurred\"\n",
      "Warning message:\n",
      "\"glm.fit: algorithm did not converge\"\n",
      "Warning message:\n",
      "\"glm.fit: fitted probabilities numerically 0 or 1 occurred\"\n",
      "Warning message:\n",
      "\"glm.fit: algorithm did not converge\"\n",
      "Warning message:\n",
      "\"glm.fit: fitted probabilities numerically 0 or 1 occurred\"\n",
      "Warning message:\n",
      "\"glm.fit: algorithm did not converge\"\n",
      "Warning message:\n",
      "\"glm.fit: fitted probabilities numerically 0 or 1 occurred\"\n",
      "Warning message:\n",
      "\"glm.fit: algorithm did not converge\"\n",
      "Warning message:\n",
      "\"glm.fit: fitted probabilities numerically 0 or 1 occurred\"\n",
      "Warning message:\n",
      "\"glm.fit: algorithm did not converge\"\n",
      "Warning message:\n",
      "\"glm.fit: fitted probabilities numerically 0 or 1 occurred\"\n",
      "Warning message:\n",
      "\"glm.fit: algorithm did not converge\"\n",
      "Warning message:\n",
      "\"glm.fit: fitted probabilities numerically 0 or 1 occurred\"\n",
      "Warning message:\n",
      "\"glm.fit: algorithm did not converge\"\n",
      "Warning message:\n",
      "\"glm.fit: fitted probabilities numerically 0 or 1 occurred\"\n",
      "Warning message:\n",
      "\"glm.fit: algorithm did not converge\"\n",
      "Warning message:\n",
      "\"glm.fit: fitted probabilities numerically 0 or 1 occurred\"\n",
      "Warning message:\n",
      "\"glm.fit: algorithm did not converge\"\n",
      "Warning message:\n",
      "\"glm.fit: fitted probabilities numerically 0 or 1 occurred\"\n",
      "Warning message:\n",
      "\"glm.fit: algorithm did not converge\"\n",
      "Warning message:\n",
      "\"glm.fit: fitted probabilities numerically 0 or 1 occurred\"\n",
      "Warning message:\n",
      "\"glm.fit: algorithm did not converge\"\n",
      "Warning message:\n",
      "\"glm.fit: fitted probabilities numerically 0 or 1 occurred\"\n",
      "Warning message:\n",
      "\"glm.fit: algorithm did not converge\"\n",
      "Warning message:\n",
      "\"glm.fit: fitted probabilities numerically 0 or 1 occurred\"\n",
      "Warning message:\n",
      "\"glm.fit: algorithm did not converge\"\n",
      "Warning message:\n",
      "\"glm.fit: fitted probabilities numerically 0 or 1 occurred\"\n",
      "Warning message:\n",
      "\"glm.fit: algorithm did not converge\"\n",
      "Warning message:\n",
      "\"glm.fit: fitted probabilities numerically 0 or 1 occurred\"\n",
      "Warning message:\n",
      "\"glm.fit: algorithm did not converge\"\n",
      "Warning message:\n",
      "\"glm.fit: fitted probabilities numerically 0 or 1 occurred\"\n",
      "Warning message:\n",
      "\"glm.fit: algorithm did not converge\"\n",
      "Warning message:\n",
      "\"glm.fit: fitted probabilities numerically 0 or 1 occurred\"\n",
      "Warning message:\n",
      "\"glm.fit: algorithm did not converge\"\n",
      "Warning message:\n",
      "\"glm.fit: fitted probabilities numerically 0 or 1 occurred\"\n",
      "Warning message:\n",
      "\"glm.fit: algorithm did not converge\"\n",
      "Warning message:\n",
      "\"glm.fit: fitted probabilities numerically 0 or 1 occurred\"\n",
      "Warning message:\n",
      "\"glm.fit: algorithm did not converge\"\n",
      "Warning message:\n",
      "\"glm.fit: fitted probabilities numerically 0 or 1 occurred\"\n",
      "Warning message:\n",
      "\"glm.fit: algorithm did not converge\"\n",
      "Warning message:\n",
      "\"glm.fit: fitted probabilities numerically 0 or 1 occurred\"\n",
      "Warning message:\n",
      "\"glm.fit: algorithm did not converge\"\n",
      "Warning message:\n",
      "\"glm.fit: fitted probabilities numerically 0 or 1 occurred\"\n",
      "Warning message:\n",
      "\"glm.fit: algorithm did not converge\"\n",
      "Warning message:\n",
      "\"glm.fit: fitted probabilities numerically 0 or 1 occurred\"\n",
      "Warning message:\n",
      "\"glm.fit: algorithm did not converge\"\n",
      "Warning message:\n",
      "\"glm.fit: fitted probabilities numerically 0 or 1 occurred\"\n",
      "Warning message:\n",
      "\"glm.fit: algorithm did not converge\"\n",
      "Warning message:\n",
      "\"glm.fit: fitted probabilities numerically 0 or 1 occurred\"\n",
      "Warning message:\n",
      "\"glm.fit: algorithm did not converge\"\n",
      "Warning message:\n",
      "\"glm.fit: fitted probabilities numerically 0 or 1 occurred\"\n",
      "Warning message:\n",
      "\"glm.fit: algorithm did not converge\"\n",
      "Warning message:\n",
      "\"glm.fit: fitted probabilities numerically 0 or 1 occurred\"\n",
      "Warning message:\n",
      "\"glm.fit: algorithm did not converge\"\n",
      "Warning message:\n",
      "\"glm.fit: fitted probabilities numerically 0 or 1 occurred\"\n",
      "Warning message:\n",
      "\"glm.fit: algorithm did not converge\"\n",
      "Warning message:\n",
      "\"glm.fit: fitted probabilities numerically 0 or 1 occurred\"\n",
      "Warning message:\n",
      "\"glm.fit: algorithm did not converge\"\n",
      "Warning message:\n",
      "\"glm.fit: fitted probabilities numerically 0 or 1 occurred\"\n",
      "Warning message:\n",
      "\"glm.fit: algorithm did not converge\"\n",
      "Warning message:\n",
      "\"glm.fit: fitted probabilities numerically 0 or 1 occurred\"\n",
      "Warning message:\n",
      "\"glm.fit: algorithm did not converge\"\n",
      "Warning message:\n",
      "\"glm.fit: fitted probabilities numerically 0 or 1 occurred\"\n",
      "Warning message:\n",
      "\"glm.fit: algorithm did not converge\"\n",
      "Warning message:\n",
      "\"glm.fit: fitted probabilities numerically 0 or 1 occurred\"\n",
      "Warning message:\n",
      "\"glm.fit: algorithm did not converge\"\n",
      "Warning message:\n",
      "\"glm.fit: fitted probabilities numerically 0 or 1 occurred\"\n",
      "Warning message:\n",
      "\"glm.fit: algorithm did not converge\"\n",
      "Warning message:\n",
      "\"glm.fit: fitted probabilities numerically 0 or 1 occurred\"\n",
      "Warning message:\n",
      "\"glm.fit: algorithm did not converge\"\n",
      "Warning message:\n",
      "\"glm.fit: fitted probabilities numerically 0 or 1 occurred\"\n",
      "Warning message:\n",
      "\"glm.fit: algorithm did not converge\"\n",
      "Warning message:\n",
      "\"glm.fit: fitted probabilities numerically 0 or 1 occurred\"\n",
      "Warning message:\n",
      "\"glm.fit: algorithm did not converge\"\n",
      "Warning message:\n",
      "\"glm.fit: fitted probabilities numerically 0 or 1 occurred\"\n",
      "Warning message:\n",
      "\"glm.fit: algorithm did not converge\"\n",
      "Warning message:\n",
      "\"glm.fit: fitted probabilities numerically 0 or 1 occurred\"\n",
      "Warning message:\n",
      "\"glm.fit: algorithm did not converge\"\n",
      "Warning message:\n",
      "\"glm.fit: fitted probabilities numerically 0 or 1 occurred\"\n",
      "Warning message:\n",
      "\"glm.fit: algorithm did not converge\"\n",
      "Warning message:\n",
      "\"glm.fit: fitted probabilities numerically 0 or 1 occurred\"\n",
      "Warning message:\n",
      "\"glm.fit: algorithm did not converge\"\n",
      "Warning message:\n",
      "\"glm.fit: fitted probabilities numerically 0 or 1 occurred\"\n",
      "Warning message:\n",
      "\"glm.fit: algorithm did not converge\"\n",
      "Warning message:\n",
      "\"glm.fit: fitted probabilities numerically 0 or 1 occurred\"\n",
      "Warning message:\n",
      "\"glm.fit: algorithm did not converge\"\n",
      "Warning message:\n",
      "\"glm.fit: fitted probabilities numerically 0 or 1 occurred\"\n",
      "Warning message:\n",
      "\"glm.fit: algorithm did not converge\"\n",
      "Warning message:\n",
      "\"glm.fit: fitted probabilities numerically 0 or 1 occurred\"\n",
      "Warning message:\n",
      "\"glm.fit: algorithm did not converge\"\n",
      "Warning message:\n",
      "\"glm.fit: fitted probabilities numerically 0 or 1 occurred\"\n",
      "Warning message:\n",
      "\"glm.fit: algorithm did not converge\"\n",
      "Warning message:\n",
      "\"glm.fit: fitted probabilities numerically 0 or 1 occurred\"\n",
      "Warning message:\n",
      "\"glm.fit: algorithm did not converge\"\n",
      "Warning message:\n",
      "\"glm.fit: fitted probabilities numerically 0 or 1 occurred\"\n",
      "Warning message:\n",
      "\"glm.fit: algorithm did not converge\"\n",
      "Warning message:\n",
      "\"glm.fit: fitted probabilities numerically 0 or 1 occurred\"\n",
      "Warning message:\n",
      "\"glm.fit: algorithm did not converge\"\n",
      "Warning message:\n",
      "\"glm.fit: fitted probabilities numerically 0 or 1 occurred\"\n",
      "Warning message:\n",
      "\"glm.fit: algorithm did not converge\"\n",
      "Warning message:\n",
      "\"glm.fit: fitted probabilities numerically 0 or 1 occurred\"\n",
      "Warning message:\n",
      "\"glm.fit: algorithm did not converge\"\n",
      "Warning message:\n",
      "\"glm.fit: fitted probabilities numerically 0 or 1 occurred\"\n",
      "Warning message:\n",
      "\"glm.fit: algorithm did not converge\"\n",
      "Warning message:\n",
      "\"glm.fit: fitted probabilities numerically 0 or 1 occurred\"\n",
      "Warning message:\n",
      "\"glm.fit: algorithm did not converge\"\n",
      "Warning message:\n",
      "\"glm.fit: fitted probabilities numerically 0 or 1 occurred\"\n",
      "Warning message:\n",
      "\"glm.fit: algorithm did not converge\"\n",
      "Warning message:\n",
      "\"glm.fit: fitted probabilities numerically 0 or 1 occurred\"\n",
      "Warning message:\n",
      "\"glm.fit: algorithm did not converge\"\n",
      "Warning message:\n",
      "\"glm.fit: fitted probabilities numerically 0 or 1 occurred\"\n",
      "Warning message:\n",
      "\"glm.fit: algorithm did not converge\"\n",
      "Warning message:\n",
      "\"glm.fit: fitted probabilities numerically 0 or 1 occurred\"\n",
      "Warning message:\n",
      "\"glm.fit: algorithm did not converge\"\n",
      "Warning message:\n",
      "\"glm.fit: fitted probabilities numerically 0 or 1 occurred\"\n",
      "Warning message:\n",
      "\"glm.fit: algorithm did not converge\"\n",
      "Warning message:\n",
      "\"glm.fit: fitted probabilities numerically 0 or 1 occurred\"\n",
      "Warning message:\n",
      "\"glm.fit: algorithm did not converge\"\n"
     ]
    },
    {
     "name": "stderr",
     "output_type": "stream",
     "text": [
      "Warning message:\n",
      "\"glm.fit: fitted probabilities numerically 0 or 1 occurred\"\n",
      "Warning message:\n",
      "\"glm.fit: algorithm did not converge\"\n",
      "Warning message:\n",
      "\"glm.fit: fitted probabilities numerically 0 or 1 occurred\"\n",
      "Warning message:\n",
      "\"glm.fit: algorithm did not converge\"\n",
      "Warning message:\n",
      "\"glm.fit: fitted probabilities numerically 0 or 1 occurred\"\n",
      "Warning message:\n",
      "\"glm.fit: algorithm did not converge\"\n",
      "Warning message:\n",
      "\"glm.fit: fitted probabilities numerically 0 or 1 occurred\"\n",
      "Warning message:\n",
      "\"glm.fit: algorithm did not converge\"\n",
      "Warning message:\n",
      "\"glm.fit: fitted probabilities numerically 0 or 1 occurred\"\n",
      "Warning message:\n",
      "\"glm.fit: algorithm did not converge\"\n",
      "Warning message:\n",
      "\"glm.fit: fitted probabilities numerically 0 or 1 occurred\"\n",
      "Warning message:\n",
      "\"glm.fit: algorithm did not converge\"\n",
      "Warning message:\n",
      "\"glm.fit: fitted probabilities numerically 0 or 1 occurred\"\n",
      "Warning message:\n",
      "\"glm.fit: algorithm did not converge\"\n",
      "Warning message:\n",
      "\"glm.fit: fitted probabilities numerically 0 or 1 occurred\"\n",
      "Warning message:\n",
      "\"glm.fit: algorithm did not converge\"\n",
      "Warning message:\n",
      "\"glm.fit: fitted probabilities numerically 0 or 1 occurred\"\n",
      "Warning message:\n",
      "\"glm.fit: algorithm did not converge\"\n",
      "Warning message:\n",
      "\"glm.fit: fitted probabilities numerically 0 or 1 occurred\"\n",
      "Warning message:\n",
      "\"glm.fit: algorithm did not converge\"\n",
      "Warning message:\n",
      "\"glm.fit: fitted probabilities numerically 0 or 1 occurred\"\n",
      "Warning message:\n",
      "\"glm.fit: algorithm did not converge\"\n",
      "Warning message:\n",
      "\"glm.fit: fitted probabilities numerically 0 or 1 occurred\"\n",
      "Warning message:\n",
      "\"glm.fit: algorithm did not converge\"\n",
      "Warning message:\n",
      "\"glm.fit: fitted probabilities numerically 0 or 1 occurred\"\n",
      "Warning message:\n",
      "\"glm.fit: algorithm did not converge\"\n",
      "Warning message:\n",
      "\"glm.fit: fitted probabilities numerically 0 or 1 occurred\"\n",
      "Warning message:\n",
      "\"glm.fit: algorithm did not converge\"\n",
      "Warning message:\n",
      "\"glm.fit: fitted probabilities numerically 0 or 1 occurred\"\n",
      "Warning message:\n",
      "\"glm.fit: algorithm did not converge\"\n",
      "Warning message:\n",
      "\"glm.fit: fitted probabilities numerically 0 or 1 occurred\"\n",
      "Warning message:\n",
      "\"glm.fit: algorithm did not converge\"\n",
      "Warning message:\n",
      "\"glm.fit: fitted probabilities numerically 0 or 1 occurred\"\n",
      "Warning message:\n",
      "\"glm.fit: algorithm did not converge\"\n",
      "Warning message:\n",
      "\"glm.fit: fitted probabilities numerically 0 or 1 occurred\"\n",
      "Warning message:\n",
      "\"glm.fit: algorithm did not converge\"\n",
      "Warning message:\n",
      "\"glm.fit: fitted probabilities numerically 0 or 1 occurred\"\n",
      "Warning message:\n",
      "\"glm.fit: algorithm did not converge\"\n",
      "Warning message:\n",
      "\"glm.fit: fitted probabilities numerically 0 or 1 occurred\"\n",
      "Warning message:\n",
      "\"glm.fit: algorithm did not converge\"\n",
      "Warning message:\n",
      "\"glm.fit: fitted probabilities numerically 0 or 1 occurred\"\n",
      "Warning message:\n",
      "\"glm.fit: algorithm did not converge\"\n",
      "Warning message:\n",
      "\"glm.fit: fitted probabilities numerically 0 or 1 occurred\"\n",
      "Warning message:\n",
      "\"glm.fit: algorithm did not converge\"\n",
      "Warning message:\n",
      "\"glm.fit: fitted probabilities numerically 0 or 1 occurred\"\n",
      "Warning message:\n",
      "\"glm.fit: algorithm did not converge\"\n",
      "Warning message:\n",
      "\"glm.fit: fitted probabilities numerically 0 or 1 occurred\"\n",
      "Warning message:\n",
      "\"glm.fit: algorithm did not converge\"\n",
      "Warning message:\n",
      "\"glm.fit: fitted probabilities numerically 0 or 1 occurred\"\n",
      "Warning message:\n",
      "\"glm.fit: algorithm did not converge\"\n",
      "Warning message:\n",
      "\"glm.fit: fitted probabilities numerically 0 or 1 occurred\"\n",
      "Warning message:\n",
      "\"glm.fit: algorithm did not converge\"\n",
      "Warning message:\n",
      "\"glm.fit: fitted probabilities numerically 0 or 1 occurred\"\n",
      "Warning message:\n",
      "\"glm.fit: algorithm did not converge\"\n",
      "Warning message:\n",
      "\"glm.fit: fitted probabilities numerically 0 or 1 occurred\"\n",
      "Warning message:\n",
      "\"glm.fit: algorithm did not converge\"\n",
      "Warning message:\n",
      "\"glm.fit: fitted probabilities numerically 0 or 1 occurred\"\n",
      "Warning message:\n",
      "\"glm.fit: algorithm did not converge\"\n",
      "Warning message:\n",
      "\"glm.fit: fitted probabilities numerically 0 or 1 occurred\"\n",
      "Warning message:\n",
      "\"glm.fit: algorithm did not converge\"\n",
      "Warning message:\n",
      "\"glm.fit: fitted probabilities numerically 0 or 1 occurred\"\n",
      "Warning message:\n",
      "\"glm.fit: algorithm did not converge\"\n",
      "Warning message:\n",
      "\"glm.fit: fitted probabilities numerically 0 or 1 occurred\"\n",
      "Warning message:\n",
      "\"glm.fit: algorithm did not converge\"\n",
      "Warning message:\n",
      "\"glm.fit: fitted probabilities numerically 0 or 1 occurred\"\n",
      "Warning message:\n",
      "\"glm.fit: algorithm did not converge\"\n",
      "Warning message:\n",
      "\"glm.fit: fitted probabilities numerically 0 or 1 occurred\"\n",
      "Warning message:\n",
      "\"glm.fit: algorithm did not converge\"\n",
      "Warning message:\n",
      "\"glm.fit: fitted probabilities numerically 0 or 1 occurred\"\n",
      "Warning message:\n",
      "\"glm.fit: algorithm did not converge\"\n",
      "Warning message:\n",
      "\"glm.fit: fitted probabilities numerically 0 or 1 occurred\"\n",
      "Warning message:\n",
      "\"glm.fit: algorithm did not converge\"\n",
      "Warning message:\n",
      "\"glm.fit: fitted probabilities numerically 0 or 1 occurred\"\n",
      "Warning message:\n",
      "\"glm.fit: algorithm did not converge\"\n",
      "Warning message:\n",
      "\"glm.fit: fitted probabilities numerically 0 or 1 occurred\"\n"
     ]
    },
    {
     "data": {
      "text/html": [
       "<style>\n",
       ".list-inline {list-style: none; margin:0; padding: 0}\n",
       ".list-inline>li {display: inline-block}\n",
       ".list-inline>li:not(:last-child)::after {content: \"\\00b7\"; padding: 0 .5ex}\n",
       "</style>\n",
       "<ol class=list-inline><li>0</li><li>0</li><li>0</li><li>0</li><li>0</li><li>0</li><li>0</li><li>0</li><li>0</li><li>0</li><li>0</li><li>0</li><li>0</li><li>0</li><li>0</li><li>0</li><li>0</li><li>0</li><li>0</li><li>0</li><li>0</li><li>0</li><li>0</li><li>0</li><li>0</li><li>0</li><li>0</li><li>0</li><li>0</li><li>0</li><li>0</li><li>0</li><li>0</li><li>0</li><li>0</li><li>0</li><li>0</li><li>0</li><li>0</li><li>0</li><li>0</li><li>0</li><li>0</li><li>0</li><li>0</li><li>0</li><li>0</li><li>0</li><li>0</li><li>0</li><li>0</li><li>0</li><li>0</li><li>0</li><li>0</li><li>0</li><li>0</li><li>0</li><li>0</li><li>0</li><li>0</li><li>0</li><li>0</li><li>0</li><li>0</li><li>0</li><li>0</li><li>0</li><li>0</li><li>0</li><li>0</li><li>0</li><li>0</li><li>0</li><li>0</li><li>0</li><li>0</li><li>0</li><li>0</li><li>0</li><li>0</li><li>0</li><li>0</li><li>0</li><li>0</li><li>0</li><li>0</li><li>0</li><li>0</li><li>0</li><li>0</li><li>0</li><li>0</li><li>0</li><li>0</li><li>0</li><li>0</li><li>0</li><li>0</li><li>0</li></ol>\n"
      ],
      "text/latex": [
       "\\begin{enumerate*}\n",
       "\\item 0\n",
       "\\item 0\n",
       "\\item 0\n",
       "\\item 0\n",
       "\\item 0\n",
       "\\item 0\n",
       "\\item 0\n",
       "\\item 0\n",
       "\\item 0\n",
       "\\item 0\n",
       "\\item 0\n",
       "\\item 0\n",
       "\\item 0\n",
       "\\item 0\n",
       "\\item 0\n",
       "\\item 0\n",
       "\\item 0\n",
       "\\item 0\n",
       "\\item 0\n",
       "\\item 0\n",
       "\\item 0\n",
       "\\item 0\n",
       "\\item 0\n",
       "\\item 0\n",
       "\\item 0\n",
       "\\item 0\n",
       "\\item 0\n",
       "\\item 0\n",
       "\\item 0\n",
       "\\item 0\n",
       "\\item 0\n",
       "\\item 0\n",
       "\\item 0\n",
       "\\item 0\n",
       "\\item 0\n",
       "\\item 0\n",
       "\\item 0\n",
       "\\item 0\n",
       "\\item 0\n",
       "\\item 0\n",
       "\\item 0\n",
       "\\item 0\n",
       "\\item 0\n",
       "\\item 0\n",
       "\\item 0\n",
       "\\item 0\n",
       "\\item 0\n",
       "\\item 0\n",
       "\\item 0\n",
       "\\item 0\n",
       "\\item 0\n",
       "\\item 0\n",
       "\\item 0\n",
       "\\item 0\n",
       "\\item 0\n",
       "\\item 0\n",
       "\\item 0\n",
       "\\item 0\n",
       "\\item 0\n",
       "\\item 0\n",
       "\\item 0\n",
       "\\item 0\n",
       "\\item 0\n",
       "\\item 0\n",
       "\\item 0\n",
       "\\item 0\n",
       "\\item 0\n",
       "\\item 0\n",
       "\\item 0\n",
       "\\item 0\n",
       "\\item 0\n",
       "\\item 0\n",
       "\\item 0\n",
       "\\item 0\n",
       "\\item 0\n",
       "\\item 0\n",
       "\\item 0\n",
       "\\item 0\n",
       "\\item 0\n",
       "\\item 0\n",
       "\\item 0\n",
       "\\item 0\n",
       "\\item 0\n",
       "\\item 0\n",
       "\\item 0\n",
       "\\item 0\n",
       "\\item 0\n",
       "\\item 0\n",
       "\\item 0\n",
       "\\item 0\n",
       "\\item 0\n",
       "\\item 0\n",
       "\\item 0\n",
       "\\item 0\n",
       "\\item 0\n",
       "\\item 0\n",
       "\\item 0\n",
       "\\item 0\n",
       "\\item 0\n",
       "\\item 0\n",
       "\\end{enumerate*}\n"
      ],
      "text/markdown": [
       "1. 0\n",
       "2. 0\n",
       "3. 0\n",
       "4. 0\n",
       "5. 0\n",
       "6. 0\n",
       "7. 0\n",
       "8. 0\n",
       "9. 0\n",
       "10. 0\n",
       "11. 0\n",
       "12. 0\n",
       "13. 0\n",
       "14. 0\n",
       "15. 0\n",
       "16. 0\n",
       "17. 0\n",
       "18. 0\n",
       "19. 0\n",
       "20. 0\n",
       "21. 0\n",
       "22. 0\n",
       "23. 0\n",
       "24. 0\n",
       "25. 0\n",
       "26. 0\n",
       "27. 0\n",
       "28. 0\n",
       "29. 0\n",
       "30. 0\n",
       "31. 0\n",
       "32. 0\n",
       "33. 0\n",
       "34. 0\n",
       "35. 0\n",
       "36. 0\n",
       "37. 0\n",
       "38. 0\n",
       "39. 0\n",
       "40. 0\n",
       "41. 0\n",
       "42. 0\n",
       "43. 0\n",
       "44. 0\n",
       "45. 0\n",
       "46. 0\n",
       "47. 0\n",
       "48. 0\n",
       "49. 0\n",
       "50. 0\n",
       "51. 0\n",
       "52. 0\n",
       "53. 0\n",
       "54. 0\n",
       "55. 0\n",
       "56. 0\n",
       "57. 0\n",
       "58. 0\n",
       "59. 0\n",
       "60. 0\n",
       "61. 0\n",
       "62. 0\n",
       "63. 0\n",
       "64. 0\n",
       "65. 0\n",
       "66. 0\n",
       "67. 0\n",
       "68. 0\n",
       "69. 0\n",
       "70. 0\n",
       "71. 0\n",
       "72. 0\n",
       "73. 0\n",
       "74. 0\n",
       "75. 0\n",
       "76. 0\n",
       "77. 0\n",
       "78. 0\n",
       "79. 0\n",
       "80. 0\n",
       "81. 0\n",
       "82. 0\n",
       "83. 0\n",
       "84. 0\n",
       "85. 0\n",
       "86. 0\n",
       "87. 0\n",
       "88. 0\n",
       "89. 0\n",
       "90. 0\n",
       "91. 0\n",
       "92. 0\n",
       "93. 0\n",
       "94. 0\n",
       "95. 0\n",
       "96. 0\n",
       "97. 0\n",
       "98. 0\n",
       "99. 0\n",
       "100. 0\n",
       "\n",
       "\n"
      ],
      "text/plain": [
       "  [1] 0 0 0 0 0 0 0 0 0 0 0 0 0 0 0 0 0 0 0 0 0 0 0 0 0 0 0 0 0 0 0 0 0 0 0 0 0\n",
       " [38] 0 0 0 0 0 0 0 0 0 0 0 0 0 0 0 0 0 0 0 0 0 0 0 0 0 0 0 0 0 0 0 0 0 0 0 0 0\n",
       " [75] 0 0 0 0 0 0 0 0 0 0 0 0 0 0 0 0 0 0 0 0 0 0 0 0 0 0"
      ]
     },
     "metadata": {},
     "output_type": "display_data"
    },
    {
     "data": {
      "text/html": [
       "<style>\n",
       ".list-inline {list-style: none; margin:0; padding: 0}\n",
       ".list-inline>li {display: inline-block}\n",
       ".list-inline>li:not(:last-child)::after {content: \"\\00b7\"; padding: 0 .5ex}\n",
       "</style>\n",
       "<ol class=list-inline><li>0</li><li>0.001</li><li>0</li><li>0</li><li>0.003</li><li>0.003</li><li>0.001</li><li>0</li><li>0.003</li><li>0</li><li>0</li><li>0</li><li>0</li><li>0.001</li><li>0.004</li><li>0.001</li><li>0</li><li>0.001</li><li>0.001</li><li>0.001</li><li>0</li><li>0</li><li>0</li><li>0</li><li>0.003</li><li>0</li><li>0</li><li>0.001</li><li>0</li><li>0.002</li><li>0</li><li>0</li><li>0.005</li><li>0.003</li><li>0</li><li>0.002</li><li>0</li><li>0</li><li>0</li><li>0.002</li><li>0.002</li><li>0.001</li><li>0.002</li><li>0</li><li>0.003</li><li>0.001</li><li>0.001</li><li>0.001</li><li>0</li><li>0.002</li><li>0</li><li>0</li><li>0</li><li>0.001</li><li>0</li><li>0.001</li><li>0.001</li><li>0.001</li><li>0</li><li>0.001</li><li>0.001</li><li>0.001</li><li>0.003</li><li>0.001</li><li>0.005</li><li>0</li><li>0</li><li>0.001</li><li>0</li><li>0</li><li>0.001</li><li>0</li><li>0</li><li>0</li><li>0</li><li>0.001</li><li>0.001</li><li>0</li><li>0.002</li><li>0</li><li>0</li><li>0</li><li>0</li><li>0.001</li><li>0.002</li><li>0</li><li>0</li><li>0</li><li>0.001</li><li>0</li><li>0.001</li><li>0.001</li><li>0</li><li>0</li><li>0.001</li><li>0</li><li>0</li><li>0.006</li><li>0.001</li><li>0</li></ol>\n"
      ],
      "text/latex": [
       "\\begin{enumerate*}\n",
       "\\item 0\n",
       "\\item 0.001\n",
       "\\item 0\n",
       "\\item 0\n",
       "\\item 0.003\n",
       "\\item 0.003\n",
       "\\item 0.001\n",
       "\\item 0\n",
       "\\item 0.003\n",
       "\\item 0\n",
       "\\item 0\n",
       "\\item 0\n",
       "\\item 0\n",
       "\\item 0.001\n",
       "\\item 0.004\n",
       "\\item 0.001\n",
       "\\item 0\n",
       "\\item 0.001\n",
       "\\item 0.001\n",
       "\\item 0.001\n",
       "\\item 0\n",
       "\\item 0\n",
       "\\item 0\n",
       "\\item 0\n",
       "\\item 0.003\n",
       "\\item 0\n",
       "\\item 0\n",
       "\\item 0.001\n",
       "\\item 0\n",
       "\\item 0.002\n",
       "\\item 0\n",
       "\\item 0\n",
       "\\item 0.005\n",
       "\\item 0.003\n",
       "\\item 0\n",
       "\\item 0.002\n",
       "\\item 0\n",
       "\\item 0\n",
       "\\item 0\n",
       "\\item 0.002\n",
       "\\item 0.002\n",
       "\\item 0.001\n",
       "\\item 0.002\n",
       "\\item 0\n",
       "\\item 0.003\n",
       "\\item 0.001\n",
       "\\item 0.001\n",
       "\\item 0.001\n",
       "\\item 0\n",
       "\\item 0.002\n",
       "\\item 0\n",
       "\\item 0\n",
       "\\item 0\n",
       "\\item 0.001\n",
       "\\item 0\n",
       "\\item 0.001\n",
       "\\item 0.001\n",
       "\\item 0.001\n",
       "\\item 0\n",
       "\\item 0.001\n",
       "\\item 0.001\n",
       "\\item 0.001\n",
       "\\item 0.003\n",
       "\\item 0.001\n",
       "\\item 0.005\n",
       "\\item 0\n",
       "\\item 0\n",
       "\\item 0.001\n",
       "\\item 0\n",
       "\\item 0\n",
       "\\item 0.001\n",
       "\\item 0\n",
       "\\item 0\n",
       "\\item 0\n",
       "\\item 0\n",
       "\\item 0.001\n",
       "\\item 0.001\n",
       "\\item 0\n",
       "\\item 0.002\n",
       "\\item 0\n",
       "\\item 0\n",
       "\\item 0\n",
       "\\item 0\n",
       "\\item 0.001\n",
       "\\item 0.002\n",
       "\\item 0\n",
       "\\item 0\n",
       "\\item 0\n",
       "\\item 0.001\n",
       "\\item 0\n",
       "\\item 0.001\n",
       "\\item 0.001\n",
       "\\item 0\n",
       "\\item 0\n",
       "\\item 0.001\n",
       "\\item 0\n",
       "\\item 0\n",
       "\\item 0.006\n",
       "\\item 0.001\n",
       "\\item 0\n",
       "\\end{enumerate*}\n"
      ],
      "text/markdown": [
       "1. 0\n",
       "2. 0.001\n",
       "3. 0\n",
       "4. 0\n",
       "5. 0.003\n",
       "6. 0.003\n",
       "7. 0.001\n",
       "8. 0\n",
       "9. 0.003\n",
       "10. 0\n",
       "11. 0\n",
       "12. 0\n",
       "13. 0\n",
       "14. 0.001\n",
       "15. 0.004\n",
       "16. 0.001\n",
       "17. 0\n",
       "18. 0.001\n",
       "19. 0.001\n",
       "20. 0.001\n",
       "21. 0\n",
       "22. 0\n",
       "23. 0\n",
       "24. 0\n",
       "25. 0.003\n",
       "26. 0\n",
       "27. 0\n",
       "28. 0.001\n",
       "29. 0\n",
       "30. 0.002\n",
       "31. 0\n",
       "32. 0\n",
       "33. 0.005\n",
       "34. 0.003\n",
       "35. 0\n",
       "36. 0.002\n",
       "37. 0\n",
       "38. 0\n",
       "39. 0\n",
       "40. 0.002\n",
       "41. 0.002\n",
       "42. 0.001\n",
       "43. 0.002\n",
       "44. 0\n",
       "45. 0.003\n",
       "46. 0.001\n",
       "47. 0.001\n",
       "48. 0.001\n",
       "49. 0\n",
       "50. 0.002\n",
       "51. 0\n",
       "52. 0\n",
       "53. 0\n",
       "54. 0.001\n",
       "55. 0\n",
       "56. 0.001\n",
       "57. 0.001\n",
       "58. 0.001\n",
       "59. 0\n",
       "60. 0.001\n",
       "61. 0.001\n",
       "62. 0.001\n",
       "63. 0.003\n",
       "64. 0.001\n",
       "65. 0.005\n",
       "66. 0\n",
       "67. 0\n",
       "68. 0.001\n",
       "69. 0\n",
       "70. 0\n",
       "71. 0.001\n",
       "72. 0\n",
       "73. 0\n",
       "74. 0\n",
       "75. 0\n",
       "76. 0.001\n",
       "77. 0.001\n",
       "78. 0\n",
       "79. 0.002\n",
       "80. 0\n",
       "81. 0\n",
       "82. 0\n",
       "83. 0\n",
       "84. 0.001\n",
       "85. 0.002\n",
       "86. 0\n",
       "87. 0\n",
       "88. 0\n",
       "89. 0.001\n",
       "90. 0\n",
       "91. 0.001\n",
       "92. 0.001\n",
       "93. 0\n",
       "94. 0\n",
       "95. 0.001\n",
       "96. 0\n",
       "97. 0\n",
       "98. 0.006\n",
       "99. 0.001\n",
       "100. 0\n",
       "\n",
       "\n"
      ],
      "text/plain": [
       "  [1] 0.000 0.001 0.000 0.000 0.003 0.003 0.001 0.000 0.003 0.000 0.000 0.000\n",
       " [13] 0.000 0.001 0.004 0.001 0.000 0.001 0.001 0.001 0.000 0.000 0.000 0.000\n",
       " [25] 0.003 0.000 0.000 0.001 0.000 0.002 0.000 0.000 0.005 0.003 0.000 0.002\n",
       " [37] 0.000 0.000 0.000 0.002 0.002 0.001 0.002 0.000 0.003 0.001 0.001 0.001\n",
       " [49] 0.000 0.002 0.000 0.000 0.000 0.001 0.000 0.001 0.001 0.001 0.000 0.001\n",
       " [61] 0.001 0.001 0.003 0.001 0.005 0.000 0.000 0.001 0.000 0.000 0.001 0.000\n",
       " [73] 0.000 0.000 0.000 0.001 0.001 0.000 0.002 0.000 0.000 0.000 0.000 0.001\n",
       " [85] 0.002 0.000 0.000 0.000 0.001 0.000 0.001 0.001 0.000 0.000 0.001 0.000\n",
       " [97] 0.000 0.006 0.001 0.000"
      ]
     },
     "metadata": {},
     "output_type": "display_data"
    }
   ],
   "source": [
    "# Time for simulations\n",
    "# Simulate and store the interested values\n",
    "errlist <- replicate(nsim, geterr(0.5), simplify = F)\n",
    "MSEs <- c()\n",
    "AVEs <- c()\n",
    "for (i in 1:nsim) {\n",
    "  MSEs[i] <- errlist[[i]]$MSE\n",
    "  AVEs[i] <- errlist[[i]]$AVE\n",
    "}\n",
    "MSEs\n",
    "AVEs\n",
    "plt.data.2 <- cbind.data.frame(sim = 1:nsim, err = MSEs, type = \"MSEs\") %>%\n",
    "  rbind(data.frame(sim = 1:nsim, err = AVEs, type = \"AVEs\"))"
   ]
  },
  {
   "cell_type": "code",
   "execution_count": 51,
   "metadata": {},
   "outputs": [
    {
     "data": {
      "image/png": "[encoded data removed]",
      "text/plain": [
       "plot without title"
      ]
     },
     "metadata": {
      "image/png": {
       "height": 420,
       "width": 420
      },
      "text/plain": {
       "height": 420,
       "width": 420
      }
     },
     "output_type": "display_data"
    }
   ],
   "source": [
    "ggplot(plt.data.2, aes(sim, err, colour = type)) + \n",
    "  geom_point()"
   ]
  },
  {
   "cell_type": "code",
   "execution_count": 52,
   "metadata": {},
   "outputs": [
    {
     "data": {
      "image/png": "[encoded data removed]",
      "text/plain": [
       "plot without title"
      ]
     },
     "metadata": {
      "image/png": {
       "height": 420,
       "width": 420
      },
      "text/plain": {
       "height": 420,
       "width": 420
      }
     },
     "output_type": "display_data"
    }
   ],
   "source": [
    "ggplot(plt.data.2, aes(y = err, colour = type)) + \n",
    "  geom_boxplot()"
   ]
  },
  {
   "cell_type": "code",
   "execution_count": 53,
   "metadata": {},
   "outputs": [
    {
     "data": {
      "image/png": "[encoded data removed]",
      "text/plain": [
       "plot without title"
      ]
     },
     "metadata": {
      "image/png": {
       "height": 420,
       "width": 420
      },
      "text/plain": {
       "height": 420,
       "width": 420
      }
     },
     "output_type": "display_data"
    }
   ],
   "source": [
    "ggplot(plt.data.2, aes(x = err, colour = type)) + \n",
    "  geom_density()"
   ]
  }
 ],
 "metadata": {
  "kernelspec": {
   "display_name": "R",
   "language": "R",
   "name": "ir"
  },
  "language_info": {
   "codemirror_mode": "r",
   "file_extension": ".r",
   "mimetype": "text/x-r-source",
   "name": "R",
   "pygments_lexer": "r",
   "version": "4.0.0"
  }
 },
 "nbformat": 4,
 "nbformat_minor": 2
}
