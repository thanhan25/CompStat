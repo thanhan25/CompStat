{
 "cells": [
  {
   "cell_type": "markdown",
   "metadata": {},
   "source": [
    "# Problem Set 3: Logistic Regression"
   ]
  },
  {
   "cell_type": "markdown",
   "metadata": {},
   "source": [
    "## Exercise 1\n",
    "\n",
    "Consider the following binary model\n",
    "$P(Y_{i} = y_{i}) = \\pi_{i}^{y_{i}}*(1-\\pi_{i})^{1-y_{i}}, y_{i} \\in \\{0, 1\\}$   \n",
    "where  \n",
    "$\\pi_{i}(x_{i}, \\beta) = \\frac{e^{x'_{i}\\beta}}{(1 + e^{x'_{i}\\beta})} = \\frac{1}{1+e^{-x'_{i}\\beta}}$\n",
    "\n",
    "1. Simulate this model with the probabilities as described above with the following values:\n",
    "\n",
    "- $n =1000$\n",
    "- $\\beta_0=-2, \\, \\beta_1=0.1,\\, \\, \\, \\beta_2=1$.\n",
    "- $x_{0i}=1 \\, \\forall \\,i$ , $x_{1i}\\sim \\mathcal{U}(18,60), \\, x_{2i}\\sim \\mathcal{B}(0.5)$. \n",
    "\n",
    "2. Estimate $\\beta_0, \\, \\beta_1,\\, \\beta_2$ via maximum likelihood and calculate the standard errors."
   ]
  },
  {
   "cell_type": "markdown",
   "metadata": {},
   "source": [
    "$P(Y_{i} = 1) = \\pi_{i}^{1}*(1-\\pi_{i})^{1-1} = \\pi_{i}$  \n",
    "$\\log(\\frac{\\pi_{i}}{1 - \\pi_{i}}) = x'_{i}\\beta$"
   ]
  },
  {
   "cell_type": "code",
   "execution_count": 1,
   "metadata": {
    "scrolled": true
   },
   "outputs": [],
   "source": [
    "# Load necessary libraries\n",
    "pacman::p_load(ggplot2, tidyverse, MASS, caret, ggpubr, maxLik)"
   ]
  },
  {
   "cell_type": "code",
   "execution_count": 2,
   "metadata": {
    "scrolled": true
   },
   "outputs": [],
   "source": [
    "# Set.seed()\n",
    "seed <- 40\n",
    "set.seed(seed)"
   ]
  },
  {
   "cell_type": "code",
   "execution_count": 3,
   "metadata": {
    "scrolled": true
   },
   "outputs": [],
   "source": [
    "# Parameters\n",
    "n <- 1000\n",
    "beta <- c(-2, 0.1, 1)\n",
    "X1.min <- -50\n",
    "X1.max <- 60\n",
    "X2.P1 <- 0.5\n"
   ]
  },
  {
   "cell_type": "code",
   "execution_count": 4,
   "metadata": {
    "scrolled": true
   },
   "outputs": [],
   "source": [
    "# Define Data Gnerating function\n",
    "data.gen <- function(n, beta, X1.min, X1.max, X2.P1) {\n",
    "  X0 <- rep(1, n)\n",
    "  X1 <- sort(runif(n, X1.min, X1.max))\n",
    "  X2 <- rbinom(n, 1, X2.P1)\n",
    "  X <- cbind(X0, X1, X2)\n",
    "  logodds <- X %*% beta\n",
    "  pi_x <- 1 / (1 + exp(-logodds))\n",
    "  y <- rbinom(n, 1, prob = pi_x)\n",
    "  data <- cbind.data.frame(X, logodds, pi_x, y)\n",
    "  return(data)\n",
    "}"
   ]
  },
  {
   "cell_type": "markdown",
   "metadata": {},
   "source": [
    "### a) Generate the data"
   ]
  },
  {
   "cell_type": "code",
   "execution_count": 5,
   "metadata": {
    "scrolled": true
   },
   "outputs": [
    {
     "data": {
      "text/html": [
       "<table>\n",
       "<caption>A data.frame: 6 × 6</caption>\n",
       "<thead>\n",
       "\t<tr><th></th><th scope=col>X0</th><th scope=col>X1</th><th scope=col>X2</th><th scope=col>logodds</th><th scope=col>pi_x</th><th scope=col>y</th></tr>\n",
       "\t<tr><th></th><th scope=col>&lt;dbl&gt;</th><th scope=col>&lt;dbl&gt;</th><th scope=col>&lt;dbl&gt;</th><th scope=col>&lt;dbl&gt;</th><th scope=col>&lt;dbl&gt;</th><th scope=col>&lt;int&gt;</th></tr>\n",
       "</thead>\n",
       "<tbody>\n",
       "\t<tr><th scope=row>1</th><td>1</td><td>-49.66353</td><td>1</td><td>-5.966353</td><td>0.0025570188</td><td>0</td></tr>\n",
       "\t<tr><th scope=row>2</th><td>1</td><td>-49.65911</td><td>1</td><td>-5.965911</td><td>0.0025581450</td><td>0</td></tr>\n",
       "\t<tr><th scope=row>3</th><td>1</td><td>-49.60864</td><td>1</td><td>-5.960864</td><td>0.0025710571</td><td>0</td></tr>\n",
       "\t<tr><th scope=row>4</th><td>1</td><td>-49.56254</td><td>0</td><td>-6.956254</td><td>0.0009517517</td><td>0</td></tr>\n",
       "\t<tr><th scope=row>5</th><td>1</td><td>-49.55127</td><td>0</td><td>-6.955127</td><td>0.0009528243</td><td>0</td></tr>\n",
       "\t<tr><th scope=row>6</th><td>1</td><td>-49.44343</td><td>1</td><td>-5.944343</td><td>0.0026137738</td><td>0</td></tr>\n",
       "</tbody>\n",
       "</table>\n"
      ],
      "text/latex": [
       "A data.frame: 6 × 6\n",
       "\\begin{tabular}{r|llllll}\n",
       "  & X0 & X1 & X2 & logodds & pi\\_x & y\\\\\n",
       "  & <dbl> & <dbl> & <dbl> & <dbl> & <dbl> & <int>\\\\\n",
       "\\hline\n",
       "\t1 & 1 & -49.66353 & 1 & -5.966353 & 0.0025570188 & 0\\\\\n",
       "\t2 & 1 & -49.65911 & 1 & -5.965911 & 0.0025581450 & 0\\\\\n",
       "\t3 & 1 & -49.60864 & 1 & -5.960864 & 0.0025710571 & 0\\\\\n",
       "\t4 & 1 & -49.56254 & 0 & -6.956254 & 0.0009517517 & 0\\\\\n",
       "\t5 & 1 & -49.55127 & 0 & -6.955127 & 0.0009528243 & 0\\\\\n",
       "\t6 & 1 & -49.44343 & 1 & -5.944343 & 0.0026137738 & 0\\\\\n",
       "\\end{tabular}\n"
      ],
      "text/markdown": [
       "\n",
       "A data.frame: 6 × 6\n",
       "\n",
       "| <!--/--> | X0 &lt;dbl&gt; | X1 &lt;dbl&gt; | X2 &lt;dbl&gt; | logodds &lt;dbl&gt; | pi_x &lt;dbl&gt; | y &lt;int&gt; |\n",
       "|---|---|---|---|---|---|---|\n",
       "| 1 | 1 | -49.66353 | 1 | -5.966353 | 0.0025570188 | 0 |\n",
       "| 2 | 1 | -49.65911 | 1 | -5.965911 | 0.0025581450 | 0 |\n",
       "| 3 | 1 | -49.60864 | 1 | -5.960864 | 0.0025710571 | 0 |\n",
       "| 4 | 1 | -49.56254 | 0 | -6.956254 | 0.0009517517 | 0 |\n",
       "| 5 | 1 | -49.55127 | 0 | -6.955127 | 0.0009528243 | 0 |\n",
       "| 6 | 1 | -49.44343 | 1 | -5.944343 | 0.0026137738 | 0 |\n",
       "\n"
      ],
      "text/plain": [
       "  X0 X1        X2 logodds   pi_x         y\n",
       "1 1  -49.66353 1  -5.966353 0.0025570188 0\n",
       "2 1  -49.65911 1  -5.965911 0.0025581450 0\n",
       "3 1  -49.60864 1  -5.960864 0.0025710571 0\n",
       "4 1  -49.56254 0  -6.956254 0.0009517517 0\n",
       "5 1  -49.55127 0  -6.955127 0.0009528243 0\n",
       "6 1  -49.44343 1  -5.944343 0.0026137738 0"
      ]
     },
     "metadata": {},
     "output_type": "display_data"
    },
    {
     "data": {
      "text/html": [
       "<table>\n",
       "<caption>A matrix: 6 × 3 of type dbl</caption>\n",
       "<tbody>\n",
       "\t<tr><td>1</td><td>-49.66353</td><td>1</td></tr>\n",
       "\t<tr><td>1</td><td>-49.65911</td><td>1</td></tr>\n",
       "\t<tr><td>1</td><td>-49.60864</td><td>1</td></tr>\n",
       "\t<tr><td>1</td><td>-49.56254</td><td>0</td></tr>\n",
       "\t<tr><td>1</td><td>-49.55127</td><td>0</td></tr>\n",
       "\t<tr><td>1</td><td>-49.44343</td><td>1</td></tr>\n",
       "</tbody>\n",
       "</table>\n"
      ],
      "text/latex": [
       "A matrix: 6 × 3 of type dbl\n",
       "\\begin{tabular}{lll}\n",
       "\t 1 & -49.66353 & 1\\\\\n",
       "\t 1 & -49.65911 & 1\\\\\n",
       "\t 1 & -49.60864 & 1\\\\\n",
       "\t 1 & -49.56254 & 0\\\\\n",
       "\t 1 & -49.55127 & 0\\\\\n",
       "\t 1 & -49.44343 & 1\\\\\n",
       "\\end{tabular}\n"
      ],
      "text/markdown": [
       "\n",
       "A matrix: 6 × 3 of type dbl\n",
       "\n",
       "| 1 | -49.66353 | 1 |\n",
       "| 1 | -49.65911 | 1 |\n",
       "| 1 | -49.60864 | 1 |\n",
       "| 1 | -49.56254 | 0 |\n",
       "| 1 | -49.55127 | 0 |\n",
       "| 1 | -49.44343 | 1 |\n",
       "\n"
      ],
      "text/plain": [
       "     [,1] [,2]      [,3]\n",
       "[1,] 1    -49.66353 1   \n",
       "[2,] 1    -49.65911 1   \n",
       "[3,] 1    -49.60864 1   \n",
       "[4,] 1    -49.56254 0   \n",
       "[5,] 1    -49.55127 0   \n",
       "[6,] 1    -49.44343 1   "
      ]
     },
     "metadata": {},
     "output_type": "display_data"
    },
    {
     "data": {
      "text/html": [
       "<table>\n",
       "<caption>A data.frame: 6 × 6</caption>\n",
       "<thead>\n",
       "\t<tr><th></th><th scope=col>X0</th><th scope=col>X1</th><th scope=col>X2</th><th scope=col>logodds</th><th scope=col>pi_x</th><th scope=col>y</th></tr>\n",
       "\t<tr><th></th><th scope=col>&lt;dbl&gt;</th><th scope=col>&lt;dbl&gt;</th><th scope=col>&lt;dbl&gt;</th><th scope=col>&lt;dbl&gt;</th><th scope=col>&lt;dbl&gt;</th><th scope=col>&lt;int&gt;</th></tr>\n",
       "</thead>\n",
       "<tbody>\n",
       "\t<tr><th scope=row>1</th><td>1</td><td>-49.76541</td><td>1</td><td>-5.976541</td><td>0.0025311658</td><td>0</td></tr>\n",
       "\t<tr><th scope=row>2</th><td>1</td><td>-49.75942</td><td>0</td><td>-6.975942</td><td>0.0009332147</td><td>0</td></tr>\n",
       "\t<tr><th scope=row>3</th><td>1</td><td>-49.63776</td><td>1</td><td>-5.963776</td><td>0.0025635992</td><td>0</td></tr>\n",
       "\t<tr><th scope=row>4</th><td>1</td><td>-49.54291</td><td>1</td><td>-5.954291</td><td>0.0025879681</td><td>0</td></tr>\n",
       "\t<tr><th scope=row>5</th><td>1</td><td>-49.51748</td><td>1</td><td>-5.951748</td><td>0.0025945408</td><td>0</td></tr>\n",
       "\t<tr><th scope=row>6</th><td>1</td><td>-49.51144</td><td>1</td><td>-5.951144</td><td>0.0025961044</td><td>0</td></tr>\n",
       "</tbody>\n",
       "</table>\n"
      ],
      "text/latex": [
       "A data.frame: 6 × 6\n",
       "\\begin{tabular}{r|llllll}\n",
       "  & X0 & X1 & X2 & logodds & pi\\_x & y\\\\\n",
       "  & <dbl> & <dbl> & <dbl> & <dbl> & <dbl> & <int>\\\\\n",
       "\\hline\n",
       "\t1 & 1 & -49.76541 & 1 & -5.976541 & 0.0025311658 & 0\\\\\n",
       "\t2 & 1 & -49.75942 & 0 & -6.975942 & 0.0009332147 & 0\\\\\n",
       "\t3 & 1 & -49.63776 & 1 & -5.963776 & 0.0025635992 & 0\\\\\n",
       "\t4 & 1 & -49.54291 & 1 & -5.954291 & 0.0025879681 & 0\\\\\n",
       "\t5 & 1 & -49.51748 & 1 & -5.951748 & 0.0025945408 & 0\\\\\n",
       "\t6 & 1 & -49.51144 & 1 & -5.951144 & 0.0025961044 & 0\\\\\n",
       "\\end{tabular}\n"
      ],
      "text/markdown": [
       "\n",
       "A data.frame: 6 × 6\n",
       "\n",
       "| <!--/--> | X0 &lt;dbl&gt; | X1 &lt;dbl&gt; | X2 &lt;dbl&gt; | logodds &lt;dbl&gt; | pi_x &lt;dbl&gt; | y &lt;int&gt; |\n",
       "|---|---|---|---|---|---|---|\n",
       "| 1 | 1 | -49.76541 | 1 | -5.976541 | 0.0025311658 | 0 |\n",
       "| 2 | 1 | -49.75942 | 0 | -6.975942 | 0.0009332147 | 0 |\n",
       "| 3 | 1 | -49.63776 | 1 | -5.963776 | 0.0025635992 | 0 |\n",
       "| 4 | 1 | -49.54291 | 1 | -5.954291 | 0.0025879681 | 0 |\n",
       "| 5 | 1 | -49.51748 | 1 | -5.951748 | 0.0025945408 | 0 |\n",
       "| 6 | 1 | -49.51144 | 1 | -5.951144 | 0.0025961044 | 0 |\n",
       "\n"
      ],
      "text/plain": [
       "  X0 X1        X2 logodds   pi_x         y\n",
       "1 1  -49.76541 1  -5.976541 0.0025311658 0\n",
       "2 1  -49.75942 0  -6.975942 0.0009332147 0\n",
       "3 1  -49.63776 1  -5.963776 0.0025635992 0\n",
       "4 1  -49.54291 1  -5.954291 0.0025879681 0\n",
       "5 1  -49.51748 1  -5.951748 0.0025945408 0\n",
       "6 1  -49.51144 1  -5.951144 0.0025961044 0"
      ]
     },
     "metadata": {},
     "output_type": "display_data"
    },
    {
     "data": {
      "text/html": [
       "<table>\n",
       "<caption>A matrix: 6 × 3 of type dbl</caption>\n",
       "<tbody>\n",
       "\t<tr><td>1</td><td>-49.76541</td><td>1</td></tr>\n",
       "\t<tr><td>1</td><td>-49.75942</td><td>0</td></tr>\n",
       "\t<tr><td>1</td><td>-49.63776</td><td>1</td></tr>\n",
       "\t<tr><td>1</td><td>-49.54291</td><td>1</td></tr>\n",
       "\t<tr><td>1</td><td>-49.51748</td><td>1</td></tr>\n",
       "\t<tr><td>1</td><td>-49.51144</td><td>1</td></tr>\n",
       "</tbody>\n",
       "</table>\n"
      ],
      "text/latex": [
       "A matrix: 6 × 3 of type dbl\n",
       "\\begin{tabular}{lll}\n",
       "\t 1 & -49.76541 & 1\\\\\n",
       "\t 1 & -49.75942 & 0\\\\\n",
       "\t 1 & -49.63776 & 1\\\\\n",
       "\t 1 & -49.54291 & 1\\\\\n",
       "\t 1 & -49.51748 & 1\\\\\n",
       "\t 1 & -49.51144 & 1\\\\\n",
       "\\end{tabular}\n"
      ],
      "text/markdown": [
       "\n",
       "A matrix: 6 × 3 of type dbl\n",
       "\n",
       "| 1 | -49.76541 | 1 |\n",
       "| 1 | -49.75942 | 0 |\n",
       "| 1 | -49.63776 | 1 |\n",
       "| 1 | -49.54291 | 1 |\n",
       "| 1 | -49.51748 | 1 |\n",
       "| 1 | -49.51144 | 1 |\n",
       "\n"
      ],
      "text/plain": [
       "     [,1] [,2]      [,3]\n",
       "[1,] 1    -49.76541 1   \n",
       "[2,] 1    -49.75942 0   \n",
       "[3,] 1    -49.63776 1   \n",
       "[4,] 1    -49.54291 1   \n",
       "[5,] 1    -49.51748 1   \n",
       "[6,] 1    -49.51144 1   "
      ]
     },
     "metadata": {},
     "output_type": "display_data"
    }
   ],
   "source": [
    "# a)\n",
    "# Generate the training data\n",
    "data.train <- data.gen(n, beta, X1.min, X1.max, X2.P1)\n",
    "head(data.train)\n",
    "\n",
    "X.train <- cbind(data.train$X0, data.train$X1, data.train$X2)\n",
    "head(X.train)\n",
    "\n",
    "# Generate the test data\n",
    "data.test <- data.gen(n, beta, X1.min, X1.max, X2.P1) \n",
    "head(data.test)\n",
    "\n",
    "X.test <- cbind(data.test$X0, data.test$X1, data.test$X2)\n",
    "head(X.test)"
   ]
  },
  {
   "cell_type": "code",
   "execution_count": 6,
   "metadata": {
    "scrolled": true
   },
   "outputs": [
    {
     "data": {
      "text/plain": [
       "\n",
       "  0   1 \n",
       "574 426 "
      ]
     },
     "metadata": {},
     "output_type": "display_data"
    }
   ],
   "source": [
    "table(data.train$y)"
   ]
  },
  {
   "cell_type": "code",
   "execution_count": 7,
   "metadata": {
    "scrolled": true
   },
   "outputs": [
    {
     "data": {
      "image/png": "[encoded data removed]",
      "text/plain": [
       "plot without title"
      ]
     },
     "metadata": {
      "image/png": {
       "height": 420,
       "width": 420
      },
      "text/plain": {
       "height": 420,
       "width": 420
      }
     },
     "output_type": "display_data"
    }
   ],
   "source": [
    "# Explore the data\n",
    "# Scatterplot of ys on X1\n",
    "ggplot(data.train, aes(x = X1, y = y, colour = factor(y))) + \n",
    "  geom_point()"
   ]
  },
  {
   "cell_type": "code",
   "execution_count": 8,
   "metadata": {
    "scrolled": true
   },
   "outputs": [
    {
     "data": {
      "image/png": "[encoded data removed]",
      "text/plain": [
       "plot without title"
      ]
     },
     "metadata": {
      "image/png": {
       "height": 420,
       "width": 420
      },
      "text/plain": {
       "height": 420,
       "width": 420
      }
     },
     "output_type": "display_data"
    }
   ],
   "source": [
    "# ... ys on X2\n",
    "ggplot(data.train, aes(x = X2, y = y, colour = factor(y))) + \n",
    "  geom_point()"
   ]
  },
  {
   "cell_type": "code",
   "execution_count": 9,
   "metadata": {
    "scrolled": true
   },
   "outputs": [
    {
     "name": "stderr",
     "output_type": "stream",
     "text": [
      "`stat_bin()` using `bins = 30`. Pick better value with `binwidth`.\n",
      "\n"
     ]
    },
    {
     "data": {
      "image/png": "[encoded data removed]",
      "text/plain": [
       "plot without title"
      ]
     },
     "metadata": {
      "image/png": {
       "height": 420,
       "width": 420
      },
      "text/plain": {
       "height": 420,
       "width": 420
      }
     },
     "output_type": "display_data"
    }
   ],
   "source": [
    "# Distribution of X1\n",
    "ggplot(data.train, aes(X1)) + \n",
    "  geom_histogram()"
   ]
  },
  {
   "cell_type": "code",
   "execution_count": 10,
   "metadata": {
    "scrolled": true
   },
   "outputs": [
    {
     "name": "stderr",
     "output_type": "stream",
     "text": [
      "`stat_bin()` using `bins = 30`. Pick better value with `binwidth`.\n",
      "\n"
     ]
    },
    {
     "data": {
      "image/png": "[encoded data removed]",
      "text/plain": [
       "plot without title"
      ]
     },
     "metadata": {
      "image/png": {
       "height": 420,
       "width": 420
      },
      "text/plain": {
       "height": 420,
       "width": 420
      }
     },
     "output_type": "display_data"
    }
   ],
   "source": [
    "# Distribution of X2\n",
    "ggplot(data.train, aes(X2)) + \n",
    "  geom_histogram() \n"
   ]
  },
  {
   "cell_type": "markdown",
   "metadata": {},
   "source": [
    "### b) Obtain the estimates\n"
   ]
  },
  {
   "cell_type": "code",
   "execution_count": 11,
   "metadata": {
    "scrolled": true
   },
   "outputs": [
    {
     "data": {
      "text/plain": [
       "\n",
       "Call:\n",
       "glm(formula = y ~ X1 + X2, family = binomial, data = data.train)\n",
       "\n",
       "Deviance Residuals: \n",
       "    Min       1Q   Median       3Q      Max  \n",
       "-2.7119  -0.4020  -0.1054   0.3829   2.9736  \n",
       "\n",
       "Coefficients:\n",
       "             Estimate Std. Error z value Pr(>|z|)    \n",
       "(Intercept) -1.792715   0.181169  -9.895  < 2e-16 ***\n",
       "X1           0.094895   0.005816  16.317  < 2e-16 ***\n",
       "X2           0.903181   0.214511   4.210 2.55e-05 ***\n",
       "---\n",
       "Signif. codes:  0 '***' 0.001 '**' 0.01 '*' 0.05 '.' 0.1 ' ' 1\n",
       "\n",
       "(Dispersion parameter for binomial family taken to be 1)\n",
       "\n",
       "    Null deviance: 1364.31  on 999  degrees of freedom\n",
       "Residual deviance:  616.22  on 997  degrees of freedom\n",
       "AIC: 622.22\n",
       "\n",
       "Number of Fisher Scoring iterations: 6\n"
      ]
     },
     "metadata": {},
     "output_type": "display_data"
    },
    {
     "data": {
      "text/html": [
       "<style>\n",
       ".dl-inline {width: auto; margin:0; padding: 0}\n",
       ".dl-inline>dt, .dl-inline>dd {float: none; width: auto; display: inline-block}\n",
       ".dl-inline>dt::after {content: \":\\0020\"; padding-right: .5ex}\n",
       ".dl-inline>dt:not(:first-of-type) {padding-left: .5ex}\n",
       "</style><dl class=dl-inline><dt>(Intercept)</dt><dd>-1.7927152856876</dd><dt>X1</dt><dd>0.0948947102885324</dd><dt>X2</dt><dd>0.903181203036747</dd></dl>\n"
      ],
      "text/latex": [
       "\\begin{description*}\n",
       "\\item[(Intercept)] -1.7927152856876\n",
       "\\item[X1] 0.0948947102885324\n",
       "\\item[X2] 0.903181203036747\n",
       "\\end{description*}\n"
      ],
      "text/markdown": [
       "(Intercept)\n",
       ":   -1.7927152856876X1\n",
       ":   0.0948947102885324X2\n",
       ":   0.903181203036747\n",
       "\n"
      ],
      "text/plain": [
       "(Intercept)          X1          X2 \n",
       "-1.79271529  0.09489471  0.90318120 "
      ]
     },
     "metadata": {},
     "output_type": "display_data"
    }
   ],
   "source": [
    "# b)\n",
    "# Estimate betas via ML (Logistic Regression)\n",
    "Logit <- glm(y ~ X1 + X2, data = data.train, family = binomial)\n",
    "summary(Logit)\n",
    "(beta.logit <- Logit$coefficients)"
   ]
  },
  {
   "cell_type": "markdown",
   "metadata": {},
   "source": [
    "#### Compared with estimates obtained from manually doing ML"
   ]
  },
  {
   "cell_type": "markdown",
   "metadata": {},
   "source": [
    "$P(Y_{i} = y_{i}) = \\pi_{i}^{y_{i}}*(1-\\pi_{i})^{1-y_{i}}$  \n",
    "$$\n",
    "\\begin{aligned}\n",
    "L &= P(Y_{1} = y_{1},...Y_{n} = y_{n}) = \\prod_{i = 1}^{n} \\pi_{i}^{y_{i}}*(1-\\pi_{i})^{1-y_{i}} \\\\\n",
    "logL &= \\sum_{i = 1}^{n} y_{i} * \\log(\\pi_{i}) + (1 - y_{i}) * \\log(1 - \\pi_{i})\\\\\n",
    "\\pi_{i} &= \\frac{1}{1 + e^{-X\\beta}}\\\\\n",
    "1 - \\pi_{i} &= \\frac{1}{1 + e^{X\\beta}}\\\\\n",
    "logL &= \\sum_{i = 1}^{n} y_{i}(-log(1 + e^{-X\\beta}) + (1 - y_{i})(-log(1 + e ^ {X\\beta}))\\\\\n",
    "&= \\sum_{i = 1}^{n} -y_{i}(log(1 + e^{-X\\beta}) - (1 - y_{i})(log(1 + e ^ {X\\beta}))\n",
    "\\end{aligned}\n",
    "$$"
   ]
  },
  {
   "cell_type": "code",
   "execution_count": 12,
   "metadata": {
    "scrolled": true
   },
   "outputs": [
    {
     "data": {
      "text/html": [
       "<style>\n",
       ".list-inline {list-style: none; margin:0; padding: 0}\n",
       ".list-inline>li {display: inline-block}\n",
       ".list-inline>li:not(:last-child)::after {content: \"\\00b7\"; padding: 0 .5ex}\n",
       "</style>\n",
       "<ol class=list-inline><li>-1.79271654215998</li><li>0.094894741488601</li><li>0.90318151116591</li></ol>\n"
      ],
      "text/latex": [
       "\\begin{enumerate*}\n",
       "\\item -1.79271654215998\n",
       "\\item 0.094894741488601\n",
       "\\item 0.90318151116591\n",
       "\\end{enumerate*}\n"
      ],
      "text/markdown": [
       "1. -1.79271654215998\n",
       "2. 0.094894741488601\n",
       "3. 0.90318151116591\n",
       "\n",
       "\n"
      ],
      "text/plain": [
       "[1] -1.79271654  0.09489474  0.90318151"
      ]
     },
     "metadata": {},
     "output_type": "display_data"
    },
    {
     "data": {
      "text/html": [
       "<style>\n",
       ".dl-inline {width: auto; margin:0; padding: 0}\n",
       ".dl-inline>dt, .dl-inline>dd {float: none; width: auto; display: inline-block}\n",
       ".dl-inline>dt::after {content: \":\\0020\"; padding-right: .5ex}\n",
       ".dl-inline>dt:not(:first-of-type) {padding-left: .5ex}\n",
       "</style><dl class=dl-inline><dt>(Intercept)</dt><dd>-1.7927152856876</dd><dt>X1</dt><dd>0.0948947102885324</dd><dt>X2</dt><dd>0.903181203036747</dd></dl>\n"
      ],
      "text/latex": [
       "\\begin{description*}\n",
       "\\item[(Intercept)] -1.7927152856876\n",
       "\\item[X1] 0.0948947102885324\n",
       "\\item[X2] 0.903181203036747\n",
       "\\end{description*}\n"
      ],
      "text/markdown": [
       "(Intercept)\n",
       ":   -1.7927152856876X1\n",
       ":   0.0948947102885324X2\n",
       ":   0.903181203036747\n",
       "\n"
      ],
      "text/plain": [
       "(Intercept)          X1          X2 \n",
       "-1.79271529  0.09489471  0.90318120 "
      ]
     },
     "metadata": {},
     "output_type": "display_data"
    }
   ],
   "source": [
    "# Compared with manually doing ML\n",
    "\n",
    "loglike<-function(b) # the likelihood function for the logit model\n",
    "{\n",
    "  ll <- sum(-data.train$y * log(1 + exp(-(X.train %*% b))) - \n",
    "              (1 - data.train$y) * log(1 + exp(X.train %*% b)))\n",
    "  return(ll)\n",
    "}\n",
    "\n",
    "# Initialize estimation procedure\n",
    "estim <- maxBFGS(loglike, finalHessian = TRUE, start = c(0, 0, 1)) \n",
    "beta.ML <- estim$estimate # give out parameter estimates\n",
    "beta.ML\n",
    "(beta.logit <- Logit$coefficients)"
   ]
  },
  {
   "cell_type": "code",
   "execution_count": 13,
   "metadata": {
    "scrolled": true
   },
   "outputs": [
    {
     "data": {
      "text/html": [
       "<style>\n",
       ".list-inline {list-style: none; margin:0; padding: 0}\n",
       ".list-inline>li {display: inline-block}\n",
       ".list-inline>li:not(:last-child)::after {content: \"\\00b7\"; padding: 0 .5ex}\n",
       "</style>\n",
       "<ol class=list-inline><li>0.181281532655684</li><li>0.00581665283253391</li><li>0.214523782141816</li></ol>\n"
      ],
      "text/latex": [
       "\\begin{enumerate*}\n",
       "\\item 0.181281532655684\n",
       "\\item 0.00581665283253391\n",
       "\\item 0.214523782141816\n",
       "\\end{enumerate*}\n"
      ],
      "text/markdown": [
       "1. 0.181281532655684\n",
       "2. 0.00581665283253391\n",
       "3. 0.214523782141816\n",
       "\n",
       "\n"
      ],
      "text/plain": [
       "[1] 0.181281533 0.005816653 0.214523782"
      ]
     },
     "metadata": {},
     "output_type": "display_data"
    },
    {
     "data": {
      "text/html": [
       "<style>\n",
       ".dl-inline {width: auto; margin:0; padding: 0}\n",
       ".dl-inline>dt, .dl-inline>dd {float: none; width: auto; display: inline-block}\n",
       ".dl-inline>dt::after {content: \":\\0020\"; padding-right: .5ex}\n",
       ".dl-inline>dt:not(:first-of-type) {padding-left: .5ex}\n",
       "</style><dl class=dl-inline><dt>(Intercept)</dt><dd>0.181168541070293</dd><dt>X1</dt><dd>0.0058155247544503</dd><dt>X2</dt><dd>0.214511474237574</dd></dl>\n"
      ],
      "text/latex": [
       "\\begin{description*}\n",
       "\\item[(Intercept)] 0.181168541070293\n",
       "\\item[X1] 0.0058155247544503\n",
       "\\item[X2] 0.214511474237574\n",
       "\\end{description*}\n"
      ],
      "text/markdown": [
       "(Intercept)\n",
       ":   0.181168541070293X1\n",
       ":   0.0058155247544503X2\n",
       ":   0.214511474237574\n",
       "\n"
      ],
      "text/plain": [
       "(Intercept)          X1          X2 \n",
       "0.181168541 0.005815525 0.214511474 "
      ]
     },
     "metadata": {},
     "output_type": "display_data"
    }
   ],
   "source": [
    "# Standard Error of the Coefficients\n",
    "estim.hess <- estim$hessian \n",
    "# the optimization routine returns the hessian matrix at the last iteration.\n",
    "Cov <- -(solve(estim.hess))\n",
    "# the covariance matrix is the (negative) inverse of the hessian matrix.\n",
    "sde.ML <- sqrt(diag(Cov))#the standard errors are the square root of the diagonal of the inverse Hessian. \n",
    "sde.ML\n",
    "stdEr(Logit)"
   ]
  },
  {
   "cell_type": "markdown",
   "metadata": {},
   "source": [
    "### Prepare some data for plotting \n",
    "#### True probabilities and logodds"
   ]
  },
  {
   "cell_type": "markdown",
   "metadata": {},
   "source": [
    "$P(Y_{i} = 1) = \\pi_{i}^{1}*(1-\\pi_{i})^{1-1} = \\pi_{i} = \\frac{1}{1+e^{-x'_{i}\\beta}}$  \n",
    "$\\log(\\frac{\\pi_{i}}{1 - \\pi_{i}}) = x'_{i}\\beta$"
   ]
  },
  {
   "cell_type": "code",
   "execution_count": 14,
   "metadata": {
    "scrolled": true
   },
   "outputs": [
    {
     "data": {
      "text/html": [
       "<table>\n",
       "<caption>A data.frame: 6 × 6</caption>\n",
       "<thead>\n",
       "\t<tr><th></th><th scope=col>X0</th><th scope=col>X1</th><th scope=col>X2</th><th scope=col>logodds</th><th scope=col>pi_x</th><th scope=col>y</th></tr>\n",
       "\t<tr><th></th><th scope=col>&lt;dbl&gt;</th><th scope=col>&lt;dbl&gt;</th><th scope=col>&lt;dbl&gt;</th><th scope=col>&lt;dbl&gt;</th><th scope=col>&lt;dbl&gt;</th><th scope=col>&lt;int&gt;</th></tr>\n",
       "</thead>\n",
       "<tbody>\n",
       "\t<tr><th scope=row>1</th><td>1</td><td>-49.66353</td><td>1</td><td>-5.966353</td><td>0.0025570188</td><td>0</td></tr>\n",
       "\t<tr><th scope=row>2</th><td>1</td><td>-49.65911</td><td>1</td><td>-5.965911</td><td>0.0025581450</td><td>0</td></tr>\n",
       "\t<tr><th scope=row>3</th><td>1</td><td>-49.60864</td><td>1</td><td>-5.960864</td><td>0.0025710571</td><td>0</td></tr>\n",
       "\t<tr><th scope=row>4</th><td>1</td><td>-49.56254</td><td>0</td><td>-6.956254</td><td>0.0009517517</td><td>0</td></tr>\n",
       "\t<tr><th scope=row>5</th><td>1</td><td>-49.55127</td><td>0</td><td>-6.955127</td><td>0.0009528243</td><td>0</td></tr>\n",
       "\t<tr><th scope=row>6</th><td>1</td><td>-49.44343</td><td>1</td><td>-5.944343</td><td>0.0026137738</td><td>0</td></tr>\n",
       "</tbody>\n",
       "</table>\n"
      ],
      "text/latex": [
       "A data.frame: 6 × 6\n",
       "\\begin{tabular}{r|llllll}\n",
       "  & X0 & X1 & X2 & logodds & pi\\_x & y\\\\\n",
       "  & <dbl> & <dbl> & <dbl> & <dbl> & <dbl> & <int>\\\\\n",
       "\\hline\n",
       "\t1 & 1 & -49.66353 & 1 & -5.966353 & 0.0025570188 & 0\\\\\n",
       "\t2 & 1 & -49.65911 & 1 & -5.965911 & 0.0025581450 & 0\\\\\n",
       "\t3 & 1 & -49.60864 & 1 & -5.960864 & 0.0025710571 & 0\\\\\n",
       "\t4 & 1 & -49.56254 & 0 & -6.956254 & 0.0009517517 & 0\\\\\n",
       "\t5 & 1 & -49.55127 & 0 & -6.955127 & 0.0009528243 & 0\\\\\n",
       "\t6 & 1 & -49.44343 & 1 & -5.944343 & 0.0026137738 & 0\\\\\n",
       "\\end{tabular}\n"
      ],
      "text/markdown": [
       "\n",
       "A data.frame: 6 × 6\n",
       "\n",
       "| <!--/--> | X0 &lt;dbl&gt; | X1 &lt;dbl&gt; | X2 &lt;dbl&gt; | logodds &lt;dbl&gt; | pi_x &lt;dbl&gt; | y &lt;int&gt; |\n",
       "|---|---|---|---|---|---|---|\n",
       "| 1 | 1 | -49.66353 | 1 | -5.966353 | 0.0025570188 | 0 |\n",
       "| 2 | 1 | -49.65911 | 1 | -5.965911 | 0.0025581450 | 0 |\n",
       "| 3 | 1 | -49.60864 | 1 | -5.960864 | 0.0025710571 | 0 |\n",
       "| 4 | 1 | -49.56254 | 0 | -6.956254 | 0.0009517517 | 0 |\n",
       "| 5 | 1 | -49.55127 | 0 | -6.955127 | 0.0009528243 | 0 |\n",
       "| 6 | 1 | -49.44343 | 1 | -5.944343 | 0.0026137738 | 0 |\n",
       "\n"
      ],
      "text/plain": [
       "  X0 X1        X2 logodds   pi_x         y\n",
       "1 1  -49.66353 1  -5.966353 0.0025570188 0\n",
       "2 1  -49.65911 1  -5.965911 0.0025581450 0\n",
       "3 1  -49.60864 1  -5.960864 0.0025710571 0\n",
       "4 1  -49.56254 0  -6.956254 0.0009517517 0\n",
       "5 1  -49.55127 0  -6.955127 0.0009528243 0\n",
       "6 1  -49.44343 1  -5.944343 0.0026137738 0"
      ]
     },
     "metadata": {},
     "output_type": "display_data"
    },
    {
     "data": {
      "text/html": [
       "<table>\n",
       "<caption>A data.frame: 6 × 6</caption>\n",
       "<thead>\n",
       "\t<tr><th></th><th scope=col>X0</th><th scope=col>X1</th><th scope=col>X2</th><th scope=col>logodds</th><th scope=col>pi_x</th><th scope=col>y</th></tr>\n",
       "\t<tr><th></th><th scope=col>&lt;dbl&gt;</th><th scope=col>&lt;dbl&gt;</th><th scope=col>&lt;dbl&gt;</th><th scope=col>&lt;dbl&gt;</th><th scope=col>&lt;dbl&gt;</th><th scope=col>&lt;int&gt;</th></tr>\n",
       "</thead>\n",
       "<tbody>\n",
       "\t<tr><th scope=row>1</th><td>1</td><td>-49.76541</td><td>1</td><td>-5.976541</td><td>0.0025311658</td><td>0</td></tr>\n",
       "\t<tr><th scope=row>2</th><td>1</td><td>-49.75942</td><td>0</td><td>-6.975942</td><td>0.0009332147</td><td>0</td></tr>\n",
       "\t<tr><th scope=row>3</th><td>1</td><td>-49.63776</td><td>1</td><td>-5.963776</td><td>0.0025635992</td><td>0</td></tr>\n",
       "\t<tr><th scope=row>4</th><td>1</td><td>-49.54291</td><td>1</td><td>-5.954291</td><td>0.0025879681</td><td>0</td></tr>\n",
       "\t<tr><th scope=row>5</th><td>1</td><td>-49.51748</td><td>1</td><td>-5.951748</td><td>0.0025945408</td><td>0</td></tr>\n",
       "\t<tr><th scope=row>6</th><td>1</td><td>-49.51144</td><td>1</td><td>-5.951144</td><td>0.0025961044</td><td>0</td></tr>\n",
       "</tbody>\n",
       "</table>\n"
      ],
      "text/latex": [
       "A data.frame: 6 × 6\n",
       "\\begin{tabular}{r|llllll}\n",
       "  & X0 & X1 & X2 & logodds & pi\\_x & y\\\\\n",
       "  & <dbl> & <dbl> & <dbl> & <dbl> & <dbl> & <int>\\\\\n",
       "\\hline\n",
       "\t1 & 1 & -49.76541 & 1 & -5.976541 & 0.0025311658 & 0\\\\\n",
       "\t2 & 1 & -49.75942 & 0 & -6.975942 & 0.0009332147 & 0\\\\\n",
       "\t3 & 1 & -49.63776 & 1 & -5.963776 & 0.0025635992 & 0\\\\\n",
       "\t4 & 1 & -49.54291 & 1 & -5.954291 & 0.0025879681 & 0\\\\\n",
       "\t5 & 1 & -49.51748 & 1 & -5.951748 & 0.0025945408 & 0\\\\\n",
       "\t6 & 1 & -49.51144 & 1 & -5.951144 & 0.0025961044 & 0\\\\\n",
       "\\end{tabular}\n"
      ],
      "text/markdown": [
       "\n",
       "A data.frame: 6 × 6\n",
       "\n",
       "| <!--/--> | X0 &lt;dbl&gt; | X1 &lt;dbl&gt; | X2 &lt;dbl&gt; | logodds &lt;dbl&gt; | pi_x &lt;dbl&gt; | y &lt;int&gt; |\n",
       "|---|---|---|---|---|---|---|\n",
       "| 1 | 1 | -49.76541 | 1 | -5.976541 | 0.0025311658 | 0 |\n",
       "| 2 | 1 | -49.75942 | 0 | -6.975942 | 0.0009332147 | 0 |\n",
       "| 3 | 1 | -49.63776 | 1 | -5.963776 | 0.0025635992 | 0 |\n",
       "| 4 | 1 | -49.54291 | 1 | -5.954291 | 0.0025879681 | 0 |\n",
       "| 5 | 1 | -49.51748 | 1 | -5.951748 | 0.0025945408 | 0 |\n",
       "| 6 | 1 | -49.51144 | 1 | -5.951144 | 0.0025961044 | 0 |\n",
       "\n"
      ],
      "text/plain": [
       "  X0 X1        X2 logodds   pi_x         y\n",
       "1 1  -49.76541 1  -5.976541 0.0025311658 0\n",
       "2 1  -49.75942 0  -6.975942 0.0009332147 0\n",
       "3 1  -49.63776 1  -5.963776 0.0025635992 0\n",
       "4 1  -49.54291 1  -5.954291 0.0025879681 0\n",
       "5 1  -49.51748 1  -5.951748 0.0025945408 0\n",
       "6 1  -49.51144 1  -5.951144 0.0025961044 0"
      ]
     },
     "metadata": {},
     "output_type": "display_data"
    }
   ],
   "source": [
    "# Prepare some Data for plotting later\n",
    "# \"True\" log odds and probs (never observe in real life)\n",
    "head(data.train)\n",
    "logodds.true.train <- data.train$logodds\n",
    "probs.true.train <- data.train$pi_x\n",
    "\n",
    "# \"True\" log odds and probs for test data\n",
    "head(data.test)\n",
    "logodds.true.test <- data.test$logodds \n",
    "probs.true.test <- data.test$pi_x\n"
   ]
  },
  {
   "cell_type": "markdown",
   "metadata": {},
   "source": [
    "#### Fitted Log odds and Probailities, and Confidence Intervals"
   ]
  },
  {
   "cell_type": "markdown",
   "metadata": {},
   "source": [
    "$\\hat{P}(Y_{i} = 1) = \\hat{\\pi_{i}} = \\frac{1}{1+e^{-x'_{i}\\hat{\\beta}}}$  \n",
    "${\\log}(\\frac{\\hat{\\pi_{i}}}{1 - \\hat{\\pi_{i}}}) = x'_{i}\\hat{\\beta}$"
   ]
  },
  {
   "cell_type": "code",
   "execution_count": 15,
   "metadata": {},
   "outputs": [],
   "source": [
    "# Construct 95% CI for the estimated probs\n",
    "# \"Manual\" way\n",
    "\n",
    "beta.ML.lower <- beta.ML - 1.96 * sde.ML\n",
    "beta.ML.upper <- beta.ML + 1.96 * sde.ML\n",
    "\n",
    "logodds.ML.train <- X.train %*% beta.ML\n",
    "logodds.ML.train.lower <- X.train %*% beta.ML.lower\n",
    "logodds.ML.train.upper <- X.train %*% beta.ML.upper\n",
    "\n",
    "probs.ML.train <- 1 / (1 + exp(-logodds.ML.train))\n",
    "probs.ML.train.lower <- 1 / (1 + exp(-logodds.ML.train.lower))\n",
    "probs.ML.train.upper <- 1 / (1 + exp(-logodds.ML.train.upper))\n",
    "\n",
    "logodds.ML.test <- X.test %*% beta.ML\n",
    "logodds.ML.test.lower <- X.test %*% beta.ML.lower\n",
    "logodds.ML.test.upper <- X.test %*% beta.ML.upper\n",
    "\n",
    "probs.ML.test <- 1 / (1 + exp(-logodds.ML.test))\n",
    "probs.ML.test.lower <- 1 / (1 + exp(-logodds.ML.test.lower))\n",
    "probs.ML.test.upper <- 1 / (1 + exp(-logodds.ML.test.upper))"
   ]
  },
  {
   "cell_type": "code",
   "execution_count": 16,
   "metadata": {
    "scrolled": true
   },
   "outputs": [],
   "source": [
    "# Construct 95% CI for the estimated probs: \"let-the-machine-do-it\" way\n",
    "# Fit the model again to the data.train\n",
    "logit.train <- predict(Logit, data.train, se = T)\n",
    "\n",
    "logodds.fit.train <- logit.train$fit\n",
    "probs.fit.train <- 1 / (1 + exp(-logodds.fit.train))\n",
    "\n",
    "logodds.lower.train <- logodds.fit.train - 1.96 * logit.train$se.fit # lower bound\n",
    "logodds.upper.train <- logodds.fit.train + 1.96 * logit.train$se.fit # upper bound\n",
    "lower.train <- 1 / (1 + exp(-logodds.lower.train)) \n",
    "upper.train <- 1 / (1 + exp(-logodds.upper.train))\n",
    "\n",
    "# Marginal Effect of Pr(y = 1|X) = p(X) on X1\n",
    "dx1.train <- beta.logit[2] * probs.fit.train * (1 - probs.fit.train)"
   ]
  },
  {
   "cell_type": "code",
   "execution_count": 17,
   "metadata": {
    "scrolled": true
   },
   "outputs": [
    {
     "data": {
      "text/html": [
       "<style>\n",
       ".dl-inline {width: auto; margin:0; padding: 0}\n",
       ".dl-inline>dt, .dl-inline>dd {float: none; width: auto; display: inline-block}\n",
       ".dl-inline>dt::after {content: \":\\0020\"; padding-right: .5ex}\n",
       ".dl-inline>dt:not(:first-of-type) {padding-left: .5ex}\n",
       "</style><dl class=dl-inline><dt>1</dt><dd>-5.61200815569615</dd><dt>2</dt><dd>-6.51462062223339</dd><dt>3</dt><dd>-5.59989511891148</dd><dt>4</dt><dd>-5.59089407411437</dd><dt>5</dt><dd>-5.58848082227612</dd><dt>6</dt><dd>-5.58790763574422</dd></dl>\n"
      ],
      "text/latex": [
       "\\begin{description*}\n",
       "\\item[1] -5.61200815569615\n",
       "\\item[2] -6.51462062223339\n",
       "\\item[3] -5.59989511891148\n",
       "\\item[4] -5.59089407411437\n",
       "\\item[5] -5.58848082227612\n",
       "\\item[6] -5.58790763574422\n",
       "\\end{description*}\n"
      ],
      "text/markdown": [
       "1\n",
       ":   -5.612008155696152\n",
       ":   -6.514620622233393\n",
       ":   -5.599895118911484\n",
       ":   -5.590894074114375\n",
       ":   -5.588480822276126\n",
       ":   -5.58790763574422\n",
       "\n"
      ],
      "text/plain": [
       "        1         2         3         4         5         6 \n",
       "-5.612008 -6.514621 -5.599895 -5.590894 -5.588481 -5.587908 "
      ]
     },
     "metadata": {},
     "output_type": "display_data"
    },
    {
     "data": {
      "text/html": [
       "<table>\n",
       "<caption>A matrix: 6 × 1 of type dbl</caption>\n",
       "<tbody>\n",
       "\t<tr><td>-5.612008</td></tr>\n",
       "\t<tr><td>-6.514621</td></tr>\n",
       "\t<tr><td>-5.599895</td></tr>\n",
       "\t<tr><td>-5.590894</td></tr>\n",
       "\t<tr><td>-5.588481</td></tr>\n",
       "\t<tr><td>-5.587908</td></tr>\n",
       "</tbody>\n",
       "</table>\n"
      ],
      "text/latex": [
       "A matrix: 6 × 1 of type dbl\n",
       "\\begin{tabular}{l}\n",
       "\t -5.612008\\\\\n",
       "\t -6.514621\\\\\n",
       "\t -5.599895\\\\\n",
       "\t -5.590894\\\\\n",
       "\t -5.588481\\\\\n",
       "\t -5.587908\\\\\n",
       "\\end{tabular}\n"
      ],
      "text/markdown": [
       "\n",
       "A matrix: 6 × 1 of type dbl\n",
       "\n",
       "| -5.612008 |\n",
       "| -6.514621 |\n",
       "| -5.599895 |\n",
       "| -5.590894 |\n",
       "| -5.588481 |\n",
       "| -5.587908 |\n",
       "\n"
      ],
      "text/plain": [
       "     [,1]     \n",
       "[1,] -5.612008\n",
       "[2,] -6.514621\n",
       "[3,] -5.599895\n",
       "[4,] -5.590894\n",
       "[5,] -5.588481\n",
       "[6,] -5.587908"
      ]
     },
     "metadata": {},
     "output_type": "display_data"
    }
   ],
   "source": [
    "# Use the estimated betas to fit the test data\n",
    "logit.test <- predict(Logit, newdata = data.test, se = T)\n",
    "logodds.fit.test <- logit.test$fit\n",
    "\n",
    "# Check if it's correct\n",
    "head(logodds.fit.test)\n",
    "head(X.test %*% beta.logit)"
   ]
  },
  {
   "cell_type": "code",
   "execution_count": 18,
   "metadata": {
    "scrolled": true
   },
   "outputs": [],
   "source": [
    "# Construct 95% CI for the (test) estimated probs \n",
    "lower.test <- logodds.fit.test - 1.96 * logit.test$se.fit # lower bound of log odds\n",
    "upper.test <- logodds.fit.test + 1.96 * logit.test$se.fit # upper bound...\n",
    "probs.fit.test <- 1 / (1 + exp(-logodds.fit.test))\n",
    "lower.test <- 1 / (1 + exp(-lower.test)) \n",
    "upper.test <- 1 / (1 + exp(-upper.test))"
   ]
  },
  {
   "cell_type": "markdown",
   "metadata": {},
   "source": [
    "#### MSE, AVE and the Confusion Matrix"
   ]
  },
  {
   "cell_type": "code",
   "execution_count": 19,
   "metadata": {
    "scrolled": true
   },
   "outputs": [
    {
     "data": {
      "text/html": [
       "0.151"
      ],
      "text/latex": [
       "0.151"
      ],
      "text/markdown": [
       "0.151"
      ],
      "text/plain": [
       "[1] 0.151"
      ]
     },
     "metadata": {},
     "output_type": "display_data"
    },
    {
     "data": {
      "text/html": [
       "0.13"
      ],
      "text/latex": [
       "0.13"
      ],
      "text/markdown": [
       "0.13"
      ],
      "text/plain": [
       "[1] 0.13"
      ]
     },
     "metadata": {},
     "output_type": "display_data"
    }
   ],
   "source": [
    "# MSE and AVE\n",
    "y.pred.train <-  c()\n",
    "y.pred.test <- c()\n",
    "threshold <- 0.65\n",
    "for (i in 1:n) {\n",
    "  if (probs.fit.train[i] >= threshold) {\n",
    "    y.pred.train[i] <- 1\n",
    "  }\n",
    "  else {\n",
    "    y.pred.train[i] <- 0\n",
    "  }\n",
    "  if (probs.fit.test[i] >= threshold) {\n",
    "    y.pred.test[i] <- 1\n",
    "  }\n",
    "  else {\n",
    "    y.pred.test[i] <- 0\n",
    "  }\n",
    "}\n",
    "# Training error\n",
    "(MSE <- sum(y.pred.train != data.train$y) / length(data.train$y))\n",
    "\n",
    "# Testing error\n",
    "(AVE <- sum(y.pred.test != data.test$y) / length(data.test$y))"
   ]
  },
  {
   "cell_type": "markdown",
   "metadata": {},
   "source": [
    "#### For confusion matrices we factor() the ys for better interpretation"
   ]
  },
  {
   "cell_type": "code",
   "execution_count": 20,
   "metadata": {},
   "outputs": [],
   "source": [
    "# For Confusion Matrices we factor the ys\n",
    "y.train.cfm <- factor(data.train$y, levels = c(0, 1), labels = c(\"Pos\", \"Neg\"))\n",
    "y.test.cfm <- factor(data.test$y, levels = c(0, 1), labels = c(\"Pos\", \"Neg\"))\n",
    "y.pred.train.cfm <- factor(y.pred.train, levels = c(0, 1), labels = c(\"Pos\", \"Neg\"))\n",
    "y.pred.test.cfm <- factor(y.pred.test, levels = c(0, 1), labels = c(\"Pos\", \"Neg\"))"
   ]
  },
  {
   "cell_type": "code",
   "execution_count": 21,
   "metadata": {},
   "outputs": [
    {
     "data": {
      "text/plain": [
       "         True\n",
       "Predicted Pos Neg\n",
       "      Pos 529 106\n",
       "      Neg  45 320"
      ]
     },
     "metadata": {},
     "output_type": "display_data"
    },
    {
     "data": {
      "text/html": [
       "<table>\n",
       "<caption>A table: 3 × 3 of type dbl</caption>\n",
       "<thead>\n",
       "\t<tr><th></th><th scope=col>Pos</th><th scope=col>Neg</th><th scope=col>Sum</th></tr>\n",
       "</thead>\n",
       "<tbody>\n",
       "\t<tr><th scope=row>Pos</th><td>529</td><td>106</td><td> 635</td></tr>\n",
       "\t<tr><th scope=row>Neg</th><td> 45</td><td>320</td><td> 365</td></tr>\n",
       "\t<tr><th scope=row>Sum</th><td>574</td><td>426</td><td>1000</td></tr>\n",
       "</tbody>\n",
       "</table>\n"
      ],
      "text/latex": [
       "A table: 3 × 3 of type dbl\n",
       "\\begin{tabular}{r|lll}\n",
       "  & Pos & Neg & Sum\\\\\n",
       "\\hline\n",
       "\tPos & 529 & 106 &  635\\\\\n",
       "\tNeg &  45 & 320 &  365\\\\\n",
       "\tSum & 574 & 426 & 1000\\\\\n",
       "\\end{tabular}\n"
      ],
      "text/markdown": [
       "\n",
       "A table: 3 × 3 of type dbl\n",
       "\n",
       "| <!--/--> | Pos | Neg | Sum |\n",
       "|---|---|---|---|\n",
       "| Pos | 529 | 106 |  635 |\n",
       "| Neg |  45 | 320 |  365 |\n",
       "| Sum | 574 | 426 | 1000 |\n",
       "\n"
      ],
      "text/plain": [
       "         True\n",
       "Predicted Pos Neg Sum \n",
       "      Pos 529 106  635\n",
       "      Neg  45 320  365\n",
       "      Sum 574 426 1000"
      ]
     },
     "metadata": {},
     "output_type": "display_data"
    },
    {
     "data": {
      "text/html": [
       "<table>\n",
       "<caption>A table: 3 × 3 of type dbl</caption>\n",
       "<thead>\n",
       "\t<tr><th></th><th scope=col>Pos</th><th scope=col>Neg</th><th scope=col>Sum</th></tr>\n",
       "</thead>\n",
       "<tbody>\n",
       "\t<tr><th scope=row>Pos</th><td>0.529</td><td>0.106</td><td>0.635</td></tr>\n",
       "\t<tr><th scope=row>Neg</th><td>0.045</td><td>0.320</td><td>0.365</td></tr>\n",
       "\t<tr><th scope=row>Sum</th><td>0.574</td><td>0.426</td><td>1.000</td></tr>\n",
       "</tbody>\n",
       "</table>\n"
      ],
      "text/latex": [
       "A table: 3 × 3 of type dbl\n",
       "\\begin{tabular}{r|lll}\n",
       "  & Pos & Neg & Sum\\\\\n",
       "\\hline\n",
       "\tPos & 0.529 & 0.106 & 0.635\\\\\n",
       "\tNeg & 0.045 & 0.320 & 0.365\\\\\n",
       "\tSum & 0.574 & 0.426 & 1.000\\\\\n",
       "\\end{tabular}\n"
      ],
      "text/markdown": [
       "\n",
       "A table: 3 × 3 of type dbl\n",
       "\n",
       "| <!--/--> | Pos | Neg | Sum |\n",
       "|---|---|---|---|\n",
       "| Pos | 0.529 | 0.106 | 0.635 |\n",
       "| Neg | 0.045 | 0.320 | 0.365 |\n",
       "| Sum | 0.574 | 0.426 | 1.000 |\n",
       "\n"
      ],
      "text/plain": [
       "         True\n",
       "Predicted Pos   Neg   Sum  \n",
       "      Pos 0.529 0.106 0.635\n",
       "      Neg 0.045 0.320 0.365\n",
       "      Sum 0.574 0.426 1.000"
      ]
     },
     "metadata": {},
     "output_type": "display_data"
    },
    {
     "data": {
      "text/html": [
       "<table>\n",
       "<caption>A table: 3 × 3 of type dbl</caption>\n",
       "<thead>\n",
       "\t<tr><th></th><th scope=col>Pos</th><th scope=col>Neg</th><th scope=col>Sum</th></tr>\n",
       "</thead>\n",
       "<tbody>\n",
       "\t<tr><th scope=row>Pos</th><td>0.92160279</td><td>0.2488263</td><td>1.1704291</td></tr>\n",
       "\t<tr><th scope=row>Neg</th><td>0.07839721</td><td>0.7511737</td><td>0.8295709</td></tr>\n",
       "\t<tr><th scope=row>Sum</th><td>1.00000000</td><td>1.0000000</td><td>2.0000000</td></tr>\n",
       "</tbody>\n",
       "</table>\n"
      ],
      "text/latex": [
       "A table: 3 × 3 of type dbl\n",
       "\\begin{tabular}{r|lll}\n",
       "  & Pos & Neg & Sum\\\\\n",
       "\\hline\n",
       "\tPos & 0.92160279 & 0.2488263 & 1.1704291\\\\\n",
       "\tNeg & 0.07839721 & 0.7511737 & 0.8295709\\\\\n",
       "\tSum & 1.00000000 & 1.0000000 & 2.0000000\\\\\n",
       "\\end{tabular}\n"
      ],
      "text/markdown": [
       "\n",
       "A table: 3 × 3 of type dbl\n",
       "\n",
       "| <!--/--> | Pos | Neg | Sum |\n",
       "|---|---|---|---|\n",
       "| Pos | 0.92160279 | 0.2488263 | 1.1704291 |\n",
       "| Neg | 0.07839721 | 0.7511737 | 0.8295709 |\n",
       "| Sum | 1.00000000 | 1.0000000 | 2.0000000 |\n",
       "\n"
      ],
      "text/plain": [
       "         True\n",
       "Predicted Pos        Neg       Sum      \n",
       "      Pos 0.92160279 0.2488263 1.1704291\n",
       "      Neg 0.07839721 0.7511737 0.8295709\n",
       "      Sum 1.00000000 1.0000000 2.0000000"
      ]
     },
     "metadata": {},
     "output_type": "display_data"
    }
   ],
   "source": [
    "(cfm.train <- table(y.pred.train.cfm, y.train.cfm, dnn = c(\"Predicted\", \"True\")))\n",
    "(addmargins(cfm.train))\n",
    "addmargins(prop.table(cfm.train))\n",
    "addmargins(prop.table(cfm.train, 2))"
   ]
  },
  {
   "cell_type": "code",
   "execution_count": 22,
   "metadata": {
    "scrolled": true
   },
   "outputs": [
    {
     "data": {
      "text/plain": [
       "NULL"
      ]
     },
     "metadata": {},
     "output_type": "display_data"
    },
    {
     "data": {
      "image/png": "[encoded data removed]",
      "text/plain": [
       "Plot with title \"table(y.train.cfm, y.pred.train.cfm, dnn = c(\"True\", \"Predicted\"))\""
      ]
     },
     "metadata": {
      "image/png": {
       "height": 420,
       "width": 420
      },
      "text/plain": {
       "height": 420,
       "width": 420
      }
     },
     "output_type": "display_data"
    }
   ],
   "source": [
    "(mosaic.train <- (mosaicplot(table(y.train.cfm, y.pred.train.cfm, dnn = c(\"True\", \"Predicted\")))))\n"
   ]
  },
  {
   "cell_type": "code",
   "execution_count": 23,
   "metadata": {
    "scrolled": true
   },
   "outputs": [
    {
     "data": {
      "text/plain": [
       "         True\n",
       "Predicted Pos Neg\n",
       "      Pos 517  92\n",
       "      Neg  38 353"
      ]
     },
     "metadata": {},
     "output_type": "display_data"
    },
    {
     "data": {
      "text/html": [
       "<table>\n",
       "<caption>A table: 3 × 3 of type dbl</caption>\n",
       "<thead>\n",
       "\t<tr><th></th><th scope=col>Pos</th><th scope=col>Neg</th><th scope=col>Sum</th></tr>\n",
       "</thead>\n",
       "<tbody>\n",
       "\t<tr><th scope=row>Pos</th><td>517</td><td> 92</td><td> 609</td></tr>\n",
       "\t<tr><th scope=row>Neg</th><td> 38</td><td>353</td><td> 391</td></tr>\n",
       "\t<tr><th scope=row>Sum</th><td>555</td><td>445</td><td>1000</td></tr>\n",
       "</tbody>\n",
       "</table>\n"
      ],
      "text/latex": [
       "A table: 3 × 3 of type dbl\n",
       "\\begin{tabular}{r|lll}\n",
       "  & Pos & Neg & Sum\\\\\n",
       "\\hline\n",
       "\tPos & 517 &  92 &  609\\\\\n",
       "\tNeg &  38 & 353 &  391\\\\\n",
       "\tSum & 555 & 445 & 1000\\\\\n",
       "\\end{tabular}\n"
      ],
      "text/markdown": [
       "\n",
       "A table: 3 × 3 of type dbl\n",
       "\n",
       "| <!--/--> | Pos | Neg | Sum |\n",
       "|---|---|---|---|\n",
       "| Pos | 517 |  92 |  609 |\n",
       "| Neg |  38 | 353 |  391 |\n",
       "| Sum | 555 | 445 | 1000 |\n",
       "\n"
      ],
      "text/plain": [
       "         True\n",
       "Predicted Pos Neg Sum \n",
       "      Pos 517  92  609\n",
       "      Neg  38 353  391\n",
       "      Sum 555 445 1000"
      ]
     },
     "metadata": {},
     "output_type": "display_data"
    },
    {
     "data": {
      "text/html": [
       "<table>\n",
       "<caption>A table: 3 × 3 of type dbl</caption>\n",
       "<thead>\n",
       "\t<tr><th></th><th scope=col>Pos</th><th scope=col>Neg</th><th scope=col>Sum</th></tr>\n",
       "</thead>\n",
       "<tbody>\n",
       "\t<tr><th scope=row>Pos</th><td>0.517</td><td>0.092</td><td>0.609</td></tr>\n",
       "\t<tr><th scope=row>Neg</th><td>0.038</td><td>0.353</td><td>0.391</td></tr>\n",
       "\t<tr><th scope=row>Sum</th><td>0.555</td><td>0.445</td><td>1.000</td></tr>\n",
       "</tbody>\n",
       "</table>\n"
      ],
      "text/latex": [
       "A table: 3 × 3 of type dbl\n",
       "\\begin{tabular}{r|lll}\n",
       "  & Pos & Neg & Sum\\\\\n",
       "\\hline\n",
       "\tPos & 0.517 & 0.092 & 0.609\\\\\n",
       "\tNeg & 0.038 & 0.353 & 0.391\\\\\n",
       "\tSum & 0.555 & 0.445 & 1.000\\\\\n",
       "\\end{tabular}\n"
      ],
      "text/markdown": [
       "\n",
       "A table: 3 × 3 of type dbl\n",
       "\n",
       "| <!--/--> | Pos | Neg | Sum |\n",
       "|---|---|---|---|\n",
       "| Pos | 0.517 | 0.092 | 0.609 |\n",
       "| Neg | 0.038 | 0.353 | 0.391 |\n",
       "| Sum | 0.555 | 0.445 | 1.000 |\n",
       "\n"
      ],
      "text/plain": [
       "         True\n",
       "Predicted Pos   Neg   Sum  \n",
       "      Pos 0.517 0.092 0.609\n",
       "      Neg 0.038 0.353 0.391\n",
       "      Sum 0.555 0.445 1.000"
      ]
     },
     "metadata": {},
     "output_type": "display_data"
    },
    {
     "data": {
      "text/html": [
       "<table>\n",
       "<caption>A table: 3 × 3 of type dbl</caption>\n",
       "<thead>\n",
       "\t<tr><th></th><th scope=col>Pos</th><th scope=col>Neg</th><th scope=col>Sum</th></tr>\n",
       "</thead>\n",
       "<tbody>\n",
       "\t<tr><th scope=row>Pos</th><td>0.93153153</td><td>0.2067416</td><td>1.1382731</td></tr>\n",
       "\t<tr><th scope=row>Neg</th><td>0.06846847</td><td>0.7932584</td><td>0.8617269</td></tr>\n",
       "\t<tr><th scope=row>Sum</th><td>1.00000000</td><td>1.0000000</td><td>2.0000000</td></tr>\n",
       "</tbody>\n",
       "</table>\n"
      ],
      "text/latex": [
       "A table: 3 × 3 of type dbl\n",
       "\\begin{tabular}{r|lll}\n",
       "  & Pos & Neg & Sum\\\\\n",
       "\\hline\n",
       "\tPos & 0.93153153 & 0.2067416 & 1.1382731\\\\\n",
       "\tNeg & 0.06846847 & 0.7932584 & 0.8617269\\\\\n",
       "\tSum & 1.00000000 & 1.0000000 & 2.0000000\\\\\n",
       "\\end{tabular}\n"
      ],
      "text/markdown": [
       "\n",
       "A table: 3 × 3 of type dbl\n",
       "\n",
       "| <!--/--> | Pos | Neg | Sum |\n",
       "|---|---|---|---|\n",
       "| Pos | 0.93153153 | 0.2067416 | 1.1382731 |\n",
       "| Neg | 0.06846847 | 0.7932584 | 0.8617269 |\n",
       "| Sum | 1.00000000 | 1.0000000 | 2.0000000 |\n",
       "\n"
      ],
      "text/plain": [
       "         True\n",
       "Predicted Pos        Neg       Sum      \n",
       "      Pos 0.93153153 0.2067416 1.1382731\n",
       "      Neg 0.06846847 0.7932584 0.8617269\n",
       "      Sum 1.00000000 1.0000000 2.0000000"
      ]
     },
     "metadata": {},
     "output_type": "display_data"
    }
   ],
   "source": [
    "(cfm.test <- table(y.pred.test.cfm, y.test.cfm, dnn = c(\"Predicted\", \"True\")))\n",
    "(addmargins(cfm.test))\n",
    "addmargins(prop.table(cfm.test))\n",
    "addmargins(prop.table(cfm.test, 2))"
   ]
  },
  {
   "cell_type": "code",
   "execution_count": 24,
   "metadata": {
    "scrolled": true
   },
   "outputs": [
    {
     "data": {
      "text/plain": [
       "NULL"
      ]
     },
     "metadata": {},
     "output_type": "display_data"
    },
    {
     "data": {
      "image/png": "[encoded data removed]",
      "text/plain": [
       "Plot with title \"table(y.test.cfm, y.pred.test, dnn = c(\"True\", \"Predicted\"))\""
      ]
     },
     "metadata": {
      "image/png": {
       "height": 420,
       "width": 420
      },
      "text/plain": {
       "height": 420,
       "width": 420
      }
     },
     "output_type": "display_data"
    }
   ],
   "source": [
    "(mosaic.test <- (mosaicplot(table(y.test.cfm, y.pred.test, dnn = c(\"True\", \"Predicted\")))))"
   ]
  },
  {
   "cell_type": "code",
   "execution_count": 25,
   "metadata": {
    "scrolled": true
   },
   "outputs": [
    {
     "data": {
      "text/html": [
       "0.151"
      ],
      "text/latex": [
       "0.151"
      ],
      "text/markdown": [
       "0.151"
      ],
      "text/plain": [
       "[1] 0.151"
      ]
     },
     "metadata": {},
     "output_type": "display_data"
    },
    {
     "data": {
      "text/html": [
       "0.159"
      ],
      "text/latex": [
       "0.159"
      ],
      "text/markdown": [
       "0.159"
      ],
      "text/plain": [
       "[1] 0.159"
      ]
     },
     "metadata": {},
     "output_type": "display_data"
    },
    {
     "data": {
      "text/html": [
       "0.13"
      ],
      "text/latex": [
       "0.13"
      ],
      "text/markdown": [
       "0.13"
      ],
      "text/plain": [
       "[1] 0.13"
      ]
     },
     "metadata": {},
     "output_type": "display_data"
    },
    {
     "data": {
      "text/html": [
       "0.139"
      ],
      "text/latex": [
       "0.139"
      ],
      "text/markdown": [
       "0.139"
      ],
      "text/plain": [
       "[1] 0.139"
      ]
     },
     "metadata": {},
     "output_type": "display_data"
    }
   ],
   "source": [
    "MSE\n",
    "0.102 + 0.057\n",
    "AVE\n",
    "0.077 + 0.062"
   ]
  },
  {
   "cell_type": "markdown",
   "metadata": {},
   "source": [
    "### c) Interpretation"
   ]
  },
  {
   "cell_type": "markdown",
   "metadata": {},
   "source": [
    "Consider the first observation. We'll calculate its log odds, odds and $P(Y_{1} = 1) = \\pi_{1}$"
   ]
  },
  {
   "cell_type": "markdown",
   "metadata": {},
   "source": [
    "$$\n",
    "\\begin{aligned}\n",
    "\\hat{log.odds_{1}} &= x'_{1}\\hat{\\beta} \\\\\n",
    "\\hat{odds_{1}} &= e^{\\hat{log.odds_{1}}} \\\\\n",
    "\\hat{P}(Y_{1} = 1) &= \\frac{1}{1 + e ^ {-\\hat{log.odds_{1}}}} = \\hat{\\pi_{1}}\n",
    "\\end{aligned}\n",
    "$$"
   ]
  },
  {
   "cell_type": "code",
   "execution_count": 26,
   "metadata": {
    "scrolled": true
   },
   "outputs": [
    {
     "data": {
      "text/html": [
       "<strong>1:</strong> -5.60234031571193"
      ],
      "text/latex": [
       "\\textbf{1:} -5.60234031571193"
      ],
      "text/markdown": [
       "**1:** -5.60234031571193"
      ],
      "text/plain": [
       "       1 \n",
       "-5.60234 "
      ]
     },
     "metadata": {},
     "output_type": "display_data"
    },
    {
     "data": {
      "text/html": [
       "<table>\n",
       "<caption>A matrix: 1 × 1 of type dbl</caption>\n",
       "<tbody>\n",
       "\t<tr><td>-5.60234</td></tr>\n",
       "</tbody>\n",
       "</table>\n"
      ],
      "text/latex": [
       "A matrix: 1 × 1 of type dbl\n",
       "\\begin{tabular}{l}\n",
       "\t -5.60234\\\\\n",
       "\\end{tabular}\n"
      ],
      "text/markdown": [
       "\n",
       "A matrix: 1 × 1 of type dbl\n",
       "\n",
       "| -5.60234 |\n",
       "\n"
      ],
      "text/plain": [
       "     [,1]    \n",
       "[1,] -5.60234"
      ]
     },
     "metadata": {},
     "output_type": "display_data"
    },
    {
     "data": {
      "text/html": [
       "<strong>1:</strong> 0.00368921966677467"
      ],
      "text/latex": [
       "\\textbf{1:} 0.00368921966677467"
      ],
      "text/markdown": [
       "**1:** 0.00368921966677467"
      ],
      "text/plain": [
       "         1 \n",
       "0.00368922 "
      ]
     },
     "metadata": {},
     "output_type": "display_data"
    },
    {
     "data": {
      "text/html": [
       "<strong>1:</strong> 0.00367565935200489"
      ],
      "text/latex": [
       "\\textbf{1:} 0.00367565935200489"
      ],
      "text/markdown": [
       "**1:** 0.00367565935200489"
      ],
      "text/plain": [
       "          1 \n",
       "0.003675659 "
      ]
     },
     "metadata": {},
     "output_type": "display_data"
    }
   ],
   "source": [
    "# c) Interpretation\n",
    "\n",
    "# Logodss of the first observation and P(Y_1 = 1)\n",
    "logit.train$fit[1] # \"automatic\"\n",
    "X.train[1, ] %*% beta.logit # \"manually\"\n",
    "# Odss of the first obs\n",
    "(odds_1 <- exp(logit.train$fit[1]))\n",
    "# With an odds of 1.76:1 the first observation is in group 1\n",
    "# Or in other words, the probability that Y_1 = 1 is:\n",
    "(pi_x_1 <- 1 / (1 + exp(-logit.train$fit[1]))) # P(Y_1 = 1) is around 64% \n",
    "                                              # gives an odds of ~ 64/36 ~ 1.7)"
   ]
  },
  {
   "cell_type": "markdown",
   "metadata": {},
   "source": [
    "#### Marginal Effects\n",
    "$\\hat{log.odds_{1}} = x'_{1}\\hat{\\beta} = \\hat{\\beta_{0}} * x_{10} + \\hat{\\beta_{1}} * x_{11} + \\hat{\\beta_{2}} * x_{12}$  \n",
    "One unit increase in $x_{11}$ increases $\\hat{odds_{1}}$ by $e^{\\hat{\\beta_{1}}} - 1 \\%$"
   ]
  },
  {
   "cell_type": "code",
   "execution_count": 27,
   "metadata": {
    "scrolled": true
   },
   "outputs": [
    {
     "data": {
      "text/html": [
       "<strong>X1:</strong> 9.9543078457687"
      ],
      "text/latex": [
       "\\textbf{X1:} 9.9543078457687"
      ],
      "text/markdown": [
       "**X1:** 9.9543078457687"
      ],
      "text/plain": [
       "      X1 \n",
       "9.954308 "
      ]
     },
     "metadata": {},
     "output_type": "display_data"
    },
    {
     "data": {
      "text/html": [
       "<strong>(Intercept):</strong> 9.95430784576876"
      ],
      "text/latex": [
       "\\textbf{(Intercept):} 9.95430784576876"
      ],
      "text/markdown": [
       "**(Intercept):** 9.95430784576876"
      ],
      "text/plain": [
       "(Intercept) \n",
       "   9.954308 "
      ]
     },
     "metadata": {},
     "output_type": "display_data"
    }
   ],
   "source": [
    "(exp(beta.logit[2]) - 1) * 100\n",
    "logodds_1_new <- beta.logit[1] * X.train[1, 1] +\n",
    "                    beta.logit[2] * (X.train[1, 2] + 1) +\n",
    "                    beta.logit[3] * X.train[1, 3]\n",
    "odds_1_new <- exp(logodds_1_new)\n",
    "(odds_1_new - odds_1) / odds_1 * 100"
   ]
  },
  {
   "cell_type": "markdown",
   "metadata": {},
   "source": [
    "What about $\\frac{\\partial \\pi}{\\partial X_1}?$\n",
    "$$\n",
    "\\begin{aligned}\n",
    "\\pi_i&= \\frac{1}{1 + e^{-(\\beta_{0}x_{i0} + \\beta_1x_{i1} + \\beta_2x_{i2})}} \\\\\n",
    "\\frac{\\partial \\pi_{i}}{\\partial x_{i1}} &= \\frac{-1}{(1 + e^{-(\\beta_{0}x_{i0} + \\beta_1x_{i1} + \\beta_2x_{i2})})^2}(-\\beta_1)e^{\\beta_{0}x_{i0} + \\beta_1x_{i1} + \\beta_2x_{i2})}\\\\\n",
    "&= \\beta_1\\frac{1}{1 + e^{-(\\beta_{0}x_{i0} + \\beta_1x_{i1} + \\beta_2x_{i2})}}\\frac{e^{-(\\beta_{0}x_{i0} + \\beta_1x_{i1} + \\beta_2x_{i2})}}{1 + e^{-(\\beta_{0}x_{i0} + \\beta_1x_{i1} + \\beta_2x_{i2})}} \\\\\n",
    "&= \\beta_1\\pi_i(1 - \\pi_i)\n",
    "\\end{aligned}\n",
    "$$\n",
    "Consider again the first observation:  \n",
    "$\\frac{\\partial \\pi_{i}}{\\partial x_{i1}}|x_{11} = \\beta_1\\pi_1(1 - \\pi_1)$"
   ]
  },
  {
   "cell_type": "code",
   "execution_count": 28,
   "metadata": {
    "scrolled": true
   },
   "outputs": [
    {
     "data": {
      "text/html": [
       "<strong>X1:</strong> 0.0347518557032665"
      ],
      "text/latex": [
       "\\textbf{X1:} 0.0347518557032665"
      ],
      "text/markdown": [
       "**X1:** 0.0347518557032665"
      ],
      "text/plain": [
       "        X1 \n",
       "0.03475186 "
      ]
     },
     "metadata": {},
     "output_type": "display_data"
    },
    {
     "data": {
      "text/html": [
       "<strong>(Intercept):</strong> 0.0364408241281956"
      ],
      "text/latex": [
       "\\textbf{(Intercept):} 0.0364408241281956"
      ],
      "text/markdown": [
       "**(Intercept):** 0.0364408241281956"
      ],
      "text/plain": [
       "(Intercept) \n",
       " 0.03644082 "
      ]
     },
     "metadata": {},
     "output_type": "display_data"
    }
   ],
   "source": [
    "(dx1_1 <- beta.logit[2] * pi_x_1 * (1 - pi_x_1)) * 100 # dx1 of the 1st. obs: from math\n",
    "pi_x_1_new <- 1 / (1 + exp(-logodds_1_new))\n",
    "(pi_x_1_new - pi_x_1) * 100 # dx1 of obs 1: computational"
   ]
  },
  {
   "cell_type": "markdown",
   "metadata": {},
   "source": [
    "One unit increase in x1 increases the predicted probability by 2.4 percentage points (from math) or 2.37 percentage points practically."
   ]
  },
  {
   "cell_type": "markdown",
   "metadata": {},
   "source": [
    "## d) VIsualizing the results"
   ]
  },
  {
   "cell_type": "markdown",
   "metadata": {},
   "source": [
    "### Preparing data frame for plotting"
   ]
  },
  {
   "cell_type": "code",
   "execution_count": 29,
   "metadata": {
    "scrolled": true
   },
   "outputs": [
    {
     "data": {
      "text/html": [
       "<table>\n",
       "<caption>A data.frame: 6 × 21</caption>\n",
       "<thead>\n",
       "\t<tr><th></th><th scope=col>X1.train</th><th scope=col>X1.test</th><th scope=col>X2.train</th><th scope=col>X2.test</th><th scope=col>y.train</th><th scope=col>y.test</th><th scope=col>probs.train</th><th scope=col>probs.ML.train</th><th scope=col>probs.test</th><th scope=col>probs.ML.test</th><th scope=col>...</th><th scope=col>probs.true.test</th><th scope=col>upper.train</th><th scope=col>probs.ML.train.upper</th><th scope=col>lower.train</th><th scope=col>probs.ML.train.lower</th><th scope=col>upper.test</th><th scope=col>probs.ML.test.upper</th><th scope=col>lower.test</th><th scope=col>probs.ML.test.lower</th><th scope=col>dx1.train</th></tr>\n",
       "\t<tr><th></th><th scope=col>&lt;dbl&gt;</th><th scope=col>&lt;dbl&gt;</th><th scope=col>&lt;fct&gt;</th><th scope=col>&lt;fct&gt;</th><th scope=col>&lt;int&gt;</th><th scope=col>&lt;int&gt;</th><th scope=col>&lt;dbl&gt;</th><th scope=col>&lt;dbl&gt;</th><th scope=col>&lt;dbl&gt;</th><th scope=col>&lt;dbl&gt;</th><th scope=col>...</th><th scope=col>&lt;dbl&gt;</th><th scope=col>&lt;dbl&gt;</th><th scope=col>&lt;dbl&gt;</th><th scope=col>&lt;dbl&gt;</th><th scope=col>&lt;dbl&gt;</th><th scope=col>&lt;dbl&gt;</th><th scope=col>&lt;dbl&gt;</th><th scope=col>&lt;dbl&gt;</th><th scope=col>&lt;dbl&gt;</th><th scope=col>&lt;dbl&gt;</th></tr>\n",
       "</thead>\n",
       "<tbody>\n",
       "\t<tr><th scope=row>1</th><td>-49.66353</td><td>-49.76541</td><td>1</td><td>1</td><td>0</td><td>0</td><td>0.003675659</td><td>0.003675650</td><td>0.003640424</td><td>0.003640415</td><td>...</td><td>0.0025311658</td><td>0.007536576</td><td>0.004528795</td><td>0.0017890883</td><td>0.002982742</td><td>0.007472496</td><td>0.004480234</td><td>0.0017700239</td><td>0.002957552</td><td>0.0003475186</td></tr>\n",
       "\t<tr><th scope=row>2</th><td>-49.65911</td><td>-49.75942</td><td>1</td><td>0</td><td>0</td><td>0</td><td>0.003677194</td><td>0.003677185</td><td>0.001479426</td><td>0.001479422</td><td>...</td><td>0.0009332147</td><td>0.007539365</td><td>0.004530911</td><td>0.0017899190</td><td>0.002983838</td><td>0.003401951</td><td>0.001197165</td><td>0.0006426659</td><td>0.001828104</td><td>0.0003476631</td></tr>\n",
       "\t<tr><th scope=row>3</th><td>-49.60864</td><td>-49.63776</td><td>1</td><td>1</td><td>0</td><td>0</td><td>0.003694785</td><td>0.003694775</td><td>0.003684625</td><td>0.003684616</td><td>...</td><td>0.0025635992</td><td>0.007571328</td><td>0.004555175</td><td>0.0017994446</td><td>0.002996402</td><td>0.007552870</td><td>0.004541159</td><td>0.0017939424</td><td>0.002989146</td><td>0.0003493201</td></tr>\n",
       "\t<tr><th scope=row>4</th><td>-49.56254</td><td>-49.54291</td><td>0</td><td>1</td><td>0</td><td>0</td><td>0.001507283</td><td>0.001507279</td><td>0.003717816</td><td>0.003717807</td><td>...</td><td>0.0025879681</td><td>0.003458587</td><td>0.001222451</td><td>0.0006561623</td><td>0.001858346</td><td>0.007613152</td><td>0.004586966</td><td>0.0018119241</td><td>0.003012842</td><td>0.0001428176</td></tr>\n",
       "\t<tr><th scope=row>5</th><td>-49.55127</td><td>-49.51748</td><td>0</td><td>1</td><td>0</td><td>0</td><td>0.001508894</td><td>0.001508890</td><td>0.003726766</td><td>0.003726756</td><td>...</td><td>0.0025945408</td><td>0.003461858</td><td>0.001223915</td><td>0.0006569437</td><td>0.001860093</td><td>0.007629395</td><td>0.004599325</td><td>0.0018167755</td><td>0.003019226</td><td>0.0001429700</td></tr>\n",
       "\t<tr><th scope=row>6</th><td>-49.44343</td><td>-49.51144</td><td>1</td><td>1</td><td>0</td><td>0</td><td>0.003752946</td><td>0.003752937</td><td>0.003728894</td><td>0.003728885</td><td>...</td><td>0.0025961044</td><td>0.007676889</td><td>0.004635500</td><td>0.0018309755</td><td>0.003037894</td><td>0.007633259</td><td>0.004602265</td><td>0.0018179297</td><td>0.003020745</td><td>0.0003547982</td></tr>\n",
       "</tbody>\n",
       "</table>\n"
      ],
      "text/latex": [
       "A data.frame: 6 × 21\n",
       "\\begin{tabular}{r|lllllllllllllllllllll}\n",
       "  & X1.train & X1.test & X2.train & X2.test & y.train & y.test & probs.train & probs.ML.train & probs.test & probs.ML.test & ... & probs.true.test & upper.train & probs.ML.train.upper & lower.train & probs.ML.train.lower & upper.test & probs.ML.test.upper & lower.test & probs.ML.test.lower & dx1.train\\\\\n",
       "  & <dbl> & <dbl> & <fct> & <fct> & <int> & <int> & <dbl> & <dbl> & <dbl> & <dbl> & ... & <dbl> & <dbl> & <dbl> & <dbl> & <dbl> & <dbl> & <dbl> & <dbl> & <dbl> & <dbl>\\\\\n",
       "\\hline\n",
       "\t1 & -49.66353 & -49.76541 & 1 & 1 & 0 & 0 & 0.003675659 & 0.003675650 & 0.003640424 & 0.003640415 & ... & 0.0025311658 & 0.007536576 & 0.004528795 & 0.0017890883 & 0.002982742 & 0.007472496 & 0.004480234 & 0.0017700239 & 0.002957552 & 0.0003475186\\\\\n",
       "\t2 & -49.65911 & -49.75942 & 1 & 0 & 0 & 0 & 0.003677194 & 0.003677185 & 0.001479426 & 0.001479422 & ... & 0.0009332147 & 0.007539365 & 0.004530911 & 0.0017899190 & 0.002983838 & 0.003401951 & 0.001197165 & 0.0006426659 & 0.001828104 & 0.0003476631\\\\\n",
       "\t3 & -49.60864 & -49.63776 & 1 & 1 & 0 & 0 & 0.003694785 & 0.003694775 & 0.003684625 & 0.003684616 & ... & 0.0025635992 & 0.007571328 & 0.004555175 & 0.0017994446 & 0.002996402 & 0.007552870 & 0.004541159 & 0.0017939424 & 0.002989146 & 0.0003493201\\\\\n",
       "\t4 & -49.56254 & -49.54291 & 0 & 1 & 0 & 0 & 0.001507283 & 0.001507279 & 0.003717816 & 0.003717807 & ... & 0.0025879681 & 0.003458587 & 0.001222451 & 0.0006561623 & 0.001858346 & 0.007613152 & 0.004586966 & 0.0018119241 & 0.003012842 & 0.0001428176\\\\\n",
       "\t5 & -49.55127 & -49.51748 & 0 & 1 & 0 & 0 & 0.001508894 & 0.001508890 & 0.003726766 & 0.003726756 & ... & 0.0025945408 & 0.003461858 & 0.001223915 & 0.0006569437 & 0.001860093 & 0.007629395 & 0.004599325 & 0.0018167755 & 0.003019226 & 0.0001429700\\\\\n",
       "\t6 & -49.44343 & -49.51144 & 1 & 1 & 0 & 0 & 0.003752946 & 0.003752937 & 0.003728894 & 0.003728885 & ... & 0.0025961044 & 0.007676889 & 0.004635500 & 0.0018309755 & 0.003037894 & 0.007633259 & 0.004602265 & 0.0018179297 & 0.003020745 & 0.0003547982\\\\\n",
       "\\end{tabular}\n"
      ],
      "text/markdown": [
       "\n",
       "A data.frame: 6 × 21\n",
       "\n",
       "| <!--/--> | X1.train &lt;dbl&gt; | X1.test &lt;dbl&gt; | X2.train &lt;fct&gt; | X2.test &lt;fct&gt; | y.train &lt;int&gt; | y.test &lt;int&gt; | probs.train &lt;dbl&gt; | probs.ML.train &lt;dbl&gt; | probs.test &lt;dbl&gt; | probs.ML.test &lt;dbl&gt; | ... ... | probs.true.test &lt;dbl&gt; | upper.train &lt;dbl&gt; | probs.ML.train.upper &lt;dbl&gt; | lower.train &lt;dbl&gt; | probs.ML.train.lower &lt;dbl&gt; | upper.test &lt;dbl&gt; | probs.ML.test.upper &lt;dbl&gt; | lower.test &lt;dbl&gt; | probs.ML.test.lower &lt;dbl&gt; | dx1.train &lt;dbl&gt; |\n",
       "|---|---|---|---|---|---|---|---|---|---|---|---|---|---|---|---|---|---|---|---|---|---|\n",
       "| 1 | -49.66353 | -49.76541 | 1 | 1 | 0 | 0 | 0.003675659 | 0.003675650 | 0.003640424 | 0.003640415 | ... | 0.0025311658 | 0.007536576 | 0.004528795 | 0.0017890883 | 0.002982742 | 0.007472496 | 0.004480234 | 0.0017700239 | 0.002957552 | 0.0003475186 |\n",
       "| 2 | -49.65911 | -49.75942 | 1 | 0 | 0 | 0 | 0.003677194 | 0.003677185 | 0.001479426 | 0.001479422 | ... | 0.0009332147 | 0.007539365 | 0.004530911 | 0.0017899190 | 0.002983838 | 0.003401951 | 0.001197165 | 0.0006426659 | 0.001828104 | 0.0003476631 |\n",
       "| 3 | -49.60864 | -49.63776 | 1 | 1 | 0 | 0 | 0.003694785 | 0.003694775 | 0.003684625 | 0.003684616 | ... | 0.0025635992 | 0.007571328 | 0.004555175 | 0.0017994446 | 0.002996402 | 0.007552870 | 0.004541159 | 0.0017939424 | 0.002989146 | 0.0003493201 |\n",
       "| 4 | -49.56254 | -49.54291 | 0 | 1 | 0 | 0 | 0.001507283 | 0.001507279 | 0.003717816 | 0.003717807 | ... | 0.0025879681 | 0.003458587 | 0.001222451 | 0.0006561623 | 0.001858346 | 0.007613152 | 0.004586966 | 0.0018119241 | 0.003012842 | 0.0001428176 |\n",
       "| 5 | -49.55127 | -49.51748 | 0 | 1 | 0 | 0 | 0.001508894 | 0.001508890 | 0.003726766 | 0.003726756 | ... | 0.0025945408 | 0.003461858 | 0.001223915 | 0.0006569437 | 0.001860093 | 0.007629395 | 0.004599325 | 0.0018167755 | 0.003019226 | 0.0001429700 |\n",
       "| 6 | -49.44343 | -49.51144 | 1 | 1 | 0 | 0 | 0.003752946 | 0.003752937 | 0.003728894 | 0.003728885 | ... | 0.0025961044 | 0.007676889 | 0.004635500 | 0.0018309755 | 0.003037894 | 0.007633259 | 0.004602265 | 0.0018179297 | 0.003020745 | 0.0003547982 |\n",
       "\n"
      ],
      "text/plain": [
       "  X1.train  X1.test   X2.train X2.test y.train y.test probs.train\n",
       "1 -49.66353 -49.76541 1        1       0       0      0.003675659\n",
       "2 -49.65911 -49.75942 1        0       0       0      0.003677194\n",
       "3 -49.60864 -49.63776 1        1       0       0      0.003694785\n",
       "4 -49.56254 -49.54291 0        1       0       0      0.001507283\n",
       "5 -49.55127 -49.51748 0        1       0       0      0.001508894\n",
       "6 -49.44343 -49.51144 1        1       0       0      0.003752946\n",
       "  probs.ML.train probs.test  probs.ML.test ... probs.true.test upper.train\n",
       "1 0.003675650    0.003640424 0.003640415   ... 0.0025311658    0.007536576\n",
       "2 0.003677185    0.001479426 0.001479422   ... 0.0009332147    0.007539365\n",
       "3 0.003694775    0.003684625 0.003684616   ... 0.0025635992    0.007571328\n",
       "4 0.001507279    0.003717816 0.003717807   ... 0.0025879681    0.003458587\n",
       "5 0.001508890    0.003726766 0.003726756   ... 0.0025945408    0.003461858\n",
       "6 0.003752937    0.003728894 0.003728885   ... 0.0025961044    0.007676889\n",
       "  probs.ML.train.upper lower.train  probs.ML.train.lower upper.test \n",
       "1 0.004528795          0.0017890883 0.002982742          0.007472496\n",
       "2 0.004530911          0.0017899190 0.002983838          0.003401951\n",
       "3 0.004555175          0.0017994446 0.002996402          0.007552870\n",
       "4 0.001222451          0.0006561623 0.001858346          0.007613152\n",
       "5 0.001223915          0.0006569437 0.001860093          0.007629395\n",
       "6 0.004635500          0.0018309755 0.003037894          0.007633259\n",
       "  probs.ML.test.upper lower.test   probs.ML.test.lower dx1.train   \n",
       "1 0.004480234         0.0017700239 0.002957552         0.0003475186\n",
       "2 0.001197165         0.0006426659 0.001828104         0.0003476631\n",
       "3 0.004541159         0.0017939424 0.002989146         0.0003493201\n",
       "4 0.004586966         0.0018119241 0.003012842         0.0001428176\n",
       "5 0.004599325         0.0018167755 0.003019226         0.0001429700\n",
       "6 0.004602265         0.0018179297 0.003020745         0.0003547982"
      ]
     },
     "metadata": {},
     "output_type": "display_data"
    },
    {
     "name": "stdout",
     "output_type": "stream",
     "text": [
      "'data.frame':\t1000 obs. of  21 variables:\n",
      " $ X1.train            : num  -49.7 -49.7 -49.6 -49.6 -49.6 ...\n",
      " $ X1.test             : num  -49.8 -49.8 -49.6 -49.5 -49.5 ...\n",
      " $ X2.train            : Factor w/ 2 levels \"0\",\"1\": 2 2 2 1 1 2 2 1 1 2 ...\n",
      " $ X2.test             : Factor w/ 2 levels \"0\",\"1\": 2 1 2 2 2 2 1 2 2 2 ...\n",
      " $ y.train             : int  0 0 0 0 0 0 0 0 0 0 ...\n",
      " $ y.test              : int  0 0 0 0 0 0 0 0 0 0 ...\n",
      " $ probs.train         : num  0.00368 0.00368 0.00369 0.00151 0.00151 ...\n",
      " $ probs.ML.train      : num  0.00368 0.00368 0.00369 0.00151 0.00151 ...\n",
      " $ probs.test          : num  0.00364 0.00148 0.00368 0.00372 0.00373 ...\n",
      " $ probs.ML.test       : num  0.00364 0.00148 0.00368 0.00372 0.00373 ...\n",
      " $ probs.true.train    : num  0.002557 0.002558 0.002571 0.000952 0.000953 ...\n",
      " $ probs.true.test     : num  0.002531 0.000933 0.002564 0.002588 0.002595 ...\n",
      " $ upper.train         : num  0.00754 0.00754 0.00757 0.00346 0.00346 ...\n",
      " $ probs.ML.train.upper: num  0.00453 0.00453 0.00456 0.00122 0.00122 ...\n",
      " $ lower.train         : num  0.001789 0.00179 0.001799 0.000656 0.000657 ...\n",
      " $ probs.ML.train.lower: num  0.00298 0.00298 0.003 0.00186 0.00186 ...\n",
      " $ upper.test          : num  0.00747 0.0034 0.00755 0.00761 0.00763 ...\n",
      " $ probs.ML.test.upper : num  0.00448 0.0012 0.00454 0.00459 0.0046 ...\n",
      " $ lower.test          : num  0.00177 0.000643 0.001794 0.001812 0.001817 ...\n",
      " $ probs.ML.test.lower : num  0.00296 0.00183 0.00299 0.00301 0.00302 ...\n",
      " $ dx1.train           : num  0.000348 0.000348 0.000349 0.000143 0.000143 ...\n"
     ]
    }
   ],
   "source": [
    "plt.data <- data.frame(X1.train = data.train$X1,\n",
    "                       X1.test = data.test$X1,\n",
    "                       X2.train = factor(data.train$X2),\n",
    "                       X2.test = factor(data.test$X2),\n",
    "                       y.train = data.train$y,\n",
    "                       y.test = data.test$y,\n",
    "                       probs.train = probs.fit.train,\n",
    "                       probs.ML.train,\n",
    "                       probs.test = probs.fit.test,\n",
    "                       probs.ML.test,\n",
    "                       probs.true.train,\n",
    "                       probs.true.test,\n",
    "                       upper.train,\n",
    "                       probs.ML.train.upper,\n",
    "                       lower.train,\n",
    "                       probs.ML.train.lower,\n",
    "                       upper.test,\n",
    "                       probs.ML.test.upper,\n",
    "                       lower.test,\n",
    "                       probs.ML.test.lower,\n",
    "                       dx1.train)\n",
    "\n",
    "head(plt.data)  \n",
    "str(plt.data)"
   ]
  },
  {
   "cell_type": "code",
   "execution_count": 30,
   "metadata": {
    "scrolled": true
   },
   "outputs": [
    {
     "data": {
      "image/png": "[encoded data removed]",
      "text/plain": [
       "plot without title"
      ]
     },
     "metadata": {
      "image/png": {
       "height": 420,
       "width": 420
      },
      "text/plain": {
       "height": 420,
       "width": 420
      }
     },
     "output_type": "display_data"
    }
   ],
   "source": [
    "ggplot(plt.data, aes(X1.train)) +\n",
    "  geom_line(aes(y = probs.fit.train, colour = X2.train), cex = 1.5)"
   ]
  },
  {
   "cell_type": "code",
   "execution_count": 31,
   "metadata": {},
   "outputs": [
    {
     "data": {
      "image/png": "[encoded data removed]",
      "text/plain": [
       "plot without title"
      ]
     },
     "metadata": {
      "image/png": {
       "height": 420,
       "width": 420
      },
      "text/plain": {
       "height": 420,
       "width": 420
      }
     },
     "output_type": "display_data"
    }
   ],
   "source": [
    "# Plot the marginal effect of X1\n",
    "ggplot(plt.data, aes(X1.train)) +\n",
    "  geom_line(aes(y = dx1.train, colour = X2.train), cex = 1.5)"
   ]
  },
  {
   "cell_type": "code",
   "execution_count": 32,
   "metadata": {
    "scrolled": true
   },
   "outputs": [
    {
     "data": {
      "image/png": "[encoded data removed]",
      "text/plain": [
       "plot without title"
      ]
     },
     "metadata": {
      "image/png": {
       "height": 420,
       "width": 420
      },
      "text/plain": {
       "height": 420,
       "width": 420
      }
     },
     "output_type": "display_data"
    }
   ],
   "source": [
    "ggplot(plt.data, aes(X1.train)) +\n",
    "  geom_line(aes(y = probs.fit.train, colour = X2.train), cex = 1.5) +\n",
    "  geom_ribbon(aes(ymin = lower.train,\n",
    "                  ymax = upper.train,\n",
    "                  colour = X2.train),\n",
    "                  alpha = 0.1)"
   ]
  },
  {
   "cell_type": "code",
   "execution_count": 33,
   "metadata": {
    "scrolled": true
   },
   "outputs": [
    {
     "data": {
      "image/png": "[encoded data removed]",
      "text/plain": [
       "plot without title"
      ]
     },
     "metadata": {
      "image/png": {
       "height": 420,
       "width": 420
      },
      "text/plain": {
       "height": 420,
       "width": 420
      }
     },
     "output_type": "display_data"
    }
   ],
   "source": [
    "ggplot(plt.data, aes(X1.train)) +\n",
    "  geom_line(aes(y = probs.fit.train, colour = X2.train), cex = 1) +\n",
    "  geom_ribbon(aes(ymin = lower.train,\n",
    "                  ymax = upper.train,\n",
    "                  colour = X2.train),\n",
    "                  alpha = 0.1) +\n",
    "  geom_point(aes(y = y.train), size = 0.3) +\n",
    "  geom_point(aes(y = probs.true.train), shape = \"x\", cex = 0.8)\n",
    "\n"
   ]
  },
  {
   "cell_type": "code",
   "execution_count": 34,
   "metadata": {},
   "outputs": [
    {
     "data": {
      "image/png": "[encoded data removed]",
      "text/plain": [
       "plot without title"
      ]
     },
     "metadata": {
      "image/png": {
       "height": 420,
       "width": 420
      },
      "text/plain": {
       "height": 420,
       "width": 420
      }
     },
     "output_type": "display_data"
    }
   ],
   "source": [
    "ggplot(plt.data, aes(X1.test)) +\n",
    "geom_line(aes(y = probs.fit.test, colour = X2.test), cex = 1) "
   ]
  },
  {
   "cell_type": "code",
   "execution_count": 35,
   "metadata": {},
   "outputs": [
    {
     "data": {
      "image/png": "[encoded data removed]",
      "text/plain": [
       "plot without title"
      ]
     },
     "metadata": {
      "image/png": {
       "height": 420,
       "width": 420
      },
      "text/plain": {
       "height": 420,
       "width": 420
      }
     },
     "output_type": "display_data"
    }
   ],
   "source": [
    "ggplot(plt.data, aes(X1.test)) +\n",
    "geom_line(aes(y = probs.fit.test, colour = X2.test), cex = 1) +\n",
    "geom_ribbon(aes(ymin = lower.test,\n",
    "                ymax = upper.test,\n",
    "                colour = X2.test),\n",
    "            alpha = 0.1)"
   ]
  },
  {
   "cell_type": "code",
   "execution_count": 36,
   "metadata": {},
   "outputs": [
    {
     "data": {
      "image/png": "[encoded data removed]",
      "text/plain": [
       "plot without title"
      ]
     },
     "metadata": {
      "image/png": {
       "height": 420,
       "width": 420
      },
      "text/plain": {
       "height": 420,
       "width": 420
      }
     },
     "output_type": "display_data"
    }
   ],
   "source": [
    "ggplot(plt.data, aes(X1.test)) +\n",
    "geom_line(aes(y = probs.fit.test, colour = X2.test), cex = 1) +\n",
    "geom_ribbon(aes(ymin = lower.test,\n",
    "                ymax = upper.test,\n",
    "                colour = X2.test),\n",
    "            alpha = 0.1) +\n",
    "geom_point(aes(y = y.test), size = 0.3) +\n",
    "geom_point(aes(y = probs.true.test), shape = \"x\", cex = 0.8)"
   ]
  },
  {
   "cell_type": "code",
   "execution_count": 37,
   "metadata": {},
   "outputs": [
    {
     "data": {
      "image/png": "[encoded data removed]",
      "text/plain": [
       "plot without title"
      ]
     },
     "metadata": {
      "image/png": {
       "height": 420,
       "width": 420
      },
      "text/plain": {
       "height": 420,
       "width": 420
      }
     },
     "output_type": "display_data"
    }
   ],
   "source": [
    "ggplot(plt.data, aes(X1.train)) +\n",
    "  geom_line(aes(y = probs.ML.train, colour = X2.train), cex = 1) +\n",
    "  geom_ribbon(aes(ymin = probs.ML.train.lower,\n",
    "                  ymax = probs.ML.train.upper,\n",
    "                  colour = X2.train),\n",
    "              alpha = 0.1) +\n",
    "  geom_point(aes(y = y.train), size = 0.3)"
   ]
  },
  {
   "cell_type": "code",
   "execution_count": 38,
   "metadata": {},
   "outputs": [],
   "source": [
    "logit.train.plt <- ggplot(plt.data, aes(X1.train)) +\n",
    "  geom_line(aes(y = probs.fit.train, colour = X2.train), cex = 1) +\n",
    "  geom_ribbon(aes(ymin = lower.train,\n",
    "                  ymax = upper.train,\n",
    "                  colour = X2.train),\n",
    "              alpha = 0.1) +\n",
    "  geom_point(aes(y = y.train), size = 0.3) \n",
    "\n",
    "ML.train.plt <- ggplot(plt.data, aes(X1.train)) +\n",
    "  geom_line(aes(y = probs.ML.train, colour = X2.train), cex = 1) +\n",
    "  geom_ribbon(aes(ymin = probs.ML.train.lower,\n",
    "                  ymax = probs.ML.train.upper,\n",
    "                  colour = X2.train),\n",
    "              alpha = 0.1) +\n",
    "  geom_point(aes(y = y.train), size = 0.3)\n",
    "\n",
    "logit.test.plt <- ggplot(plt.data, aes(X1.test)) +\n",
    "  geom_line(aes(y = probs.fit.test, colour = X2.test), cex = 1) +\n",
    "  geom_ribbon(aes(ymin = lower.test,\n",
    "                  ymax = upper.test,\n",
    "                  colour = X2.test),\n",
    "              alpha = 0.1) +\n",
    "  geom_point(aes(y = y.test), size = 0.3)\n",
    "\n",
    "ML.test.plt <- ggplot(plt.data, aes(X1.test)) +\n",
    "  \n",
    "  geom_line(aes(y = probs.ML.test, colour = X2.test), cex = 1) +\n",
    "  geom_ribbon(aes(ymin = probs.ML.test.lower,\n",
    "                  ymax = probs.ML.test.upper,\n",
    "                  colour = X2.test),\n",
    "              alpha = 0.1) +\n",
    "  geom_point(aes(y = y.test), size = 0.3)"
   ]
  },
  {
   "cell_type": "code",
   "execution_count": 39,
   "metadata": {},
   "outputs": [
    {
     "data": {
      "image/png": "[encoded data removed]",
      "text/plain": [
       "plot without title"
      ]
     },
     "metadata": {
      "image/png": {
       "height": 420,
       "width": 420
      },
      "text/plain": {
       "height": 420,
       "width": 420
      }
     },
     "output_type": "display_data"
    }
   ],
   "source": [
    "ggarrange(logit.train.plt, ML.train.plt)"
   ]
  },
  {
   "cell_type": "code",
   "execution_count": 40,
   "metadata": {
    "scrolled": true
   },
   "outputs": [
    {
     "data": {
      "image/png": "[encoded data removed]",
      "text/plain": [
       "plot without title"
      ]
     },
     "metadata": {
      "image/png": {
       "height": 420,
       "width": 420
      },
      "text/plain": {
       "height": 420,
       "width": 420
      }
     },
     "output_type": "display_data"
    }
   ],
   "source": [
    "ggarrange(logit.test.plt, ML.test.plt)"
   ]
  },
  {
   "cell_type": "code",
   "execution_count": 41,
   "metadata": {},
   "outputs": [
    {
     "data": {
      "text/html": [
       "<table>\n",
       "<caption>A data.frame: 1 × 2</caption>\n",
       "<thead>\n",
       "\t<tr><th scope=col>fpr</th><th scope=col>tpr</th></tr>\n",
       "\t<tr><th scope=col>&lt;dbl&gt;</th><th scope=col>&lt;dbl&gt;</th></tr>\n",
       "</thead>\n",
       "<tbody>\n",
       "\t<tr><td>0.106</td><td>0.32</td></tr>\n",
       "</tbody>\n",
       "</table>\n"
      ],
      "text/latex": [
       "A data.frame: 1 × 2\n",
       "\\begin{tabular}{ll}\n",
       " fpr & tpr\\\\\n",
       " <dbl> & <dbl>\\\\\n",
       "\\hline\n",
       "\t 0.106 & 0.32\\\\\n",
       "\\end{tabular}\n"
      ],
      "text/markdown": [
       "\n",
       "A data.frame: 1 × 2\n",
       "\n",
       "| fpr &lt;dbl&gt; | tpr &lt;dbl&gt; |\n",
       "|---|---|\n",
       "| 0.106 | 0.32 |\n",
       "\n"
      ],
      "text/plain": [
       "  fpr   tpr \n",
       "1 0.106 0.32"
      ]
     },
     "metadata": {},
     "output_type": "display_data"
    },
    {
     "data": {
      "image/png": "[encoded data removed]",
      "text/plain": [
       "plot without title"
      ]
     },
     "metadata": {
      "image/png": {
       "height": 420,
       "width": 420
      },
      "text/plain": {
       "height": 420,
       "width": 420
      }
     },
     "output_type": "display_data"
    }
   ],
   "source": [
    "# ROC\n",
    "tp <- 0\n",
    "fp <- 0\n",
    "y.pred.train <- rep(NA, n)\n",
    "\n",
    "getrates <- function(threshold) {\n",
    "  for (i in 1:n) {\n",
    "    if (probs.fit.train[i] >= threshold) {\n",
    "      y.pred.train[i] <- 1\n",
    "    }\n",
    "    else {\n",
    "      y.pred.train[i] <- 0\n",
    "    }\n",
    "    if (data.train$y[i] == 1 && y.pred.train[i] == 0) {\n",
    "      fp <- fp + 1\n",
    "    }\n",
    "    if (data.train$y[i] == 1 && y.pred.train[i] == 1) {\n",
    "      tp <- tp + 1\n",
    "    }\n",
    "  }\n",
    "  fpr <- fp / n\n",
    "  tpr <- tp / n\n",
    "  return(data.frame(fpr, tpr))\n",
    "}\n",
    "getrates(0.65)\n",
    "\n",
    "rot <- seq(0.01, 0.99, by = 0.01) # range of threshold\n",
    "tpr <- c(NA, length(rot))\n",
    "fpr <- c(NA, length(rot))\n",
    "\n",
    "for (i in 1:length(rot)) {\n",
    "  tpr[i] <- getrates(rot[i])$tpr\n",
    "  fpr[i] <- getrates(rot[i])$fpr\n",
    "}\n",
    "par(mar = c(2, 2, 2, 2))\n",
    "plot(fpr, tpr)"
   ]
  },
  {
   "cell_type": "markdown",
   "metadata": {},
   "source": [
    "## Exercise 2: Simulations"
   ]
  },
  {
   "cell_type": "code",
   "execution_count": 42,
   "metadata": {},
   "outputs": [],
   "source": [
    "# Parameters\n",
    "set.seed(seed)\n",
    "nsim <- 100 # number of simulations\n",
    "n <- 1000\n",
    "beta <- beta\n",
    "X1.min <- 18\n",
    "X1.max <- 60\n",
    "X2.P1 <- 0.5"
   ]
  },
  {
   "cell_type": "code",
   "execution_count": 43,
   "metadata": {},
   "outputs": [],
   "source": [
    "# Original data generating function\n",
    "data.gen <- function(n, beta, X1.min, X1.max, X2.P1) {\n",
    "  X0 <- rep(1, n)\n",
    "  X1 <- sort(runif(n, X1.min, X1.max))\n",
    "  X2 <- rbinom(n, 1, X2.P1)\n",
    "  X <- cbind(X0, X1, X2)\n",
    "  logodds <- X %*% beta\n",
    "  pi_x <- 1 / (1 + exp(-logodds))\n",
    "  y <- rbinom(n, 1, prob = pi_x)\n",
    "  data <- cbind.data.frame(X, logodds, pi_x, y)\n",
    "  return(data)\n",
    "}"
   ]
  },
  {
   "cell_type": "code",
   "execution_count": 44,
   "metadata": {},
   "outputs": [],
   "source": [
    "# Define a function to get MSE and AVE from a model\n",
    "geterr <- function(threshold) {\n",
    "  # Generate data\n",
    "  data.train <- data.gen(n, beta, X1.min, X1.max, X2.P1)\n",
    "  data.test <- data.gen(n, beta, X1.min, X1.max, X2.P1) \n",
    "  X.train <- cbind(data.train$X0, data.train$X1, data.train$X2)\n",
    "  X.test <- cbind(data.test$X0, data.test$X1, data.test$X2)\n",
    "  \n",
    "  # Get logistic estimates and fitted values\n",
    "  Logit <- glm(y ~ X1 + X2, data = data.train, family = binomial)\n",
    "  logit.train <- predict(Logit, data.train, se = T)\n",
    "  logodds.fit.train <- logit.train$fit\n",
    "  probs.fit.train <- 1 / (1 + exp(-logodds.fit.train))\n",
    "  \n",
    "  logit.test <- predict(Logit, newdata = data.test, se = T)\n",
    "  logodds.fit.test <- logit.test$fit\n",
    "  probs.fit.test <- 1 / (1 + exp(-logodds.fit.test))\n",
    "  \n",
    "  # MSE and AVE\n",
    "  y.pred.train <-  c()\n",
    "  y.pred.test <- c()\n",
    "  \n",
    "  for (i in 1:n) {\n",
    "    if (probs.fit.train[i] >= threshold) {\n",
    "      y.pred.train[i] <- 1\n",
    "    }\n",
    "    else {\n",
    "      y.pred.train[i] <- 0\n",
    "    }\n",
    "    if (probs.fit.test[i] >= threshold) {\n",
    "      y.pred.test[i] <- 1\n",
    "    }\n",
    "    else {\n",
    "      y.pred.test[i] <- 0\n",
    "    }\n",
    "  }\n",
    "  # Training error\n",
    "  MSE <- sum(y.pred.train != data.train$y) / length(data.train$y)\n",
    "  \n",
    "  # Testing error\n",
    "  AVE <- sum(y.pred.test != data.test$y) / length(data.test$y)\n",
    "  errs <- cbind.data.frame(MSE, AVE)\n",
    "  \n",
    "  return(errs)\n",
    "}"
   ]
  },
  {
   "cell_type": "code",
   "execution_count": 45,
   "metadata": {
    "scrolled": true
   },
   "outputs": [
    {
     "data": {
      "text/html": [
       "<style>\n",
       ".list-inline {list-style: none; margin:0; padding: 0}\n",
       ".list-inline>li {display: inline-block}\n",
       ".list-inline>li:not(:last-child)::after {content: \"\\00b7\"; padding: 0 .5ex}\n",
       "</style>\n",
       "<ol class=list-inline><li>0.137</li><li>0.131</li><li>0.142</li><li>0.153</li><li>0.128</li><li>0.143</li><li>0.14</li><li>0.125</li><li>0.132</li><li>0.115</li><li>0.116</li><li>0.128</li><li>0.125</li><li>0.115</li><li>0.141</li><li>0.118</li><li>0.148</li><li>0.147</li><li>0.133</li><li>0.135</li><li>0.136</li><li>0.152</li><li>0.153</li><li>0.145</li><li>0.147</li><li>0.129</li><li>0.143</li><li>0.132</li><li>0.138</li><li>0.127</li><li>0.139</li><li>0.118</li><li>0.148</li><li>0.132</li><li>0.118</li><li>0.133</li><li>0.143</li><li>0.132</li><li>0.14</li><li>0.152</li><li>0.144</li><li>0.14</li><li>0.145</li><li>0.148</li><li>0.13</li><li>0.125</li><li>0.133</li><li>0.141</li><li>0.134</li><li>0.132</li><li>0.139</li><li>0.14</li><li>0.138</li><li>0.109</li><li>0.133</li><li>0.141</li><li>0.125</li><li>0.125</li><li>0.123</li><li>0.155</li><li>0.122</li><li>0.143</li><li>0.128</li><li>0.171</li><li>0.107</li><li>0.127</li><li>0.154</li><li>0.137</li><li>0.131</li><li>0.135</li><li>0.124</li><li>0.132</li><li>0.137</li><li>0.111</li><li>0.141</li><li>0.164</li><li>0.126</li><li>0.145</li><li>0.128</li><li>0.121</li><li>0.135</li><li>0.137</li><li>0.14</li><li>0.129</li><li>0.136</li><li>0.122</li><li>0.13</li><li>0.139</li><li>0.113</li><li>0.133</li><li>0.126</li><li>0.112</li><li>0.131</li><li>0.152</li><li>0.148</li><li>0.124</li><li>0.134</li><li>0.151</li><li>0.134</li><li>0.119</li></ol>\n"
      ],
      "text/latex": [
       "\\begin{enumerate*}\n",
       "\\item 0.137\n",
       "\\item 0.131\n",
       "\\item 0.142\n",
       "\\item 0.153\n",
       "\\item 0.128\n",
       "\\item 0.143\n",
       "\\item 0.14\n",
       "\\item 0.125\n",
       "\\item 0.132\n",
       "\\item 0.115\n",
       "\\item 0.116\n",
       "\\item 0.128\n",
       "\\item 0.125\n",
       "\\item 0.115\n",
       "\\item 0.141\n",
       "\\item 0.118\n",
       "\\item 0.148\n",
       "\\item 0.147\n",
       "\\item 0.133\n",
       "\\item 0.135\n",
       "\\item 0.136\n",
       "\\item 0.152\n",
       "\\item 0.153\n",
       "\\item 0.145\n",
       "\\item 0.147\n",
       "\\item 0.129\n",
       "\\item 0.143\n",
       "\\item 0.132\n",
       "\\item 0.138\n",
       "\\item 0.127\n",
       "\\item 0.139\n",
       "\\item 0.118\n",
       "\\item 0.148\n",
       "\\item 0.132\n",
       "\\item 0.118\n",
       "\\item 0.133\n",
       "\\item 0.143\n",
       "\\item 0.132\n",
       "\\item 0.14\n",
       "\\item 0.152\n",
       "\\item 0.144\n",
       "\\item 0.14\n",
       "\\item 0.145\n",
       "\\item 0.148\n",
       "\\item 0.13\n",
       "\\item 0.125\n",
       "\\item 0.133\n",
       "\\item 0.141\n",
       "\\item 0.134\n",
       "\\item 0.132\n",
       "\\item 0.139\n",
       "\\item 0.14\n",
       "\\item 0.138\n",
       "\\item 0.109\n",
       "\\item 0.133\n",
       "\\item 0.141\n",
       "\\item 0.125\n",
       "\\item 0.125\n",
       "\\item 0.123\n",
       "\\item 0.155\n",
       "\\item 0.122\n",
       "\\item 0.143\n",
       "\\item 0.128\n",
       "\\item 0.171\n",
       "\\item 0.107\n",
       "\\item 0.127\n",
       "\\item 0.154\n",
       "\\item 0.137\n",
       "\\item 0.131\n",
       "\\item 0.135\n",
       "\\item 0.124\n",
       "\\item 0.132\n",
       "\\item 0.137\n",
       "\\item 0.111\n",
       "\\item 0.141\n",
       "\\item 0.164\n",
       "\\item 0.126\n",
       "\\item 0.145\n",
       "\\item 0.128\n",
       "\\item 0.121\n",
       "\\item 0.135\n",
       "\\item 0.137\n",
       "\\item 0.14\n",
       "\\item 0.129\n",
       "\\item 0.136\n",
       "\\item 0.122\n",
       "\\item 0.13\n",
       "\\item 0.139\n",
       "\\item 0.113\n",
       "\\item 0.133\n",
       "\\item 0.126\n",
       "\\item 0.112\n",
       "\\item 0.131\n",
       "\\item 0.152\n",
       "\\item 0.148\n",
       "\\item 0.124\n",
       "\\item 0.134\n",
       "\\item 0.151\n",
       "\\item 0.134\n",
       "\\item 0.119\n",
       "\\end{enumerate*}\n"
      ],
      "text/markdown": [
       "1. 0.137\n",
       "2. 0.131\n",
       "3. 0.142\n",
       "4. 0.153\n",
       "5. 0.128\n",
       "6. 0.143\n",
       "7. 0.14\n",
       "8. 0.125\n",
       "9. 0.132\n",
       "10. 0.115\n",
       "11. 0.116\n",
       "12. 0.128\n",
       "13. 0.125\n",
       "14. 0.115\n",
       "15. 0.141\n",
       "16. 0.118\n",
       "17. 0.148\n",
       "18. 0.147\n",
       "19. 0.133\n",
       "20. 0.135\n",
       "21. 0.136\n",
       "22. 0.152\n",
       "23. 0.153\n",
       "24. 0.145\n",
       "25. 0.147\n",
       "26. 0.129\n",
       "27. 0.143\n",
       "28. 0.132\n",
       "29. 0.138\n",
       "30. 0.127\n",
       "31. 0.139\n",
       "32. 0.118\n",
       "33. 0.148\n",
       "34. 0.132\n",
       "35. 0.118\n",
       "36. 0.133\n",
       "37. 0.143\n",
       "38. 0.132\n",
       "39. 0.14\n",
       "40. 0.152\n",
       "41. 0.144\n",
       "42. 0.14\n",
       "43. 0.145\n",
       "44. 0.148\n",
       "45. 0.13\n",
       "46. 0.125\n",
       "47. 0.133\n",
       "48. 0.141\n",
       "49. 0.134\n",
       "50. 0.132\n",
       "51. 0.139\n",
       "52. 0.14\n",
       "53. 0.138\n",
       "54. 0.109\n",
       "55. 0.133\n",
       "56. 0.141\n",
       "57. 0.125\n",
       "58. 0.125\n",
       "59. 0.123\n",
       "60. 0.155\n",
       "61. 0.122\n",
       "62. 0.143\n",
       "63. 0.128\n",
       "64. 0.171\n",
       "65. 0.107\n",
       "66. 0.127\n",
       "67. 0.154\n",
       "68. 0.137\n",
       "69. 0.131\n",
       "70. 0.135\n",
       "71. 0.124\n",
       "72. 0.132\n",
       "73. 0.137\n",
       "74. 0.111\n",
       "75. 0.141\n",
       "76. 0.164\n",
       "77. 0.126\n",
       "78. 0.145\n",
       "79. 0.128\n",
       "80. 0.121\n",
       "81. 0.135\n",
       "82. 0.137\n",
       "83. 0.14\n",
       "84. 0.129\n",
       "85. 0.136\n",
       "86. 0.122\n",
       "87. 0.13\n",
       "88. 0.139\n",
       "89. 0.113\n",
       "90. 0.133\n",
       "91. 0.126\n",
       "92. 0.112\n",
       "93. 0.131\n",
       "94. 0.152\n",
       "95. 0.148\n",
       "96. 0.124\n",
       "97. 0.134\n",
       "98. 0.151\n",
       "99. 0.134\n",
       "100. 0.119\n",
       "\n",
       "\n"
      ],
      "text/plain": [
       "  [1] 0.137 0.131 0.142 0.153 0.128 0.143 0.140 0.125 0.132 0.115 0.116 0.128\n",
       " [13] 0.125 0.115 0.141 0.118 0.148 0.147 0.133 0.135 0.136 0.152 0.153 0.145\n",
       " [25] 0.147 0.129 0.143 0.132 0.138 0.127 0.139 0.118 0.148 0.132 0.118 0.133\n",
       " [37] 0.143 0.132 0.140 0.152 0.144 0.140 0.145 0.148 0.130 0.125 0.133 0.141\n",
       " [49] 0.134 0.132 0.139 0.140 0.138 0.109 0.133 0.141 0.125 0.125 0.123 0.155\n",
       " [61] 0.122 0.143 0.128 0.171 0.107 0.127 0.154 0.137 0.131 0.135 0.124 0.132\n",
       " [73] 0.137 0.111 0.141 0.164 0.126 0.145 0.128 0.121 0.135 0.137 0.140 0.129\n",
       " [85] 0.136 0.122 0.130 0.139 0.113 0.133 0.126 0.112 0.131 0.152 0.148 0.124\n",
       " [97] 0.134 0.151 0.134 0.119"
      ]
     },
     "metadata": {},
     "output_type": "display_data"
    },
    {
     "data": {
      "text/html": [
       "<style>\n",
       ".list-inline {list-style: none; margin:0; padding: 0}\n",
       ".list-inline>li {display: inline-block}\n",
       ".list-inline>li:not(:last-child)::after {content: \"\\00b7\"; padding: 0 .5ex}\n",
       "</style>\n",
       "<ol class=list-inline><li>0.122</li><li>0.146</li><li>0.126</li><li>0.139</li><li>0.134</li><li>0.14</li><li>0.126</li><li>0.136</li><li>0.145</li><li>0.156</li><li>0.136</li><li>0.136</li><li>0.141</li><li>0.138</li><li>0.112</li><li>0.135</li><li>0.135</li><li>0.124</li><li>0.12</li><li>0.138</li><li>0.142</li><li>0.137</li><li>0.142</li><li>0.135</li><li>0.133</li><li>0.146</li><li>0.154</li><li>0.136</li><li>0.134</li><li>0.14</li><li>0.147</li><li>0.149</li><li>0.122</li><li>0.128</li><li>0.138</li><li>0.15</li><li>0.141</li><li>0.11</li><li>0.126</li><li>0.131</li><li>0.145</li><li>0.135</li><li>0.131</li><li>0.119</li><li>0.133</li><li>0.125</li><li>0.142</li><li>0.135</li><li>0.132</li><li>0.122</li><li>0.127</li><li>0.136</li><li>0.129</li><li>0.141</li><li>0.136</li><li>0.133</li><li>0.163</li><li>0.138</li><li>0.151</li><li>0.142</li><li>0.16</li><li>0.136</li><li>0.151</li><li>0.147</li><li>0.141</li><li>0.133</li><li>0.142</li><li>0.139</li><li>0.145</li><li>0.125</li><li>0.14</li><li>0.126</li><li>0.149</li><li>0.138</li><li>0.151</li><li>0.126</li><li>0.141</li><li>0.142</li><li>0.146</li><li>0.156</li><li>0.128</li><li>0.134</li><li>0.128</li><li>0.127</li><li>0.146</li><li>0.13</li><li>0.161</li><li>0.136</li><li>0.138</li><li>0.125</li><li>0.133</li><li>0.15</li><li>0.139</li><li>0.121</li><li>0.144</li><li>0.144</li><li>0.129</li><li>0.124</li><li>0.121</li><li>0.141</li></ol>\n"
      ],
      "text/latex": [
       "\\begin{enumerate*}\n",
       "\\item 0.122\n",
       "\\item 0.146\n",
       "\\item 0.126\n",
       "\\item 0.139\n",
       "\\item 0.134\n",
       "\\item 0.14\n",
       "\\item 0.126\n",
       "\\item 0.136\n",
       "\\item 0.145\n",
       "\\item 0.156\n",
       "\\item 0.136\n",
       "\\item 0.136\n",
       "\\item 0.141\n",
       "\\item 0.138\n",
       "\\item 0.112\n",
       "\\item 0.135\n",
       "\\item 0.135\n",
       "\\item 0.124\n",
       "\\item 0.12\n",
       "\\item 0.138\n",
       "\\item 0.142\n",
       "\\item 0.137\n",
       "\\item 0.142\n",
       "\\item 0.135\n",
       "\\item 0.133\n",
       "\\item 0.146\n",
       "\\item 0.154\n",
       "\\item 0.136\n",
       "\\item 0.134\n",
       "\\item 0.14\n",
       "\\item 0.147\n",
       "\\item 0.149\n",
       "\\item 0.122\n",
       "\\item 0.128\n",
       "\\item 0.138\n",
       "\\item 0.15\n",
       "\\item 0.141\n",
       "\\item 0.11\n",
       "\\item 0.126\n",
       "\\item 0.131\n",
       "\\item 0.145\n",
       "\\item 0.135\n",
       "\\item 0.131\n",
       "\\item 0.119\n",
       "\\item 0.133\n",
       "\\item 0.125\n",
       "\\item 0.142\n",
       "\\item 0.135\n",
       "\\item 0.132\n",
       "\\item 0.122\n",
       "\\item 0.127\n",
       "\\item 0.136\n",
       "\\item 0.129\n",
       "\\item 0.141\n",
       "\\item 0.136\n",
       "\\item 0.133\n",
       "\\item 0.163\n",
       "\\item 0.138\n",
       "\\item 0.151\n",
       "\\item 0.142\n",
       "\\item 0.16\n",
       "\\item 0.136\n",
       "\\item 0.151\n",
       "\\item 0.147\n",
       "\\item 0.141\n",
       "\\item 0.133\n",
       "\\item 0.142\n",
       "\\item 0.139\n",
       "\\item 0.145\n",
       "\\item 0.125\n",
       "\\item 0.14\n",
       "\\item 0.126\n",
       "\\item 0.149\n",
       "\\item 0.138\n",
       "\\item 0.151\n",
       "\\item 0.126\n",
       "\\item 0.141\n",
       "\\item 0.142\n",
       "\\item 0.146\n",
       "\\item 0.156\n",
       "\\item 0.128\n",
       "\\item 0.134\n",
       "\\item 0.128\n",
       "\\item 0.127\n",
       "\\item 0.146\n",
       "\\item 0.13\n",
       "\\item 0.161\n",
       "\\item 0.136\n",
       "\\item 0.138\n",
       "\\item 0.125\n",
       "\\item 0.133\n",
       "\\item 0.15\n",
       "\\item 0.139\n",
       "\\item 0.121\n",
       "\\item 0.144\n",
       "\\item 0.144\n",
       "\\item 0.129\n",
       "\\item 0.124\n",
       "\\item 0.121\n",
       "\\item 0.141\n",
       "\\end{enumerate*}\n"
      ],
      "text/markdown": [
       "1. 0.122\n",
       "2. 0.146\n",
       "3. 0.126\n",
       "4. 0.139\n",
       "5. 0.134\n",
       "6. 0.14\n",
       "7. 0.126\n",
       "8. 0.136\n",
       "9. 0.145\n",
       "10. 0.156\n",
       "11. 0.136\n",
       "12. 0.136\n",
       "13. 0.141\n",
       "14. 0.138\n",
       "15. 0.112\n",
       "16. 0.135\n",
       "17. 0.135\n",
       "18. 0.124\n",
       "19. 0.12\n",
       "20. 0.138\n",
       "21. 0.142\n",
       "22. 0.137\n",
       "23. 0.142\n",
       "24. 0.135\n",
       "25. 0.133\n",
       "26. 0.146\n",
       "27. 0.154\n",
       "28. 0.136\n",
       "29. 0.134\n",
       "30. 0.14\n",
       "31. 0.147\n",
       "32. 0.149\n",
       "33. 0.122\n",
       "34. 0.128\n",
       "35. 0.138\n",
       "36. 0.15\n",
       "37. 0.141\n",
       "38. 0.11\n",
       "39. 0.126\n",
       "40. 0.131\n",
       "41. 0.145\n",
       "42. 0.135\n",
       "43. 0.131\n",
       "44. 0.119\n",
       "45. 0.133\n",
       "46. 0.125\n",
       "47. 0.142\n",
       "48. 0.135\n",
       "49. 0.132\n",
       "50. 0.122\n",
       "51. 0.127\n",
       "52. 0.136\n",
       "53. 0.129\n",
       "54. 0.141\n",
       "55. 0.136\n",
       "56. 0.133\n",
       "57. 0.163\n",
       "58. 0.138\n",
       "59. 0.151\n",
       "60. 0.142\n",
       "61. 0.16\n",
       "62. 0.136\n",
       "63. 0.151\n",
       "64. 0.147\n",
       "65. 0.141\n",
       "66. 0.133\n",
       "67. 0.142\n",
       "68. 0.139\n",
       "69. 0.145\n",
       "70. 0.125\n",
       "71. 0.14\n",
       "72. 0.126\n",
       "73. 0.149\n",
       "74. 0.138\n",
       "75. 0.151\n",
       "76. 0.126\n",
       "77. 0.141\n",
       "78. 0.142\n",
       "79. 0.146\n",
       "80. 0.156\n",
       "81. 0.128\n",
       "82. 0.134\n",
       "83. 0.128\n",
       "84. 0.127\n",
       "85. 0.146\n",
       "86. 0.13\n",
       "87. 0.161\n",
       "88. 0.136\n",
       "89. 0.138\n",
       "90. 0.125\n",
       "91. 0.133\n",
       "92. 0.15\n",
       "93. 0.139\n",
       "94. 0.121\n",
       "95. 0.144\n",
       "96. 0.144\n",
       "97. 0.129\n",
       "98. 0.124\n",
       "99. 0.121\n",
       "100. 0.141\n",
       "\n",
       "\n"
      ],
      "text/plain": [
       "  [1] 0.122 0.146 0.126 0.139 0.134 0.140 0.126 0.136 0.145 0.156 0.136 0.136\n",
       " [13] 0.141 0.138 0.112 0.135 0.135 0.124 0.120 0.138 0.142 0.137 0.142 0.135\n",
       " [25] 0.133 0.146 0.154 0.136 0.134 0.140 0.147 0.149 0.122 0.128 0.138 0.150\n",
       " [37] 0.141 0.110 0.126 0.131 0.145 0.135 0.131 0.119 0.133 0.125 0.142 0.135\n",
       " [49] 0.132 0.122 0.127 0.136 0.129 0.141 0.136 0.133 0.163 0.138 0.151 0.142\n",
       " [61] 0.160 0.136 0.151 0.147 0.141 0.133 0.142 0.139 0.145 0.125 0.140 0.126\n",
       " [73] 0.149 0.138 0.151 0.126 0.141 0.142 0.146 0.156 0.128 0.134 0.128 0.127\n",
       " [85] 0.146 0.130 0.161 0.136 0.138 0.125 0.133 0.150 0.139 0.121 0.144 0.144\n",
       " [97] 0.129 0.124 0.121 0.141"
      ]
     },
     "metadata": {},
     "output_type": "display_data"
    }
   ],
   "source": [
    "# Time for simulations\n",
    "# Simulate and store the interested values\n",
    "errlist <- replicate(nsim, geterr(0.5), simplify = F)\n",
    "MSEs <- c()\n",
    "AVEs <- c()\n",
    "for (i in 1:nsim) {\n",
    "  MSEs[i] <- errlist[[i]]$MSE\n",
    "  AVEs[i] <- errlist[[i]]$AVE\n",
    "}\n",
    "MSEs\n",
    "AVEs\n",
    "plt.data.2 <- cbind.data.frame(sim = 1:nsim, err = MSEs, type = \"MSEs\") %>%\n",
    "  rbind(data.frame(sim = 1:nsim, err = AVEs, type = \"AVEs\"))"
   ]
  },
  {
   "cell_type": "code",
   "execution_count": 46,
   "metadata": {},
   "outputs": [
    {
     "data": {
      "image/png": "[encoded data removed]",
      "text/plain": [
       "plot without title"
      ]
     },
     "metadata": {
      "image/png": {
       "height": 420,
       "width": 420
      },
      "text/plain": {
       "height": 420,
       "width": 420
      }
     },
     "output_type": "display_data"
    }
   ],
   "source": [
    "ggplot(plt.data.2, aes(sim, err, colour = type)) + \n",
    "  geom_point()"
   ]
  },
  {
   "cell_type": "code",
   "execution_count": 47,
   "metadata": {},
   "outputs": [
    {
     "data": {
      "image/png": "[encoded data removed]",
      "text/plain": [
       "plot without title"
      ]
     },
     "metadata": {
      "image/png": {
       "height": 420,
       "width": 420
      },
      "text/plain": {
       "height": 420,
       "width": 420
      }
     },
     "output_type": "display_data"
    }
   ],
   "source": [
    "ggplot(plt.data.2, aes(y = err, colour = type)) + \n",
    "  geom_boxplot()"
   ]
  },
  {
   "cell_type": "code",
   "execution_count": 48,
   "metadata": {},
   "outputs": [
    {
     "data": {
      "image/png": "[encoded data removed]",
      "text/plain": [
       "plot without title"
      ]
     },
     "metadata": {
      "image/png": {
       "height": 420,
       "width": 420
      },
      "text/plain": {
       "height": 420,
       "width": 420
      }
     },
     "output_type": "display_data"
    }
   ],
   "source": [
    "ggplot(plt.data.2, aes(x = err, colour = type)) + \n",
    "  geom_density()"
   ]
  },
  {
   "cell_type": "code",
   "execution_count": 49,
   "metadata": {},
   "outputs": [],
   "source": [
    "# Parameters\n",
    "n <- 1000\n",
    "beta <- beta\n",
    "X1.min <- 18\n",
    "X1.max <- 60\n",
    "X2.P1 <- 0.5"
   ]
  },
  {
   "cell_type": "code",
   "execution_count": 50,
   "metadata": {},
   "outputs": [],
   "source": [
    "# Copy the data.gen function here for modifications\n",
    "data.gen <- function(n, beta, X1.min, X1.max, X2.P1) {\n",
    "  X0 <- rep(1, n)\n",
    "  X1 <- sort(runif(n, X1.min, X1.max))\n",
    "  X2 <- rbinom(n, 1, X2.P1)\n",
    "  X <- cbind(X0, X1, X2)\n",
    "  logodds <- X %*% beta\n",
    "  pi_x <- 1 / (1 + exp(-logodds))\n",
    "  y <- rep(0, n)\n",
    "  for (i in 1:n) {\n",
    "    if (pi_x[i] >= 0.5) {\n",
    "      y[i] <- 1\n",
    "    }\n",
    "    else {\n",
    "      y[i] <- 0\n",
    "    }\n",
    "  }\n",
    "  data <- cbind.data.frame(X, logodds, pi_x, y)\n",
    "  return(data)\n",
    "}"
   ]
  },
  {
   "cell_type": "code",
   "execution_count": 51,
   "metadata": {},
   "outputs": [
    {
     "name": "stderr",
     "output_type": "stream",
     "text": [
      "Warning message:\n",
      "\"glm.fit: algorithm did not converge\"\n",
      "Warning message:\n",
      "\"glm.fit: fitted probabilities numerically 0 or 1 occurred\"\n",
      "Warning message:\n",
      "\"glm.fit: algorithm did not converge\"\n",
      "Warning message:\n",
      "\"glm.fit: fitted probabilities numerically 0 or 1 occurred\"\n",
      "Warning message:\n",
      "\"glm.fit: algorithm did not converge\"\n",
      "Warning message:\n",
      "\"glm.fit: fitted probabilities numerically 0 or 1 occurred\"\n",
      "Warning message:\n",
      "\"glm.fit: algorithm did not converge\"\n",
      "Warning message:\n",
      "\"glm.fit: fitted probabilities numerically 0 or 1 occurred\"\n",
      "Warning message:\n",
      "\"glm.fit: algorithm did not converge\"\n",
      "Warning message:\n",
      "\"glm.fit: fitted probabilities numerically 0 or 1 occurred\"\n",
      "Warning message:\n",
      "\"glm.fit: algorithm did not converge\"\n",
      "Warning message:\n",
      "\"glm.fit: fitted probabilities numerically 0 or 1 occurred\"\n",
      "Warning message:\n",
      "\"glm.fit: algorithm did not converge\"\n",
      "Warning message:\n",
      "\"glm.fit: fitted probabilities numerically 0 or 1 occurred\"\n",
      "Warning message:\n",
      "\"glm.fit: algorithm did not converge\"\n",
      "Warning message:\n",
      "\"glm.fit: fitted probabilities numerically 0 or 1 occurred\"\n",
      "Warning message:\n",
      "\"glm.fit: algorithm did not converge\"\n",
      "Warning message:\n",
      "\"glm.fit: fitted probabilities numerically 0 or 1 occurred\"\n",
      "Warning message:\n",
      "\"glm.fit: algorithm did not converge\"\n",
      "Warning message:\n",
      "\"glm.fit: fitted probabilities numerically 0 or 1 occurred\"\n",
      "Warning message:\n",
      "\"glm.fit: algorithm did not converge\"\n",
      "Warning message:\n",
      "\"glm.fit: fitted probabilities numerically 0 or 1 occurred\"\n",
      "Warning message:\n",
      "\"glm.fit: algorithm did not converge\"\n",
      "Warning message:\n",
      "\"glm.fit: fitted probabilities numerically 0 or 1 occurred\"\n",
      "Warning message:\n",
      "\"glm.fit: algorithm did not converge\"\n",
      "Warning message:\n",
      "\"glm.fit: fitted probabilities numerically 0 or 1 occurred\"\n",
      "Warning message:\n",
      "\"glm.fit: algorithm did not converge\"\n",
      "Warning message:\n",
      "\"glm.fit: fitted probabilities numerically 0 or 1 occurred\"\n",
      "Warning message:\n",
      "\"glm.fit: algorithm did not converge\"\n",
      "Warning message:\n",
      "\"glm.fit: fitted probabilities numerically 0 or 1 occurred\"\n",
      "Warning message:\n",
      "\"glm.fit: algorithm did not converge\"\n",
      "Warning message:\n",
      "\"glm.fit: fitted probabilities numerically 0 or 1 occurred\"\n",
      "Warning message:\n",
      "\"glm.fit: algorithm did not converge\"\n",
      "Warning message:\n",
      "\"glm.fit: fitted probabilities numerically 0 or 1 occurred\"\n",
      "Warning message:\n",
      "\"glm.fit: algorithm did not converge\"\n",
      "Warning message:\n",
      "\"glm.fit: fitted probabilities numerically 0 or 1 occurred\"\n",
      "Warning message:\n",
      "\"glm.fit: algorithm did not converge\"\n",
      "Warning message:\n",
      "\"glm.fit: fitted probabilities numerically 0 or 1 occurred\"\n",
      "Warning message:\n",
      "\"glm.fit: algorithm did not converge\"\n",
      "Warning message:\n",
      "\"glm.fit: fitted probabilities numerically 0 or 1 occurred\"\n",
      "Warning message:\n",
      "\"glm.fit: algorithm did not converge\"\n",
      "Warning message:\n",
      "\"glm.fit: fitted probabilities numerically 0 or 1 occurred\"\n",
      "Warning message:\n",
      "\"glm.fit: algorithm did not converge\"\n",
      "Warning message:\n",
      "\"glm.fit: fitted probabilities numerically 0 or 1 occurred\"\n",
      "Warning message:\n",
      "\"glm.fit: algorithm did not converge\"\n",
      "Warning message:\n",
      "\"glm.fit: fitted probabilities numerically 0 or 1 occurred\"\n",
      "Warning message:\n",
      "\"glm.fit: algorithm did not converge\"\n",
      "Warning message:\n",
      "\"glm.fit: fitted probabilities numerically 0 or 1 occurred\"\n",
      "Warning message:\n",
      "\"glm.fit: algorithm did not converge\"\n",
      "Warning message:\n",
      "\"glm.fit: fitted probabilities numerically 0 or 1 occurred\"\n",
      "Warning message:\n",
      "\"glm.fit: algorithm did not converge\"\n",
      "Warning message:\n",
      "\"glm.fit: fitted probabilities numerically 0 or 1 occurred\"\n",
      "Warning message:\n",
      "\"glm.fit: algorithm did not converge\"\n",
      "Warning message:\n",
      "\"glm.fit: fitted probabilities numerically 0 or 1 occurred\"\n",
      "Warning message:\n",
      "\"glm.fit: algorithm did not converge\"\n",
      "Warning message:\n",
      "\"glm.fit: fitted probabilities numerically 0 or 1 occurred\"\n",
      "Warning message:\n",
      "\"glm.fit: algorithm did not converge\"\n",
      "Warning message:\n",
      "\"glm.fit: fitted probabilities numerically 0 or 1 occurred\"\n",
      "Warning message:\n",
      "\"glm.fit: algorithm did not converge\"\n",
      "Warning message:\n",
      "\"glm.fit: fitted probabilities numerically 0 or 1 occurred\"\n",
      "Warning message:\n",
      "\"glm.fit: algorithm did not converge\"\n",
      "Warning message:\n",
      "\"glm.fit: fitted probabilities numerically 0 or 1 occurred\"\n",
      "Warning message:\n",
      "\"glm.fit: algorithm did not converge\"\n",
      "Warning message:\n",
      "\"glm.fit: fitted probabilities numerically 0 or 1 occurred\"\n",
      "Warning message:\n",
      "\"glm.fit: algorithm did not converge\"\n",
      "Warning message:\n",
      "\"glm.fit: fitted probabilities numerically 0 or 1 occurred\"\n",
      "Warning message:\n",
      "\"glm.fit: algorithm did not converge\"\n",
      "Warning message:\n",
      "\"glm.fit: fitted probabilities numerically 0 or 1 occurred\"\n",
      "Warning message:\n",
      "\"glm.fit: algorithm did not converge\"\n",
      "Warning message:\n",
      "\"glm.fit: fitted probabilities numerically 0 or 1 occurred\"\n",
      "Warning message:\n",
      "\"glm.fit: algorithm did not converge\"\n",
      "Warning message:\n",
      "\"glm.fit: fitted probabilities numerically 0 or 1 occurred\"\n",
      "Warning message:\n",
      "\"glm.fit: algorithm did not converge\"\n",
      "Warning message:\n",
      "\"glm.fit: fitted probabilities numerically 0 or 1 occurred\"\n",
      "Warning message:\n",
      "\"glm.fit: algorithm did not converge\"\n",
      "Warning message:\n",
      "\"glm.fit: fitted probabilities numerically 0 or 1 occurred\"\n",
      "Warning message:\n",
      "\"glm.fit: algorithm did not converge\"\n",
      "Warning message:\n",
      "\"glm.fit: fitted probabilities numerically 0 or 1 occurred\"\n",
      "Warning message:\n",
      "\"glm.fit: algorithm did not converge\"\n",
      "Warning message:\n",
      "\"glm.fit: fitted probabilities numerically 0 or 1 occurred\"\n",
      "Warning message:\n",
      "\"glm.fit: algorithm did not converge\"\n",
      "Warning message:\n",
      "\"glm.fit: fitted probabilities numerically 0 or 1 occurred\"\n",
      "Warning message:\n",
      "\"glm.fit: algorithm did not converge\"\n",
      "Warning message:\n",
      "\"glm.fit: fitted probabilities numerically 0 or 1 occurred\"\n",
      "Warning message:\n",
      "\"glm.fit: algorithm did not converge\"\n",
      "Warning message:\n",
      "\"glm.fit: fitted probabilities numerically 0 or 1 occurred\"\n",
      "Warning message:\n",
      "\"glm.fit: algorithm did not converge\"\n",
      "Warning message:\n",
      "\"glm.fit: fitted probabilities numerically 0 or 1 occurred\"\n",
      "Warning message:\n",
      "\"glm.fit: algorithm did not converge\"\n",
      "Warning message:\n",
      "\"glm.fit: fitted probabilities numerically 0 or 1 occurred\"\n",
      "Warning message:\n",
      "\"glm.fit: algorithm did not converge\"\n",
      "Warning message:\n",
      "\"glm.fit: fitted probabilities numerically 0 or 1 occurred\"\n",
      "Warning message:\n",
      "\"glm.fit: algorithm did not converge\"\n",
      "Warning message:\n",
      "\"glm.fit: fitted probabilities numerically 0 or 1 occurred\"\n",
      "Warning message:\n",
      "\"glm.fit: algorithm did not converge\"\n",
      "Warning message:\n",
      "\"glm.fit: fitted probabilities numerically 0 or 1 occurred\"\n",
      "Warning message:\n",
      "\"glm.fit: algorithm did not converge\"\n",
      "Warning message:\n",
      "\"glm.fit: fitted probabilities numerically 0 or 1 occurred\"\n",
      "Warning message:\n",
      "\"glm.fit: algorithm did not converge\"\n",
      "Warning message:\n",
      "\"glm.fit: fitted probabilities numerically 0 or 1 occurred\"\n",
      "Warning message:\n",
      "\"glm.fit: algorithm did not converge\"\n",
      "Warning message:\n",
      "\"glm.fit: fitted probabilities numerically 0 or 1 occurred\"\n",
      "Warning message:\n",
      "\"glm.fit: algorithm did not converge\"\n",
      "Warning message:\n",
      "\"glm.fit: fitted probabilities numerically 0 or 1 occurred\"\n",
      "Warning message:\n",
      "\"glm.fit: algorithm did not converge\"\n",
      "Warning message:\n",
      "\"glm.fit: fitted probabilities numerically 0 or 1 occurred\"\n",
      "Warning message:\n",
      "\"glm.fit: algorithm did not converge\"\n",
      "Warning message:\n",
      "\"glm.fit: fitted probabilities numerically 0 or 1 occurred\"\n",
      "Warning message:\n",
      "\"glm.fit: algorithm did not converge\"\n",
      "Warning message:\n",
      "\"glm.fit: fitted probabilities numerically 0 or 1 occurred\"\n",
      "Warning message:\n",
      "\"glm.fit: algorithm did not converge\"\n",
      "Warning message:\n",
      "\"glm.fit: fitted probabilities numerically 0 or 1 occurred\"\n",
      "Warning message:\n",
      "\"glm.fit: algorithm did not converge\"\n",
      "Warning message:\n",
      "\"glm.fit: fitted probabilities numerically 0 or 1 occurred\"\n",
      "Warning message:\n",
      "\"glm.fit: algorithm did not converge\"\n",
      "Warning message:\n",
      "\"glm.fit: fitted probabilities numerically 0 or 1 occurred\"\n",
      "Warning message:\n",
      "\"glm.fit: algorithm did not converge\"\n",
      "Warning message:\n",
      "\"glm.fit: fitted probabilities numerically 0 or 1 occurred\"\n",
      "Warning message:\n",
      "\"glm.fit: algorithm did not converge\"\n",
      "Warning message:\n",
      "\"glm.fit: fitted probabilities numerically 0 or 1 occurred\"\n",
      "Warning message:\n",
      "\"glm.fit: algorithm did not converge\"\n",
      "Warning message:\n",
      "\"glm.fit: fitted probabilities numerically 0 or 1 occurred\"\n",
      "Warning message:\n",
      "\"glm.fit: algorithm did not converge\"\n",
      "Warning message:\n",
      "\"glm.fit: fitted probabilities numerically 0 or 1 occurred\"\n",
      "Warning message:\n",
      "\"glm.fit: algorithm did not converge\"\n"
     ]
    },
    {
     "name": "stderr",
     "output_type": "stream",
     "text": [
      "Warning message:\n",
      "\"glm.fit: fitted probabilities numerically 0 or 1 occurred\"\n",
      "Warning message:\n",
      "\"glm.fit: algorithm did not converge\"\n",
      "Warning message:\n",
      "\"glm.fit: fitted probabilities numerically 0 or 1 occurred\"\n",
      "Warning message:\n",
      "\"glm.fit: algorithm did not converge\"\n",
      "Warning message:\n",
      "\"glm.fit: fitted probabilities numerically 0 or 1 occurred\"\n",
      "Warning message:\n",
      "\"glm.fit: algorithm did not converge\"\n",
      "Warning message:\n",
      "\"glm.fit: fitted probabilities numerically 0 or 1 occurred\"\n",
      "Warning message:\n",
      "\"glm.fit: algorithm did not converge\"\n",
      "Warning message:\n",
      "\"glm.fit: fitted probabilities numerically 0 or 1 occurred\"\n",
      "Warning message:\n",
      "\"glm.fit: algorithm did not converge\"\n",
      "Warning message:\n",
      "\"glm.fit: fitted probabilities numerically 0 or 1 occurred\"\n",
      "Warning message:\n",
      "\"glm.fit: algorithm did not converge\"\n",
      "Warning message:\n",
      "\"glm.fit: fitted probabilities numerically 0 or 1 occurred\"\n",
      "Warning message:\n",
      "\"glm.fit: algorithm did not converge\"\n",
      "Warning message:\n",
      "\"glm.fit: fitted probabilities numerically 0 or 1 occurred\"\n",
      "Warning message:\n",
      "\"glm.fit: algorithm did not converge\"\n",
      "Warning message:\n",
      "\"glm.fit: fitted probabilities numerically 0 or 1 occurred\"\n",
      "Warning message:\n",
      "\"glm.fit: algorithm did not converge\"\n",
      "Warning message:\n",
      "\"glm.fit: fitted probabilities numerically 0 or 1 occurred\"\n",
      "Warning message:\n",
      "\"glm.fit: algorithm did not converge\"\n",
      "Warning message:\n",
      "\"glm.fit: fitted probabilities numerically 0 or 1 occurred\"\n",
      "Warning message:\n",
      "\"glm.fit: algorithm did not converge\"\n",
      "Warning message:\n",
      "\"glm.fit: fitted probabilities numerically 0 or 1 occurred\"\n",
      "Warning message:\n",
      "\"glm.fit: algorithm did not converge\"\n",
      "Warning message:\n",
      "\"glm.fit: fitted probabilities numerically 0 or 1 occurred\"\n",
      "Warning message:\n",
      "\"glm.fit: algorithm did not converge\"\n",
      "Warning message:\n",
      "\"glm.fit: fitted probabilities numerically 0 or 1 occurred\"\n",
      "Warning message:\n",
      "\"glm.fit: algorithm did not converge\"\n",
      "Warning message:\n",
      "\"glm.fit: fitted probabilities numerically 0 or 1 occurred\"\n",
      "Warning message:\n",
      "\"glm.fit: algorithm did not converge\"\n",
      "Warning message:\n",
      "\"glm.fit: fitted probabilities numerically 0 or 1 occurred\"\n",
      "Warning message:\n",
      "\"glm.fit: algorithm did not converge\"\n",
      "Warning message:\n",
      "\"glm.fit: fitted probabilities numerically 0 or 1 occurred\"\n",
      "Warning message:\n",
      "\"glm.fit: algorithm did not converge\"\n",
      "Warning message:\n",
      "\"glm.fit: fitted probabilities numerically 0 or 1 occurred\"\n",
      "Warning message:\n",
      "\"glm.fit: algorithm did not converge\"\n",
      "Warning message:\n",
      "\"glm.fit: fitted probabilities numerically 0 or 1 occurred\"\n",
      "Warning message:\n",
      "\"glm.fit: algorithm did not converge\"\n",
      "Warning message:\n",
      "\"glm.fit: fitted probabilities numerically 0 or 1 occurred\"\n",
      "Warning message:\n",
      "\"glm.fit: algorithm did not converge\"\n",
      "Warning message:\n",
      "\"glm.fit: fitted probabilities numerically 0 or 1 occurred\"\n",
      "Warning message:\n",
      "\"glm.fit: algorithm did not converge\"\n",
      "Warning message:\n",
      "\"glm.fit: fitted probabilities numerically 0 or 1 occurred\"\n",
      "Warning message:\n",
      "\"glm.fit: algorithm did not converge\"\n",
      "Warning message:\n",
      "\"glm.fit: fitted probabilities numerically 0 or 1 occurred\"\n",
      "Warning message:\n",
      "\"glm.fit: algorithm did not converge\"\n",
      "Warning message:\n",
      "\"glm.fit: fitted probabilities numerically 0 or 1 occurred\"\n",
      "Warning message:\n",
      "\"glm.fit: algorithm did not converge\"\n",
      "Warning message:\n",
      "\"glm.fit: fitted probabilities numerically 0 or 1 occurred\"\n",
      "Warning message:\n",
      "\"glm.fit: algorithm did not converge\"\n",
      "Warning message:\n",
      "\"glm.fit: fitted probabilities numerically 0 or 1 occurred\"\n",
      "Warning message:\n",
      "\"glm.fit: algorithm did not converge\"\n",
      "Warning message:\n",
      "\"glm.fit: fitted probabilities numerically 0 or 1 occurred\"\n",
      "Warning message:\n",
      "\"glm.fit: algorithm did not converge\"\n",
      "Warning message:\n",
      "\"glm.fit: fitted probabilities numerically 0 or 1 occurred\"\n",
      "Warning message:\n",
      "\"glm.fit: algorithm did not converge\"\n",
      "Warning message:\n",
      "\"glm.fit: fitted probabilities numerically 0 or 1 occurred\"\n",
      "Warning message:\n",
      "\"glm.fit: algorithm did not converge\"\n",
      "Warning message:\n",
      "\"glm.fit: fitted probabilities numerically 0 or 1 occurred\"\n",
      "Warning message:\n",
      "\"glm.fit: algorithm did not converge\"\n",
      "Warning message:\n",
      "\"glm.fit: fitted probabilities numerically 0 or 1 occurred\"\n",
      "Warning message:\n",
      "\"glm.fit: algorithm did not converge\"\n",
      "Warning message:\n",
      "\"glm.fit: fitted probabilities numerically 0 or 1 occurred\"\n",
      "Warning message:\n",
      "\"glm.fit: algorithm did not converge\"\n",
      "Warning message:\n",
      "\"glm.fit: fitted probabilities numerically 0 or 1 occurred\"\n",
      "Warning message:\n",
      "\"glm.fit: algorithm did not converge\"\n",
      "Warning message:\n",
      "\"glm.fit: fitted probabilities numerically 0 or 1 occurred\"\n",
      "Warning message:\n",
      "\"glm.fit: algorithm did not converge\"\n",
      "Warning message:\n",
      "\"glm.fit: fitted probabilities numerically 0 or 1 occurred\"\n",
      "Warning message:\n",
      "\"glm.fit: algorithm did not converge\"\n",
      "Warning message:\n",
      "\"glm.fit: fitted probabilities numerically 0 or 1 occurred\"\n",
      "Warning message:\n",
      "\"glm.fit: algorithm did not converge\"\n",
      "Warning message:\n",
      "\"glm.fit: fitted probabilities numerically 0 or 1 occurred\"\n",
      "Warning message:\n",
      "\"glm.fit: algorithm did not converge\"\n",
      "Warning message:\n",
      "\"glm.fit: fitted probabilities numerically 0 or 1 occurred\"\n"
     ]
    },
    {
     "data": {
      "text/html": [
       "<style>\n",
       ".list-inline {list-style: none; margin:0; padding: 0}\n",
       ".list-inline>li {display: inline-block}\n",
       ".list-inline>li:not(:last-child)::after {content: \"\\00b7\"; padding: 0 .5ex}\n",
       "</style>\n",
       "<ol class=list-inline><li>0</li><li>0</li><li>0</li><li>0</li><li>0</li><li>0</li><li>0</li><li>0</li><li>0</li><li>0</li><li>0</li><li>0</li><li>0</li><li>0</li><li>0</li><li>0</li><li>0</li><li>0</li><li>0</li><li>0</li><li>0</li><li>0</li><li>0</li><li>0</li><li>0</li><li>0</li><li>0</li><li>0</li><li>0</li><li>0</li><li>0</li><li>0</li><li>0</li><li>0</li><li>0</li><li>0</li><li>0</li><li>0</li><li>0</li><li>0</li><li>0</li><li>0</li><li>0</li><li>0</li><li>0</li><li>0</li><li>0</li><li>0</li><li>0</li><li>0</li><li>0</li><li>0</li><li>0</li><li>0</li><li>0</li><li>0</li><li>0</li><li>0</li><li>0</li><li>0</li><li>0</li><li>0</li><li>0</li><li>0</li><li>0</li><li>0</li><li>0</li><li>0</li><li>0</li><li>0</li><li>0</li><li>0</li><li>0</li><li>0</li><li>0</li><li>0</li><li>0</li><li>0</li><li>0</li><li>0</li><li>0</li><li>0</li><li>0</li><li>0</li><li>0</li><li>0</li><li>0</li><li>0</li><li>0</li><li>0</li><li>0</li><li>0</li><li>0</li><li>0</li><li>0</li><li>0</li><li>0</li><li>0</li><li>0</li><li>0</li></ol>\n"
      ],
      "text/latex": [
       "\\begin{enumerate*}\n",
       "\\item 0\n",
       "\\item 0\n",
       "\\item 0\n",
       "\\item 0\n",
       "\\item 0\n",
       "\\item 0\n",
       "\\item 0\n",
       "\\item 0\n",
       "\\item 0\n",
       "\\item 0\n",
       "\\item 0\n",
       "\\item 0\n",
       "\\item 0\n",
       "\\item 0\n",
       "\\item 0\n",
       "\\item 0\n",
       "\\item 0\n",
       "\\item 0\n",
       "\\item 0\n",
       "\\item 0\n",
       "\\item 0\n",
       "\\item 0\n",
       "\\item 0\n",
       "\\item 0\n",
       "\\item 0\n",
       "\\item 0\n",
       "\\item 0\n",
       "\\item 0\n",
       "\\item 0\n",
       "\\item 0\n",
       "\\item 0\n",
       "\\item 0\n",
       "\\item 0\n",
       "\\item 0\n",
       "\\item 0\n",
       "\\item 0\n",
       "\\item 0\n",
       "\\item 0\n",
       "\\item 0\n",
       "\\item 0\n",
       "\\item 0\n",
       "\\item 0\n",
       "\\item 0\n",
       "\\item 0\n",
       "\\item 0\n",
       "\\item 0\n",
       "\\item 0\n",
       "\\item 0\n",
       "\\item 0\n",
       "\\item 0\n",
       "\\item 0\n",
       "\\item 0\n",
       "\\item 0\n",
       "\\item 0\n",
       "\\item 0\n",
       "\\item 0\n",
       "\\item 0\n",
       "\\item 0\n",
       "\\item 0\n",
       "\\item 0\n",
       "\\item 0\n",
       "\\item 0\n",
       "\\item 0\n",
       "\\item 0\n",
       "\\item 0\n",
       "\\item 0\n",
       "\\item 0\n",
       "\\item 0\n",
       "\\item 0\n",
       "\\item 0\n",
       "\\item 0\n",
       "\\item 0\n",
       "\\item 0\n",
       "\\item 0\n",
       "\\item 0\n",
       "\\item 0\n",
       "\\item 0\n",
       "\\item 0\n",
       "\\item 0\n",
       "\\item 0\n",
       "\\item 0\n",
       "\\item 0\n",
       "\\item 0\n",
       "\\item 0\n",
       "\\item 0\n",
       "\\item 0\n",
       "\\item 0\n",
       "\\item 0\n",
       "\\item 0\n",
       "\\item 0\n",
       "\\item 0\n",
       "\\item 0\n",
       "\\item 0\n",
       "\\item 0\n",
       "\\item 0\n",
       "\\item 0\n",
       "\\item 0\n",
       "\\item 0\n",
       "\\item 0\n",
       "\\item 0\n",
       "\\end{enumerate*}\n"
      ],
      "text/markdown": [
       "1. 0\n",
       "2. 0\n",
       "3. 0\n",
       "4. 0\n",
       "5. 0\n",
       "6. 0\n",
       "7. 0\n",
       "8. 0\n",
       "9. 0\n",
       "10. 0\n",
       "11. 0\n",
       "12. 0\n",
       "13. 0\n",
       "14. 0\n",
       "15. 0\n",
       "16. 0\n",
       "17. 0\n",
       "18. 0\n",
       "19. 0\n",
       "20. 0\n",
       "21. 0\n",
       "22. 0\n",
       "23. 0\n",
       "24. 0\n",
       "25. 0\n",
       "26. 0\n",
       "27. 0\n",
       "28. 0\n",
       "29. 0\n",
       "30. 0\n",
       "31. 0\n",
       "32. 0\n",
       "33. 0\n",
       "34. 0\n",
       "35. 0\n",
       "36. 0\n",
       "37. 0\n",
       "38. 0\n",
       "39. 0\n",
       "40. 0\n",
       "41. 0\n",
       "42. 0\n",
       "43. 0\n",
       "44. 0\n",
       "45. 0\n",
       "46. 0\n",
       "47. 0\n",
       "48. 0\n",
       "49. 0\n",
       "50. 0\n",
       "51. 0\n",
       "52. 0\n",
       "53. 0\n",
       "54. 0\n",
       "55. 0\n",
       "56. 0\n",
       "57. 0\n",
       "58. 0\n",
       "59. 0\n",
       "60. 0\n",
       "61. 0\n",
       "62. 0\n",
       "63. 0\n",
       "64. 0\n",
       "65. 0\n",
       "66. 0\n",
       "67. 0\n",
       "68. 0\n",
       "69. 0\n",
       "70. 0\n",
       "71. 0\n",
       "72. 0\n",
       "73. 0\n",
       "74. 0\n",
       "75. 0\n",
       "76. 0\n",
       "77. 0\n",
       "78. 0\n",
       "79. 0\n",
       "80. 0\n",
       "81. 0\n",
       "82. 0\n",
       "83. 0\n",
       "84. 0\n",
       "85. 0\n",
       "86. 0\n",
       "87. 0\n",
       "88. 0\n",
       "89. 0\n",
       "90. 0\n",
       "91. 0\n",
       "92. 0\n",
       "93. 0\n",
       "94. 0\n",
       "95. 0\n",
       "96. 0\n",
       "97. 0\n",
       "98. 0\n",
       "99. 0\n",
       "100. 0\n",
       "\n",
       "\n"
      ],
      "text/plain": [
       "  [1] 0 0 0 0 0 0 0 0 0 0 0 0 0 0 0 0 0 0 0 0 0 0 0 0 0 0 0 0 0 0 0 0 0 0 0 0 0\n",
       " [38] 0 0 0 0 0 0 0 0 0 0 0 0 0 0 0 0 0 0 0 0 0 0 0 0 0 0 0 0 0 0 0 0 0 0 0 0 0\n",
       " [75] 0 0 0 0 0 0 0 0 0 0 0 0 0 0 0 0 0 0 0 0 0 0 0 0 0 0"
      ]
     },
     "metadata": {},
     "output_type": "display_data"
    },
    {
     "data": {
      "text/html": [
       "<style>\n",
       ".list-inline {list-style: none; margin:0; padding: 0}\n",
       ".list-inline>li {display: inline-block}\n",
       ".list-inline>li:not(:last-child)::after {content: \"\\00b7\"; padding: 0 .5ex}\n",
       "</style>\n",
       "<ol class=list-inline><li>0</li><li>0.001</li><li>0</li><li>0</li><li>0.003</li><li>0.003</li><li>0.001</li><li>0</li><li>0.003</li><li>0</li><li>0</li><li>0</li><li>0</li><li>0.001</li><li>0.004</li><li>0.001</li><li>0</li><li>0.001</li><li>0.001</li><li>0.001</li><li>0</li><li>0</li><li>0</li><li>0</li><li>0.003</li><li>0</li><li>0</li><li>0.001</li><li>0</li><li>0.002</li><li>0</li><li>0</li><li>0.005</li><li>0.003</li><li>0</li><li>0.002</li><li>0</li><li>0</li><li>0</li><li>0.002</li><li>0.002</li><li>0.001</li><li>0.002</li><li>0</li><li>0.003</li><li>0.001</li><li>0.001</li><li>0.001</li><li>0</li><li>0.002</li><li>0</li><li>0</li><li>0</li><li>0.001</li><li>0</li><li>0.001</li><li>0.001</li><li>0.001</li><li>0</li><li>0.001</li><li>0.001</li><li>0.001</li><li>0.003</li><li>0.001</li><li>0.005</li><li>0</li><li>0</li><li>0.001</li><li>0</li><li>0</li><li>0.001</li><li>0</li><li>0</li><li>0</li><li>0</li><li>0.001</li><li>0.001</li><li>0</li><li>0.002</li><li>0</li><li>0</li><li>0</li><li>0</li><li>0.001</li><li>0.002</li><li>0</li><li>0</li><li>0</li><li>0.001</li><li>0</li><li>0.001</li><li>0.001</li><li>0</li><li>0</li><li>0.001</li><li>0</li><li>0</li><li>0.006</li><li>0.001</li><li>0</li></ol>\n"
      ],
      "text/latex": [
       "\\begin{enumerate*}\n",
       "\\item 0\n",
       "\\item 0.001\n",
       "\\item 0\n",
       "\\item 0\n",
       "\\item 0.003\n",
       "\\item 0.003\n",
       "\\item 0.001\n",
       "\\item 0\n",
       "\\item 0.003\n",
       "\\item 0\n",
       "\\item 0\n",
       "\\item 0\n",
       "\\item 0\n",
       "\\item 0.001\n",
       "\\item 0.004\n",
       "\\item 0.001\n",
       "\\item 0\n",
       "\\item 0.001\n",
       "\\item 0.001\n",
       "\\item 0.001\n",
       "\\item 0\n",
       "\\item 0\n",
       "\\item 0\n",
       "\\item 0\n",
       "\\item 0.003\n",
       "\\item 0\n",
       "\\item 0\n",
       "\\item 0.001\n",
       "\\item 0\n",
       "\\item 0.002\n",
       "\\item 0\n",
       "\\item 0\n",
       "\\item 0.005\n",
       "\\item 0.003\n",
       "\\item 0\n",
       "\\item 0.002\n",
       "\\item 0\n",
       "\\item 0\n",
       "\\item 0\n",
       "\\item 0.002\n",
       "\\item 0.002\n",
       "\\item 0.001\n",
       "\\item 0.002\n",
       "\\item 0\n",
       "\\item 0.003\n",
       "\\item 0.001\n",
       "\\item 0.001\n",
       "\\item 0.001\n",
       "\\item 0\n",
       "\\item 0.002\n",
       "\\item 0\n",
       "\\item 0\n",
       "\\item 0\n",
       "\\item 0.001\n",
       "\\item 0\n",
       "\\item 0.001\n",
       "\\item 0.001\n",
       "\\item 0.001\n",
       "\\item 0\n",
       "\\item 0.001\n",
       "\\item 0.001\n",
       "\\item 0.001\n",
       "\\item 0.003\n",
       "\\item 0.001\n",
       "\\item 0.005\n",
       "\\item 0\n",
       "\\item 0\n",
       "\\item 0.001\n",
       "\\item 0\n",
       "\\item 0\n",
       "\\item 0.001\n",
       "\\item 0\n",
       "\\item 0\n",
       "\\item 0\n",
       "\\item 0\n",
       "\\item 0.001\n",
       "\\item 0.001\n",
       "\\item 0\n",
       "\\item 0.002\n",
       "\\item 0\n",
       "\\item 0\n",
       "\\item 0\n",
       "\\item 0\n",
       "\\item 0.001\n",
       "\\item 0.002\n",
       "\\item 0\n",
       "\\item 0\n",
       "\\item 0\n",
       "\\item 0.001\n",
       "\\item 0\n",
       "\\item 0.001\n",
       "\\item 0.001\n",
       "\\item 0\n",
       "\\item 0\n",
       "\\item 0.001\n",
       "\\item 0\n",
       "\\item 0\n",
       "\\item 0.006\n",
       "\\item 0.001\n",
       "\\item 0\n",
       "\\end{enumerate*}\n"
      ],
      "text/markdown": [
       "1. 0\n",
       "2. 0.001\n",
       "3. 0\n",
       "4. 0\n",
       "5. 0.003\n",
       "6. 0.003\n",
       "7. 0.001\n",
       "8. 0\n",
       "9. 0.003\n",
       "10. 0\n",
       "11. 0\n",
       "12. 0\n",
       "13. 0\n",
       "14. 0.001\n",
       "15. 0.004\n",
       "16. 0.001\n",
       "17. 0\n",
       "18. 0.001\n",
       "19. 0.001\n",
       "20. 0.001\n",
       "21. 0\n",
       "22. 0\n",
       "23. 0\n",
       "24. 0\n",
       "25. 0.003\n",
       "26. 0\n",
       "27. 0\n",
       "28. 0.001\n",
       "29. 0\n",
       "30. 0.002\n",
       "31. 0\n",
       "32. 0\n",
       "33. 0.005\n",
       "34. 0.003\n",
       "35. 0\n",
       "36. 0.002\n",
       "37. 0\n",
       "38. 0\n",
       "39. 0\n",
       "40. 0.002\n",
       "41. 0.002\n",
       "42. 0.001\n",
       "43. 0.002\n",
       "44. 0\n",
       "45. 0.003\n",
       "46. 0.001\n",
       "47. 0.001\n",
       "48. 0.001\n",
       "49. 0\n",
       "50. 0.002\n",
       "51. 0\n",
       "52. 0\n",
       "53. 0\n",
       "54. 0.001\n",
       "55. 0\n",
       "56. 0.001\n",
       "57. 0.001\n",
       "58. 0.001\n",
       "59. 0\n",
       "60. 0.001\n",
       "61. 0.001\n",
       "62. 0.001\n",
       "63. 0.003\n",
       "64. 0.001\n",
       "65. 0.005\n",
       "66. 0\n",
       "67. 0\n",
       "68. 0.001\n",
       "69. 0\n",
       "70. 0\n",
       "71. 0.001\n",
       "72. 0\n",
       "73. 0\n",
       "74. 0\n",
       "75. 0\n",
       "76. 0.001\n",
       "77. 0.001\n",
       "78. 0\n",
       "79. 0.002\n",
       "80. 0\n",
       "81. 0\n",
       "82. 0\n",
       "83. 0\n",
       "84. 0.001\n",
       "85. 0.002\n",
       "86. 0\n",
       "87. 0\n",
       "88. 0\n",
       "89. 0.001\n",
       "90. 0\n",
       "91. 0.001\n",
       "92. 0.001\n",
       "93. 0\n",
       "94. 0\n",
       "95. 0.001\n",
       "96. 0\n",
       "97. 0\n",
       "98. 0.006\n",
       "99. 0.001\n",
       "100. 0\n",
       "\n",
       "\n"
      ],
      "text/plain": [
       "  [1] 0.000 0.001 0.000 0.000 0.003 0.003 0.001 0.000 0.003 0.000 0.000 0.000\n",
       " [13] 0.000 0.001 0.004 0.001 0.000 0.001 0.001 0.001 0.000 0.000 0.000 0.000\n",
       " [25] 0.003 0.000 0.000 0.001 0.000 0.002 0.000 0.000 0.005 0.003 0.000 0.002\n",
       " [37] 0.000 0.000 0.000 0.002 0.002 0.001 0.002 0.000 0.003 0.001 0.001 0.001\n",
       " [49] 0.000 0.002 0.000 0.000 0.000 0.001 0.000 0.001 0.001 0.001 0.000 0.001\n",
       " [61] 0.001 0.001 0.003 0.001 0.005 0.000 0.000 0.001 0.000 0.000 0.001 0.000\n",
       " [73] 0.000 0.000 0.000 0.001 0.001 0.000 0.002 0.000 0.000 0.000 0.000 0.001\n",
       " [85] 0.002 0.000 0.000 0.000 0.001 0.000 0.001 0.001 0.000 0.000 0.001 0.000\n",
       " [97] 0.000 0.006 0.001 0.000"
      ]
     },
     "metadata": {},
     "output_type": "display_data"
    }
   ],
   "source": [
    "# Time for simulations\n",
    "# Simulate and store the interested values\n",
    "errlist <- replicate(nsim, geterr(0.5), simplify = F)\n",
    "MSEs <- c()\n",
    "AVEs <- c()\n",
    "for (i in 1:nsim) {\n",
    "  MSEs[i] <- errlist[[i]]$MSE\n",
    "  AVEs[i] <- errlist[[i]]$AVE\n",
    "}\n",
    "MSEs\n",
    "AVEs\n",
    "plt.data.2 <- cbind.data.frame(sim = 1:nsim, err = MSEs, type = \"MSEs\") %>%\n",
    "  rbind(data.frame(sim = 1:nsim, err = AVEs, type = \"AVEs\"))"
   ]
  },
  {
   "cell_type": "code",
   "execution_count": 52,
   "metadata": {},
   "outputs": [
    {
     "data": {
      "image/png": "[encoded data removed]",
      "text/plain": [
       "plot without title"
      ]
     },
     "metadata": {
      "image/png": {
       "height": 420,
       "width": 420
      },
      "text/plain": {
       "height": 420,
       "width": 420
      }
     },
     "output_type": "display_data"
    }
   ],
   "source": [
    "ggplot(plt.data.2, aes(sim, err, colour = type)) + \n",
    "  geom_point()"
   ]
  },
  {
   "cell_type": "code",
   "execution_count": 53,
   "metadata": {},
   "outputs": [
    {
     "data": {
      "image/png": "[encoded data removed]",
      "text/plain": [
       "plot without title"
      ]
     },
     "metadata": {
      "image/png": {
       "height": 420,
       "width": 420
      },
      "text/plain": {
       "height": 420,
       "width": 420
      }
     },
     "output_type": "display_data"
    }
   ],
   "source": [
    "ggplot(plt.data.2, aes(y = err, colour = type)) + \n",
    "  geom_boxplot()"
   ]
  },
  {
   "cell_type": "code",
   "execution_count": 54,
   "metadata": {},
   "outputs": [
    {
     "data": {
      "image/png": "[encoded data removed]",
      "text/plain": [
       "plot without title"
      ]
     },
     "metadata": {
      "image/png": {
       "height": 420,
       "width": 420
      },
      "text/plain": {
       "height": 420,
       "width": 420
      }
     },
     "output_type": "display_data"
    }
   ],
   "source": [
    "ggplot(plt.data.2, aes(x = err, colour = type)) + \n",
    "  geom_density(cex = 2)"
   ]
  }
 ],
 "metadata": {
  "kernelspec": {
   "display_name": "R",
   "language": "R",
   "name": "ir"
  },
  "language_info": {
   "codemirror_mode": "r",
   "file_extension": ".r",
   "mimetype": "text/x-r-source",
   "name": "R",
   "pygments_lexer": "r",
   "version": "4.0.0"
  }
 },
 "nbformat": 4,
 "nbformat_minor": 2
}
