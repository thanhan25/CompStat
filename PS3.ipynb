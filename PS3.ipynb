{
 "cells": [
  {
   "cell_type": "markdown",
   "metadata": {},
   "source": [
    "# Problem Set 3: Logistic Regression"
   ]
  },
  {
   "cell_type": "markdown",
   "metadata": {},
   "source": [
    "# Exercise 1\n",
    "\n",
    "Consider the following binary model\n",
    "$P(Y_{i} = y_{i}) = \\pi_{i}^{y_{i}}*(1-\\pi_{i})^{1-y_{i}}, y_{i} \\in \\{0, 1\\}$   \n",
    "where  \n",
    "$\\pi_{i}(x_{i}, \\beta) = \\frac{e^{x'_{i}\\beta}}{(1 + e^{x'_{i}\\beta})} = \\frac{1}{1+e^{-x'_{i}\\beta}}$\n",
    "\n",
    "1. Simulate this model with the probabilities as described above with the following values:\n",
    "\n",
    "- $n =1000$\n",
    "- $\\beta_0=-2, \\, \\beta_1=0.1,\\, \\, \\, \\beta_2=1$.\n",
    "- $x_{0i}=1 \\, \\forall \\,i$ , $x_{1i}\\sim \\mathcal{U}(18,60), \\, x_{2i}\\sim \\mathcal{B}(0.5)$. \n",
    "\n",
    "2. Estimate $\\beta_0, \\, \\beta_1,\\, \\beta_2$ via maximum likelihood and calculate the standard errors."
   ]
  },
  {
   "cell_type": "markdown",
   "metadata": {},
   "source": [
    "$P(Y_{i} = 1) = \\pi_{i}^{1}*(1-\\pi_{i})^{1-1} = \\pi_{i}$  \n",
    "$\\log(\\frac{\\pi_{i}}{1 - \\pi_{i}}) = x'_{i}\\beta$"
   ]
  },
  {
   "cell_type": "code",
   "execution_count": 1,
   "metadata": {},
   "outputs": [],
   "source": [
    "# Load necessary libraries\n",
    "pacman::p_load(ggplot2, tidyverse, MASS, caret, ggpubr)"
   ]
  },
  {
   "cell_type": "code",
   "execution_count": 2,
   "metadata": {},
   "outputs": [],
   "source": [
    "# Set.seed()\n",
    "seed <- 40\n",
    "set.seed(seed)"
   ]
  },
  {
   "cell_type": "code",
   "execution_count": 3,
   "metadata": {},
   "outputs": [],
   "source": [
    "# Parameters\n",
    "n <- 1000\n",
    "beta <- c(-2, 0.1, 1)\n",
    "X1.min <- 18\n",
    "X1.max <- 60\n",
    "X2.P1 <- 0.5\n"
   ]
  },
  {
   "cell_type": "code",
   "execution_count": 4,
   "metadata": {},
   "outputs": [],
   "source": [
    "# Define Data Gnerating function\n",
    "data.gen <- function(n, beta, X1.min, X1.max, X2.P1) {\n",
    "  X0 <- rep(1, n)\n",
    "  X1 <- runif(n, X1.min, X1.max)\n",
    "  X2 <- rbinom(n, 1, X2.P1)\n",
    "  X <- cbind(X0, X1, X2)\n",
    "  y <- rep(0, n)\n",
    "  pi_x <- 1 / (1 + exp(-(X %*% beta)))\n",
    "  y <- rbinom(n, 1, prob = pi_x)\n",
    "  data <- cbind.data.frame(X, y)\n",
    "  return(data)\n",
    "}\n"
   ]
  },
  {
   "cell_type": "markdown",
   "metadata": {},
   "source": [
    "## a) Generate the data"
   ]
  },
  {
   "cell_type": "code",
   "execution_count": 5,
   "metadata": {},
   "outputs": [
    {
     "data": {
      "text/html": [
       "<table>\n",
       "<caption>A data.frame: 6 × 4</caption>\n",
       "<thead>\n",
       "\t<tr><th></th><th scope=col>X0</th><th scope=col>X1</th><th scope=col>X2</th><th scope=col>y</th></tr>\n",
       "\t<tr><th></th><th scope=col>&lt;dbl&gt;</th><th scope=col>&lt;dbl&gt;</th><th scope=col>&lt;dbl&gt;</th><th scope=col>&lt;int&gt;</th></tr>\n",
       "</thead>\n",
       "<tbody>\n",
       "\t<tr><th scope=row>1</th><td>1</td><td>46.71044</td><td>1</td><td>1</td></tr>\n",
       "\t<tr><th scope=row>2</th><td>1</td><td>54.66196</td><td>1</td><td>1</td></tr>\n",
       "\t<tr><th scope=row>3</th><td>1</td><td>46.98493</td><td>1</td><td>1</td></tr>\n",
       "\t<tr><th scope=row>4</th><td>1</td><td>22.86932</td><td>0</td><td>1</td></tr>\n",
       "\t<tr><th scope=row>5</th><td>1</td><td>26.19038</td><td>0</td><td>0</td></tr>\n",
       "\t<tr><th scope=row>6</th><td>1</td><td>37.37044</td><td>1</td><td>1</td></tr>\n",
       "</tbody>\n",
       "</table>\n"
      ],
      "text/latex": [
       "A data.frame: 6 × 4\n",
       "\\begin{tabular}{r|llll}\n",
       "  & X0 & X1 & X2 & y\\\\\n",
       "  & <dbl> & <dbl> & <dbl> & <int>\\\\\n",
       "\\hline\n",
       "\t1 & 1 & 46.71044 & 1 & 1\\\\\n",
       "\t2 & 1 & 54.66196 & 1 & 1\\\\\n",
       "\t3 & 1 & 46.98493 & 1 & 1\\\\\n",
       "\t4 & 1 & 22.86932 & 0 & 1\\\\\n",
       "\t5 & 1 & 26.19038 & 0 & 0\\\\\n",
       "\t6 & 1 & 37.37044 & 1 & 1\\\\\n",
       "\\end{tabular}\n"
      ],
      "text/markdown": [
       "\n",
       "A data.frame: 6 × 4\n",
       "\n",
       "| <!--/--> | X0 &lt;dbl&gt; | X1 &lt;dbl&gt; | X2 &lt;dbl&gt; | y &lt;int&gt; |\n",
       "|---|---|---|---|---|\n",
       "| 1 | 1 | 46.71044 | 1 | 1 |\n",
       "| 2 | 1 | 54.66196 | 1 | 1 |\n",
       "| 3 | 1 | 46.98493 | 1 | 1 |\n",
       "| 4 | 1 | 22.86932 | 0 | 1 |\n",
       "| 5 | 1 | 26.19038 | 0 | 0 |\n",
       "| 6 | 1 | 37.37044 | 1 | 1 |\n",
       "\n"
      ],
      "text/plain": [
       "  X0 X1       X2 y\n",
       "1 1  46.71044 1  1\n",
       "2 1  54.66196 1  1\n",
       "3 1  46.98493 1  1\n",
       "4 1  22.86932 0  1\n",
       "5 1  26.19038 0  0\n",
       "6 1  37.37044 1  1"
      ]
     },
     "metadata": {},
     "output_type": "display_data"
    },
    {
     "data": {
      "text/html": [
       "<table>\n",
       "<caption>A matrix: 6 × 3 of type dbl</caption>\n",
       "<tbody>\n",
       "\t<tr><td>1</td><td>46.71044</td><td>1</td></tr>\n",
       "\t<tr><td>1</td><td>54.66196</td><td>1</td></tr>\n",
       "\t<tr><td>1</td><td>46.98493</td><td>1</td></tr>\n",
       "\t<tr><td>1</td><td>22.86932</td><td>0</td></tr>\n",
       "\t<tr><td>1</td><td>26.19038</td><td>0</td></tr>\n",
       "\t<tr><td>1</td><td>37.37044</td><td>1</td></tr>\n",
       "</tbody>\n",
       "</table>\n"
      ],
      "text/latex": [
       "A matrix: 6 × 3 of type dbl\n",
       "\\begin{tabular}{lll}\n",
       "\t 1 & 46.71044 & 1\\\\\n",
       "\t 1 & 54.66196 & 1\\\\\n",
       "\t 1 & 46.98493 & 1\\\\\n",
       "\t 1 & 22.86932 & 0\\\\\n",
       "\t 1 & 26.19038 & 0\\\\\n",
       "\t 1 & 37.37044 & 1\\\\\n",
       "\\end{tabular}\n"
      ],
      "text/markdown": [
       "\n",
       "A matrix: 6 × 3 of type dbl\n",
       "\n",
       "| 1 | 46.71044 | 1 |\n",
       "| 1 | 54.66196 | 1 |\n",
       "| 1 | 46.98493 | 1 |\n",
       "| 1 | 22.86932 | 0 |\n",
       "| 1 | 26.19038 | 0 |\n",
       "| 1 | 37.37044 | 1 |\n",
       "\n"
      ],
      "text/plain": [
       "     [,1] [,2]     [,3]\n",
       "[1,] 1    46.71044 1   \n",
       "[2,] 1    54.66196 1   \n",
       "[3,] 1    46.98493 1   \n",
       "[4,] 1    22.86932 0   \n",
       "[5,] 1    26.19038 0   \n",
       "[6,] 1    37.37044 1   "
      ]
     },
     "metadata": {},
     "output_type": "display_data"
    },
    {
     "data": {
      "text/html": [
       "<table>\n",
       "<caption>A data.frame: 6 × 4</caption>\n",
       "<thead>\n",
       "\t<tr><th></th><th scope=col>X0</th><th scope=col>X1</th><th scope=col>X2</th><th scope=col>y</th></tr>\n",
       "\t<tr><th></th><th scope=col>&lt;dbl&gt;</th><th scope=col>&lt;dbl&gt;</th><th scope=col>&lt;dbl&gt;</th><th scope=col>&lt;int&gt;</th></tr>\n",
       "</thead>\n",
       "<tbody>\n",
       "\t<tr><th scope=row>1</th><td>1</td><td>44.27134</td><td>1</td><td>1</td></tr>\n",
       "\t<tr><th scope=row>2</th><td>1</td><td>22.06951</td><td>0</td><td>0</td></tr>\n",
       "\t<tr><th scope=row>3</th><td>1</td><td>39.49629</td><td>1</td><td>1</td></tr>\n",
       "\t<tr><th scope=row>4</th><td>1</td><td>43.63688</td><td>1</td><td>1</td></tr>\n",
       "\t<tr><th scope=row>5</th><td>1</td><td>54.45007</td><td>1</td><td>1</td></tr>\n",
       "\t<tr><th scope=row>6</th><td>1</td><td>48.14191</td><td>1</td><td>1</td></tr>\n",
       "</tbody>\n",
       "</table>\n"
      ],
      "text/latex": [
       "A data.frame: 6 × 4\n",
       "\\begin{tabular}{r|llll}\n",
       "  & X0 & X1 & X2 & y\\\\\n",
       "  & <dbl> & <dbl> & <dbl> & <int>\\\\\n",
       "\\hline\n",
       "\t1 & 1 & 44.27134 & 1 & 1\\\\\n",
       "\t2 & 1 & 22.06951 & 0 & 0\\\\\n",
       "\t3 & 1 & 39.49629 & 1 & 1\\\\\n",
       "\t4 & 1 & 43.63688 & 1 & 1\\\\\n",
       "\t5 & 1 & 54.45007 & 1 & 1\\\\\n",
       "\t6 & 1 & 48.14191 & 1 & 1\\\\\n",
       "\\end{tabular}\n"
      ],
      "text/markdown": [
       "\n",
       "A data.frame: 6 × 4\n",
       "\n",
       "| <!--/--> | X0 &lt;dbl&gt; | X1 &lt;dbl&gt; | X2 &lt;dbl&gt; | y &lt;int&gt; |\n",
       "|---|---|---|---|---|\n",
       "| 1 | 1 | 44.27134 | 1 | 1 |\n",
       "| 2 | 1 | 22.06951 | 0 | 0 |\n",
       "| 3 | 1 | 39.49629 | 1 | 1 |\n",
       "| 4 | 1 | 43.63688 | 1 | 1 |\n",
       "| 5 | 1 | 54.45007 | 1 | 1 |\n",
       "| 6 | 1 | 48.14191 | 1 | 1 |\n",
       "\n"
      ],
      "text/plain": [
       "  X0 X1       X2 y\n",
       "1 1  44.27134 1  1\n",
       "2 1  22.06951 0  0\n",
       "3 1  39.49629 1  1\n",
       "4 1  43.63688 1  1\n",
       "5 1  54.45007 1  1\n",
       "6 1  48.14191 1  1"
      ]
     },
     "metadata": {},
     "output_type": "display_data"
    },
    {
     "data": {
      "text/html": [
       "<table>\n",
       "<caption>A matrix: 6 × 3 of type dbl</caption>\n",
       "<tbody>\n",
       "\t<tr><td>1</td><td>44.27134</td><td>1</td></tr>\n",
       "\t<tr><td>1</td><td>22.06951</td><td>0</td></tr>\n",
       "\t<tr><td>1</td><td>39.49629</td><td>1</td></tr>\n",
       "\t<tr><td>1</td><td>43.63688</td><td>1</td></tr>\n",
       "\t<tr><td>1</td><td>54.45007</td><td>1</td></tr>\n",
       "\t<tr><td>1</td><td>48.14191</td><td>1</td></tr>\n",
       "</tbody>\n",
       "</table>\n"
      ],
      "text/latex": [
       "A matrix: 6 × 3 of type dbl\n",
       "\\begin{tabular}{lll}\n",
       "\t 1 & 44.27134 & 1\\\\\n",
       "\t 1 & 22.06951 & 0\\\\\n",
       "\t 1 & 39.49629 & 1\\\\\n",
       "\t 1 & 43.63688 & 1\\\\\n",
       "\t 1 & 54.45007 & 1\\\\\n",
       "\t 1 & 48.14191 & 1\\\\\n",
       "\\end{tabular}\n"
      ],
      "text/markdown": [
       "\n",
       "A matrix: 6 × 3 of type dbl\n",
       "\n",
       "| 1 | 44.27134 | 1 |\n",
       "| 1 | 22.06951 | 0 |\n",
       "| 1 | 39.49629 | 1 |\n",
       "| 1 | 43.63688 | 1 |\n",
       "| 1 | 54.45007 | 1 |\n",
       "| 1 | 48.14191 | 1 |\n",
       "\n"
      ],
      "text/plain": [
       "     [,1] [,2]     [,3]\n",
       "[1,] 1    44.27134 1   \n",
       "[2,] 1    22.06951 0   \n",
       "[3,] 1    39.49629 1   \n",
       "[4,] 1    43.63688 1   \n",
       "[5,] 1    54.45007 1   \n",
       "[6,] 1    48.14191 1   "
      ]
     },
     "metadata": {},
     "output_type": "display_data"
    }
   ],
   "source": [
    "# a)\n",
    "# Generate the training data\n",
    "data.train <- data.gen(n, beta, X1.min, X1.max, X2.P1)\n",
    "head(data.train)\n",
    "\n",
    "X.train <- cbind(data.train$X0, data.train$X1, data.train$X2)\n",
    "head(X.train)\n",
    "\n",
    "# Generate the test data\n",
    "data.test <- data.gen(n, beta, X1.min, X1.max, X2.P1) \n",
    "head(data.test)\n",
    "\n",
    "X.test <- cbind(data.test$X0, data.test$X1, data.test$X2)\n",
    "head(X.test)"
   ]
  },
  {
   "cell_type": "code",
   "execution_count": 6,
   "metadata": {},
   "outputs": [
    {
     "data": {
      "text/plain": [
       "\n",
       "  0   1 \n",
       "128 872 "
      ]
     },
     "metadata": {},
     "output_type": "display_data"
    }
   ],
   "source": [
    "table(data.train$y)"
   ]
  },
  {
   "cell_type": "code",
   "execution_count": 7,
   "metadata": {},
   "outputs": [
    {
     "data": {
      "image/png": "[encoded data removed]",
      "text/plain": [
       "plot without title"
      ]
     },
     "metadata": {
      "image/png": {
       "height": 420,
       "width": 420
      },
      "text/plain": {
       "height": 420,
       "width": 420
      }
     },
     "output_type": "display_data"
    }
   ],
   "source": [
    "# Explore the data\n",
    "# Scatterplot of ys on X1\n",
    "ggplot(data.train, aes(x = X1, y = y, colour = y)) + \n",
    "  geom_point()"
   ]
  },
  {
   "cell_type": "code",
   "execution_count": 8,
   "metadata": {},
   "outputs": [
    {
     "data": {
      "image/png": "[encoded data removed]",
      "text/plain": [
       "plot without title"
      ]
     },
     "metadata": {
      "image/png": {
       "height": 420,
       "width": 420
      },
      "text/plain": {
       "height": 420,
       "width": 420
      }
     },
     "output_type": "display_data"
    }
   ],
   "source": [
    "# ... ys on X2\n",
    "ggplot(data.train, aes(x = X2, y = y, colour = y)) + \n",
    "  geom_point()"
   ]
  },
  {
   "cell_type": "code",
   "execution_count": 9,
   "metadata": {},
   "outputs": [
    {
     "name": "stderr",
     "output_type": "stream",
     "text": [
      "`stat_bin()` using `bins = 30`. Pick better value with `binwidth`.\n",
      "\n"
     ]
    },
    {
     "data": {
      "image/png": "[encoded data removed]",
      "text/plain": [
       "plot without title"
      ]
     },
     "metadata": {
      "image/png": {
       "height": 420,
       "width": 420
      },
      "text/plain": {
       "height": 420,
       "width": 420
      }
     },
     "output_type": "display_data"
    }
   ],
   "source": [
    "# Distribution of X1\n",
    "ggplot(data.train, aes(X1)) + \n",
    "  geom_histogram()"
   ]
  },
  {
   "cell_type": "code",
   "execution_count": 10,
   "metadata": {},
   "outputs": [
    {
     "name": "stderr",
     "output_type": "stream",
     "text": [
      "`stat_bin()` using `bins = 30`. Pick better value with `binwidth`.\n",
      "\n"
     ]
    },
    {
     "data": {
      "image/png": "[encoded data removed]",
      "text/plain": [
       "plot without title"
      ]
     },
     "metadata": {
      "image/png": {
       "height": 420,
       "width": 420
      },
      "text/plain": {
       "height": 420,
       "width": 420
      }
     },
     "output_type": "display_data"
    }
   ],
   "source": [
    "# Distribution of X2\n",
    "ggplot(data.train, aes(X2)) + \n",
    "  geom_histogram() \n"
   ]
  },
  {
   "cell_type": "markdown",
   "metadata": {},
   "source": [
    "## b) Obtain the estimates\n"
   ]
  },
  {
   "cell_type": "code",
   "execution_count": 11,
   "metadata": {},
   "outputs": [
    {
     "data": {
      "text/plain": [
       "\n",
       "Call:\n",
       "glm(formula = y ~ X1 + X2, family = binomial, data = data.train)\n",
       "\n",
       "Deviance Residuals: \n",
       "    Min       1Q   Median       3Q      Max  \n",
       "-3.0976   0.1772   0.3003   0.5397   1.2422  \n",
       "\n",
       "Coefficients:\n",
       "            Estimate Std. Error z value Pr(>|z|)    \n",
       "(Intercept) -2.07714    0.36548  -5.683 1.32e-08 ***\n",
       "X1           0.10602    0.01104   9.603  < 2e-16 ***\n",
       "X2           0.85701    0.21156   4.051 5.10e-05 ***\n",
       "---\n",
       "Signif. codes:  0 '***' 0.001 '**' 0.01 '*' 0.05 '.' 0.1 ' ' 1\n",
       "\n",
       "(Dispersion parameter for binomial family taken to be 1)\n",
       "\n",
       "    Null deviance: 765.13  on 999  degrees of freedom\n",
       "Residual deviance: 622.23  on 997  degrees of freedom\n",
       "AIC: 628.23\n",
       "\n",
       "Number of Fisher Scoring iterations: 6\n"
      ]
     },
     "metadata": {},
     "output_type": "display_data"
    },
    {
     "data": {
      "text/html": [
       "<style>\n",
       ".dl-inline {width: auto; margin:0; padding: 0}\n",
       ".dl-inline>dt, .dl-inline>dd {float: none; width: auto; display: inline-block}\n",
       ".dl-inline>dt::after {content: \":\\0020\"; padding-right: .5ex}\n",
       ".dl-inline>dt:not(:first-of-type) {padding-left: .5ex}\n",
       "</style><dl class=dl-inline><dt>(Intercept)</dt><dd>-2.07713959235879</dd><dt>X1</dt><dd>0.106021720272022</dd><dt>X2</dt><dd>0.857008590110386</dd></dl>\n"
      ],
      "text/latex": [
       "\\begin{description*}\n",
       "\\item[(Intercept)] -2.07713959235879\n",
       "\\item[X1] 0.106021720272022\n",
       "\\item[X2] 0.857008590110386\n",
       "\\end{description*}\n"
      ],
      "text/markdown": [
       "(Intercept)\n",
       ":   -2.07713959235879X1\n",
       ":   0.106021720272022X2\n",
       ":   0.857008590110386\n",
       "\n"
      ],
      "text/plain": [
       "(Intercept)          X1          X2 \n",
       " -2.0771396   0.1060217   0.8570086 "
      ]
     },
     "metadata": {},
     "output_type": "display_data"
    }
   ],
   "source": [
    "# b)\n",
    "# Estimate betas via ML (Logistic Regression)\n",
    "Logit <- glm(y ~ X1 + X2, data = data.train, family = binomial)\n",
    "summary(Logit)\n",
    "(beta.logit <- Logit$coefficients)"
   ]
  },
  {
   "cell_type": "markdown",
   "metadata": {},
   "source": [
    "### Compared with estimates obtained from manually doing ML"
   ]
  },
  {
   "cell_type": "markdown",
   "metadata": {},
   "source": [
    "$P(Y_{i} = y_{i}) = \\pi_{i}^{y_{i}}*(1-\\pi_{i})^{1-y_{i}}$  \n",
    "$$\n",
    "\\begin{aligned}\n",
    "L &= P(Y_{1} = y_{1},...Y_{n} = y_{n}) = \\prod_{i = 1}^{n} \\pi_{i}^{y_{i}}*(1-\\pi_{i})^{1-y_{i}} \\\\\n",
    "logL &= \\sum_{i = 1}^{n} y_{i} * \\log(\\pi_{i}) + (1 - y_{i}) * \\log(1 - \\pi_{i})\\\\\n",
    "\\pi_{i} &= \\frac{1}{1 + e^{-X\\beta}}\\\\\n",
    "1 - \\pi_{i} &= \\frac{1}{1 + e^{X\\beta}}\\\\\n",
    "logL &= \\sum_{i = 1}^{n} y_{i}(-log(1 + e^{-X\\beta}) + (1 - y_{i})(-log(1 + e ^ {X\\beta}))\\\\\n",
    "&= \\sum_{i = 1}^{n} -y_{i}(log(1 + e^{-X\\beta}) - (1 - y_{i})(log(1 + e ^ {X\\beta}))\n",
    "\\end{aligned}\n",
    "$$"
   ]
  },
  {
   "cell_type": "code",
   "execution_count": 51,
   "metadata": {},
   "outputs": [
    {
     "data": {
      "text/html": [
       "<style>\n",
       ".list-inline {list-style: none; margin:0; padding: 0}\n",
       ".list-inline>li {display: inline-block}\n",
       ".list-inline>li:not(:last-child)::after {content: \"\\00b7\"; padding: 0 .5ex}\n",
       "</style>\n",
       "<ol class=list-inline><li>-2.07713942200607</li><li>0.106021715530714</li><li>0.857008512758788</li></ol>\n"
      ],
      "text/latex": [
       "\\begin{enumerate*}\n",
       "\\item -2.07713942200607\n",
       "\\item 0.106021715530714\n",
       "\\item 0.857008512758788\n",
       "\\end{enumerate*}\n"
      ],
      "text/markdown": [
       "1. -2.07713942200607\n",
       "2. 0.106021715530714\n",
       "3. 0.857008512758788\n",
       "\n",
       "\n"
      ],
      "text/plain": [
       "[1] -2.0771394  0.1060217  0.8570085"
      ]
     },
     "metadata": {},
     "output_type": "display_data"
    },
    {
     "data": {
      "text/html": [
       "<style>\n",
       ".dl-inline {width: auto; margin:0; padding: 0}\n",
       ".dl-inline>dt, .dl-inline>dd {float: none; width: auto; display: inline-block}\n",
       ".dl-inline>dt::after {content: \":\\0020\"; padding-right: .5ex}\n",
       ".dl-inline>dt:not(:first-of-type) {padding-left: .5ex}\n",
       "</style><dl class=dl-inline><dt>(Intercept)</dt><dd>-2.07713959235879</dd><dt>X1</dt><dd>0.106021720272022</dd><dt>X2</dt><dd>0.857008590110386</dd></dl>\n"
      ],
      "text/latex": [
       "\\begin{description*}\n",
       "\\item[(Intercept)] -2.07713959235879\n",
       "\\item[X1] 0.106021720272022\n",
       "\\item[X2] 0.857008590110386\n",
       "\\end{description*}\n"
      ],
      "text/markdown": [
       "(Intercept)\n",
       ":   -2.07713959235879X1\n",
       ":   0.106021720272022X2\n",
       ":   0.857008590110386\n",
       "\n"
      ],
      "text/plain": [
       "(Intercept)          X1          X2 \n",
       " -2.0771396   0.1060217   0.8570086 "
      ]
     },
     "metadata": {},
     "output_type": "display_data"
    }
   ],
   "source": [
    "# Compared with manually doing ML\n",
    "\n",
    "loglike<-function(beta) # the likelihood function for the logit model\n",
    "{\n",
    "  ll <- sum(-data.train$y * log(1 + exp(-(X.train %*% beta))) - \n",
    "              (1 - data.train$y) * log(1 + exp(X.train %*% beta)))\n",
    "  return(ll)\n",
    "}\n",
    "\n",
    "# Initialize estimation procedure\n",
    "estim <- maxBFGS(loglike, finalHessian = TRUE, start = c(5, 5, 10)) \n",
    "beta.ML <- estim$estimate # give out parameter estimates\n",
    "beta.ML\n",
    "(beta.logit <- Logit$coefficients)"
   ]
  },
  {
   "cell_type": "code",
   "execution_count": 52,
   "metadata": {},
   "outputs": [
    {
     "data": {
      "text/html": [
       "<style>\n",
       ".list-inline {list-style: none; margin:0; padding: 0}\n",
       ".list-inline>li {display: inline-block}\n",
       ".list-inline>li:not(:last-child)::after {content: \"\\00b7\"; padding: 0 .5ex}\n",
       "</style>\n",
       "<ol class=list-inline><li>0.364918987461695</li><li>0.0110192648329271</li><li>0.211797208822931</li></ol>\n"
      ],
      "text/latex": [
       "\\begin{enumerate*}\n",
       "\\item 0.364918987461695\n",
       "\\item 0.0110192648329271\n",
       "\\item 0.211797208822931\n",
       "\\end{enumerate*}\n"
      ],
      "text/markdown": [
       "1. 0.364918987461695\n",
       "2. 0.0110192648329271\n",
       "3. 0.211797208822931\n",
       "\n",
       "\n"
      ],
      "text/plain": [
       "[1] 0.36491899 0.01101926 0.21179721"
      ]
     },
     "metadata": {},
     "output_type": "display_data"
    },
    {
     "data": {
      "text/html": [
       "<style>\n",
       ".dl-inline {width: auto; margin:0; padding: 0}\n",
       ".dl-inline>dt, .dl-inline>dd {float: none; width: auto; display: inline-block}\n",
       ".dl-inline>dt::after {content: \":\\0020\"; padding-right: .5ex}\n",
       ".dl-inline>dt:not(:first-of-type) {padding-left: .5ex}\n",
       "</style><dl class=dl-inline><dt>(Intercept)</dt><dd>0.365477373977835</dd><dt>X1</dt><dd>0.0110401747580912</dd><dt>X2</dt><dd>0.211562924059986</dd></dl>\n"
      ],
      "text/latex": [
       "\\begin{description*}\n",
       "\\item[(Intercept)] 0.365477373977835\n",
       "\\item[X1] 0.0110401747580912\n",
       "\\item[X2] 0.211562924059986\n",
       "\\end{description*}\n"
      ],
      "text/markdown": [
       "(Intercept)\n",
       ":   0.365477373977835X1\n",
       ":   0.0110401747580912X2\n",
       ":   0.211562924059986\n",
       "\n"
      ],
      "text/plain": [
       "(Intercept)          X1          X2 \n",
       " 0.36547737  0.01104017  0.21156292 "
      ]
     },
     "metadata": {},
     "output_type": "display_data"
    }
   ],
   "source": [
    "# Standard Error of the Coefficients\n",
    "estim.hess <- estim$hessian \n",
    "# the optimization routine returns the hessian matrix at the last iteration.\n",
    "Cov <- -(solve(estim.hess))\n",
    "# the covariance matrix is the (negative) inverse of the hessian matrix.\n",
    "sde <- sqrt(diag(Cov))#the standard errors are the square root of the diagonal of the inverse Hessian. \n",
    "sde\n",
    "stdEr(Logit)"
   ]
  },
  {
   "cell_type": "markdown",
   "metadata": {},
   "source": [
    "### Prepare some data for plotting later\n",
    "#### True probabilities and logodds"
   ]
  },
  {
   "cell_type": "markdown",
   "metadata": {},
   "source": [
    "$P(Y_{i} = 1) = \\pi_{i}^{1}*(1-\\pi_{i})^{1-1} = \\pi_{i} = \\frac{1}{1+e^{-x'_{i}\\beta}}$  \n",
    "$\\log(\\frac{\\pi_{i}}{1 - \\pi_{i}}) = x'_{i}\\beta$"
   ]
  },
  {
   "cell_type": "code",
   "execution_count": 12,
   "metadata": {},
   "outputs": [
    {
     "data": {
      "text/html": [
       "<table>\n",
       "<caption>A matrix: 6 × 4 of type dbl</caption>\n",
       "<tbody>\n",
       "\t<tr><td>3.4271338</td><td>0.9685419</td><td>3.6710445</td><td>0.9751817</td></tr>\n",
       "\t<tr><td>0.2069507</td><td>0.5515538</td><td>4.4661959</td><td>0.9886396</td></tr>\n",
       "\t<tr><td>2.9496288</td><td>0.9502459</td><td>3.6984926</td><td>0.9758375</td></tr>\n",
       "\t<tr><td>3.3636879</td><td>0.9665502</td><td>0.2869315</td><td>0.5712448</td></tr>\n",
       "\t<tr><td>4.4450066</td><td>0.9883991</td><td>0.6190383</td><td>0.6499998</td></tr>\n",
       "\t<tr><td>3.8141910</td><td>0.9784204</td><td>2.7370436</td><td>0.9391774</td></tr>\n",
       "</tbody>\n",
       "</table>\n"
      ],
      "text/latex": [
       "A matrix: 6 × 4 of type dbl\n",
       "\\begin{tabular}{llll}\n",
       "\t 3.4271338 & 0.9685419 & 3.6710445 & 0.9751817\\\\\n",
       "\t 0.2069507 & 0.5515538 & 4.4661959 & 0.9886396\\\\\n",
       "\t 2.9496288 & 0.9502459 & 3.6984926 & 0.9758375\\\\\n",
       "\t 3.3636879 & 0.9665502 & 0.2869315 & 0.5712448\\\\\n",
       "\t 4.4450066 & 0.9883991 & 0.6190383 & 0.6499998\\\\\n",
       "\t 3.8141910 & 0.9784204 & 2.7370436 & 0.9391774\\\\\n",
       "\\end{tabular}\n"
      ],
      "text/markdown": [
       "\n",
       "A matrix: 6 × 4 of type dbl\n",
       "\n",
       "| 3.4271338 | 0.9685419 | 3.6710445 | 0.9751817 |\n",
       "| 0.2069507 | 0.5515538 | 4.4661959 | 0.9886396 |\n",
       "| 2.9496288 | 0.9502459 | 3.6984926 | 0.9758375 |\n",
       "| 3.3636879 | 0.9665502 | 0.2869315 | 0.5712448 |\n",
       "| 4.4450066 | 0.9883991 | 0.6190383 | 0.6499998 |\n",
       "| 3.8141910 | 0.9784204 | 2.7370436 | 0.9391774 |\n",
       "\n"
      ],
      "text/plain": [
       "     [,1]      [,2]      [,3]      [,4]     \n",
       "[1,] 3.4271338 0.9685419 3.6710445 0.9751817\n",
       "[2,] 0.2069507 0.5515538 4.4661959 0.9886396\n",
       "[3,] 2.9496288 0.9502459 3.6984926 0.9758375\n",
       "[4,] 3.3636879 0.9665502 0.2869315 0.5712448\n",
       "[5,] 4.4450066 0.9883991 0.6190383 0.6499998\n",
       "[6,] 3.8141910 0.9784204 2.7370436 0.9391774"
      ]
     },
     "metadata": {},
     "output_type": "display_data"
    }
   ],
   "source": [
    "# \"True\" log odds and probs (never observe in real life)\n",
    "logodds.true.train <- X.train %*% beta\n",
    "probs.true.train <- 1 / (1 + exp(-logodds.true.train))\n",
    "\n",
    "# \"True\" log odds and probs for test data\n",
    "logodds.true.test <- X.test %*% beta \n",
    "probs.true.test <- 1 / (1 + exp(-logodds.true.test))\n",
    "\n",
    "heads <- matrix(NA, 6, 4)\n",
    "items <- list(logodds.true.test, probs.true.test, \n",
    "              logodds.true.train, probs.true.train)\n",
    "for (i in 1:4) {\n",
    "  heads[, i] <- head(items[[i]])\n",
    "}\n",
    "heads\n"
   ]
  },
  {
   "cell_type": "markdown",
   "metadata": {},
   "source": [
    "#### Fitted Probabilities and Logodds"
   ]
  },
  {
   "cell_type": "markdown",
   "metadata": {},
   "source": [
    "$\\hat{P}(Y_{i} = 1) = \\hat{\\pi_{i}} = \\frac{1}{1+e^{-x'_{i}\\hat{\\beta}}}$  \n",
    "${\\log}(\\frac{\\hat{\\pi_{i}}}{1 - \\hat{\\pi_{i}}}) = x'_{i}\\hat{\\beta}$"
   ]
  },
  {
   "cell_type": "code",
   "execution_count": 13,
   "metadata": {},
   "outputs": [],
   "source": [
    "# Construct 95% CI for the estimated probs\n",
    "# Fit the model again to the data.train\n",
    "logit.train <- predict(Logit, data.train, se = T)\n",
    "logodds.fit.train <- logit.train$fit\n",
    "probs.fit.train <- 1 / (1 + exp(-logodds.fit.train))\n",
    "lower.train <- logodds.fit.train - 1.96 * logit.train$se.fit # lower bound\n",
    "upper.train <- logodds.fit.train + 1.96 * logit.train$se.fit # upper bound\n",
    "lower.train <- 1 / (1 + exp(-lower.train)) \n",
    "upper.train <- 1 / (1 + exp(-upper.train))"
   ]
  },
  {
   "cell_type": "code",
   "execution_count": 14,
   "metadata": {},
   "outputs": [
    {
     "data": {
      "text/html": [
       "<style>\n",
       ".dl-inline {width: auto; margin:0; padding: 0}\n",
       ".dl-inline>dt, .dl-inline>dd {float: none; width: auto; display: inline-block}\n",
       ".dl-inline>dt::after {content: \":\\0020\"; padding-right: .5ex}\n",
       ".dl-inline>dt:not(:first-of-type) {padding-left: .5ex}\n",
       "</style><dl class=dl-inline><dt>1</dt><dd>3.47359246422596</dd><dt>2</dt><dd>0.262707520398424</dd><dt>3</dt><dd>2.96733335880866</dd><dt>4</dt><dd>3.40632602214042</dd><dt>5</dt><dd>4.55275865839218</dd><dt>6</dt><dd>3.88395711493507</dd></dl>\n"
      ],
      "text/latex": [
       "\\begin{description*}\n",
       "\\item[1] 3.47359246422596\n",
       "\\item[2] 0.262707520398424\n",
       "\\item[3] 2.96733335880866\n",
       "\\item[4] 3.40632602214042\n",
       "\\item[5] 4.55275865839218\n",
       "\\item[6] 3.88395711493507\n",
       "\\end{description*}\n"
      ],
      "text/markdown": [
       "1\n",
       ":   3.473592464225962\n",
       ":   0.2627075203984243\n",
       ":   2.967333358808664\n",
       ":   3.406326022140425\n",
       ":   4.552758658392186\n",
       ":   3.88395711493507\n",
       "\n"
      ],
      "text/plain": [
       "        1         2         3         4         5         6 \n",
       "3.4735925 0.2627075 2.9673334 3.4063260 4.5527587 3.8839571 "
      ]
     },
     "metadata": {},
     "output_type": "display_data"
    },
    {
     "data": {
      "text/html": [
       "<table>\n",
       "<caption>A matrix: 6 × 1 of type dbl</caption>\n",
       "<tbody>\n",
       "\t<tr><td>3.4735925</td></tr>\n",
       "\t<tr><td>0.2627075</td></tr>\n",
       "\t<tr><td>2.9673334</td></tr>\n",
       "\t<tr><td>3.4063260</td></tr>\n",
       "\t<tr><td>4.5527587</td></tr>\n",
       "\t<tr><td>3.8839571</td></tr>\n",
       "</tbody>\n",
       "</table>\n"
      ],
      "text/latex": [
       "A matrix: 6 × 1 of type dbl\n",
       "\\begin{tabular}{l}\n",
       "\t 3.4735925\\\\\n",
       "\t 0.2627075\\\\\n",
       "\t 2.9673334\\\\\n",
       "\t 3.4063260\\\\\n",
       "\t 4.5527587\\\\\n",
       "\t 3.8839571\\\\\n",
       "\\end{tabular}\n"
      ],
      "text/markdown": [
       "\n",
       "A matrix: 6 × 1 of type dbl\n",
       "\n",
       "| 3.4735925 |\n",
       "| 0.2627075 |\n",
       "| 2.9673334 |\n",
       "| 3.4063260 |\n",
       "| 4.5527587 |\n",
       "| 3.8839571 |\n",
       "\n"
      ],
      "text/plain": [
       "     [,1]     \n",
       "[1,] 3.4735925\n",
       "[2,] 0.2627075\n",
       "[3,] 2.9673334\n",
       "[4,] 3.4063260\n",
       "[5,] 4.5527587\n",
       "[6,] 3.8839571"
      ]
     },
     "metadata": {},
     "output_type": "display_data"
    }
   ],
   "source": [
    "# Use the estimated betas to fit the test data\n",
    "logit.test <- predict(Logit, newdata = data.test, se = T)\n",
    "logodds.fit.test <- logit.test$fit\n",
    "\n",
    "# Check if it's correct\n",
    "head(logodds.fit.test)\n",
    "head(X.test %*% beta.logit)"
   ]
  },
  {
   "cell_type": "code",
   "execution_count": 15,
   "metadata": {},
   "outputs": [],
   "source": [
    "# Construct 95% CI for the (test) estimated probs \n",
    "lower.test <- logodds.fit.test - 1.96 * logit.test$se.fit # lower bound of log odds\n",
    "upper.test <- logodds.fit.test + 1.96 * logit.test$se.fit # upper bound...\n",
    "probs.fit.test <- 1 / (1 + exp(-logodds.fit.test))\n",
    "lower.test <- 1 / (1 + exp(-lower.test)) \n",
    "upper.test <- 1 / (1 + exp(-upper.test))"
   ]
  },
  {
   "cell_type": "markdown",
   "metadata": {},
   "source": [
    "## MSE, AVE and the Confusion Matrix"
   ]
  },
  {
   "cell_type": "code",
   "execution_count": 29,
   "metadata": {},
   "outputs": [
    {
     "data": {
      "text/html": [
       "0.132"
      ],
      "text/latex": [
       "0.132"
      ],
      "text/markdown": [
       "0.132"
      ],
      "text/plain": [
       "[1] 0.132"
      ]
     },
     "metadata": {},
     "output_type": "display_data"
    },
    {
     "data": {
      "text/html": [
       "0.136"
      ],
      "text/latex": [
       "0.136"
      ],
      "text/markdown": [
       "0.136"
      ],
      "text/plain": [
       "[1] 0.136"
      ]
     },
     "metadata": {},
     "output_type": "display_data"
    }
   ],
   "source": [
    "# MSE and AVE\n",
    "y.pred.train <-  c()\n",
    "y.pred.test <- c()\n",
    "threshold <- 0.65\n",
    "\n",
    "for (i in 1:n) {\n",
    "  if (probs.fit.train[i] >= threshold) {\n",
    "    y.pred.train[i] <- 1\n",
    "  }\n",
    "  else {\n",
    "    y.pred.train[i] <- 0\n",
    "  }\n",
    "  if (probs.fit.test[i] >= threshold) {\n",
    "    y.pred.test[i] <- 1\n",
    "  }\n",
    "  else {\n",
    "    y.pred.test[i] <- 0\n",
    "  }\n",
    "}\n",
    "# Training error\n",
    "(MSE <- sum(y.pred.train != data.train$y) / length(data.train$y))\n",
    "\n",
    "# Testing error\n",
    "(AVE <- sum(y.pred.test != data.test$y) / length(data.test$y))"
   ]
  },
  {
   "cell_type": "code",
   "execution_count": 25,
   "metadata": {},
   "outputs": [
    {
     "data": {
      "text/plain": [
       "         True\n",
       "Predicted   0   1\n",
       "        0  40  44\n",
       "        1  88 828"
      ]
     },
     "metadata": {},
     "output_type": "display_data"
    },
    {
     "data": {
      "text/html": [
       "<table>\n",
       "<caption>A table: 3 × 3 of type dbl</caption>\n",
       "<thead>\n",
       "\t<tr><th></th><th scope=col>0</th><th scope=col>1</th><th scope=col>Sum</th></tr>\n",
       "</thead>\n",
       "<tbody>\n",
       "\t<tr><th scope=row>0</th><td> 40</td><td> 44</td><td>  84</td></tr>\n",
       "\t<tr><th scope=row>1</th><td> 88</td><td>828</td><td> 916</td></tr>\n",
       "\t<tr><th scope=row>Sum</th><td>128</td><td>872</td><td>1000</td></tr>\n",
       "</tbody>\n",
       "</table>\n"
      ],
      "text/latex": [
       "A table: 3 × 3 of type dbl\n",
       "\\begin{tabular}{r|lll}\n",
       "  & 0 & 1 & Sum\\\\\n",
       "\\hline\n",
       "\t0 &  40 &  44 &   84\\\\\n",
       "\t1 &  88 & 828 &  916\\\\\n",
       "\tSum & 128 & 872 & 1000\\\\\n",
       "\\end{tabular}\n"
      ],
      "text/markdown": [
       "\n",
       "A table: 3 × 3 of type dbl\n",
       "\n",
       "| <!--/--> | 0 | 1 | Sum |\n",
       "|---|---|---|---|\n",
       "| 0 |  40 |  44 |   84 |\n",
       "| 1 |  88 | 828 |  916 |\n",
       "| Sum | 128 | 872 | 1000 |\n",
       "\n"
      ],
      "text/plain": [
       "         True\n",
       "Predicted 0   1   Sum \n",
       "      0    40  44   84\n",
       "      1    88 828  916\n",
       "      Sum 128 872 1000"
      ]
     },
     "metadata": {},
     "output_type": "display_data"
    },
    {
     "data": {
      "text/html": [
       "<table>\n",
       "<caption>A table: 3 × 3 of type dbl</caption>\n",
       "<thead>\n",
       "\t<tr><th></th><th scope=col>0</th><th scope=col>1</th><th scope=col>Sum</th></tr>\n",
       "</thead>\n",
       "<tbody>\n",
       "\t<tr><th scope=row>0</th><td>0.040</td><td>0.044</td><td>0.084</td></tr>\n",
       "\t<tr><th scope=row>1</th><td>0.088</td><td>0.828</td><td>0.916</td></tr>\n",
       "\t<tr><th scope=row>Sum</th><td>0.128</td><td>0.872</td><td>1.000</td></tr>\n",
       "</tbody>\n",
       "</table>\n"
      ],
      "text/latex": [
       "A table: 3 × 3 of type dbl\n",
       "\\begin{tabular}{r|lll}\n",
       "  & 0 & 1 & Sum\\\\\n",
       "\\hline\n",
       "\t0 & 0.040 & 0.044 & 0.084\\\\\n",
       "\t1 & 0.088 & 0.828 & 0.916\\\\\n",
       "\tSum & 0.128 & 0.872 & 1.000\\\\\n",
       "\\end{tabular}\n"
      ],
      "text/markdown": [
       "\n",
       "A table: 3 × 3 of type dbl\n",
       "\n",
       "| <!--/--> | 0 | 1 | Sum |\n",
       "|---|---|---|---|\n",
       "| 0 | 0.040 | 0.044 | 0.084 |\n",
       "| 1 | 0.088 | 0.828 | 0.916 |\n",
       "| Sum | 0.128 | 0.872 | 1.000 |\n",
       "\n"
      ],
      "text/plain": [
       "         True\n",
       "Predicted 0     1     Sum  \n",
       "      0   0.040 0.044 0.084\n",
       "      1   0.088 0.828 0.916\n",
       "      Sum 0.128 0.872 1.000"
      ]
     },
     "metadata": {},
     "output_type": "display_data"
    },
    {
     "data": {
      "text/html": [
       "<table>\n",
       "<caption>A table: 3 × 3 of type dbl</caption>\n",
       "<thead>\n",
       "\t<tr><th></th><th scope=col>0</th><th scope=col>1</th><th scope=col>Sum</th></tr>\n",
       "</thead>\n",
       "<tbody>\n",
       "\t<tr><th scope=row>0</th><td>0.3125</td><td>0.05045872</td><td>0.3629587</td></tr>\n",
       "\t<tr><th scope=row>1</th><td>0.6875</td><td>0.94954128</td><td>1.6370413</td></tr>\n",
       "\t<tr><th scope=row>Sum</th><td>1.0000</td><td>1.00000000</td><td>2.0000000</td></tr>\n",
       "</tbody>\n",
       "</table>\n"
      ],
      "text/latex": [
       "A table: 3 × 3 of type dbl\n",
       "\\begin{tabular}{r|lll}\n",
       "  & 0 & 1 & Sum\\\\\n",
       "\\hline\n",
       "\t0 & 0.3125 & 0.05045872 & 0.3629587\\\\\n",
       "\t1 & 0.6875 & 0.94954128 & 1.6370413\\\\\n",
       "\tSum & 1.0000 & 1.00000000 & 2.0000000\\\\\n",
       "\\end{tabular}\n"
      ],
      "text/markdown": [
       "\n",
       "A table: 3 × 3 of type dbl\n",
       "\n",
       "| <!--/--> | 0 | 1 | Sum |\n",
       "|---|---|---|---|\n",
       "| 0 | 0.3125 | 0.05045872 | 0.3629587 |\n",
       "| 1 | 0.6875 | 0.94954128 | 1.6370413 |\n",
       "| Sum | 1.0000 | 1.00000000 | 2.0000000 |\n",
       "\n"
      ],
      "text/plain": [
       "         True\n",
       "Predicted 0      1          Sum      \n",
       "      0   0.3125 0.05045872 0.3629587\n",
       "      1   0.6875 0.94954128 1.6370413\n",
       "      Sum 1.0000 1.00000000 2.0000000"
      ]
     },
     "metadata": {},
     "output_type": "display_data"
    }
   ],
   "source": [
    "(cfm <- (table(y.pred.train, data.train$y,\n",
    "                         dnn = c(\"Predicted\", \"True\"))))\n",
    "(addmargins(cfm))\n",
    "addmargins(prop.table(cfm))\n",
    "addmargins(prop.table(cfm, 2))"
   ]
  },
  {
   "cell_type": "code",
   "execution_count": 30,
   "metadata": {},
   "outputs": [
    {
     "data": {
      "text/plain": [
       "         True\n",
       "Predicted   0   1\n",
       "        0  38  41\n",
       "        1  95 826"
      ]
     },
     "metadata": {},
     "output_type": "display_data"
    },
    {
     "data": {
      "text/html": [
       "<table>\n",
       "<caption>A table: 3 × 3 of type dbl</caption>\n",
       "<thead>\n",
       "\t<tr><th></th><th scope=col>0</th><th scope=col>1</th><th scope=col>Sum</th></tr>\n",
       "</thead>\n",
       "<tbody>\n",
       "\t<tr><th scope=row>0</th><td> 38</td><td> 41</td><td>  79</td></tr>\n",
       "\t<tr><th scope=row>1</th><td> 95</td><td>826</td><td> 921</td></tr>\n",
       "\t<tr><th scope=row>Sum</th><td>133</td><td>867</td><td>1000</td></tr>\n",
       "</tbody>\n",
       "</table>\n"
      ],
      "text/latex": [
       "A table: 3 × 3 of type dbl\n",
       "\\begin{tabular}{r|lll}\n",
       "  & 0 & 1 & Sum\\\\\n",
       "\\hline\n",
       "\t0 &  38 &  41 &   79\\\\\n",
       "\t1 &  95 & 826 &  921\\\\\n",
       "\tSum & 133 & 867 & 1000\\\\\n",
       "\\end{tabular}\n"
      ],
      "text/markdown": [
       "\n",
       "A table: 3 × 3 of type dbl\n",
       "\n",
       "| <!--/--> | 0 | 1 | Sum |\n",
       "|---|---|---|---|\n",
       "| 0 |  38 |  41 |   79 |\n",
       "| 1 |  95 | 826 |  921 |\n",
       "| Sum | 133 | 867 | 1000 |\n",
       "\n"
      ],
      "text/plain": [
       "         True\n",
       "Predicted 0   1   Sum \n",
       "      0    38  41   79\n",
       "      1    95 826  921\n",
       "      Sum 133 867 1000"
      ]
     },
     "metadata": {},
     "output_type": "display_data"
    },
    {
     "data": {
      "text/html": [
       "<table>\n",
       "<caption>A table: 3 × 3 of type dbl</caption>\n",
       "<thead>\n",
       "\t<tr><th></th><th scope=col>0</th><th scope=col>1</th><th scope=col>Sum</th></tr>\n",
       "</thead>\n",
       "<tbody>\n",
       "\t<tr><th scope=row>0</th><td>0.038</td><td>0.041</td><td>0.079</td></tr>\n",
       "\t<tr><th scope=row>1</th><td>0.095</td><td>0.826</td><td>0.921</td></tr>\n",
       "\t<tr><th scope=row>Sum</th><td>0.133</td><td>0.867</td><td>1.000</td></tr>\n",
       "</tbody>\n",
       "</table>\n"
      ],
      "text/latex": [
       "A table: 3 × 3 of type dbl\n",
       "\\begin{tabular}{r|lll}\n",
       "  & 0 & 1 & Sum\\\\\n",
       "\\hline\n",
       "\t0 & 0.038 & 0.041 & 0.079\\\\\n",
       "\t1 & 0.095 & 0.826 & 0.921\\\\\n",
       "\tSum & 0.133 & 0.867 & 1.000\\\\\n",
       "\\end{tabular}\n"
      ],
      "text/markdown": [
       "\n",
       "A table: 3 × 3 of type dbl\n",
       "\n",
       "| <!--/--> | 0 | 1 | Sum |\n",
       "|---|---|---|---|\n",
       "| 0 | 0.038 | 0.041 | 0.079 |\n",
       "| 1 | 0.095 | 0.826 | 0.921 |\n",
       "| Sum | 0.133 | 0.867 | 1.000 |\n",
       "\n"
      ],
      "text/plain": [
       "         True\n",
       "Predicted 0     1     Sum  \n",
       "      0   0.038 0.041 0.079\n",
       "      1   0.095 0.826 0.921\n",
       "      Sum 0.133 0.867 1.000"
      ]
     },
     "metadata": {},
     "output_type": "display_data"
    },
    {
     "data": {
      "text/html": [
       "<table>\n",
       "<caption>A table: 3 × 3 of type dbl</caption>\n",
       "<thead>\n",
       "\t<tr><th></th><th scope=col>0</th><th scope=col>1</th><th scope=col>Sum</th></tr>\n",
       "</thead>\n",
       "<tbody>\n",
       "\t<tr><th scope=row>0</th><td>0.2857143</td><td>0.0472895</td><td>0.3330038</td></tr>\n",
       "\t<tr><th scope=row>1</th><td>0.7142857</td><td>0.9527105</td><td>1.6669962</td></tr>\n",
       "\t<tr><th scope=row>Sum</th><td>1.0000000</td><td>1.0000000</td><td>2.0000000</td></tr>\n",
       "</tbody>\n",
       "</table>\n"
      ],
      "text/latex": [
       "A table: 3 × 3 of type dbl\n",
       "\\begin{tabular}{r|lll}\n",
       "  & 0 & 1 & Sum\\\\\n",
       "\\hline\n",
       "\t0 & 0.2857143 & 0.0472895 & 0.3330038\\\\\n",
       "\t1 & 0.7142857 & 0.9527105 & 1.6669962\\\\\n",
       "\tSum & 1.0000000 & 1.0000000 & 2.0000000\\\\\n",
       "\\end{tabular}\n"
      ],
      "text/markdown": [
       "\n",
       "A table: 3 × 3 of type dbl\n",
       "\n",
       "| <!--/--> | 0 | 1 | Sum |\n",
       "|---|---|---|---|\n",
       "| 0 | 0.2857143 | 0.0472895 | 0.3330038 |\n",
       "| 1 | 0.7142857 | 0.9527105 | 1.6669962 |\n",
       "| Sum | 1.0000000 | 1.0000000 | 2.0000000 |\n",
       "\n"
      ],
      "text/plain": [
       "         True\n",
       "Predicted 0         1         Sum      \n",
       "      0   0.2857143 0.0472895 0.3330038\n",
       "      1   0.7142857 0.9527105 1.6669962\n",
       "      Sum 1.0000000 1.0000000 2.0000000"
      ]
     },
     "metadata": {},
     "output_type": "display_data"
    }
   ],
   "source": [
    "(cfm.test <- (table(y.pred.test, data.test$y,\n",
    "               dnn = c(\"Predicted\", \"True\"))))\n",
    "(addmargins(cfm.test))\n",
    "addmargins(prop.table(cfm.test))\n",
    "addmargins(prop.table(cfm.test, 2))\n"
   ]
  },
  {
   "cell_type": "code",
   "execution_count": 33,
   "metadata": {},
   "outputs": [
    {
     "data": {
      "text/html": [
       "0.132"
      ],
      "text/latex": [
       "0.132"
      ],
      "text/markdown": [
       "0.132"
      ],
      "text/plain": [
       "[1] 0.132"
      ]
     },
     "metadata": {},
     "output_type": "display_data"
    },
    {
     "data": {
      "text/html": [
       "0.136"
      ],
      "text/latex": [
       "0.136"
      ],
      "text/markdown": [
       "0.136"
      ],
      "text/plain": [
       "[1] 0.136"
      ]
     },
     "metadata": {},
     "output_type": "display_data"
    }
   ],
   "source": [
    "0.088 + 0.044\n",
    "0.095 + 0.041"
   ]
  },
  {
   "cell_type": "markdown",
   "metadata": {},
   "source": [
    "## d) VIsualizing the results"
   ]
  },
  {
   "cell_type": "markdown",
   "metadata": {},
   "source": [
    "### Preparing data frame for plotting"
   ]
  },
  {
   "cell_type": "code",
   "execution_count": 36,
   "metadata": {},
   "outputs": [
    {
     "data": {
      "text/html": [
       "<table>\n",
       "<caption>A data.frame: 6 × 14</caption>\n",
       "<thead>\n",
       "\t<tr><th></th><th scope=col>X1.train</th><th scope=col>X1.test</th><th scope=col>X2.train</th><th scope=col>X2.test</th><th scope=col>y.train</th><th scope=col>y.test</th><th scope=col>probs.train</th><th scope=col>probs.test</th><th scope=col>probs.true.train</th><th scope=col>probs.true.test</th><th scope=col>upper.train</th><th scope=col>lower.train</th><th scope=col>upper.test</th><th scope=col>lower.test</th></tr>\n",
       "\t<tr><th></th><th scope=col>&lt;dbl&gt;</th><th scope=col>&lt;dbl&gt;</th><th scope=col>&lt;fct&gt;</th><th scope=col>&lt;fct&gt;</th><th scope=col>&lt;int&gt;</th><th scope=col>&lt;int&gt;</th><th scope=col>&lt;dbl&gt;</th><th scope=col>&lt;dbl&gt;</th><th scope=col>&lt;dbl&gt;</th><th scope=col>&lt;dbl&gt;</th><th scope=col>&lt;dbl&gt;</th><th scope=col>&lt;dbl&gt;</th><th scope=col>&lt;dbl&gt;</th><th scope=col>&lt;dbl&gt;</th></tr>\n",
       "</thead>\n",
       "<tbody>\n",
       "\t<tr><th scope=row>1</th><td>46.71044</td><td>44.27134</td><td>1</td><td>1</td><td>1</td><td>1</td><td>0.9766194</td><td>0.9699270</td><td>0.9751817</td><td>0.9685419</td><td>0.9857454</td><td>0.9618769</td><td>0.9808875</td><td>0.9529822</td></tr>\n",
       "\t<tr><th scope=row>2</th><td>54.66196</td><td>22.06951</td><td>1</td><td>0</td><td>1</td><td>0</td><td>0.9898011</td><td>0.5653017</td><td>0.9886396</td><td>0.5515538</td><td>0.9946307</td><td>0.9807117</td><td>0.6421412</td><td>0.4851906</td></tr>\n",
       "\t<tr><th scope=row>3</th><td>46.98493</td><td>39.49629</td><td>1</td><td>1</td><td>1</td><td>1</td><td>0.9772748</td><td>0.9510763</td><td>0.9758375</td><td>0.9502459</td><td>0.9862113</td><td>0.9627650</td><td>0.9665386</td><td>0.9289941</td></tr>\n",
       "\t<tr><th scope=row>4</th><td>22.86932</td><td>43.63688</td><td>0</td><td>1</td><td>1</td><td>1</td><td>0.5860123</td><td>0.9679017</td><td>0.5712448</td><td>0.9665502</td><td>0.6591637</td><td>0.5088589</td><td>0.9793866</td><td>0.9503421</td></tr>\n",
       "\t<tr><th scope=row>5</th><td>26.19038</td><td>54.45007</td><td>0</td><td>1</td><td>0</td><td>1</td><td>0.6681013</td><td>0.9895718</td><td>0.6499998</td><td>0.9883991</td><td>0.7267951</td><td>0.6036740</td><td>0.9944876</td><td>0.9803590</td></tr>\n",
       "\t<tr><th scope=row>6</th><td>37.37044</td><td>48.14191</td><td>1</td><td>1</td><td>1</td><td>1</td><td>0.9394569</td><td>0.9798453</td><td>0.9391774</td><td>0.9784204</td><td>0.9574119</td><td>0.9146074</td><td>0.9880192</td><td>0.9662850</td></tr>\n",
       "</tbody>\n",
       "</table>\n"
      ],
      "text/latex": [
       "A data.frame: 6 × 14\n",
       "\\begin{tabular}{r|llllllllllllll}\n",
       "  & X1.train & X1.test & X2.train & X2.test & y.train & y.test & probs.train & probs.test & probs.true.train & probs.true.test & upper.train & lower.train & upper.test & lower.test\\\\\n",
       "  & <dbl> & <dbl> & <fct> & <fct> & <int> & <int> & <dbl> & <dbl> & <dbl> & <dbl> & <dbl> & <dbl> & <dbl> & <dbl>\\\\\n",
       "\\hline\n",
       "\t1 & 46.71044 & 44.27134 & 1 & 1 & 1 & 1 & 0.9766194 & 0.9699270 & 0.9751817 & 0.9685419 & 0.9857454 & 0.9618769 & 0.9808875 & 0.9529822\\\\\n",
       "\t2 & 54.66196 & 22.06951 & 1 & 0 & 1 & 0 & 0.9898011 & 0.5653017 & 0.9886396 & 0.5515538 & 0.9946307 & 0.9807117 & 0.6421412 & 0.4851906\\\\\n",
       "\t3 & 46.98493 & 39.49629 & 1 & 1 & 1 & 1 & 0.9772748 & 0.9510763 & 0.9758375 & 0.9502459 & 0.9862113 & 0.9627650 & 0.9665386 & 0.9289941\\\\\n",
       "\t4 & 22.86932 & 43.63688 & 0 & 1 & 1 & 1 & 0.5860123 & 0.9679017 & 0.5712448 & 0.9665502 & 0.6591637 & 0.5088589 & 0.9793866 & 0.9503421\\\\\n",
       "\t5 & 26.19038 & 54.45007 & 0 & 1 & 0 & 1 & 0.6681013 & 0.9895718 & 0.6499998 & 0.9883991 & 0.7267951 & 0.6036740 & 0.9944876 & 0.9803590\\\\\n",
       "\t6 & 37.37044 & 48.14191 & 1 & 1 & 1 & 1 & 0.9394569 & 0.9798453 & 0.9391774 & 0.9784204 & 0.9574119 & 0.9146074 & 0.9880192 & 0.9662850\\\\\n",
       "\\end{tabular}\n"
      ],
      "text/markdown": [
       "\n",
       "A data.frame: 6 × 14\n",
       "\n",
       "| <!--/--> | X1.train &lt;dbl&gt; | X1.test &lt;dbl&gt; | X2.train &lt;fct&gt; | X2.test &lt;fct&gt; | y.train &lt;int&gt; | y.test &lt;int&gt; | probs.train &lt;dbl&gt; | probs.test &lt;dbl&gt; | probs.true.train &lt;dbl&gt; | probs.true.test &lt;dbl&gt; | upper.train &lt;dbl&gt; | lower.train &lt;dbl&gt; | upper.test &lt;dbl&gt; | lower.test &lt;dbl&gt; |\n",
       "|---|---|---|---|---|---|---|---|---|---|---|---|---|---|---|\n",
       "| 1 | 46.71044 | 44.27134 | 1 | 1 | 1 | 1 | 0.9766194 | 0.9699270 | 0.9751817 | 0.9685419 | 0.9857454 | 0.9618769 | 0.9808875 | 0.9529822 |\n",
       "| 2 | 54.66196 | 22.06951 | 1 | 0 | 1 | 0 | 0.9898011 | 0.5653017 | 0.9886396 | 0.5515538 | 0.9946307 | 0.9807117 | 0.6421412 | 0.4851906 |\n",
       "| 3 | 46.98493 | 39.49629 | 1 | 1 | 1 | 1 | 0.9772748 | 0.9510763 | 0.9758375 | 0.9502459 | 0.9862113 | 0.9627650 | 0.9665386 | 0.9289941 |\n",
       "| 4 | 22.86932 | 43.63688 | 0 | 1 | 1 | 1 | 0.5860123 | 0.9679017 | 0.5712448 | 0.9665502 | 0.6591637 | 0.5088589 | 0.9793866 | 0.9503421 |\n",
       "| 5 | 26.19038 | 54.45007 | 0 | 1 | 0 | 1 | 0.6681013 | 0.9895718 | 0.6499998 | 0.9883991 | 0.7267951 | 0.6036740 | 0.9944876 | 0.9803590 |\n",
       "| 6 | 37.37044 | 48.14191 | 1 | 1 | 1 | 1 | 0.9394569 | 0.9798453 | 0.9391774 | 0.9784204 | 0.9574119 | 0.9146074 | 0.9880192 | 0.9662850 |\n",
       "\n"
      ],
      "text/plain": [
       "  X1.train X1.test  X2.train X2.test y.train y.test probs.train probs.test\n",
       "1 46.71044 44.27134 1        1       1       1      0.9766194   0.9699270 \n",
       "2 54.66196 22.06951 1        0       1       0      0.9898011   0.5653017 \n",
       "3 46.98493 39.49629 1        1       1       1      0.9772748   0.9510763 \n",
       "4 22.86932 43.63688 0        1       1       1      0.5860123   0.9679017 \n",
       "5 26.19038 54.45007 0        1       0       1      0.6681013   0.9895718 \n",
       "6 37.37044 48.14191 1        1       1       1      0.9394569   0.9798453 \n",
       "  probs.true.train probs.true.test upper.train lower.train upper.test\n",
       "1 0.9751817        0.9685419       0.9857454   0.9618769   0.9808875 \n",
       "2 0.9886396        0.5515538       0.9946307   0.9807117   0.6421412 \n",
       "3 0.9758375        0.9502459       0.9862113   0.9627650   0.9665386 \n",
       "4 0.5712448        0.9665502       0.6591637   0.5088589   0.9793866 \n",
       "5 0.6499998        0.9883991       0.7267951   0.6036740   0.9944876 \n",
       "6 0.9391774        0.9784204       0.9574119   0.9146074   0.9880192 \n",
       "  lower.test\n",
       "1 0.9529822 \n",
       "2 0.4851906 \n",
       "3 0.9289941 \n",
       "4 0.9503421 \n",
       "5 0.9803590 \n",
       "6 0.9662850 "
      ]
     },
     "metadata": {},
     "output_type": "display_data"
    },
    {
     "name": "stdout",
     "output_type": "stream",
     "text": [
      "'data.frame':\t1000 obs. of  14 variables:\n",
      " $ X1.train        : num  46.7 54.7 47 22.9 26.2 ...\n",
      " $ X1.test         : num  44.3 22.1 39.5 43.6 54.5 ...\n",
      " $ X2.train        : Factor w/ 2 levels \"0\",\"1\": 2 2 2 1 1 2 2 1 1 2 ...\n",
      " $ X2.test         : Factor w/ 2 levels \"0\",\"1\": 2 1 2 2 2 2 1 2 2 2 ...\n",
      " $ y.train         : int  1 1 1 1 0 1 1 1 1 1 ...\n",
      " $ y.test          : int  1 0 1 1 1 1 0 1 1 1 ...\n",
      " $ probs.train     : num  0.977 0.99 0.977 0.586 0.668 ...\n",
      " $ probs.test      : num  0.97 0.565 0.951 0.968 0.99 ...\n",
      " $ probs.true.train: num  0.975 0.989 0.976 0.571 0.65 ...\n",
      " $ probs.true.test : num  0.969 0.552 0.95 0.967 0.988 ...\n",
      " $ upper.train     : num  0.986 0.995 0.986 0.659 0.727 ...\n",
      " $ lower.train     : num  0.962 0.981 0.963 0.509 0.604 ...\n",
      " $ upper.test      : num  0.981 0.642 0.967 0.979 0.994 ...\n",
      " $ lower.test      : num  0.953 0.485 0.929 0.95 0.98 ...\n"
     ]
    }
   ],
   "source": [
    "plt.data <- data.frame(X1.train = data.train$X1,\n",
    "                       X1.test = data.test$X1,\n",
    "                       X2.train = factor(data.train$X2),\n",
    "                       X2.test = factor(data.test$X2),\n",
    "                       y.train = data.train$y,\n",
    "                       y.test = data.test$y,\n",
    "                       probs.train = probs.fit.train,\n",
    "                       probs.test = probs.fit.test,\n",
    "                       probs.true.train, \n",
    "                       probs.true.test,\n",
    "                       upper.train,\n",
    "                       lower.train,\n",
    "                       upper.test,\n",
    "                       lower.test) \n",
    "\n",
    "head(plt.data)  \n",
    "str(plt.data)"
   ]
  },
  {
   "cell_type": "code",
   "execution_count": 42,
   "metadata": {},
   "outputs": [
    {
     "data": {
      "image/png": "[encoded data removed]",
      "text/plain": [
       "plot without title"
      ]
     },
     "metadata": {
      "image/png": {
       "height": 420,
       "width": 420
      },
      "text/plain": {
       "height": 420,
       "width": 420
      }
     },
     "output_type": "display_data"
    }
   ],
   "source": [
    "ggplot(plt.data, aes(X1.train)) +\n",
    "  geom_line(aes(y = probs.fit.train, colour = X2.train), size = 2) + \n",
    "  geom_ribbon(aes(ymin = lower.train, \n",
    "                  ymax = upper.train, \n",
    "                  colour = X2.train), \n",
    "              alpha = 0.5) +\n",
    "  geom_point(aes(y = y.train)) + \n",
    "  geom_point(aes(y = probs.true.train), size = 0.1)"
   ]
  },
  {
   "cell_type": "code",
   "execution_count": 43,
   "metadata": {},
   "outputs": [
    {
     "data": {
      "image/png": "[encoded data removed]",
      "text/plain": [
       "plot without title"
      ]
     },
     "metadata": {
      "image/png": {
       "height": 420,
       "width": 420
      },
      "text/plain": {
       "height": 420,
       "width": 420
      }
     },
     "output_type": "display_data"
    }
   ],
   "source": [
    "ggplot(plt.data, aes(X1.test)) +\n",
    "  geom_line(aes(y = probs.fit.test, colour = X2.test), size = 2) + \n",
    "  geom_ribbon(aes(ymin = lower.test, ymax = upper.test, colour = X2.test), alpha = 0.5) +\n",
    "  geom_point(aes(y = y.test)) + \n",
    "  geom_point(aes(y = probs.true.test), size = 0.1)"
   ]
  }
 ],
 "metadata": {
  "kernelspec": {
   "display_name": "R",
   "language": "R",
   "name": "ir"
  },
  "language_info": {
   "codemirror_mode": "r",
   "file_extension": ".r",
   "mimetype": "text/x-r-source",
   "name": "R",
   "pygments_lexer": "r",
   "version": "4.0.0"
  }
 },
 "nbformat": 4,
 "nbformat_minor": 2
}
